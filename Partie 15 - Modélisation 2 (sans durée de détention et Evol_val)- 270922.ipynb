{
 "cells": [
  {
   "cell_type": "code",
   "execution_count": 82,
   "id": "d7fa110a",
   "metadata": {},
   "outputs": [],
   "source": [
    "#MODELISATION AVEC VARIABLE CIBLE = Revente (avec durée de détention et evol_val)"
   ]
  },
  {
   "cell_type": "code",
   "execution_count": 83,
   "id": "3e9b7a10",
   "metadata": {},
   "outputs": [],
   "source": [
    "import pandas as pd\n",
    "import numpy as np\n",
    "import matplotlib.pyplot as plt\n",
    "%matplotlib inline "
   ]
  },
  {
   "cell_type": "code",
   "execution_count": 84,
   "id": "3c8ad0d0",
   "metadata": {},
   "outputs": [],
   "source": [
    "df2=pd.read_csv(\"df2.csv\")"
   ]
  },
  {
   "cell_type": "code",
   "execution_count": 85,
   "id": "34d24633",
   "metadata": {},
   "outputs": [
    {
     "data": {
      "text/html": [
       "<div>\n",
       "<style scoped>\n",
       "    .dataframe tbody tr th:only-of-type {\n",
       "        vertical-align: middle;\n",
       "    }\n",
       "\n",
       "    .dataframe tbody tr th {\n",
       "        vertical-align: top;\n",
       "    }\n",
       "\n",
       "    .dataframe thead th {\n",
       "        text-align: right;\n",
       "    }\n",
       "</style>\n",
       "<table border=\"1\" class=\"dataframe\">\n",
       "  <thead>\n",
       "    <tr style=\"text-align: right;\">\n",
       "      <th></th>\n",
       "      <th>Revente</th>\n",
       "      <th>Immeuble_neuf</th>\n",
       "      <th>nblot</th>\n",
       "      <th>l_codinsee</th>\n",
       "      <th>nblocdep</th>\n",
       "      <th>Type appart</th>\n",
       "      <th>scarrez</th>\n",
       "      <th>anarnc202012_nb_lot_tot</th>\n",
       "      <th>adedpe202006_mean_class_conso_ener</th>\n",
       "      <th>adedpe202006_mean_class_estim_ges</th>\n",
       "      <th>...</th>\n",
       "      <th>adedpe202006_logtype_ch_type_inst</th>\n",
       "      <th>adedpe202006_logtype_ecs_type_inst</th>\n",
       "      <th>adedpe202006_logtype_mur_mat_ext</th>\n",
       "      <th>adedpe202006_logtype_mur_pos_isol_ext</th>\n",
       "      <th>Evol_val</th>\n",
       "      <th>surface_appart</th>\n",
       "      <th>Taille_copro</th>\n",
       "      <th>nbre_etages</th>\n",
       "      <th>insbpe2019_l_type_equipement_bruyant</th>\n",
       "      <th>duree_detention</th>\n",
       "    </tr>\n",
       "  </thead>\n",
       "  <tbody>\n",
       "    <tr>\n",
       "      <th>0</th>\n",
       "      <td>0</td>\n",
       "      <td>0</td>\n",
       "      <td>1</td>\n",
       "      <td>75102</td>\n",
       "      <td>0</td>\n",
       "      <td>2P</td>\n",
       "      <td>22.48</td>\n",
       "      <td>13.0</td>\n",
       "      <td>E</td>\n",
       "      <td>B</td>\n",
       "      <td>...</td>\n",
       "      <td>Unknown</td>\n",
       "      <td>Unknown</td>\n",
       "      <td>Indeterminé</td>\n",
       "      <td>Autres</td>\n",
       "      <td>0.000000</td>\n",
       "      <td>23</td>\n",
       "      <td>Petite</td>\n",
       "      <td>De 4 à 7</td>\n",
       "      <td>0</td>\n",
       "      <td>1.0</td>\n",
       "    </tr>\n",
       "    <tr>\n",
       "      <th>1</th>\n",
       "      <td>0</td>\n",
       "      <td>0</td>\n",
       "      <td>2</td>\n",
       "      <td>75106</td>\n",
       "      <td>0</td>\n",
       "      <td>2P</td>\n",
       "      <td>70.28</td>\n",
       "      <td>35.0</td>\n",
       "      <td>E</td>\n",
       "      <td>E</td>\n",
       "      <td>...</td>\n",
       "      <td>individuel</td>\n",
       "      <td>individuel</td>\n",
       "      <td>Mur en pierre</td>\n",
       "      <td>ITI</td>\n",
       "      <td>0.000000</td>\n",
       "      <td>70</td>\n",
       "      <td>Moyenne</td>\n",
       "      <td>De 4 à 7</td>\n",
       "      <td>0</td>\n",
       "      <td>1.0</td>\n",
       "    </tr>\n",
       "    <tr>\n",
       "      <th>2</th>\n",
       "      <td>0</td>\n",
       "      <td>0</td>\n",
       "      <td>2</td>\n",
       "      <td>75117</td>\n",
       "      <td>1</td>\n",
       "      <td>2P</td>\n",
       "      <td>50.15</td>\n",
       "      <td>273.0</td>\n",
       "      <td>D</td>\n",
       "      <td>E</td>\n",
       "      <td>...</td>\n",
       "      <td>individuel</td>\n",
       "      <td>individuel</td>\n",
       "      <td>Mur en béton</td>\n",
       "      <td>ITI</td>\n",
       "      <td>0.000000</td>\n",
       "      <td>50</td>\n",
       "      <td>Très grande</td>\n",
       "      <td>De 4 à 7</td>\n",
       "      <td>0</td>\n",
       "      <td>1.0</td>\n",
       "    </tr>\n",
       "    <tr>\n",
       "      <th>3</th>\n",
       "      <td>1</td>\n",
       "      <td>0</td>\n",
       "      <td>1</td>\n",
       "      <td>75118</td>\n",
       "      <td>1</td>\n",
       "      <td>3P</td>\n",
       "      <td>48.78</td>\n",
       "      <td>28.0</td>\n",
       "      <td>E</td>\n",
       "      <td>C</td>\n",
       "      <td>...</td>\n",
       "      <td>Unknown</td>\n",
       "      <td>Unknown</td>\n",
       "      <td>Indeterminé</td>\n",
       "      <td>Unknown</td>\n",
       "      <td>0.441123</td>\n",
       "      <td>43</td>\n",
       "      <td>Petite</td>\n",
       "      <td>De 4 à 7</td>\n",
       "      <td>0</td>\n",
       "      <td>1.0</td>\n",
       "    </tr>\n",
       "    <tr>\n",
       "      <th>4</th>\n",
       "      <td>1</td>\n",
       "      <td>0</td>\n",
       "      <td>1</td>\n",
       "      <td>75118</td>\n",
       "      <td>0</td>\n",
       "      <td>3P</td>\n",
       "      <td>47.72</td>\n",
       "      <td>28.0</td>\n",
       "      <td>E</td>\n",
       "      <td>C</td>\n",
       "      <td>...</td>\n",
       "      <td>Unknown</td>\n",
       "      <td>Unknown</td>\n",
       "      <td>Indeterminé</td>\n",
       "      <td>Unknown</td>\n",
       "      <td>0.000000</td>\n",
       "      <td>43</td>\n",
       "      <td>Petite</td>\n",
       "      <td>De 4 à 7</td>\n",
       "      <td>0</td>\n",
       "      <td>5.0</td>\n",
       "    </tr>\n",
       "  </tbody>\n",
       "</table>\n",
       "<p>5 rows × 24 columns</p>\n",
       "</div>"
      ],
      "text/plain": [
       "   Revente  Immeuble_neuf nblot  l_codinsee nblocdep Type appart  scarrez  \\\n",
       "0        0              0     1       75102        0          2P    22.48   \n",
       "1        0              0     2       75106        0          2P    70.28   \n",
       "2        0              0     2       75117        1          2P    50.15   \n",
       "3        1              0     1       75118        1          3P    48.78   \n",
       "4        1              0     1       75118        0          3P    47.72   \n",
       "\n",
       "   anarnc202012_nb_lot_tot adedpe202006_mean_class_conso_ener  \\\n",
       "0                     13.0                                  E   \n",
       "1                     35.0                                  E   \n",
       "2                    273.0                                  D   \n",
       "3                     28.0                                  E   \n",
       "4                     28.0                                  E   \n",
       "\n",
       "  adedpe202006_mean_class_estim_ges  ... adedpe202006_logtype_ch_type_inst  \\\n",
       "0                                 B  ...                           Unknown   \n",
       "1                                 E  ...                        individuel   \n",
       "2                                 E  ...                        individuel   \n",
       "3                                 C  ...                           Unknown   \n",
       "4                                 C  ...                           Unknown   \n",
       "\n",
       "  adedpe202006_logtype_ecs_type_inst adedpe202006_logtype_mur_mat_ext  \\\n",
       "0                            Unknown                      Indeterminé   \n",
       "1                         individuel                    Mur en pierre   \n",
       "2                         individuel                     Mur en béton   \n",
       "3                            Unknown                      Indeterminé   \n",
       "4                            Unknown                      Indeterminé   \n",
       "\n",
       "   adedpe202006_logtype_mur_pos_isol_ext  Evol_val surface_appart  \\\n",
       "0                                 Autres  0.000000             23   \n",
       "1                                    ITI  0.000000             70   \n",
       "2                                    ITI  0.000000             50   \n",
       "3                                Unknown  0.441123             43   \n",
       "4                                Unknown  0.000000             43   \n",
       "\n",
       "  Taille_copro nbre_etages  insbpe2019_l_type_equipement_bruyant  \\\n",
       "0       Petite    De 4 à 7                                     0   \n",
       "1      Moyenne    De 4 à 7                                     0   \n",
       "2  Très grande    De 4 à 7                                     0   \n",
       "3       Petite    De 4 à 7                                     0   \n",
       "4       Petite    De 4 à 7                                     0   \n",
       "\n",
       "   duree_detention  \n",
       "0              1.0  \n",
       "1              1.0  \n",
       "2              1.0  \n",
       "3              1.0  \n",
       "4              5.0  \n",
       "\n",
       "[5 rows x 24 columns]"
      ]
     },
     "execution_count": 85,
     "metadata": {},
     "output_type": "execute_result"
    }
   ],
   "source": [
    "df2.head()"
   ]
  },
  {
   "cell_type": "code",
   "execution_count": 86,
   "id": "b90c7f52",
   "metadata": {},
   "outputs": [
    {
     "name": "stdout",
     "output_type": "stream",
     "text": [
      "<class 'pandas.core.frame.DataFrame'>\n",
      "RangeIndex: 55195 entries, 0 to 55194\n",
      "Data columns (total 24 columns):\n",
      " #   Column                                 Non-Null Count  Dtype  \n",
      "---  ------                                 --------------  -----  \n",
      " 0   Revente                                55195 non-null  int64  \n",
      " 1   Immeuble_neuf                          55195 non-null  int64  \n",
      " 2   nblot                                  55195 non-null  object \n",
      " 3   l_codinsee                             55195 non-null  int64  \n",
      " 4   nblocdep                               55195 non-null  object \n",
      " 5   Type appart                            55195 non-null  object \n",
      " 6   scarrez                                55195 non-null  float64\n",
      " 7   anarnc202012_nb_lot_tot                55195 non-null  float64\n",
      " 8   adedpe202006_mean_class_conso_ener     55195 non-null  object \n",
      " 9   adedpe202006_mean_class_estim_ges      55195 non-null  object \n",
      " 10  adedpe202006_logtype_traversant        55195 non-null  object \n",
      " 11  cerffo2020_annee_construction          55195 non-null  object \n",
      " 12  cerffo2020_usage_niveau_1_txt          55195 non-null  object \n",
      " 13  mcumer202007_is_mer                    55195 non-null  float64\n",
      " 14  adedpe202006_logtype_ch_type_inst      55195 non-null  object \n",
      " 15  adedpe202006_logtype_ecs_type_inst     55195 non-null  object \n",
      " 16  adedpe202006_logtype_mur_mat_ext       55195 non-null  object \n",
      " 17  adedpe202006_logtype_mur_pos_isol_ext  55195 non-null  object \n",
      " 18  Evol_val                               55195 non-null  float64\n",
      " 19  surface_appart                         55195 non-null  int64  \n",
      " 20  Taille_copro                           55195 non-null  object \n",
      " 21  nbre_etages                            55195 non-null  object \n",
      " 22  insbpe2019_l_type_equipement_bruyant   55195 non-null  int64  \n",
      " 23  duree_detention                        55195 non-null  float64\n",
      "dtypes: float64(5), int64(5), object(14)\n",
      "memory usage: 10.1+ MB\n"
     ]
    }
   ],
   "source": [
    "df2.info()"
   ]
  },
  {
   "cell_type": "code",
   "execution_count": 87,
   "id": "1123e0fc",
   "metadata": {},
   "outputs": [
    {
     "data": {
      "text/plain": [
       "Revente                                  0\n",
       "Immeuble_neuf                            0\n",
       "nblot                                    0\n",
       "l_codinsee                               0\n",
       "nblocdep                                 0\n",
       "Type appart                              0\n",
       "scarrez                                  0\n",
       "anarnc202012_nb_lot_tot                  0\n",
       "adedpe202006_mean_class_conso_ener       0\n",
       "adedpe202006_mean_class_estim_ges        0\n",
       "adedpe202006_logtype_traversant          0\n",
       "cerffo2020_annee_construction            0\n",
       "cerffo2020_usage_niveau_1_txt            0\n",
       "mcumer202007_is_mer                      0\n",
       "adedpe202006_logtype_ch_type_inst        0\n",
       "adedpe202006_logtype_ecs_type_inst       0\n",
       "adedpe202006_logtype_mur_mat_ext         0\n",
       "adedpe202006_logtype_mur_pos_isol_ext    0\n",
       "Evol_val                                 0\n",
       "surface_appart                           0\n",
       "Taille_copro                             0\n",
       "nbre_etages                              0\n",
       "insbpe2019_l_type_equipement_bruyant     0\n",
       "duree_detention                          0\n",
       "dtype: int64"
      ]
     },
     "execution_count": 87,
     "metadata": {},
     "output_type": "execute_result"
    }
   ],
   "source": [
    "df2.isna().sum()"
   ]
  },
  {
   "cell_type": "code",
   "execution_count": 88,
   "id": "68626d1b",
   "metadata": {},
   "outputs": [],
   "source": [
    "df2=df2.drop([\"Evol_val\",\"duree_detention\"], axis=1)"
   ]
  },
  {
   "cell_type": "code",
   "execution_count": 89,
   "id": "59fc9c14",
   "metadata": {},
   "outputs": [],
   "source": [
    "# Scarrez et surface_appart sont très corrélés. Suppression de surface_appart\n",
    "df2=df2.drop(\"surface_appart\", axis=1)"
   ]
  },
  {
   "cell_type": "code",
   "execution_count": 90,
   "id": "605e07f8",
   "metadata": {},
   "outputs": [],
   "source": [
    "from sklearn.model_selection import train_test_split"
   ]
  },
  {
   "cell_type": "code",
   "execution_count": 91,
   "id": "2e368c7b",
   "metadata": {},
   "outputs": [
    {
     "data": {
      "text/plain": [
       "((55195, 20), (55195,))"
      ]
     },
     "execution_count": 91,
     "metadata": {},
     "output_type": "execute_result"
    }
   ],
   "source": [
    "#Features / Target\n",
    "\n",
    "X=df2.drop(\"Revente\", axis=1)\n",
    "y=df2[\"Revente\"]\n",
    "\n",
    "X.shape, y.shape"
   ]
  },
  {
   "cell_type": "code",
   "execution_count": 92,
   "id": "4b0136b1",
   "metadata": {},
   "outputs": [
    {
     "data": {
      "text/plain": [
       "['scarrez',\n",
       " 'anarnc202012_nb_lot_tot',\n",
       " 'mcumer202007_is_mer',\n",
       " 'Immeuble_neuf',\n",
       " 'l_codinsee',\n",
       " 'insbpe2019_l_type_equipement_bruyant']"
      ]
     },
     "execution_count": 92,
     "metadata": {},
     "output_type": "execute_result"
    }
   ],
   "source": [
    "float_columns=X.loc[:, X.dtypes == np.float64].columns.tolist()\n",
    "int_columns=X.loc[:, X.dtypes == np.int64].columns.tolist()\n",
    "numeric_columns=float_columns+int_columns\n",
    "numeric_columns"
   ]
  },
  {
   "cell_type": "code",
   "execution_count": 93,
   "id": "5f7b4da6",
   "metadata": {},
   "outputs": [
    {
     "data": {
      "text/plain": [
       "['nblot',\n",
       " 'nblocdep',\n",
       " 'Type appart',\n",
       " 'adedpe202006_mean_class_conso_ener',\n",
       " 'adedpe202006_mean_class_estim_ges',\n",
       " 'adedpe202006_logtype_traversant',\n",
       " 'cerffo2020_annee_construction',\n",
       " 'cerffo2020_usage_niveau_1_txt',\n",
       " 'adedpe202006_logtype_ch_type_inst',\n",
       " 'adedpe202006_logtype_ecs_type_inst',\n",
       " 'adedpe202006_logtype_mur_mat_ext',\n",
       " 'adedpe202006_logtype_mur_pos_isol_ext',\n",
       " 'Taille_copro',\n",
       " 'nbre_etages']"
      ]
     },
     "execution_count": 93,
     "metadata": {},
     "output_type": "execute_result"
    }
   ],
   "source": [
    "object_columns=X.loc[:, X.dtypes == \"object\"].columns.tolist()\n",
    "object_columns"
   ]
  },
  {
   "cell_type": "code",
   "execution_count": 94,
   "id": "045f0fe1",
   "metadata": {},
   "outputs": [
    {
     "data": {
      "text/plain": [
       "((41396, 20), (13799, 20))"
      ]
     },
     "execution_count": 94,
     "metadata": {},
     "output_type": "execute_result"
    }
   ],
   "source": [
    "X_train, X_test, y_train, y_test=train_test_split(X,y, test_size=0.25, random_state=10)\n",
    "X_train.shape, X_test.shape"
   ]
  },
  {
   "cell_type": "code",
   "execution_count": 95,
   "id": "20fc9967",
   "metadata": {},
   "outputs": [],
   "source": [
    "#ENCODAGE DES DONNEES CATEGORIELLES"
   ]
  },
  {
   "cell_type": "code",
   "execution_count": 96,
   "id": "00bdf080",
   "metadata": {},
   "outputs": [],
   "source": [
    "X_train=X_train.join(pd.get_dummies(X_train.loc[:, X_train.dtypes == object]))  \n",
    "to_drop=X_train.loc[:, X_train.dtypes == object]\n",
    "X_train=X_train.drop(to_drop, axis=1)"
   ]
  },
  {
   "cell_type": "code",
   "execution_count": 97,
   "id": "7223a2d4",
   "metadata": {},
   "outputs": [],
   "source": [
    "X_test=X_test.join(pd.get_dummies(X_test.loc[:, X_test.dtypes == object]))  \n",
    "to_drop=X_test.loc[:, X_test.dtypes == object]\n",
    "X_test=X_test.drop(to_drop, axis=1)"
   ]
  },
  {
   "cell_type": "code",
   "execution_count": 98,
   "id": "45987674",
   "metadata": {},
   "outputs": [
    {
     "data": {
      "text/plain": [
       "(41396, 68)"
      ]
     },
     "execution_count": 98,
     "metadata": {},
     "output_type": "execute_result"
    }
   ],
   "source": [
    "X_train.shape"
   ]
  },
  {
   "cell_type": "code",
   "execution_count": 99,
   "id": "a7892ca1",
   "metadata": {},
   "outputs": [
    {
     "data": {
      "text/plain": [
       "(13799, 68)"
      ]
     },
     "execution_count": 99,
     "metadata": {},
     "output_type": "execute_result"
    }
   ],
   "source": [
    "X_test.shape"
   ]
  },
  {
   "cell_type": "code",
   "execution_count": 100,
   "id": "b83444d3",
   "metadata": {},
   "outputs": [],
   "source": [
    "# NORMALISATION\n",
    "\n",
    "from sklearn.preprocessing import StandardScaler\n",
    "scaler = StandardScaler()\n",
    "X_train[numeric_columns] = scaler.fit_transform(X_train[numeric_columns])\n",
    "X_test[numeric_columns] = scaler.transform(X_test[numeric_columns])"
   ]
  },
  {
   "cell_type": "code",
   "execution_count": 101,
   "id": "8644f2c7",
   "metadata": {},
   "outputs": [],
   "source": [
    "# Utilisation de la carte Scikit Learn pour choix modèle de classification\n",
    "# https://scikit-learn.org/stable/tutorial/machine_learning_map/index.html"
   ]
  },
  {
   "cell_type": "code",
   "execution_count": 102,
   "id": "c0404598",
   "metadata": {},
   "outputs": [],
   "source": [
    "from sklearn.metrics import confusion_matrix\n",
    "from sklearn.metrics import classification_report"
   ]
  },
  {
   "cell_type": "code",
   "execution_count": 103,
   "id": "319af63f",
   "metadata": {},
   "outputs": [
    {
     "name": "stderr",
     "output_type": "stream",
     "text": [
      "C:\\Users\\Anne\\anaconda3\\lib\\site-packages\\sklearn\\svm\\_base.py:985: ConvergenceWarning: Liblinear failed to converge, increase the number of iterations.\n",
      "  warnings.warn(\"Liblinear failed to converge, increase \"\n"
     ]
    },
    {
     "data": {
      "text/plain": [
       "0.8202043626349735"
      ]
     },
     "execution_count": 103,
     "metadata": {},
     "output_type": "execute_result"
    }
   ],
   "source": [
    "from sklearn.svm import LinearSVC\n",
    "\n",
    "model1=LinearSVC()\n",
    "model1.fit(X_train, y_train)\n",
    "model1.score(X_test, y_test)\n"
   ]
  },
  {
   "cell_type": "code",
   "execution_count": 104,
   "id": "02ce1edb",
   "metadata": {},
   "outputs": [
    {
     "data": {
      "text/html": [
       "<div>\n",
       "<style scoped>\n",
       "    .dataframe tbody tr th:only-of-type {\n",
       "        vertical-align: middle;\n",
       "    }\n",
       "\n",
       "    .dataframe tbody tr th {\n",
       "        vertical-align: top;\n",
       "    }\n",
       "\n",
       "    .dataframe thead th {\n",
       "        text-align: right;\n",
       "    }\n",
       "</style>\n",
       "<table border=\"1\" class=\"dataframe\">\n",
       "  <thead>\n",
       "    <tr style=\"text-align: right;\">\n",
       "      <th>col_0</th>\n",
       "      <th>0</th>\n",
       "    </tr>\n",
       "    <tr>\n",
       "      <th>Revente</th>\n",
       "      <th></th>\n",
       "    </tr>\n",
       "  </thead>\n",
       "  <tbody>\n",
       "    <tr>\n",
       "      <th>0</th>\n",
       "      <td>11318</td>\n",
       "    </tr>\n",
       "    <tr>\n",
       "      <th>1</th>\n",
       "      <td>2481</td>\n",
       "    </tr>\n",
       "  </tbody>\n",
       "</table>\n",
       "</div>"
      ],
      "text/plain": [
       "col_0        0\n",
       "Revente       \n",
       "0        11318\n",
       "1         2481"
      ]
     },
     "execution_count": 104,
     "metadata": {},
     "output_type": "execute_result"
    }
   ],
   "source": [
    "y_pred_1=model1.predict(X_test)\n",
    "pd.crosstab(y_test, y_pred_1)\n"
   ]
  },
  {
   "cell_type": "code",
   "execution_count": 105,
   "id": "5d234f8a",
   "metadata": {},
   "outputs": [
    {
     "name": "stdout",
     "output_type": "stream",
     "text": [
      "              precision    recall  f1-score   support\n",
      "\n",
      "           0       0.82      1.00      0.90     11318\n",
      "           1       0.00      0.00      0.00      2481\n",
      "\n",
      "    accuracy                           0.82     13799\n",
      "   macro avg       0.41      0.50      0.45     13799\n",
      "weighted avg       0.67      0.82      0.74     13799\n",
      "\n"
     ]
    },
    {
     "name": "stderr",
     "output_type": "stream",
     "text": [
      "C:\\Users\\Anne\\anaconda3\\lib\\site-packages\\sklearn\\metrics\\_classification.py:1248: UndefinedMetricWarning: Precision and F-score are ill-defined and being set to 0.0 in labels with no predicted samples. Use `zero_division` parameter to control this behavior.\n",
      "  _warn_prf(average, modifier, msg_start, len(result))\n",
      "C:\\Users\\Anne\\anaconda3\\lib\\site-packages\\sklearn\\metrics\\_classification.py:1248: UndefinedMetricWarning: Precision and F-score are ill-defined and being set to 0.0 in labels with no predicted samples. Use `zero_division` parameter to control this behavior.\n",
      "  _warn_prf(average, modifier, msg_start, len(result))\n",
      "C:\\Users\\Anne\\anaconda3\\lib\\site-packages\\sklearn\\metrics\\_classification.py:1248: UndefinedMetricWarning: Precision and F-score are ill-defined and being set to 0.0 in labels with no predicted samples. Use `zero_division` parameter to control this behavior.\n",
      "  _warn_prf(average, modifier, msg_start, len(result))\n"
     ]
    }
   ],
   "source": [
    "print(classification_report(y_test, y_pred_1))"
   ]
  },
  {
   "cell_type": "code",
   "execution_count": null,
   "id": "5b381fe5",
   "metadata": {},
   "outputs": [],
   "source": []
  },
  {
   "cell_type": "code",
   "execution_count": 106,
   "id": "9e9f91a9",
   "metadata": {},
   "outputs": [
    {
     "data": {
      "text/plain": [
       "0.7962895862018987"
      ]
     },
     "execution_count": 106,
     "metadata": {},
     "output_type": "execute_result"
    }
   ],
   "source": [
    "from sklearn.neighbors import KNeighborsClassifier\n",
    "\n",
    "model2=KNeighborsClassifier()\n",
    "model2.fit(X_train, y_train)\n",
    "model2.score(X_test, y_test)\n"
   ]
  },
  {
   "cell_type": "code",
   "execution_count": 107,
   "id": "f46644b9",
   "metadata": {},
   "outputs": [
    {
     "data": {
      "text/html": [
       "<div>\n",
       "<style scoped>\n",
       "    .dataframe tbody tr th:only-of-type {\n",
       "        vertical-align: middle;\n",
       "    }\n",
       "\n",
       "    .dataframe tbody tr th {\n",
       "        vertical-align: top;\n",
       "    }\n",
       "\n",
       "    .dataframe thead th {\n",
       "        text-align: right;\n",
       "    }\n",
       "</style>\n",
       "<table border=\"1\" class=\"dataframe\">\n",
       "  <thead>\n",
       "    <tr style=\"text-align: right;\">\n",
       "      <th>col_0</th>\n",
       "      <th>0</th>\n",
       "      <th>1</th>\n",
       "    </tr>\n",
       "    <tr>\n",
       "      <th>Revente</th>\n",
       "      <th></th>\n",
       "      <th></th>\n",
       "    </tr>\n",
       "  </thead>\n",
       "  <tbody>\n",
       "    <tr>\n",
       "      <th>0</th>\n",
       "      <td>10577</td>\n",
       "      <td>741</td>\n",
       "    </tr>\n",
       "    <tr>\n",
       "      <th>1</th>\n",
       "      <td>2070</td>\n",
       "      <td>411</td>\n",
       "    </tr>\n",
       "  </tbody>\n",
       "</table>\n",
       "</div>"
      ],
      "text/plain": [
       "col_0        0    1\n",
       "Revente            \n",
       "0        10577  741\n",
       "1         2070  411"
      ]
     },
     "execution_count": 107,
     "metadata": {},
     "output_type": "execute_result"
    }
   ],
   "source": [
    "y_pred_2=model2.predict(X_test)\n",
    "pd.crosstab(y_test, y_pred_2)\n"
   ]
  },
  {
   "cell_type": "code",
   "execution_count": 108,
   "id": "cdee1bdc",
   "metadata": {},
   "outputs": [
    {
     "name": "stdout",
     "output_type": "stream",
     "text": [
      "              precision    recall  f1-score   support\n",
      "\n",
      "           0       0.84      0.93      0.88     11318\n",
      "           1       0.36      0.17      0.23      2481\n",
      "\n",
      "    accuracy                           0.80     13799\n",
      "   macro avg       0.60      0.55      0.55     13799\n",
      "weighted avg       0.75      0.80      0.76     13799\n",
      "\n"
     ]
    }
   ],
   "source": [
    "print(classification_report(y_test, y_pred_2))"
   ]
  },
  {
   "cell_type": "code",
   "execution_count": 109,
   "id": "057dca9e",
   "metadata": {},
   "outputs": [
    {
     "data": {
      "text/plain": [
       "0.8647003406043916"
      ]
     },
     "execution_count": 109,
     "metadata": {},
     "output_type": "execute_result"
    }
   ],
   "source": [
    "from sklearn.ensemble import RandomForestClassifier\n",
    "\n",
    "model3=RandomForestClassifier()\n",
    "model3.fit(X_train, y_train)\n",
    "model3.score(X_test, y_test)\n"
   ]
  },
  {
   "cell_type": "code",
   "execution_count": 110,
   "id": "4c5df935",
   "metadata": {},
   "outputs": [
    {
     "data": {
      "text/html": [
       "<div>\n",
       "<style scoped>\n",
       "    .dataframe tbody tr th:only-of-type {\n",
       "        vertical-align: middle;\n",
       "    }\n",
       "\n",
       "    .dataframe tbody tr th {\n",
       "        vertical-align: top;\n",
       "    }\n",
       "\n",
       "    .dataframe thead th {\n",
       "        text-align: right;\n",
       "    }\n",
       "</style>\n",
       "<table border=\"1\" class=\"dataframe\">\n",
       "  <thead>\n",
       "    <tr style=\"text-align: right;\">\n",
       "      <th>col_0</th>\n",
       "      <th>0</th>\n",
       "      <th>1</th>\n",
       "    </tr>\n",
       "    <tr>\n",
       "      <th>Revente</th>\n",
       "      <th></th>\n",
       "      <th></th>\n",
       "    </tr>\n",
       "  </thead>\n",
       "  <tbody>\n",
       "    <tr>\n",
       "      <th>0</th>\n",
       "      <td>10656</td>\n",
       "      <td>662</td>\n",
       "    </tr>\n",
       "    <tr>\n",
       "      <th>1</th>\n",
       "      <td>1205</td>\n",
       "      <td>1276</td>\n",
       "    </tr>\n",
       "  </tbody>\n",
       "</table>\n",
       "</div>"
      ],
      "text/plain": [
       "col_0        0     1\n",
       "Revente             \n",
       "0        10656   662\n",
       "1         1205  1276"
      ]
     },
     "execution_count": 110,
     "metadata": {},
     "output_type": "execute_result"
    }
   ],
   "source": [
    "y_pred_3=model3.predict(X_test)\n",
    "pd.crosstab(y_test, y_pred_3)\n"
   ]
  },
  {
   "cell_type": "code",
   "execution_count": 111,
   "id": "cf16f383",
   "metadata": {},
   "outputs": [
    {
     "name": "stdout",
     "output_type": "stream",
     "text": [
      "              precision    recall  f1-score   support\n",
      "\n",
      "           0       0.90      0.94      0.92     11318\n",
      "           1       0.66      0.51      0.58      2481\n",
      "\n",
      "    accuracy                           0.86     13799\n",
      "   macro avg       0.78      0.73      0.75     13799\n",
      "weighted avg       0.86      0.86      0.86     13799\n",
      "\n"
     ]
    }
   ],
   "source": [
    "print(classification_report(y_test, y_pred_3))"
   ]
  },
  {
   "cell_type": "code",
   "execution_count": 112,
   "id": "73b11c5b",
   "metadata": {},
   "outputs": [
    {
     "data": {
      "text/html": [
       "<div>\n",
       "<style scoped>\n",
       "    .dataframe tbody tr th:only-of-type {\n",
       "        vertical-align: middle;\n",
       "    }\n",
       "\n",
       "    .dataframe tbody tr th {\n",
       "        vertical-align: top;\n",
       "    }\n",
       "\n",
       "    .dataframe thead th {\n",
       "        text-align: right;\n",
       "    }\n",
       "</style>\n",
       "<table border=\"1\" class=\"dataframe\">\n",
       "  <thead>\n",
       "    <tr style=\"text-align: right;\">\n",
       "      <th></th>\n",
       "      <th>Importance</th>\n",
       "    </tr>\n",
       "  </thead>\n",
       "  <tbody>\n",
       "    <tr>\n",
       "      <th>scarrez</th>\n",
       "      <td>0.297546</td>\n",
       "    </tr>\n",
       "    <tr>\n",
       "      <th>anarnc202012_nb_lot_tot</th>\n",
       "      <td>0.133112</td>\n",
       "    </tr>\n",
       "    <tr>\n",
       "      <th>l_codinsee</th>\n",
       "      <td>0.085901</td>\n",
       "    </tr>\n",
       "    <tr>\n",
       "      <th>insbpe2019_l_type_equipement_bruyant</th>\n",
       "      <td>0.023948</td>\n",
       "    </tr>\n",
       "    <tr>\n",
       "      <th>adedpe202006_mean_class_conso_ener_E</th>\n",
       "      <td>0.015096</td>\n",
       "    </tr>\n",
       "  </tbody>\n",
       "</table>\n",
       "</div>"
      ],
      "text/plain": [
       "                                      Importance\n",
       "scarrez                                 0.297546\n",
       "anarnc202012_nb_lot_tot                 0.133112\n",
       "l_codinsee                              0.085901\n",
       "insbpe2019_l_type_equipement_bruyant    0.023948\n",
       "adedpe202006_mean_class_conso_ener_E    0.015096"
      ]
     },
     "execution_count": 112,
     "metadata": {},
     "output_type": "execute_result"
    }
   ],
   "source": [
    "# Affichage des meilleurs paramètres\n",
    "feats = {}\n",
    "for feature, importance in zip(X_train.columns, model3.feature_importances_):\n",
    "    feats[feature] = importance \n",
    "    \n",
    "importances = pd.DataFrame.from_dict(feats, orient='index').rename(columns={0: 'Importance'})\n",
    "importances.sort_values(by='Importance', ascending=False).head(5)"
   ]
  },
  {
   "cell_type": "code",
   "execution_count": 113,
   "id": "90fbfb61",
   "metadata": {},
   "outputs": [
    {
     "data": {
      "text/plain": [
       "0.8202043626349735"
      ]
     },
     "execution_count": 113,
     "metadata": {},
     "output_type": "execute_result"
    }
   ],
   "source": [
    "from sklearn.linear_model import SGDClassifier\n",
    "\n",
    "model4=SGDClassifier()\n",
    "model4.fit(X_train, y_train)\n",
    "model4.score(X_test, y_test)\n"
   ]
  },
  {
   "cell_type": "code",
   "execution_count": 114,
   "id": "81e851ef",
   "metadata": {},
   "outputs": [
    {
     "data": {
      "text/html": [
       "<div>\n",
       "<style scoped>\n",
       "    .dataframe tbody tr th:only-of-type {\n",
       "        vertical-align: middle;\n",
       "    }\n",
       "\n",
       "    .dataframe tbody tr th {\n",
       "        vertical-align: top;\n",
       "    }\n",
       "\n",
       "    .dataframe thead th {\n",
       "        text-align: right;\n",
       "    }\n",
       "</style>\n",
       "<table border=\"1\" class=\"dataframe\">\n",
       "  <thead>\n",
       "    <tr style=\"text-align: right;\">\n",
       "      <th>col_0</th>\n",
       "      <th>0</th>\n",
       "    </tr>\n",
       "    <tr>\n",
       "      <th>Revente</th>\n",
       "      <th></th>\n",
       "    </tr>\n",
       "  </thead>\n",
       "  <tbody>\n",
       "    <tr>\n",
       "      <th>0</th>\n",
       "      <td>11318</td>\n",
       "    </tr>\n",
       "    <tr>\n",
       "      <th>1</th>\n",
       "      <td>2481</td>\n",
       "    </tr>\n",
       "  </tbody>\n",
       "</table>\n",
       "</div>"
      ],
      "text/plain": [
       "col_0        0\n",
       "Revente       \n",
       "0        11318\n",
       "1         2481"
      ]
     },
     "execution_count": 114,
     "metadata": {},
     "output_type": "execute_result"
    }
   ],
   "source": [
    "y_pred_4=model4.predict(X_test)\n",
    "pd.crosstab(y_test, y_pred_4)\n"
   ]
  },
  {
   "cell_type": "code",
   "execution_count": 115,
   "id": "e1298139",
   "metadata": {},
   "outputs": [
    {
     "name": "stdout",
     "output_type": "stream",
     "text": [
      "              precision    recall  f1-score   support\n",
      "\n",
      "           0       0.82      1.00      0.90     11318\n",
      "           1       0.00      0.00      0.00      2481\n",
      "\n",
      "    accuracy                           0.82     13799\n",
      "   macro avg       0.41      0.50      0.45     13799\n",
      "weighted avg       0.67      0.82      0.74     13799\n",
      "\n"
     ]
    },
    {
     "name": "stderr",
     "output_type": "stream",
     "text": [
      "C:\\Users\\Anne\\anaconda3\\lib\\site-packages\\sklearn\\metrics\\_classification.py:1248: UndefinedMetricWarning: Precision and F-score are ill-defined and being set to 0.0 in labels with no predicted samples. Use `zero_division` parameter to control this behavior.\n",
      "  _warn_prf(average, modifier, msg_start, len(result))\n",
      "C:\\Users\\Anne\\anaconda3\\lib\\site-packages\\sklearn\\metrics\\_classification.py:1248: UndefinedMetricWarning: Precision and F-score are ill-defined and being set to 0.0 in labels with no predicted samples. Use `zero_division` parameter to control this behavior.\n",
      "  _warn_prf(average, modifier, msg_start, len(result))\n",
      "C:\\Users\\Anne\\anaconda3\\lib\\site-packages\\sklearn\\metrics\\_classification.py:1248: UndefinedMetricWarning: Precision and F-score are ill-defined and being set to 0.0 in labels with no predicted samples. Use `zero_division` parameter to control this behavior.\n",
      "  _warn_prf(average, modifier, msg_start, len(result))\n"
     ]
    }
   ],
   "source": [
    "print(classification_report(y_test, y_pred_4))"
   ]
  },
  {
   "cell_type": "code",
   "execution_count": 116,
   "id": "c5654e46",
   "metadata": {},
   "outputs": [
    {
     "name": "stderr",
     "output_type": "stream",
     "text": [
      "C:\\Users\\Anne\\anaconda3\\lib\\site-packages\\sklearn\\linear_model\\_logistic.py:763: ConvergenceWarning: lbfgs failed to converge (status=1):\n",
      "STOP: TOTAL NO. of ITERATIONS REACHED LIMIT.\n",
      "\n",
      "Increase the number of iterations (max_iter) or scale the data as shown in:\n",
      "    https://scikit-learn.org/stable/modules/preprocessing.html\n",
      "Please also refer to the documentation for alternative solver options:\n",
      "    https://scikit-learn.org/stable/modules/linear_model.html#logistic-regression\n",
      "  n_iter_i = _check_optimize_result(\n"
     ]
    },
    {
     "data": {
      "text/plain": [
       "0.8202043626349735"
      ]
     },
     "execution_count": 116,
     "metadata": {},
     "output_type": "execute_result"
    }
   ],
   "source": [
    "from sklearn.linear_model import LogisticRegression\n",
    "\n",
    "model5=LogisticRegression()\n",
    "model5.fit(X_train, y_train)\n",
    "model5.score(X_test, y_test)\n"
   ]
  },
  {
   "cell_type": "code",
   "execution_count": 117,
   "id": "3cc1c99c",
   "metadata": {},
   "outputs": [
    {
     "data": {
      "text/html": [
       "<div>\n",
       "<style scoped>\n",
       "    .dataframe tbody tr th:only-of-type {\n",
       "        vertical-align: middle;\n",
       "    }\n",
       "\n",
       "    .dataframe tbody tr th {\n",
       "        vertical-align: top;\n",
       "    }\n",
       "\n",
       "    .dataframe thead th {\n",
       "        text-align: right;\n",
       "    }\n",
       "</style>\n",
       "<table border=\"1\" class=\"dataframe\">\n",
       "  <thead>\n",
       "    <tr style=\"text-align: right;\">\n",
       "      <th>col_0</th>\n",
       "      <th>0</th>\n",
       "    </tr>\n",
       "    <tr>\n",
       "      <th>Revente</th>\n",
       "      <th></th>\n",
       "    </tr>\n",
       "  </thead>\n",
       "  <tbody>\n",
       "    <tr>\n",
       "      <th>0</th>\n",
       "      <td>11318</td>\n",
       "    </tr>\n",
       "    <tr>\n",
       "      <th>1</th>\n",
       "      <td>2481</td>\n",
       "    </tr>\n",
       "  </tbody>\n",
       "</table>\n",
       "</div>"
      ],
      "text/plain": [
       "col_0        0\n",
       "Revente       \n",
       "0        11318\n",
       "1         2481"
      ]
     },
     "execution_count": 117,
     "metadata": {},
     "output_type": "execute_result"
    }
   ],
   "source": [
    "y_pred_5=model5.predict(X_test)\n",
    "pd.crosstab(y_test, y_pred_5)\n"
   ]
  },
  {
   "cell_type": "code",
   "execution_count": 118,
   "id": "0ed80119",
   "metadata": {},
   "outputs": [
    {
     "name": "stdout",
     "output_type": "stream",
     "text": [
      "              precision    recall  f1-score   support\n",
      "\n",
      "           0       0.82      1.00      0.90     11318\n",
      "           1       0.00      0.00      0.00      2481\n",
      "\n",
      "    accuracy                           0.82     13799\n",
      "   macro avg       0.41      0.50      0.45     13799\n",
      "weighted avg       0.67      0.82      0.74     13799\n",
      "\n"
     ]
    },
    {
     "name": "stderr",
     "output_type": "stream",
     "text": [
      "C:\\Users\\Anne\\anaconda3\\lib\\site-packages\\sklearn\\metrics\\_classification.py:1248: UndefinedMetricWarning: Precision and F-score are ill-defined and being set to 0.0 in labels with no predicted samples. Use `zero_division` parameter to control this behavior.\n",
      "  _warn_prf(average, modifier, msg_start, len(result))\n",
      "C:\\Users\\Anne\\anaconda3\\lib\\site-packages\\sklearn\\metrics\\_classification.py:1248: UndefinedMetricWarning: Precision and F-score are ill-defined and being set to 0.0 in labels with no predicted samples. Use `zero_division` parameter to control this behavior.\n",
      "  _warn_prf(average, modifier, msg_start, len(result))\n",
      "C:\\Users\\Anne\\anaconda3\\lib\\site-packages\\sklearn\\metrics\\_classification.py:1248: UndefinedMetricWarning: Precision and F-score are ill-defined and being set to 0.0 in labels with no predicted samples. Use `zero_division` parameter to control this behavior.\n",
      "  _warn_prf(average, modifier, msg_start, len(result))\n"
     ]
    }
   ],
   "source": [
    "print(classification_report(y_test, y_pred_5))"
   ]
  },
  {
   "cell_type": "code",
   "execution_count": 119,
   "id": "5a198829",
   "metadata": {},
   "outputs": [],
   "source": [
    "#from sklearn.svm import SVC\n",
    "\n",
    "#model6=SVC(kernel=\"linear\")\n",
    "#model6.fit(X_train, y_train)\n",
    "#model6.score(X_test, y_test)\n"
   ]
  },
  {
   "cell_type": "code",
   "execution_count": 120,
   "id": "33fcba21",
   "metadata": {},
   "outputs": [],
   "source": [
    "#y_pred_6=model6.predict(X_test)\n",
    "#pd.crosstab(y_test, y_pred_6)\n"
   ]
  },
  {
   "cell_type": "code",
   "execution_count": 121,
   "id": "f432d392",
   "metadata": {},
   "outputs": [],
   "source": [
    "#print(classification_report(y_test, y_pred_6))"
   ]
  },
  {
   "cell_type": "code",
   "execution_count": 122,
   "id": "c02a8637",
   "metadata": {},
   "outputs": [
    {
     "data": {
      "text/plain": [
       "0.8050583375606928"
      ]
     },
     "execution_count": 122,
     "metadata": {},
     "output_type": "execute_result"
    }
   ],
   "source": [
    "from sklearn.tree import DecisionTreeClassifier\n",
    "\n",
    "model7=DecisionTreeClassifier()\n",
    "model7.fit(X_train, y_train)\n",
    "model7.score(X_test, y_test)\n"
   ]
  },
  {
   "cell_type": "code",
   "execution_count": 123,
   "id": "f4d51f74",
   "metadata": {},
   "outputs": [
    {
     "data": {
      "text/html": [
       "<div>\n",
       "<style scoped>\n",
       "    .dataframe tbody tr th:only-of-type {\n",
       "        vertical-align: middle;\n",
       "    }\n",
       "\n",
       "    .dataframe tbody tr th {\n",
       "        vertical-align: top;\n",
       "    }\n",
       "\n",
       "    .dataframe thead th {\n",
       "        text-align: right;\n",
       "    }\n",
       "</style>\n",
       "<table border=\"1\" class=\"dataframe\">\n",
       "  <thead>\n",
       "    <tr style=\"text-align: right;\">\n",
       "      <th>col_0</th>\n",
       "      <th>0</th>\n",
       "      <th>1</th>\n",
       "    </tr>\n",
       "    <tr>\n",
       "      <th>Revente</th>\n",
       "      <th></th>\n",
       "      <th></th>\n",
       "    </tr>\n",
       "  </thead>\n",
       "  <tbody>\n",
       "    <tr>\n",
       "      <th>0</th>\n",
       "      <td>9624</td>\n",
       "      <td>1694</td>\n",
       "    </tr>\n",
       "    <tr>\n",
       "      <th>1</th>\n",
       "      <td>996</td>\n",
       "      <td>1485</td>\n",
       "    </tr>\n",
       "  </tbody>\n",
       "</table>\n",
       "</div>"
      ],
      "text/plain": [
       "col_0       0     1\n",
       "Revente            \n",
       "0        9624  1694\n",
       "1         996  1485"
      ]
     },
     "execution_count": 123,
     "metadata": {},
     "output_type": "execute_result"
    }
   ],
   "source": [
    "y_pred_7=model7.predict(X_test)\n",
    "pd.crosstab(y_test, y_pred_7)\n"
   ]
  },
  {
   "cell_type": "code",
   "execution_count": 124,
   "id": "e039dded",
   "metadata": {},
   "outputs": [
    {
     "name": "stdout",
     "output_type": "stream",
     "text": [
      "              precision    recall  f1-score   support\n",
      "\n",
      "           0       0.91      0.85      0.88     11318\n",
      "           1       0.47      0.60      0.52      2481\n",
      "\n",
      "    accuracy                           0.81     13799\n",
      "   macro avg       0.69      0.72      0.70     13799\n",
      "weighted avg       0.83      0.81      0.81     13799\n",
      "\n"
     ]
    }
   ],
   "source": [
    "print(classification_report(y_test, y_pred_7))"
   ]
  },
  {
   "cell_type": "code",
   "execution_count": 125,
   "id": "eda128d0",
   "metadata": {},
   "outputs": [
    {
     "data": {
      "text/html": [
       "<div>\n",
       "<style scoped>\n",
       "    .dataframe tbody tr th:only-of-type {\n",
       "        vertical-align: middle;\n",
       "    }\n",
       "\n",
       "    .dataframe tbody tr th {\n",
       "        vertical-align: top;\n",
       "    }\n",
       "\n",
       "    .dataframe thead th {\n",
       "        text-align: right;\n",
       "    }\n",
       "</style>\n",
       "<table border=\"1\" class=\"dataframe\">\n",
       "  <thead>\n",
       "    <tr style=\"text-align: right;\">\n",
       "      <th></th>\n",
       "      <th>Importance</th>\n",
       "    </tr>\n",
       "  </thead>\n",
       "  <tbody>\n",
       "    <tr>\n",
       "      <th>scarrez</th>\n",
       "      <td>0.361321</td>\n",
       "    </tr>\n",
       "    <tr>\n",
       "      <th>anarnc202012_nb_lot_tot</th>\n",
       "      <td>0.151560</td>\n",
       "    </tr>\n",
       "    <tr>\n",
       "      <th>l_codinsee</th>\n",
       "      <td>0.049073</td>\n",
       "    </tr>\n",
       "    <tr>\n",
       "      <th>insbpe2019_l_type_equipement_bruyant</th>\n",
       "      <td>0.019115</td>\n",
       "    </tr>\n",
       "    <tr>\n",
       "      <th>adedpe202006_logtype_mur_mat_ext_Mur en pierre</th>\n",
       "      <td>0.014578</td>\n",
       "    </tr>\n",
       "  </tbody>\n",
       "</table>\n",
       "</div>"
      ],
      "text/plain": [
       "                                                Importance\n",
       "scarrez                                           0.361321\n",
       "anarnc202012_nb_lot_tot                           0.151560\n",
       "l_codinsee                                        0.049073\n",
       "insbpe2019_l_type_equipement_bruyant              0.019115\n",
       "adedpe202006_logtype_mur_mat_ext_Mur en pierre    0.014578"
      ]
     },
     "execution_count": 125,
     "metadata": {},
     "output_type": "execute_result"
    }
   ],
   "source": [
    "# Affichage des meilleurs paramètres\n",
    "feats = {}\n",
    "for feature, importance in zip(X_train.columns, model7.feature_importances_):\n",
    "    feats[feature] = importance \n",
    "    \n",
    "importances = pd.DataFrame.from_dict(feats, orient='index').rename(columns={0: 'Importance'})\n",
    "importances.sort_values(by='Importance', ascending=False).head(5)"
   ]
  },
  {
   "cell_type": "code",
   "execution_count": 126,
   "id": "6de3a65e",
   "metadata": {},
   "outputs": [],
   "source": [
    "# Le meilleur score est obtenu pour le modèle de RandomForestClassifier. \n",
    "# Nous allons donc essayer d'optimiser ce modèle :"
   ]
  },
  {
   "cell_type": "code",
   "execution_count": 127,
   "id": "9f5918af",
   "metadata": {},
   "outputs": [],
   "source": [
    "# Gridsearch\n",
    "\n",
    "#from sklearn.model_selection import GridSearchCV\n",
    "#model3=RandomForestClassifier(random_state=123)"
   ]
  },
  {
   "cell_type": "code",
   "execution_count": 128,
   "id": "ec0548c4",
   "metadata": {},
   "outputs": [],
   "source": [
    "#params_model3={'max_features': ['auto', 'sqrt', 'log2'],\n",
    "#    'max_depth' : [4,5,6,7,8],\n",
    "#    'criterion' :['gini', 'entropy']}"
   ]
  },
  {
   "cell_type": "code",
   "execution_count": 129,
   "id": "ca632779",
   "metadata": {},
   "outputs": [],
   "source": [
    "#CV_model3 = GridSearchCV(estimator=model3, param_grid=params_model3, cv= 5)\n",
    "#CV_model3.fit(X_train, y_train)"
   ]
  },
  {
   "cell_type": "code",
   "execution_count": 130,
   "id": "37228214",
   "metadata": {},
   "outputs": [],
   "source": [
    "#CV_model3.best_params_"
   ]
  },
  {
   "cell_type": "code",
   "execution_count": 131,
   "id": "070aceb4",
   "metadata": {},
   "outputs": [],
   "source": [
    "#print(\"score : {}\".format(CV_model3.score(X_test, y_test)))"
   ]
  },
  {
   "cell_type": "code",
   "execution_count": 132,
   "id": "1b688066",
   "metadata": {},
   "outputs": [],
   "source": [
    "# Prédiction du modèle\n",
    "#y_pred_CV_model3 = CV_model3.predict(X_test) "
   ]
  },
  {
   "cell_type": "code",
   "execution_count": 133,
   "id": "213c49bd",
   "metadata": {},
   "outputs": [],
   "source": [
    "# Matrice de correlation\n",
    "#pd.crosstab(y_test, y_pred_CV_model3, rownames=['Classe'], colnames=['Classe prédite par dt'])"
   ]
  },
  {
   "cell_type": "code",
   "execution_count": 134,
   "id": "688b6630",
   "metadata": {},
   "outputs": [],
   "source": [
    "# Rapport de classification\n",
    "#print(classification_report(y_test, y_pred_CV_model3))"
   ]
  },
  {
   "cell_type": "code",
   "execution_count": 135,
   "id": "082b90e8",
   "metadata": {},
   "outputs": [],
   "source": [
    "# On va essayer d'améliorer le recall du RandomForestClassifier avec l'over et l'undersampling "
   ]
  },
  {
   "cell_type": "code",
   "execution_count": 136,
   "id": "fd9b97f3",
   "metadata": {},
   "outputs": [],
   "source": [
    "# OVERSAMPLING ALEATOIRE\n",
    "\n",
    "from imblearn.over_sampling import RandomOverSampler\n",
    "from imblearn.metrics import classification_report_imbalanced"
   ]
  },
  {
   "cell_type": "code",
   "execution_count": 137,
   "id": "2685ec73",
   "metadata": {},
   "outputs": [
    {
     "name": "stdout",
     "output_type": "stream",
     "text": [
      "0    33966\n",
      "1    33966\n",
      "Name: Revente, dtype: int64\n"
     ]
    }
   ],
   "source": [
    "ros = RandomOverSampler()\n",
    "X_ro, y_ro = ros.fit_resample(X_train, y_train)\n",
    "print(y_ro.value_counts())\n"
   ]
  },
  {
   "cell_type": "code",
   "execution_count": 138,
   "id": "621fcd84",
   "metadata": {},
   "outputs": [
    {
     "data": {
      "text/html": [
       "<div>\n",
       "<style scoped>\n",
       "    .dataframe tbody tr th:only-of-type {\n",
       "        vertical-align: middle;\n",
       "    }\n",
       "\n",
       "    .dataframe tbody tr th {\n",
       "        vertical-align: top;\n",
       "    }\n",
       "\n",
       "    .dataframe thead th {\n",
       "        text-align: right;\n",
       "    }\n",
       "</style>\n",
       "<table border=\"1\" class=\"dataframe\">\n",
       "  <thead>\n",
       "    <tr style=\"text-align: right;\">\n",
       "      <th>Classe prédite</th>\n",
       "      <th>0</th>\n",
       "      <th>1</th>\n",
       "    </tr>\n",
       "    <tr>\n",
       "      <th>Classe réelle</th>\n",
       "      <th></th>\n",
       "      <th></th>\n",
       "    </tr>\n",
       "  </thead>\n",
       "  <tbody>\n",
       "    <tr>\n",
       "      <th>0</th>\n",
       "      <td>10425</td>\n",
       "      <td>893</td>\n",
       "    </tr>\n",
       "    <tr>\n",
       "      <th>1</th>\n",
       "      <td>1004</td>\n",
       "      <td>1477</td>\n",
       "    </tr>\n",
       "  </tbody>\n",
       "</table>\n",
       "</div>"
      ],
      "text/plain": [
       "Classe prédite      0     1\n",
       "Classe réelle              \n",
       "0               10425   893\n",
       "1                1004  1477"
      ]
     },
     "execution_count": 138,
     "metadata": {},
     "output_type": "execute_result"
    }
   ],
   "source": [
    "model3.fit(X_ro, y_ro)\n",
    "y_pred = model3.predict(X_test)\n",
    "cm = pd.crosstab(y_test, y_pred, rownames=['Classe réelle'], colnames=['Classe prédite'])\n",
    "cm"
   ]
  },
  {
   "cell_type": "code",
   "execution_count": 139,
   "id": "3b5ef7c8",
   "metadata": {},
   "outputs": [
    {
     "name": "stdout",
     "output_type": "stream",
     "text": [
      "              precision    recall  f1-score   support\n",
      "\n",
      "           0       0.91      0.92      0.92     11318\n",
      "           1       0.62      0.60      0.61      2481\n",
      "\n",
      "    accuracy                           0.86     13799\n",
      "   macro avg       0.77      0.76      0.76     13799\n",
      "weighted avg       0.86      0.86      0.86     13799\n",
      "\n"
     ]
    }
   ],
   "source": [
    "print(classification_report(y_test, y_pred))"
   ]
  },
  {
   "cell_type": "code",
   "execution_count": 140,
   "id": "25945155",
   "metadata": {},
   "outputs": [],
   "source": [
    "# SMOTE\n",
    "\n",
    "from imblearn.over_sampling import SMOTE"
   ]
  },
  {
   "cell_type": "code",
   "execution_count": 141,
   "id": "a1e2c59c",
   "metadata": {},
   "outputs": [
    {
     "name": "stdout",
     "output_type": "stream",
     "text": [
      "0    33966\n",
      "1    33966\n",
      "Name: Revente, dtype: int64\n"
     ]
    }
   ],
   "source": [
    "sm = SMOTE()\n",
    "X_sm, y_sm = sm.fit_resample(X_train, y_train)\n",
    "print(y_sm.value_counts())"
   ]
  },
  {
   "cell_type": "code",
   "execution_count": 142,
   "id": "1febd976",
   "metadata": {},
   "outputs": [
    {
     "data": {
      "text/html": [
       "<div>\n",
       "<style scoped>\n",
       "    .dataframe tbody tr th:only-of-type {\n",
       "        vertical-align: middle;\n",
       "    }\n",
       "\n",
       "    .dataframe tbody tr th {\n",
       "        vertical-align: top;\n",
       "    }\n",
       "\n",
       "    .dataframe thead th {\n",
       "        text-align: right;\n",
       "    }\n",
       "</style>\n",
       "<table border=\"1\" class=\"dataframe\">\n",
       "  <thead>\n",
       "    <tr style=\"text-align: right;\">\n",
       "      <th>Classe prédite</th>\n",
       "      <th>0</th>\n",
       "      <th>1</th>\n",
       "    </tr>\n",
       "    <tr>\n",
       "      <th>Classe réelle</th>\n",
       "      <th></th>\n",
       "      <th></th>\n",
       "    </tr>\n",
       "  </thead>\n",
       "  <tbody>\n",
       "    <tr>\n",
       "      <th>0</th>\n",
       "      <td>10287</td>\n",
       "      <td>1031</td>\n",
       "    </tr>\n",
       "    <tr>\n",
       "      <th>1</th>\n",
       "      <td>1064</td>\n",
       "      <td>1417</td>\n",
       "    </tr>\n",
       "  </tbody>\n",
       "</table>\n",
       "</div>"
      ],
      "text/plain": [
       "Classe prédite      0     1\n",
       "Classe réelle              \n",
       "0               10287  1031\n",
       "1                1064  1417"
      ]
     },
     "execution_count": 142,
     "metadata": {},
     "output_type": "execute_result"
    }
   ],
   "source": [
    "model3.fit(X_sm, y_sm)\n",
    "y_pred = model3.predict(X_test)\n",
    "cm = pd.crosstab(y_test, y_pred, rownames=['Classe réelle'], colnames=['Classe prédite'])\n",
    "cm"
   ]
  },
  {
   "cell_type": "code",
   "execution_count": 143,
   "id": "01964e7e",
   "metadata": {},
   "outputs": [
    {
     "name": "stdout",
     "output_type": "stream",
     "text": [
      "              precision    recall  f1-score   support\n",
      "\n",
      "           0       0.91      0.91      0.91     11318\n",
      "           1       0.58      0.57      0.57      2481\n",
      "\n",
      "    accuracy                           0.85     13799\n",
      "   macro avg       0.74      0.74      0.74     13799\n",
      "weighted avg       0.85      0.85      0.85     13799\n",
      "\n"
     ]
    }
   ],
   "source": [
    "print(classification_report(y_test, y_pred))"
   ]
  },
  {
   "cell_type": "code",
   "execution_count": 144,
   "id": "bb57f7cd",
   "metadata": {},
   "outputs": [],
   "source": [
    "#ADASYN\n",
    "\n",
    "from imblearn.over_sampling import ADASYN"
   ]
  },
  {
   "cell_type": "code",
   "execution_count": 145,
   "id": "e267926e",
   "metadata": {},
   "outputs": [
    {
     "name": "stdout",
     "output_type": "stream",
     "text": [
      "1    34169\n",
      "0    33966\n",
      "Name: Revente, dtype: int64\n"
     ]
    }
   ],
   "source": [
    "adsyn = ADASYN()\n",
    "X_adsyn, y_adsyn = adsyn.fit_resample(X_train, y_train)\n",
    "print(y_adsyn.value_counts())"
   ]
  },
  {
   "cell_type": "code",
   "execution_count": 146,
   "id": "85562040",
   "metadata": {},
   "outputs": [
    {
     "data": {
      "text/html": [
       "<div>\n",
       "<style scoped>\n",
       "    .dataframe tbody tr th:only-of-type {\n",
       "        vertical-align: middle;\n",
       "    }\n",
       "\n",
       "    .dataframe tbody tr th {\n",
       "        vertical-align: top;\n",
       "    }\n",
       "\n",
       "    .dataframe thead th {\n",
       "        text-align: right;\n",
       "    }\n",
       "</style>\n",
       "<table border=\"1\" class=\"dataframe\">\n",
       "  <thead>\n",
       "    <tr style=\"text-align: right;\">\n",
       "      <th>Classe prédite</th>\n",
       "      <th>0</th>\n",
       "      <th>1</th>\n",
       "    </tr>\n",
       "    <tr>\n",
       "      <th>Classe réelle</th>\n",
       "      <th></th>\n",
       "      <th></th>\n",
       "    </tr>\n",
       "  </thead>\n",
       "  <tbody>\n",
       "    <tr>\n",
       "      <th>0</th>\n",
       "      <td>10259</td>\n",
       "      <td>1059</td>\n",
       "    </tr>\n",
       "    <tr>\n",
       "      <th>1</th>\n",
       "      <td>1055</td>\n",
       "      <td>1426</td>\n",
       "    </tr>\n",
       "  </tbody>\n",
       "</table>\n",
       "</div>"
      ],
      "text/plain": [
       "Classe prédite      0     1\n",
       "Classe réelle              \n",
       "0               10259  1059\n",
       "1                1055  1426"
      ]
     },
     "execution_count": 146,
     "metadata": {},
     "output_type": "execute_result"
    }
   ],
   "source": [
    "model3.fit(X_adsyn, y_adsyn)\n",
    "y_pred = model3.predict(X_test)\n",
    "cm = pd.crosstab(y_test, y_pred, rownames=['Classe réelle'], colnames=['Classe prédite'])\n",
    "cm"
   ]
  },
  {
   "cell_type": "code",
   "execution_count": 147,
   "id": "eef0f1d6",
   "metadata": {},
   "outputs": [
    {
     "name": "stdout",
     "output_type": "stream",
     "text": [
      "              precision    recall  f1-score   support\n",
      "\n",
      "           0       0.91      0.91      0.91     11318\n",
      "           1       0.57      0.57      0.57      2481\n",
      "\n",
      "    accuracy                           0.85     13799\n",
      "   macro avg       0.74      0.74      0.74     13799\n",
      "weighted avg       0.85      0.85      0.85     13799\n",
      "\n"
     ]
    }
   ],
   "source": [
    "print(classification_report(y_test, y_pred))"
   ]
  },
  {
   "cell_type": "code",
   "execution_count": 148,
   "id": "81ff8747",
   "metadata": {},
   "outputs": [],
   "source": [
    "#BORDERLINE smote\n",
    "\n",
    "from imblearn.over_sampling import BorderlineSMOTE"
   ]
  },
  {
   "cell_type": "code",
   "execution_count": 149,
   "id": "dc415a62",
   "metadata": {},
   "outputs": [
    {
     "name": "stdout",
     "output_type": "stream",
     "text": [
      "0    33966\n",
      "1    33966\n",
      "Name: Revente, dtype: int64\n"
     ]
    }
   ],
   "source": [
    "bdls = BorderlineSMOTE()\n",
    "X_bdls, y_bdls = bdls.fit_resample(X_train, y_train)\n",
    "print(y_bdls.value_counts())"
   ]
  },
  {
   "cell_type": "code",
   "execution_count": 150,
   "id": "0ede4d7f",
   "metadata": {},
   "outputs": [
    {
     "data": {
      "text/html": [
       "<div>\n",
       "<style scoped>\n",
       "    .dataframe tbody tr th:only-of-type {\n",
       "        vertical-align: middle;\n",
       "    }\n",
       "\n",
       "    .dataframe tbody tr th {\n",
       "        vertical-align: top;\n",
       "    }\n",
       "\n",
       "    .dataframe thead th {\n",
       "        text-align: right;\n",
       "    }\n",
       "</style>\n",
       "<table border=\"1\" class=\"dataframe\">\n",
       "  <thead>\n",
       "    <tr style=\"text-align: right;\">\n",
       "      <th>Classe prédite</th>\n",
       "      <th>0</th>\n",
       "      <th>1</th>\n",
       "    </tr>\n",
       "    <tr>\n",
       "      <th>Classe réelle</th>\n",
       "      <th></th>\n",
       "      <th></th>\n",
       "    </tr>\n",
       "  </thead>\n",
       "  <tbody>\n",
       "    <tr>\n",
       "      <th>0</th>\n",
       "      <td>10295</td>\n",
       "      <td>1023</td>\n",
       "    </tr>\n",
       "    <tr>\n",
       "      <th>1</th>\n",
       "      <td>1045</td>\n",
       "      <td>1436</td>\n",
       "    </tr>\n",
       "  </tbody>\n",
       "</table>\n",
       "</div>"
      ],
      "text/plain": [
       "Classe prédite      0     1\n",
       "Classe réelle              \n",
       "0               10295  1023\n",
       "1                1045  1436"
      ]
     },
     "execution_count": 150,
     "metadata": {},
     "output_type": "execute_result"
    }
   ],
   "source": [
    "model3.fit(X_bdls, y_bdls)\n",
    "y_pred = model3.predict(X_test)\n",
    "cm = pd.crosstab(y_test, y_pred, rownames=['Classe réelle'], colnames=['Classe prédite'])\n",
    "cm"
   ]
  },
  {
   "cell_type": "code",
   "execution_count": 151,
   "id": "812ca74c",
   "metadata": {},
   "outputs": [
    {
     "name": "stdout",
     "output_type": "stream",
     "text": [
      "              precision    recall  f1-score   support\n",
      "\n",
      "           0       0.91      0.91      0.91     11318\n",
      "           1       0.58      0.58      0.58      2481\n",
      "\n",
      "    accuracy                           0.85     13799\n",
      "   macro avg       0.75      0.74      0.75     13799\n",
      "weighted avg       0.85      0.85      0.85     13799\n",
      "\n"
     ]
    }
   ],
   "source": [
    "print(classification_report(y_test, y_pred))"
   ]
  },
  {
   "cell_type": "code",
   "execution_count": 152,
   "id": "8eea64e1",
   "metadata": {},
   "outputs": [],
   "source": [
    "# UNDERSAMPLING ALEATOIRE\n",
    "from imblearn.under_sampling import RandomUnderSampler"
   ]
  },
  {
   "cell_type": "code",
   "execution_count": 153,
   "id": "bc99a96a",
   "metadata": {},
   "outputs": [
    {
     "name": "stdout",
     "output_type": "stream",
     "text": [
      "0    7430\n",
      "1    7430\n",
      "Name: Revente, dtype: int64\n"
     ]
    }
   ],
   "source": [
    "RUS=RandomUnderSampler()\n",
    "X_ru, y_ru=RUS.fit_resample(X_train, y_train)\n",
    "print(y_ru.value_counts())"
   ]
  },
  {
   "cell_type": "code",
   "execution_count": 154,
   "id": "ca274d1d",
   "metadata": {},
   "outputs": [
    {
     "data": {
      "text/html": [
       "<div>\n",
       "<style scoped>\n",
       "    .dataframe tbody tr th:only-of-type {\n",
       "        vertical-align: middle;\n",
       "    }\n",
       "\n",
       "    .dataframe tbody tr th {\n",
       "        vertical-align: top;\n",
       "    }\n",
       "\n",
       "    .dataframe thead th {\n",
       "        text-align: right;\n",
       "    }\n",
       "</style>\n",
       "<table border=\"1\" class=\"dataframe\">\n",
       "  <thead>\n",
       "    <tr style=\"text-align: right;\">\n",
       "      <th>Classe prédite</th>\n",
       "      <th>0</th>\n",
       "      <th>1</th>\n",
       "    </tr>\n",
       "    <tr>\n",
       "      <th>Classe réelle</th>\n",
       "      <th></th>\n",
       "      <th></th>\n",
       "    </tr>\n",
       "  </thead>\n",
       "  <tbody>\n",
       "    <tr>\n",
       "      <th>0</th>\n",
       "      <td>7613</td>\n",
       "      <td>3705</td>\n",
       "    </tr>\n",
       "    <tr>\n",
       "      <th>1</th>\n",
       "      <td>518</td>\n",
       "      <td>1963</td>\n",
       "    </tr>\n",
       "  </tbody>\n",
       "</table>\n",
       "</div>"
      ],
      "text/plain": [
       "Classe prédite     0     1\n",
       "Classe réelle             \n",
       "0               7613  3705\n",
       "1                518  1963"
      ]
     },
     "execution_count": 154,
     "metadata": {},
     "output_type": "execute_result"
    }
   ],
   "source": [
    "model3.fit(X_ru, y_ru)\n",
    "y_pred = model3.predict(X_test)\n",
    "cm = pd.crosstab(y_test, y_pred, rownames=['Classe réelle'], colnames=['Classe prédite'])\n",
    "cm"
   ]
  },
  {
   "cell_type": "code",
   "execution_count": 155,
   "id": "6d95ccf1",
   "metadata": {},
   "outputs": [
    {
     "name": "stdout",
     "output_type": "stream",
     "text": [
      "              precision    recall  f1-score   support\n",
      "\n",
      "           0       0.94      0.67      0.78     11318\n",
      "           1       0.35      0.79      0.48      2481\n",
      "\n",
      "    accuracy                           0.69     13799\n",
      "   macro avg       0.64      0.73      0.63     13799\n",
      "weighted avg       0.83      0.69      0.73     13799\n",
      "\n"
     ]
    }
   ],
   "source": [
    "print(classification_report(y_test, y_pred))"
   ]
  },
  {
   "cell_type": "code",
   "execution_count": 156,
   "id": "12e87f15",
   "metadata": {},
   "outputs": [
    {
     "data": {
      "text/plain": [
       "0.8648452786433799"
      ]
     },
     "execution_count": 156,
     "metadata": {},
     "output_type": "execute_result"
    }
   ],
   "source": [
    "# PARAMETRE CLASS_WEIGHT\n",
    "model3=RandomForestClassifier(class_weight={0: 0.30, 1: 0.70})\n",
    "model3.fit(X_train, y_train)\n",
    "model3.score(X_test, y_test)\n"
   ]
  },
  {
   "cell_type": "code",
   "execution_count": 157,
   "id": "cd8ebe64",
   "metadata": {},
   "outputs": [
    {
     "data": {
      "text/html": [
       "<div>\n",
       "<style scoped>\n",
       "    .dataframe tbody tr th:only-of-type {\n",
       "        vertical-align: middle;\n",
       "    }\n",
       "\n",
       "    .dataframe tbody tr th {\n",
       "        vertical-align: top;\n",
       "    }\n",
       "\n",
       "    .dataframe thead th {\n",
       "        text-align: right;\n",
       "    }\n",
       "</style>\n",
       "<table border=\"1\" class=\"dataframe\">\n",
       "  <thead>\n",
       "    <tr style=\"text-align: right;\">\n",
       "      <th>col_0</th>\n",
       "      <th>0</th>\n",
       "      <th>1</th>\n",
       "    </tr>\n",
       "    <tr>\n",
       "      <th>Revente</th>\n",
       "      <th></th>\n",
       "      <th></th>\n",
       "    </tr>\n",
       "  </thead>\n",
       "  <tbody>\n",
       "    <tr>\n",
       "      <th>0</th>\n",
       "      <td>10661</td>\n",
       "      <td>657</td>\n",
       "    </tr>\n",
       "    <tr>\n",
       "      <th>1</th>\n",
       "      <td>1208</td>\n",
       "      <td>1273</td>\n",
       "    </tr>\n",
       "  </tbody>\n",
       "</table>\n",
       "</div>"
      ],
      "text/plain": [
       "col_0        0     1\n",
       "Revente             \n",
       "0        10661   657\n",
       "1         1208  1273"
      ]
     },
     "execution_count": 157,
     "metadata": {},
     "output_type": "execute_result"
    }
   ],
   "source": [
    "y_pred_3=model3.predict(X_test)\n",
    "pd.crosstab(y_test, y_pred_3)"
   ]
  },
  {
   "cell_type": "code",
   "execution_count": 158,
   "id": "c3966faa",
   "metadata": {},
   "outputs": [
    {
     "name": "stdout",
     "output_type": "stream",
     "text": [
      "              precision    recall  f1-score   support\n",
      "\n",
      "           0       0.90      0.94      0.92     11318\n",
      "           1       0.66      0.51      0.58      2481\n",
      "\n",
      "    accuracy                           0.86     13799\n",
      "   macro avg       0.78      0.73      0.75     13799\n",
      "weighted avg       0.86      0.86      0.86     13799\n",
      "\n"
     ]
    }
   ],
   "source": [
    "print(classification_report(y_test, y_pred_3))"
   ]
  },
  {
   "cell_type": "code",
   "execution_count": 159,
   "id": "a079461b",
   "metadata": {},
   "outputs": [],
   "source": [
    "# MODIFICATION DU SEUIL DE PROBA"
   ]
  },
  {
   "cell_type": "code",
   "execution_count": 163,
   "id": "f9c53d66",
   "metadata": {},
   "outputs": [
    {
     "data": {
      "text/html": [
       "<div>\n",
       "<style scoped>\n",
       "    .dataframe tbody tr th:only-of-type {\n",
       "        vertical-align: middle;\n",
       "    }\n",
       "\n",
       "    .dataframe tbody tr th {\n",
       "        vertical-align: top;\n",
       "    }\n",
       "\n",
       "    .dataframe thead th {\n",
       "        text-align: right;\n",
       "    }\n",
       "</style>\n",
       "<table border=\"1\" class=\"dataframe\">\n",
       "  <thead>\n",
       "    <tr style=\"text-align: right;\">\n",
       "      <th>col_0</th>\n",
       "      <th>0</th>\n",
       "      <th>1</th>\n",
       "    </tr>\n",
       "    <tr>\n",
       "      <th>Revente</th>\n",
       "      <th></th>\n",
       "      <th></th>\n",
       "    </tr>\n",
       "  </thead>\n",
       "  <tbody>\n",
       "    <tr>\n",
       "      <th>0</th>\n",
       "      <td>10392</td>\n",
       "      <td>926</td>\n",
       "    </tr>\n",
       "    <tr>\n",
       "      <th>1</th>\n",
       "      <td>1023</td>\n",
       "      <td>1458</td>\n",
       "    </tr>\n",
       "  </tbody>\n",
       "</table>\n",
       "</div>"
      ],
      "text/plain": [
       "col_0        0     1\n",
       "Revente             \n",
       "0        10392   926\n",
       "1         1023  1458"
      ]
     },
     "execution_count": 163,
     "metadata": {},
     "output_type": "execute_result"
    }
   ],
   "source": [
    "model3=RandomForestClassifier()\n",
    "model3.fit(X_train, y_train)\n",
    "\n",
    "threshold = 0.4\n",
    "\n",
    "probs = model3.predict_proba(X_test)\n",
    "pred_class = (probs[:,1]>=threshold).astype('int')\n",
    "\n",
    "pd.crosstab(y_test, pred_class)"
   ]
  },
  {
   "cell_type": "code",
   "execution_count": 164,
   "id": "890d3c4a",
   "metadata": {},
   "outputs": [
    {
     "name": "stdout",
     "output_type": "stream",
     "text": [
      "              precision    recall  f1-score   support\n",
      "\n",
      "           0       0.91      0.92      0.91     11318\n",
      "           1       0.61      0.59      0.60      2481\n",
      "\n",
      "    accuracy                           0.86     13799\n",
      "   macro avg       0.76      0.75      0.76     13799\n",
      "weighted avg       0.86      0.86      0.86     13799\n",
      "\n"
     ]
    }
   ],
   "source": [
    "print(classification_report(y_test, pred_class))"
   ]
  },
  {
   "cell_type": "code",
   "execution_count": null,
   "id": "40170181",
   "metadata": {},
   "outputs": [],
   "source": []
  },
  {
   "cell_type": "code",
   "execution_count": null,
   "id": "8452754d",
   "metadata": {},
   "outputs": [],
   "source": []
  },
  {
   "cell_type": "code",
   "execution_count": 162,
   "id": "5ab682f1",
   "metadata": {},
   "outputs": [],
   "source": [
    "#https://datascientest.com/comment-gerer-les-problemes-de-classification-desequilibree-partie-ii"
   ]
  }
 ],
 "metadata": {
  "kernelspec": {
   "display_name": "Python 3 (ipykernel)",
   "language": "python",
   "name": "python3"
  },
  "language_info": {
   "codemirror_mode": {
    "name": "ipython",
    "version": 3
   },
   "file_extension": ".py",
   "mimetype": "text/x-python",
   "name": "python",
   "nbconvert_exporter": "python",
   "pygments_lexer": "ipython3",
   "version": "3.9.7"
  }
 },
 "nbformat": 4,
 "nbformat_minor": 5
}
