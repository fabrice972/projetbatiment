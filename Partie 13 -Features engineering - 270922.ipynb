{
 "cells": [
  {
   "cell_type": "code",
   "execution_count": 1,
   "id": "62264575",
   "metadata": {},
   "outputs": [],
   "source": [
    "import pandas as pd\n",
    "import numpy as np\n",
    "\n"
   ]
  },
  {
   "cell_type": "code",
   "execution_count": 2,
   "id": "5363104e",
   "metadata": {},
   "outputs": [
    {
     "name": "stderr",
     "output_type": "stream",
     "text": [
      "C:\\Users\\Anne\\anaconda3\\lib\\site-packages\\IPython\\core\\interactiveshell.py:3444: DtypeWarning: Columns (45,141,142,143,171,196,232) have mixed types.Specify dtype option on import or set low_memory=False.\n",
      "  exec(code_obj, self.user_global_ns, self.user_ns)\n"
     ]
    }
   ],
   "source": [
    "df_final=pd.read_csv(\"df_final.csv\")"
   ]
  },
  {
   "cell_type": "code",
   "execution_count": 3,
   "id": "9899316e",
   "metadata": {},
   "outputs": [
    {
     "data": {
      "text/html": [
       "<div>\n",
       "<style scoped>\n",
       "    .dataframe tbody tr th:only-of-type {\n",
       "        vertical-align: middle;\n",
       "    }\n",
       "\n",
       "    .dataframe tbody tr th {\n",
       "        vertical-align: top;\n",
       "    }\n",
       "\n",
       "    .dataframe thead th {\n",
       "        text-align: right;\n",
       "    }\n",
       "</style>\n",
       "<table border=\"1\" class=\"dataframe\">\n",
       "  <thead>\n",
       "    <tr style=\"text-align: right;\">\n",
       "      <th></th>\n",
       "      <th>geombui</th>\n",
       "      <th>bnb_id</th>\n",
       "      <th>bnb_l_geombui_id</th>\n",
       "      <th>bnb_matching_type</th>\n",
       "      <th>bnb_optim_status</th>\n",
       "      <th>bnb_sfce_geombat_m2</th>\n",
       "      <th>bnb_altitude_sol</th>\n",
       "      <th>insee_code_commune</th>\n",
       "      <th>insee_code_dept</th>\n",
       "      <th>insee_code_dept_num</th>\n",
       "      <th>...</th>\n",
       "      <th>voie</th>\n",
       "      <th>codepostal</th>\n",
       "      <th>commune</th>\n",
       "      <th>idadrinvar</th>\n",
       "      <th>coddep_x</th>\n",
       "      <th>iddispopar</th>\n",
       "      <th>coddep_y</th>\n",
       "      <th>etaban_lot</th>\n",
       "      <th>qty_of_mut</th>\n",
       "      <th>y</th>\n",
       "    </tr>\n",
       "  </thead>\n",
       "  <tbody>\n",
       "    <tr>\n",
       "      <th>0</th>\n",
       "      <td>NaN</td>\n",
       "      <td>75101000AT0138_d4d36e20f8ebb9d</td>\n",
       "      <td>NaN</td>\n",
       "      <td>sp-n.0</td>\n",
       "      <td>NaN</td>\n",
       "      <td>NaN</td>\n",
       "      <td>NaN</td>\n",
       "      <td>75101</td>\n",
       "      <td>75</td>\n",
       "      <td>75</td>\n",
       "      <td>...</td>\n",
       "      <td>JEAN JACQUES ROUSSEAU</td>\n",
       "      <td>75001.0</td>\n",
       "      <td>PARIS 01</td>\n",
       "      <td>19$$4901$RUE$JEAN JACQUES ROUSSEAU$75001$PARIS 01</td>\n",
       "      <td>75</td>\n",
       "      <td>14292160</td>\n",
       "      <td>75</td>\n",
       "      <td>75101_4901_00019_93</td>\n",
       "      <td>1</td>\n",
       "      <td>0</td>\n",
       "    </tr>\n",
       "    <tr>\n",
       "      <th>1</th>\n",
       "      <td>MULTIPOLYGON (((654897.4 6861228.7,654898.2 68...</td>\n",
       "      <td>75112000CS0007_0e97db87132e0fc</td>\n",
       "      <td>(2:BATIMENT0000000240743478-4,BATIMENT00000002...</td>\n",
       "      <td>sp-1.m</td>\n",
       "      <td>NaN</td>\n",
       "      <td>187.0</td>\n",
       "      <td>33.0</td>\n",
       "      <td>75112</td>\n",
       "      <td>75</td>\n",
       "      <td>75</td>\n",
       "      <td>...</td>\n",
       "      <td>BULLOURDE</td>\n",
       "      <td>75011.0</td>\n",
       "      <td>PARIS 11</td>\n",
       "      <td>5$$1383$PAS$BULLOURDE$75011$PARIS 11</td>\n",
       "      <td>75</td>\n",
       "      <td>14286796</td>\n",
       "      <td>75</td>\n",
       "      <td>75111_1383_00005_8057</td>\n",
       "      <td>1</td>\n",
       "      <td>0</td>\n",
       "    </tr>\n",
       "    <tr>\n",
       "      <th>2</th>\n",
       "      <td>MULTIPOLYGON (((654258.4 6864324.5,654255.1 68...</td>\n",
       "      <td>75119000EV0097_ebba0f692cb5609</td>\n",
       "      <td>(1:BATIMENT0000000240767364-1)</td>\n",
       "      <td>sp-1.1</td>\n",
       "      <td>NaN</td>\n",
       "      <td>48.0</td>\n",
       "      <td>88.0</td>\n",
       "      <td>75119</td>\n",
       "      <td>75</td>\n",
       "      <td>75</td>\n",
       "      <td>...</td>\n",
       "      <td>LEMERCIER</td>\n",
       "      <td>75017.0</td>\n",
       "      <td>PARIS 17</td>\n",
       "      <td>103$$5503$RUE$LEMERCIER$75017$PARIS 17</td>\n",
       "      <td>75</td>\n",
       "      <td>14291262</td>\n",
       "      <td>75</td>\n",
       "      <td>75117_5503_00103_24</td>\n",
       "      <td>1</td>\n",
       "      <td>0</td>\n",
       "    </tr>\n",
       "    <tr>\n",
       "      <th>3</th>\n",
       "      <td>MULTIPOLYGON (((647249.3 6864099.3,647246.0 68...</td>\n",
       "      <td>75116000EW0007_9f90308b1cd8e30</td>\n",
       "      <td>(1:BATIMENT0000000245170300-1)</td>\n",
       "      <td>sp-1.1</td>\n",
       "      <td>NaN</td>\n",
       "      <td>126.0</td>\n",
       "      <td>43.0</td>\n",
       "      <td>75116</td>\n",
       "      <td>75</td>\n",
       "      <td>75</td>\n",
       "      <td>...</td>\n",
       "      <td>DALOU</td>\n",
       "      <td>75015.0</td>\n",
       "      <td>PARIS 15</td>\n",
       "      <td>8$$2521$RUE$DALOU$75015$PARIS 15</td>\n",
       "      <td>75</td>\n",
       "      <td>14292472</td>\n",
       "      <td>75</td>\n",
       "      <td>75115_2521_00008_19</td>\n",
       "      <td>1</td>\n",
       "      <td>0</td>\n",
       "    </tr>\n",
       "    <tr>\n",
       "      <th>4</th>\n",
       "      <td>MULTIPOLYGON (((655925.8 6862773.2,655918.9 68...</td>\n",
       "      <td>75120000CL0085_034893c457506cc</td>\n",
       "      <td>(1:BATIMENT0000000240759419-2)</td>\n",
       "      <td>sp-n.m</td>\n",
       "      <td>OPTIMAL</td>\n",
       "      <td>192.0</td>\n",
       "      <td>82.0</td>\n",
       "      <td>75120</td>\n",
       "      <td>75</td>\n",
       "      <td>75</td>\n",
       "      <td>...</td>\n",
       "      <td>DE CLICHY</td>\n",
       "      <td>75018.0</td>\n",
       "      <td>PARIS 18</td>\n",
       "      <td>110$$2113$BD$DE CLICHY$75018$PARIS 18</td>\n",
       "      <td>75</td>\n",
       "      <td>14281772</td>\n",
       "      <td>75</td>\n",
       "      <td>75118_2113_00110_19</td>\n",
       "      <td>2</td>\n",
       "      <td>1</td>\n",
       "    </tr>\n",
       "  </tbody>\n",
       "</table>\n",
       "<p>5 rows × 251 columns</p>\n",
       "</div>"
      ],
      "text/plain": [
       "                                             geombui  \\\n",
       "0                                                NaN   \n",
       "1  MULTIPOLYGON (((654897.4 6861228.7,654898.2 68...   \n",
       "2  MULTIPOLYGON (((654258.4 6864324.5,654255.1 68...   \n",
       "3  MULTIPOLYGON (((647249.3 6864099.3,647246.0 68...   \n",
       "4  MULTIPOLYGON (((655925.8 6862773.2,655918.9 68...   \n",
       "\n",
       "                           bnb_id  \\\n",
       "0  75101000AT0138_d4d36e20f8ebb9d   \n",
       "1  75112000CS0007_0e97db87132e0fc   \n",
       "2  75119000EV0097_ebba0f692cb5609   \n",
       "3  75116000EW0007_9f90308b1cd8e30   \n",
       "4  75120000CL0085_034893c457506cc   \n",
       "\n",
       "                                    bnb_l_geombui_id bnb_matching_type  \\\n",
       "0                                                NaN            sp-n.0   \n",
       "1  (2:BATIMENT0000000240743478-4,BATIMENT00000002...            sp-1.m   \n",
       "2                     (1:BATIMENT0000000240767364-1)            sp-1.1   \n",
       "3                     (1:BATIMENT0000000245170300-1)            sp-1.1   \n",
       "4                     (1:BATIMENT0000000240759419-2)            sp-n.m   \n",
       "\n",
       "  bnb_optim_status  bnb_sfce_geombat_m2  bnb_altitude_sol  insee_code_commune  \\\n",
       "0              NaN                  NaN               NaN               75101   \n",
       "1              NaN                187.0              33.0               75112   \n",
       "2              NaN                 48.0              88.0               75119   \n",
       "3              NaN                126.0              43.0               75116   \n",
       "4          OPTIMAL                192.0              82.0               75120   \n",
       "\n",
       "   insee_code_dept  insee_code_dept_num  ...                   voie  \\\n",
       "0               75                   75  ...  JEAN JACQUES ROUSSEAU   \n",
       "1               75                   75  ...              BULLOURDE   \n",
       "2               75                   75  ...              LEMERCIER   \n",
       "3               75                   75  ...                  DALOU   \n",
       "4               75                   75  ...              DE CLICHY   \n",
       "\n",
       "  codepostal   commune                                         idadrinvar  \\\n",
       "0    75001.0  PARIS 01  19$$4901$RUE$JEAN JACQUES ROUSSEAU$75001$PARIS 01   \n",
       "1    75011.0  PARIS 11               5$$1383$PAS$BULLOURDE$75011$PARIS 11   \n",
       "2    75017.0  PARIS 17             103$$5503$RUE$LEMERCIER$75017$PARIS 17   \n",
       "3    75015.0  PARIS 15                   8$$2521$RUE$DALOU$75015$PARIS 15   \n",
       "4    75018.0  PARIS 18              110$$2113$BD$DE CLICHY$75018$PARIS 18   \n",
       "\n",
       "  coddep_x iddispopar  coddep_y             etaban_lot qty_of_mut  y  \n",
       "0       75   14292160        75    75101_4901_00019_93          1  0  \n",
       "1       75   14286796        75  75111_1383_00005_8057          1  0  \n",
       "2       75   14291262        75    75117_5503_00103_24          1  0  \n",
       "3       75   14292472        75    75115_2521_00008_19          1  0  \n",
       "4       75   14281772        75    75118_2113_00110_19          2  1  \n",
       "\n",
       "[5 rows x 251 columns]"
      ]
     },
     "execution_count": 3,
     "metadata": {},
     "output_type": "execute_result"
    }
   ],
   "source": [
    "df_final.head()"
   ]
  },
  {
   "cell_type": "code",
   "execution_count": 4,
   "id": "0eaa877f",
   "metadata": {},
   "outputs": [
    {
     "name": "stdout",
     "output_type": "stream",
     "text": [
      "<class 'pandas.core.frame.DataFrame'>\n",
      "RangeIndex: 93911 entries, 0 to 93910\n",
      "Columns: 251 entries, geombui to y\n",
      "dtypes: float64(83), int64(60), object(108)\n",
      "memory usage: 179.8+ MB\n"
     ]
    }
   ],
   "source": [
    "df_final.info()"
   ]
  },
  {
   "cell_type": "code",
   "execution_count": 5,
   "id": "c80fc973",
   "metadata": {},
   "outputs": [],
   "source": [
    "# Dataframe avec sélection variables CSTB + Cerema + variable cible \"y\" \n",
    "# + variables créées précédemment : \"etaban_lot\" + \"qty_of_mut\"\n",
    "\n",
    "df_selec=df_final[[\"idmutation\",\n",
    "                   \"etaban_lot\",\n",
    "                   \"qty_of_mut\",\n",
    "                   \"y\",\n",
    "                   \"idnatmut\",\n",
    "                   \"datemut\",\n",
    "                   \"anneemut\",\n",
    "                   \"moismut\",\n",
    "                   \"libnatmut\",\n",
    "                   \"vefa\",\n",
    "                   \"valeurfonc\",\n",
    "                   \"nblot\",\n",
    "                   \"nbcomm\",\n",
    "                   \"l_codinsee\",\n",
    "                   \"nblocapt\",\n",
    "                   \"nblocdep\",\n",
    "                   \"nbapt2pp\",\n",
    "                   \"nbapt3pp\",\n",
    "                   \"sbati\",\n",
    "                   \"sbatapt\",\n",
    "                   \"sbatact\",\n",
    "                   \"sapt2pp\",\n",
    "                   \"sapt3pp\",\n",
    "                   \"scarrez\",\n",
    "                   \"nolot\",\n",
    "\"adedpe202006_logtype_periode_construction\",\n",
    "\"anarnc202012_nb_log\",\n",
    "\"anarnc202012_nb_lot_garpark\",\n",
    "\"anarnc202012_nb_lot_tertiaire\",\n",
    "\"anarnc202012_nb_lot_tot\",\n",
    "\"etaban202111_label\",\n",
    "\"mcumer202007_id\",\n",
    "\"adedpe202006_logtype_baie_orientation\",\n",
    "\"adedpe202006_logtype_baie_type_vitrage\",\n",
    "\"adedpe202006_logtype_ch_gen_lib_princ\",\n",
    "\"adedpe202006_mean_class_conso_ener\",\n",
    "\"adedpe202006_mean_class_estim_ges\",\n",
    "\"adedpe202006_logtype_traversant\",\n",
    "\"adedpe202006_logtype_ecs_type_ener\",\n",
    "\"adedpe202006_logtype_enr\",\n",
    "\"adedpe202006_logtype_perc_surf_vitree_ext\",\n",
    "\"adedpe202006_logtype_ph_pos_isol\",\n",
    "\"adedpe202006_logtype_presence_balcon\",\n",
    "\"adedpe202006_logtype_presence_climatisation\",\n",
    "\"adedpe202006_logtype_type_batiment\",\n",
    "\"ancqpv201410_is_qpv\",\n",
    "\"arcthd2021t1_l_bat_type\",\n",
    "\"cerffo2020_annee_construction\",\n",
    "\"cerffo2020_usage_niveau_1_txt\",\n",
    "\"cerffo2020_nb_log\",\n",
    "\"geoarg2020_alea\",\n",
    "\"georad2020_alea\",\n",
    "\"igntop202103_bat_hauteur\",\n",
    "\"insbpe2019_l_type_equipement\",\n",
    "\"mcumer202007_dist500min\",\n",
    "\"mcumer202007_is_mer\",\n",
    "\"adedpe202006_logtype_s_hab\",\n",
    "\"adedpe202006_logtype_ch_type_inst\",\n",
    "\"adedpe202006_logtype_ecs_type_inst\",\n",
    "\"adedpe202006_logtype_mur_ep_mat_ext\",\n",
    "\"adedpe202006_logtype_mur_mat_ext\",\n",
    "\"adedpe202006_logtype_mur_pos_isol_ext\"]]\n"
   ]
  },
  {
   "cell_type": "code",
   "execution_count": 6,
   "id": "14516c1d",
   "metadata": {},
   "outputs": [
    {
     "data": {
      "text/html": [
       "<div>\n",
       "<style scoped>\n",
       "    .dataframe tbody tr th:only-of-type {\n",
       "        vertical-align: middle;\n",
       "    }\n",
       "\n",
       "    .dataframe tbody tr th {\n",
       "        vertical-align: top;\n",
       "    }\n",
       "\n",
       "    .dataframe thead th {\n",
       "        text-align: right;\n",
       "    }\n",
       "</style>\n",
       "<table border=\"1\" class=\"dataframe\">\n",
       "  <thead>\n",
       "    <tr style=\"text-align: right;\">\n",
       "      <th></th>\n",
       "      <th>idmutation</th>\n",
       "      <th>etaban_lot</th>\n",
       "      <th>qty_of_mut</th>\n",
       "      <th>y</th>\n",
       "      <th>idnatmut</th>\n",
       "      <th>datemut</th>\n",
       "      <th>anneemut</th>\n",
       "      <th>moismut</th>\n",
       "      <th>libnatmut</th>\n",
       "      <th>vefa</th>\n",
       "      <th>...</th>\n",
       "      <th>igntop202103_bat_hauteur</th>\n",
       "      <th>insbpe2019_l_type_equipement</th>\n",
       "      <th>mcumer202007_dist500min</th>\n",
       "      <th>mcumer202007_is_mer</th>\n",
       "      <th>adedpe202006_logtype_s_hab</th>\n",
       "      <th>adedpe202006_logtype_ch_type_inst</th>\n",
       "      <th>adedpe202006_logtype_ecs_type_inst</th>\n",
       "      <th>adedpe202006_logtype_mur_ep_mat_ext</th>\n",
       "      <th>adedpe202006_logtype_mur_mat_ext</th>\n",
       "      <th>adedpe202006_logtype_mur_pos_isol_ext</th>\n",
       "    </tr>\n",
       "  </thead>\n",
       "  <tbody>\n",
       "    <tr>\n",
       "      <th>0</th>\n",
       "      <td>7819809</td>\n",
       "      <td>75101_4901_00019_93</td>\n",
       "      <td>1</td>\n",
       "      <td>0</td>\n",
       "      <td>1</td>\n",
       "      <td>2021-06-04</td>\n",
       "      <td>2021</td>\n",
       "      <td>6</td>\n",
       "      <td>Vente</td>\n",
       "      <td>f</td>\n",
       "      <td>...</td>\n",
       "      <td>NaN</td>\n",
       "      <td>NaN</td>\n",
       "      <td>NaN</td>\n",
       "      <td>NaN</td>\n",
       "      <td>NaN</td>\n",
       "      <td>NaN</td>\n",
       "      <td>NaN</td>\n",
       "      <td>NaN</td>\n",
       "      <td>NaN</td>\n",
       "      <td>NaN</td>\n",
       "    </tr>\n",
       "    <tr>\n",
       "      <th>1</th>\n",
       "      <td>7819819</td>\n",
       "      <td>75111_1383_00005_8057</td>\n",
       "      <td>1</td>\n",
       "      <td>0</td>\n",
       "      <td>1</td>\n",
       "      <td>2021-11-25</td>\n",
       "      <td>2021</td>\n",
       "      <td>11</td>\n",
       "      <td>Vente</td>\n",
       "      <td>f</td>\n",
       "      <td>...</td>\n",
       "      <td>17.4</td>\n",
       "      <td>NaN</td>\n",
       "      <td>274.0</td>\n",
       "      <td>1.0</td>\n",
       "      <td>NaN</td>\n",
       "      <td>NaN</td>\n",
       "      <td>NaN</td>\n",
       "      <td>NaN</td>\n",
       "      <td>NaN</td>\n",
       "      <td>NaN</td>\n",
       "    </tr>\n",
       "    <tr>\n",
       "      <th>2</th>\n",
       "      <td>7819821</td>\n",
       "      <td>75117_5503_00103_24</td>\n",
       "      <td>1</td>\n",
       "      <td>0</td>\n",
       "      <td>1</td>\n",
       "      <td>2021-03-18</td>\n",
       "      <td>2021</td>\n",
       "      <td>3</td>\n",
       "      <td>Vente</td>\n",
       "      <td>f</td>\n",
       "      <td>...</td>\n",
       "      <td>14.1</td>\n",
       "      <td>NaN</td>\n",
       "      <td>397.0</td>\n",
       "      <td>1.0</td>\n",
       "      <td>NaN</td>\n",
       "      <td>NaN</td>\n",
       "      <td>NaN</td>\n",
       "      <td>NaN</td>\n",
       "      <td>NaN</td>\n",
       "      <td>NaN</td>\n",
       "    </tr>\n",
       "    <tr>\n",
       "      <th>3</th>\n",
       "      <td>7819822</td>\n",
       "      <td>75115_2521_00008_19</td>\n",
       "      <td>1</td>\n",
       "      <td>0</td>\n",
       "      <td>1</td>\n",
       "      <td>2021-11-12</td>\n",
       "      <td>2021</td>\n",
       "      <td>11</td>\n",
       "      <td>Vente</td>\n",
       "      <td>f</td>\n",
       "      <td>...</td>\n",
       "      <td>8.9</td>\n",
       "      <td>NaN</td>\n",
       "      <td>441.0</td>\n",
       "      <td>1.0</td>\n",
       "      <td>NaN</td>\n",
       "      <td>NaN</td>\n",
       "      <td>NaN</td>\n",
       "      <td>NaN</td>\n",
       "      <td>NaN</td>\n",
       "      <td>NaN</td>\n",
       "    </tr>\n",
       "    <tr>\n",
       "      <th>4</th>\n",
       "      <td>7819824</td>\n",
       "      <td>75118_2113_00110_19</td>\n",
       "      <td>2</td>\n",
       "      <td>1</td>\n",
       "      <td>1</td>\n",
       "      <td>2021-01-08</td>\n",
       "      <td>2021</td>\n",
       "      <td>1</td>\n",
       "      <td>Vente</td>\n",
       "      <td>f</td>\n",
       "      <td>...</td>\n",
       "      <td>19.2</td>\n",
       "      <td>(1:Plâtrier peintre)</td>\n",
       "      <td>177.0</td>\n",
       "      <td>1.0</td>\n",
       "      <td>NaN</td>\n",
       "      <td>NaN</td>\n",
       "      <td>NaN</td>\n",
       "      <td>NaN</td>\n",
       "      <td>NaN</td>\n",
       "      <td>NaN</td>\n",
       "    </tr>\n",
       "  </tbody>\n",
       "</table>\n",
       "<p>5 rows × 62 columns</p>\n",
       "</div>"
      ],
      "text/plain": [
       "   idmutation             etaban_lot  qty_of_mut  y  idnatmut     datemut  \\\n",
       "0     7819809    75101_4901_00019_93           1  0         1  2021-06-04   \n",
       "1     7819819  75111_1383_00005_8057           1  0         1  2021-11-25   \n",
       "2     7819821    75117_5503_00103_24           1  0         1  2021-03-18   \n",
       "3     7819822    75115_2521_00008_19           1  0         1  2021-11-12   \n",
       "4     7819824    75118_2113_00110_19           2  1         1  2021-01-08   \n",
       "\n",
       "   anneemut  moismut libnatmut vefa  ...  igntop202103_bat_hauteur  \\\n",
       "0      2021        6     Vente    f  ...                       NaN   \n",
       "1      2021       11     Vente    f  ...                      17.4   \n",
       "2      2021        3     Vente    f  ...                      14.1   \n",
       "3      2021       11     Vente    f  ...                       8.9   \n",
       "4      2021        1     Vente    f  ...                      19.2   \n",
       "\n",
       "   insbpe2019_l_type_equipement  mcumer202007_dist500min  mcumer202007_is_mer  \\\n",
       "0                           NaN                      NaN                  NaN   \n",
       "1                           NaN                    274.0                  1.0   \n",
       "2                           NaN                    397.0                  1.0   \n",
       "3                           NaN                    441.0                  1.0   \n",
       "4          (1:Plâtrier peintre)                    177.0                  1.0   \n",
       "\n",
       "   adedpe202006_logtype_s_hab  adedpe202006_logtype_ch_type_inst  \\\n",
       "0                         NaN                                NaN   \n",
       "1                         NaN                                NaN   \n",
       "2                         NaN                                NaN   \n",
       "3                         NaN                                NaN   \n",
       "4                         NaN                                NaN   \n",
       "\n",
       "   adedpe202006_logtype_ecs_type_inst  adedpe202006_logtype_mur_ep_mat_ext  \\\n",
       "0                                 NaN                                  NaN   \n",
       "1                                 NaN                                  NaN   \n",
       "2                                 NaN                                  NaN   \n",
       "3                                 NaN                                  NaN   \n",
       "4                                 NaN                                  NaN   \n",
       "\n",
       "   adedpe202006_logtype_mur_mat_ext  adedpe202006_logtype_mur_pos_isol_ext  \n",
       "0                               NaN                                    NaN  \n",
       "1                               NaN                                    NaN  \n",
       "2                               NaN                                    NaN  \n",
       "3                               NaN                                    NaN  \n",
       "4                               NaN                                    NaN  \n",
       "\n",
       "[5 rows x 62 columns]"
      ]
     },
     "execution_count": 6,
     "metadata": {},
     "output_type": "execute_result"
    }
   ],
   "source": [
    "df_selec.head()"
   ]
  },
  {
   "cell_type": "code",
   "execution_count": 7,
   "id": "671c01ff",
   "metadata": {},
   "outputs": [
    {
     "name": "stdout",
     "output_type": "stream",
     "text": [
      "<class 'pandas.core.frame.DataFrame'>\n",
      "RangeIndex: 93911 entries, 0 to 93910\n",
      "Data columns (total 62 columns):\n",
      " #   Column                                       Non-Null Count  Dtype  \n",
      "---  ------                                       --------------  -----  \n",
      " 0   idmutation                                   93911 non-null  int64  \n",
      " 1   etaban_lot                                   93911 non-null  object \n",
      " 2   qty_of_mut                                   93911 non-null  int64  \n",
      " 3   y                                            93911 non-null  int64  \n",
      " 4   idnatmut                                     93911 non-null  int64  \n",
      " 5   datemut                                      93911 non-null  object \n",
      " 6   anneemut                                     93911 non-null  int64  \n",
      " 7   moismut                                      93911 non-null  int64  \n",
      " 8   libnatmut                                    93911 non-null  object \n",
      " 9   vefa                                         93911 non-null  object \n",
      " 10  valeurfonc                                   93877 non-null  float64\n",
      " 11  nblot                                        93911 non-null  int64  \n",
      " 12  nbcomm                                       93911 non-null  int64  \n",
      " 13  l_codinsee                                   93911 non-null  int64  \n",
      " 14  nblocapt                                     93911 non-null  int64  \n",
      " 15  nblocdep                                     93911 non-null  int64  \n",
      " 16  nbapt2pp                                     93911 non-null  int64  \n",
      " 17  nbapt3pp                                     93911 non-null  int64  \n",
      " 18  sbati                                        93911 non-null  int64  \n",
      " 19  sbatapt                                      93911 non-null  int64  \n",
      " 20  sbatact                                      93911 non-null  int64  \n",
      " 21  sapt2pp                                      93911 non-null  int64  \n",
      " 22  sapt3pp                                      93911 non-null  int64  \n",
      " 23  scarrez                                      93911 non-null  float64\n",
      " 24  nolot                                        93911 non-null  object \n",
      " 25  adedpe202006_logtype_periode_construction    62478 non-null  object \n",
      " 26  anarnc202012_nb_log                          56440 non-null  float64\n",
      " 27  anarnc202012_nb_lot_garpark                  56440 non-null  float64\n",
      " 28  anarnc202012_nb_lot_tertiaire                56440 non-null  float64\n",
      " 29  anarnc202012_nb_lot_tot                      56440 non-null  float64\n",
      " 30  etaban202111_label                           93865 non-null  object \n",
      " 31  mcumer202007_id                              88130 non-null  object \n",
      " 32  adedpe202006_logtype_baie_orientation        48350 non-null  object \n",
      " 33  adedpe202006_logtype_baie_type_vitrage       61449 non-null  object \n",
      " 34  adedpe202006_logtype_ch_gen_lib_princ        61494 non-null  object \n",
      " 35  adedpe202006_mean_class_conso_ener           62527 non-null  object \n",
      " 36  adedpe202006_mean_class_estim_ges            62527 non-null  object \n",
      " 37  adedpe202006_logtype_traversant              48350 non-null  object \n",
      " 38  adedpe202006_logtype_ecs_type_ener           60404 non-null  object \n",
      " 39  adedpe202006_logtype_enr                     42 non-null     object \n",
      " 40  adedpe202006_logtype_perc_surf_vitree_ext    8510 non-null   float64\n",
      " 41  adedpe202006_logtype_ph_pos_isol             43814 non-null  object \n",
      " 42  adedpe202006_logtype_presence_balcon         9596 non-null   float64\n",
      " 43  adedpe202006_logtype_presence_climatisation  62478 non-null  float64\n",
      " 44  adedpe202006_logtype_type_batiment           62478 non-null  object \n",
      " 45  ancqpv201410_is_qpv                          92950 non-null  float64\n",
      " 46  arcthd2021t1_l_bat_type                      69826 non-null  object \n",
      " 47  cerffo2020_annee_construction                72110 non-null  float64\n",
      " 48  cerffo2020_usage_niveau_1_txt                93911 non-null  object \n",
      " 49  cerffo2020_nb_log                            93911 non-null  int64  \n",
      " 50  geoarg2020_alea                              0 non-null      float64\n",
      " 51  georad2020_alea                              92950 non-null  object \n",
      " 52  igntop202103_bat_hauteur                     92850 non-null  float64\n",
      " 53  insbpe2019_l_type_equipement                 47004 non-null  object \n",
      " 54  mcumer202007_dist500min                      88130 non-null  float64\n",
      " 55  mcumer202007_is_mer                          92950 non-null  float64\n",
      " 56  adedpe202006_logtype_s_hab                   61891 non-null  float64\n",
      " 57  adedpe202006_logtype_ch_type_inst            50620 non-null  object \n",
      " 58  adedpe202006_logtype_ecs_type_inst           51445 non-null  object \n",
      " 59  adedpe202006_logtype_mur_ep_mat_ext          9307 non-null   object \n",
      " 60  adedpe202006_logtype_mur_mat_ext             54292 non-null  object \n",
      " 61  adedpe202006_logtype_mur_pos_isol_ext        58907 non-null  object \n",
      "dtypes: float64(16), int64(19), object(27)\n",
      "memory usage: 44.4+ MB\n"
     ]
    }
   ],
   "source": [
    "df_selec.info()"
   ]
  },
  {
   "cell_type": "code",
   "execution_count": null,
   "id": "91418dc3",
   "metadata": {},
   "outputs": [],
   "source": []
  },
  {
   "cell_type": "code",
   "execution_count": 8,
   "id": "7cd094c3",
   "metadata": {},
   "outputs": [
    {
     "data": {
      "text/plain": [
       "array([nan, 'solaire thermique (ecs)', 'solaire photovoltaique'],\n",
       "      dtype=object)"
      ]
     },
     "execution_count": 8,
     "metadata": {},
     "output_type": "execute_result"
    }
   ],
   "source": [
    "df_selec[\"adedpe202006_logtype_enr\"].unique()"
   ]
  },
  {
   "cell_type": "code",
   "execution_count": 9,
   "id": "057084e6",
   "metadata": {},
   "outputs": [
    {
     "name": "stderr",
     "output_type": "stream",
     "text": [
      "C:\\Users\\Anne\\AppData\\Local\\Temp/ipykernel_13268/3737070585.py:7: SettingWithCopyWarning: \n",
      "A value is trying to be set on a copy of a slice from a DataFrame.\n",
      "Try using .loc[row_indexer,col_indexer] = value instead\n",
      "\n",
      "See the caveats in the documentation: https://pandas.pydata.org/pandas-docs/stable/user_guide/indexing.html#returning-a-view-versus-a-copy\n",
      "  df_selec[\"adedpe202006_logtype_enr\"]=df_selec[\"adedpe202006_logtype_enr\"].fillna(\"absence\")\n"
     ]
    }
   ],
   "source": [
    "# Variable \"adedpe202006_logtype_enr\" => Energies renouvelables présentes dans le bâtiment \n",
    "# Seulement 42 lignes pour lesquelles la variable est renseignée. \n",
    "# Le reste est Nan  mais on peut supposer que ce ne sont pas des vraies Nan \n",
    "# Ca peut plutôt signifier l'absence d'énergies renouvelables dans le bâtiment\n",
    "# donc remplacement des nan par \"absence\"\n",
    "\n",
    "df_selec[\"adedpe202006_logtype_enr\"]=df_selec[\"adedpe202006_logtype_enr\"].fillna(\"absence\")"
   ]
  },
  {
   "cell_type": "code",
   "execution_count": 10,
   "id": "313eccf8",
   "metadata": {},
   "outputs": [
    {
     "data": {
      "text/plain": [
       "array(['absence', 'solaire thermique (ecs)', 'solaire photovoltaique'],\n",
       "      dtype=object)"
      ]
     },
     "execution_count": 10,
     "metadata": {},
     "output_type": "execute_result"
    }
   ],
   "source": [
    "df_selec[\"adedpe202006_logtype_enr\"].unique()"
   ]
  },
  {
   "cell_type": "code",
   "execution_count": null,
   "id": "35e4ece1",
   "metadata": {},
   "outputs": [],
   "source": []
  },
  {
   "cell_type": "code",
   "execution_count": null,
   "id": "e69648f8",
   "metadata": {},
   "outputs": [],
   "source": []
  },
  {
   "cell_type": "code",
   "execution_count": 11,
   "id": "fa96380a",
   "metadata": {},
   "outputs": [
    {
     "data": {
      "text/plain": [
       "array(['Vente', \"Vente en l'état futur d'achèvement\"], dtype=object)"
      ]
     },
     "execution_count": 11,
     "metadata": {},
     "output_type": "execute_result"
    }
   ],
   "source": [
    "df_selec[\"libnatmut\"].unique()"
   ]
  },
  {
   "cell_type": "code",
   "execution_count": 12,
   "id": "68102e2c",
   "metadata": {},
   "outputs": [
    {
     "data": {
      "text/plain": [
       "array(['f', 't'], dtype=object)"
      ]
     },
     "execution_count": 12,
     "metadata": {},
     "output_type": "execute_result"
    }
   ],
   "source": [
    "df_selec[\"vefa\"].unique()"
   ]
  },
  {
   "cell_type": "code",
   "execution_count": 13,
   "id": "61001426",
   "metadata": {},
   "outputs": [],
   "source": [
    "#La variable \"nolot\" n'est plus utile. Elle a été fusionnée avec etaban dans etaban_lot dans df_final[\"nolot\"]\n",
    "\n",
    "df_selec=df_selec.drop(\"nolot\", axis=1)"
   ]
  },
  {
   "cell_type": "code",
   "execution_count": 14,
   "id": "151f4a11",
   "metadata": {},
   "outputs": [],
   "source": [
    "# Je supprime aussi la variable etaban_lot qui va poser problème au moment du get_dummies. \n",
    "\n",
    "df_selec=df_selec.drop(\"etaban_lot\", axis=1)"
   ]
  },
  {
   "cell_type": "code",
   "execution_count": 15,
   "id": "e6b67249",
   "metadata": {},
   "outputs": [
    {
     "data": {
      "text/plain": [
       "31433"
      ]
     },
     "execution_count": 15,
     "metadata": {},
     "output_type": "execute_result"
    }
   ],
   "source": [
    "df_selec[\"adedpe202006_logtype_periode_construction\"].isna().sum()"
   ]
  },
  {
   "cell_type": "code",
   "execution_count": 16,
   "id": "fa6ba1ae",
   "metadata": {},
   "outputs": [
    {
     "data": {
      "text/plain": [
       "array([nan, '<1948', '1989-1999', '2006-2012', '1970-1988', '1949-1970',\n",
       "       '>2012', '2000-2005', 'bad inf'], dtype=object)"
      ]
     },
     "execution_count": 16,
     "metadata": {},
     "output_type": "execute_result"
    }
   ],
   "source": [
    "df_selec[\"adedpe202006_logtype_periode_construction\"].unique()"
   ]
  },
  {
   "cell_type": "code",
   "execution_count": 17,
   "id": "804ad22f",
   "metadata": {},
   "outputs": [
    {
     "data": {
      "text/plain": [
       "21801"
      ]
     },
     "execution_count": 17,
     "metadata": {},
     "output_type": "execute_result"
    }
   ],
   "source": [
    "df_selec[\"cerffo2020_annee_construction\"].isna().sum()"
   ]
  },
  {
   "cell_type": "code",
   "execution_count": 18,
   "id": "cc25ada4",
   "metadata": {},
   "outputs": [
    {
     "data": {
      "text/plain": [
       "[NaN, '<1948', '>2000', '1948-1974', '1974-2000']\n",
       "Categories (4, object): ['<1948' < '1948-1974' < '1974-2000' < '>2000']"
      ]
     },
     "execution_count": 18,
     "metadata": {},
     "output_type": "execute_result"
    }
   ],
   "source": [
    "#Comme année de construction possède bcp moins de na, on ne va garder que cette variable mais on va la discrétiser\n",
    "df_selec[\"cerffo2020_annee_construction\"]=pd.cut(x=df_selec[\"cerffo2020_annee_construction\"], bins=[0,1948,1974,2000,2022], labels=[\"<1948\", \"1948-1974\", \"1974-2000\", \">2000\"])\n",
    "df_selec[\"cerffo2020_annee_construction\"].unique()"
   ]
  },
  {
   "cell_type": "code",
   "execution_count": 19,
   "id": "c27d8a75",
   "metadata": {},
   "outputs": [],
   "source": [
    "#suppression de la variable \" adedpe202006_logtype_periode_construction \"\n",
    "\n",
    "df_selec.drop(\"adedpe202006_logtype_periode_construction\", axis=1, inplace=True)"
   ]
  },
  {
   "cell_type": "code",
   "execution_count": 20,
   "id": "44c89ff6",
   "metadata": {},
   "outputs": [
    {
     "data": {
      "text/plain": [
       "0             NaN\n",
       "1             NaN\n",
       "2             NaN\n",
       "3             NaN\n",
       "4             NaN\n",
       "           ...   \n",
       "93906    (1:nord)\n",
       "93907    (1:nord)\n",
       "93908         NaN\n",
       "93909    (1:nord)\n",
       "93910         NaN\n",
       "Name: adedpe202006_logtype_baie_orientation, Length: 93911, dtype: object"
      ]
     },
     "execution_count": 20,
     "metadata": {},
     "output_type": "execute_result"
    }
   ],
   "source": [
    "df_selec[\"adedpe202006_logtype_baie_orientation\"]"
   ]
  },
  {
   "cell_type": "code",
   "execution_count": 21,
   "id": "de87649f",
   "metadata": {},
   "outputs": [],
   "source": [
    "# Simplification des valeurs de la variable \"adedpe202006_logtype_baie_orientation\" => \n",
    "# sa multitude de valeurs créé des différence de nombre de colonnes entre X train et X test après get dummies\n",
    "\n",
    "df_selec[\"adedpe202006_logtype_baie_orientation\"]=df_selec[\"adedpe202006_logtype_baie_orientation\"].astype(str)\n"
   ]
  },
  {
   "cell_type": "code",
   "execution_count": 22,
   "id": "9c61f644",
   "metadata": {},
   "outputs": [
    {
     "data": {
      "text/plain": [
       "0           nan\n",
       "1           nan\n",
       "2           nan\n",
       "3           nan\n",
       "4           nan\n",
       "          ...  \n",
       "93906    1:nord\n",
       "93907    1:nord\n",
       "93908       nan\n",
       "93909    1:nord\n",
       "93910       nan\n",
       "Name: adedpe202006_logtype_baie_orientation, Length: 93911, dtype: object"
      ]
     },
     "execution_count": 22,
     "metadata": {},
     "output_type": "execute_result"
    }
   ],
   "source": [
    "df_selec[\"adedpe202006_logtype_baie_orientation\"]=df_selec[\"adedpe202006_logtype_baie_orientation\"].apply(lambda x : x.strip(\"()\"))\n",
    "df_selec[\"adedpe202006_logtype_baie_orientation\"]"
   ]
  },
  {
   "cell_type": "code",
   "execution_count": 23,
   "id": "5ede4d97",
   "metadata": {},
   "outputs": [
    {
     "data": {
      "text/plain": [
       "array(['nan', '1:nord', '2:est,ouest', '1:est', '1:ouest', '2:nord,sud',\n",
       "       '3:nord,ouest,sud', '1:horizontale', '2:ouest,sud',\n",
       "       '3:est,ouest,sud', '1:sud', '4:est,nord,ouest,sud', '2:nord,ouest',\n",
       "       '2:est,sud', '3:est,nord,ouest', '2:est,nord',\n",
       "       '3:indetermine,nord,sud', '2:indetermine,ouest', '3:est,nord,sud',\n",
       "       '2:est,est ou ouest', '1:est ou ouest',\n",
       "       '5:est,indetermine,nord,ouest,sud', '3:est,horizontale,ouest',\n",
       "       '2:est,indetermine', '2:est ou ouest,sud',\n",
       "       '4:est,indetermine,ouest,sud', '4:horizontale,nord,ouest,sud',\n",
       "       '2:est ou ouest,nord', '2:indetermine,sud', '2:horizontale,ouest',\n",
       "       '3:horizontale,nord,sud', '2:est ou ouest,horizontale',\n",
       "       '3:est,est ou ouest,ouest', '5:est,horizontale,nord,ouest,sud',\n",
       "       '3:est,indetermine,sud', '3:est,est ou ouest,sud',\n",
       "       '3:est ou ouest,nord,sud', '3:horizontale,ouest,sud'], dtype=object)"
      ]
     },
     "execution_count": 23,
     "metadata": {},
     "output_type": "execute_result"
    }
   ],
   "source": [
    "df_selec[\"adedpe202006_logtype_baie_orientation\"].unique()"
   ]
  },
  {
   "cell_type": "code",
   "execution_count": 24,
   "id": "dbef7359",
   "metadata": {},
   "outputs": [
    {
     "data": {
      "text/plain": [
       "array(['n', 'nord', 'est,ouest', 'est', 'ouest', 'nord,sud',\n",
       "       'nord,ouest,sud', 'horizontale', 'ouest,sud', 'est,ouest,sud',\n",
       "       'sud', 'est,nord,ouest,sud', 'nord,ouest', 'est,sud',\n",
       "       'est,nord,ouest', 'est,nord', 'indetermine,nord,sud',\n",
       "       'indetermine,ouest', 'est,nord,sud', 'est,est ou ouest',\n",
       "       'est ou ouest', 'est,indetermine,nord,ouest,sud',\n",
       "       'est,horizontale,ouest', 'est,indetermine', 'est ou ouest,sud',\n",
       "       'est,indetermine,ouest,sud', 'horizontale,nord,ouest,sud',\n",
       "       'est ou ouest,nord', 'indetermine,sud', 'horizontale,ouest',\n",
       "       'horizontale,nord,sud', 'est ou ouest,horizontale',\n",
       "       'est,est ou ouest,ouest', 'est,horizontale,nord,ouest,sud',\n",
       "       'est,indetermine,sud', 'est,est ou ouest,sud',\n",
       "       'est ou ouest,nord,sud', 'horizontale,ouest,sud'], dtype=object)"
      ]
     },
     "execution_count": 24,
     "metadata": {},
     "output_type": "execute_result"
    }
   ],
   "source": [
    "df_selec[\"adedpe202006_logtype_baie_orientation\"]=df_selec[\"adedpe202006_logtype_baie_orientation\"].apply(lambda x : x[2:])\n",
    "df_selec[\"adedpe202006_logtype_baie_orientation\"].unique()"
   ]
  },
  {
   "cell_type": "code",
   "execution_count": 25,
   "id": "2a8ae528",
   "metadata": {},
   "outputs": [
    {
     "data": {
      "text/plain": [
       "array(['n', 'nord', 'est', 'ouest', 'sud', 'horizontale', 'indetermine',\n",
       "       'est ou ouest'], dtype=object)"
      ]
     },
     "execution_count": 25,
     "metadata": {},
     "output_type": "execute_result"
    }
   ],
   "source": [
    "df_selec[\"adedpe202006_logtype_baie_orientation\"]=df_selec[\"adedpe202006_logtype_baie_orientation\"].str.split(\",\",expand=True).stack().reset_index(drop=True)\n",
    "df_selec[\"adedpe202006_logtype_baie_orientation\"].unique()"
   ]
  },
  {
   "cell_type": "code",
   "execution_count": 26,
   "id": "802e27c5",
   "metadata": {},
   "outputs": [
    {
     "data": {
      "text/plain": [
       "0         nan\n",
       "1         nan\n",
       "2         nan\n",
       "3         nan\n",
       "4         nan\n",
       "         ... \n",
       "93906    nord\n",
       "93907    nord\n",
       "93908     sud\n",
       "93909    nord\n",
       "93910    nord\n",
       "Name: adedpe202006_logtype_baie_orientation, Length: 93911, dtype: object"
      ]
     },
     "execution_count": 26,
     "metadata": {},
     "output_type": "execute_result"
    }
   ],
   "source": [
    "df_selec[\"adedpe202006_logtype_baie_orientation\"]=df_selec[\"adedpe202006_logtype_baie_orientation\"].replace({\"n\": \"nan\"})\n",
    "df_selec[\"adedpe202006_logtype_baie_orientation\"]"
   ]
  },
  {
   "cell_type": "code",
   "execution_count": 27,
   "id": "3eb39c2c",
   "metadata": {},
   "outputs": [
    {
     "data": {
      "text/plain": [
       "array(['nan', 'nord', 'est', 'ouest', 'sud', 'horizontale', 'indetermine',\n",
       "       'est ou ouest'], dtype=object)"
      ]
     },
     "execution_count": 27,
     "metadata": {},
     "output_type": "execute_result"
    }
   ],
   "source": [
    "df_selec[\"adedpe202006_logtype_baie_orientation\"].unique()"
   ]
  },
  {
   "cell_type": "code",
   "execution_count": 28,
   "id": "90076220",
   "metadata": {},
   "outputs": [
    {
     "data": {
      "text/plain": [
       "nan             39890\n",
       "nord            31591\n",
       "est              8254\n",
       "sud              7701\n",
       "ouest            6315\n",
       "horizontale        83\n",
       "est ou ouest       44\n",
       "indetermine        33\n",
       "Name: adedpe202006_logtype_baie_orientation, dtype: int64"
      ]
     },
     "execution_count": 28,
     "metadata": {},
     "output_type": "execute_result"
    }
   ],
   "source": [
    "df_selec[\"adedpe202006_logtype_baie_orientation\"].value_counts()"
   ]
  },
  {
   "cell_type": "code",
   "execution_count": 29,
   "id": "34f51ff6",
   "metadata": {},
   "outputs": [],
   "source": [
    "# Suppression des valeurs difficiles à interpréter\n",
    "\n",
    "to_drop=df_selec[(df_selec[\"adedpe202006_logtype_baie_orientation\"]==\"horizontale\")|\n",
    "                     (df_selec[\"adedpe202006_logtype_baie_orientation\"]==\"est ou ouest\")|\n",
    "                     (df_selec[\"adedpe202006_logtype_baie_orientation\"]==\"indetermine\")].index\n",
    "  \n",
    "df_selec.drop(to_drop, inplace=True)"
   ]
  },
  {
   "cell_type": "code",
   "execution_count": 30,
   "id": "8b8e6792",
   "metadata": {},
   "outputs": [
    {
     "data": {
      "text/plain": [
       "array(['nan', 'nord', 'est', 'ouest', 'sud'], dtype=object)"
      ]
     },
     "execution_count": 30,
     "metadata": {},
     "output_type": "execute_result"
    }
   ],
   "source": [
    "df_selec[\"adedpe202006_logtype_baie_orientation\"].unique()"
   ]
  },
  {
   "cell_type": "code",
   "execution_count": 31,
   "id": "e775acfc",
   "metadata": {
    "scrolled": true
   },
   "outputs": [
    {
     "data": {
      "text/plain": [
       "generateurs a effet joule                          30808\n",
       "chaudiere gaz standard                             18857\n",
       "chaudiere gaz basse temperature                     2491\n",
       "reseau de chaleur                                   2202\n",
       "chaudiere gaz condensation                          2135\n",
       "chaudiere fioul standard                            1369\n",
       "chaudiere electrique                                 769\n",
       "pac air/air                                          712\n",
       "chaudiere energie indetermine standard               613\n",
       "pac indetermine                                      569\n",
       "chaudiere energie indetermine indetermine            183\n",
       "chaudiere fioul basse temperature                    153\n",
       "radiateurs gaz                                       145\n",
       "chauffage autre indetermine                           96\n",
       "chaudiere energie indetermine basse temperature       91\n",
       "pac air/eau                                           73\n",
       "chaudiere energie indetermine condensation            42\n",
       "chaudiere fioul condensation                          34\n",
       "chaudiere bois                                        10\n",
       "pac eau/eau                                            8\n",
       "chauffage solaire                                      8\n",
       "poele ou insert bois                                   8\n",
       "chaudiere gpl/butane/propane standard                  4\n",
       "poele ou insert fioul                                  4\n",
       "chaudiere charbon standard                             3\n",
       "pac geothermique                                       1\n",
       "Name: adedpe202006_logtype_ch_gen_lib_princ, dtype: int64"
      ]
     },
     "execution_count": 31,
     "metadata": {},
     "output_type": "execute_result"
    }
   ],
   "source": [
    "# Simplification des valeurs de la variable \"adedpe202006_logtype_ch_gen_lib_princ\" => \n",
    "# sa multitude de valeurs créé des différence de nombre de colonnes entre X train et X test après get dummies\n",
    "\n",
    "df_selec[\"adedpe202006_logtype_ch_gen_lib_princ\"].value_counts()"
   ]
  },
  {
   "cell_type": "code",
   "execution_count": 32,
   "id": "03da464f",
   "metadata": {},
   "outputs": [
    {
     "data": {
      "text/plain": [
       "generateurs a effet joule                          30808\n",
       "chaudiere gaz standard                             18857\n",
       "chaudiere gaz basse temperature                     2491\n",
       "reseau de chaleur                                   2202\n",
       "chaudiere gaz condensation                          2135\n",
       "chaudiere fioul standard                            1369\n",
       "chaudiere electrique                                 769\n",
       "pac air/air                                          712\n",
       "chaudiere energie indetermine standard               613\n",
       "pac indetermine                                      569\n",
       "chaudiere energie indetermine indetermine            183\n",
       "chaudiere fioul basse temperature                    153\n",
       "radiateurs gaz                                       145\n",
       "chauffage autre indetermine                           96\n",
       "chaudiere energie indetermine basse temperature       91\n",
       "pac air/eau                                           73\n",
       "autres                                                46\n",
       "chaudiere energie indetermine condensation            42\n",
       "chaudiere fioul condensation                          34\n",
       "Name: adedpe202006_logtype_ch_gen_lib_princ, dtype: int64"
      ]
     },
     "execution_count": 32,
     "metadata": {},
     "output_type": "execute_result"
    }
   ],
   "source": [
    "# Regroupement des occurences <=10\n",
    "\n",
    "liste_equipement =[\"chaudiere bois\", \n",
    "                   \"pac eau/eau\", \n",
    "                   \"chauffage solaire\",\n",
    "                   \"poele ou insert bois\", \n",
    "                   \"chaudiere gpl/butane/propane standard\",\n",
    "                   \"poele ou insert fioul\",\n",
    "                   \"chaudiere charbon standard\",\n",
    "                   \"pac geothermique\"]\n",
    "\n",
    "def filtre_autre_equipement (x) :\n",
    "    if x in  liste_equipement :\n",
    "        return \"autres\"\n",
    "    else :\n",
    "        return x\n",
    "        \n",
    "df_selec[\"adedpe202006_logtype_ch_gen_lib_princ\"]=df_selec[\"adedpe202006_logtype_ch_gen_lib_princ\"].apply(filtre_autre_equipement)\n",
    "df_selec[\"adedpe202006_logtype_ch_gen_lib_princ\"].value_counts()"
   ]
  },
  {
   "cell_type": "code",
   "execution_count": 33,
   "id": "73193069",
   "metadata": {},
   "outputs": [
    {
     "data": {
      "text/plain": [
       "electricite                                                    36275\n",
       "gaz                                                            20833\n",
       "reseau de chaleur                                               1699\n",
       "fioul                                                           1053\n",
       "ecs thermodynamique electrique(pac ou ballon)                    218\n",
       "ecs thermodynamique electrique(pac ou ballon) + gaz               75\n",
       "bois                                                              59\n",
       "bois + reseau de chaleur                                          32\n",
       "bois + gaz                                                        16\n",
       "electricite + gaz                                                 13\n",
       "ecs thermodynamique electrique(pac ou ballon) + fioul              7\n",
       "autre + electricite                                                4\n",
       "gaz + reseau de chaleur                                            4\n",
       "gpl/butane/propane                                                 4\n",
       "charbon + gaz                                                      3\n",
       "fioul + reseau de chaleur                                          3\n",
       "ecs thermodynamique electrique(pac ou ballon) + electricite        1\n",
       "Name: adedpe202006_logtype_ecs_type_ener, dtype: int64"
      ]
     },
     "execution_count": 33,
     "metadata": {},
     "output_type": "execute_result"
    }
   ],
   "source": [
    "# Simplification des valeurs de la variable \"adedpe202006_logtype_ecs_type_ener\" => \n",
    "# sa multitude de valeurs créé des différences de nombre de colonnes entre X train et X test après get dummies.\n",
    "df_selec[\"adedpe202006_logtype_ecs_type_ener\"].value_counts()"
   ]
  },
  {
   "cell_type": "code",
   "execution_count": 34,
   "id": "2ae2de07",
   "metadata": {},
   "outputs": [
    {
     "data": {
      "text/plain": [
       "electricite          36275\n",
       "gaz                  20833\n",
       "reseau de chaleur     1699\n",
       "fioul                 1053\n",
       "autres                 439\n",
       "Name: adedpe202006_logtype_ecs_type_ener, dtype: int64"
      ]
     },
     "execution_count": 34,
     "metadata": {},
     "output_type": "execute_result"
    }
   ],
   "source": [
    "# Regroupement des occurences <=10\n",
    "\n",
    "liste_equipement =[\"ecs thermodynamique electrique(pac ou ballon)\",\n",
    "                    \"ecs thermodynamique electrique(pac ou ballon) + gaz\",\n",
    "                    \"bois\",\n",
    "                    \"bois + reseau de chaleur\",\n",
    "                    \"bois + gaz\",\n",
    "                    \"electricite + gaz\",\n",
    "                    \"ecs thermodynamique electrique(pac ou ballon) + fioul\",\n",
    "                    \"autre + electricite\",\n",
    "                    \"gaz + reseau de chaleur\",\n",
    "                    \"gpl/butane/propane\",\n",
    "                    \"charbon + gaz\",\n",
    "                    \"fioul + reseau de chaleur\",\n",
    "                    \"ecs thermodynamique electrique(pac ou ballon) + electricite\"]\n",
    "\n",
    "def filtre_autre_equipement (x) :\n",
    "    if x in  liste_equipement :\n",
    "        return \"autres\"\n",
    "    else :\n",
    "        return x\n",
    "        \n",
    "df_selec[\"adedpe202006_logtype_ecs_type_ener\"]=df_selec[\"adedpe202006_logtype_ecs_type_ener\"].apply(filtre_autre_equipement)\n",
    "df_selec[\"adedpe202006_logtype_ecs_type_ener\"].value_counts()\n"
   ]
  },
  {
   "cell_type": "code",
   "execution_count": null,
   "id": "e5010bdf",
   "metadata": {},
   "outputs": [],
   "source": []
  },
  {
   "cell_type": "code",
   "execution_count": 35,
   "id": "f0b38714",
   "metadata": {},
   "outputs": [
    {
     "data": {
      "text/plain": [
       "0               NaN\n",
       "1        {immeuble}\n",
       "2        {pavillon}\n",
       "3        {immeuble}\n",
       "4        {immeuble}\n",
       "            ...    \n",
       "93906           NaN\n",
       "93907    {immeuble}\n",
       "93908    {immeuble}\n",
       "93909    {immeuble}\n",
       "93910    {immeuble}\n",
       "Name: arcthd2021t1_l_bat_type, Length: 93751, dtype: object"
      ]
     },
     "execution_count": 35,
     "metadata": {},
     "output_type": "execute_result"
    }
   ],
   "source": [
    "# Simplification des valeurs de la variable \"arcthd2021t1_l_bat_type\" => \n",
    "# sa multitude de valeurs créé des différence de nombre de colonnes entre X train et X test après get dummies\n",
    "\n",
    "df_selec[\"arcthd2021t1_l_bat_type\"]\n",
    "\n"
   ]
  },
  {
   "cell_type": "code",
   "execution_count": 36,
   "id": "995f44f0",
   "metadata": {},
   "outputs": [
    {
     "data": {
      "text/plain": [
       "0             nan\n",
       "1        immeuble\n",
       "2        pavillon\n",
       "3        immeuble\n",
       "4        immeuble\n",
       "           ...   \n",
       "93906    immeuble\n",
       "93907    immeuble\n",
       "93908    immeuble\n",
       "93909    immeuble\n",
       "93910    immeuble\n",
       "Name: arcthd2021t1_l_bat_type, Length: 93751, dtype: object"
      ]
     },
     "execution_count": 36,
     "metadata": {},
     "output_type": "execute_result"
    }
   ],
   "source": [
    "df_selec[\"arcthd2021t1_l_bat_type\"]=df_selec[\"arcthd2021t1_l_bat_type\"].astype(str)\n",
    "df_selec[\"arcthd2021t1_l_bat_type\"]=df_selec[\"arcthd2021t1_l_bat_type\"].apply(lambda x : x.strip(\"{}\"))\n",
    "df_selec[\"arcthd2021t1_l_bat_type\"]=df_selec[\"arcthd2021t1_l_bat_type\"].str.split(\",\",expand=True).stack().reset_index(drop=True)\n",
    "df_selec[\"arcthd2021t1_l_bat_type\"]"
   ]
  },
  {
   "cell_type": "code",
   "execution_count": 37,
   "id": "09939b42",
   "metadata": {},
   "outputs": [
    {
     "data": {
      "text/plain": [
       "immeuble    63129\n",
       "nan         22431\n",
       "pavillon     8191\n",
       "Name: arcthd2021t1_l_bat_type, dtype: int64"
      ]
     },
     "execution_count": 37,
     "metadata": {},
     "output_type": "execute_result"
    }
   ],
   "source": [
    "df_selec[\"arcthd2021t1_l_bat_type\"].value_counts()"
   ]
  },
  {
   "cell_type": "code",
   "execution_count": 38,
   "id": "eec58c3b",
   "metadata": {},
   "outputs": [
    {
     "data": {
      "text/plain": [
       "93751"
      ]
     },
     "execution_count": 38,
     "metadata": {},
     "output_type": "execute_result"
    }
   ],
   "source": [
    "df_selec[\"geoarg2020_alea\"].isna().sum()"
   ]
  },
  {
   "cell_type": "code",
   "execution_count": 39,
   "id": "7246ea25",
   "metadata": {},
   "outputs": [],
   "source": [
    "#La variable \"geoarg2020_alea\" est composée à 100% de Nan\n",
    "# Aucun bâtiment en risque argile à Paris : https://assistance.brgm.fr/georisques/pourquoi-ny-til-pas-cartographie-lexposition-au-risque-retrait-gonflement-argiles-ville\n",
    "#Je supprime\n",
    "df_selec=df_selec.drop(\"geoarg2020_alea\", axis=1)"
   ]
  },
  {
   "cell_type": "code",
   "execution_count": 40,
   "id": "2adca82f",
   "metadata": {},
   "outputs": [
    {
     "data": {
      "text/plain": [
       "individuel    39353\n",
       "collectif     11177\n",
       "Name: adedpe202006_logtype_ch_type_inst, dtype: int64"
      ]
     },
     "execution_count": 40,
     "metadata": {},
     "output_type": "execute_result"
    }
   ],
   "source": [
    "df_selec[\"adedpe202006_logtype_ch_type_inst\"].value_counts()"
   ]
  },
  {
   "cell_type": "code",
   "execution_count": 41,
   "id": "ad50b343",
   "metadata": {},
   "outputs": [
    {
     "data": {
      "text/plain": [
       "43221"
      ]
     },
     "execution_count": 41,
     "metadata": {},
     "output_type": "execute_result"
    }
   ],
   "source": [
    "df_selec[\"adedpe202006_logtype_ch_type_inst\"].isna().sum()"
   ]
  },
  {
   "cell_type": "code",
   "execution_count": null,
   "id": "9a693651",
   "metadata": {},
   "outputs": [],
   "source": []
  },
  {
   "cell_type": "code",
   "execution_count": 42,
   "id": "a51ac713",
   "metadata": {},
   "outputs": [
    {
     "data": {
      "text/plain": [
       "ITI          49829\n",
       "non isole     7964\n",
       "isole          531\n",
       "ITE            282\n",
       "ITI+ITE         96\n",
       "ITR             78\n",
       "ITI+ITR         19\n",
       "ITE+ITR          4\n",
       "Name: adedpe202006_logtype_mur_pos_isol_ext, dtype: int64"
      ]
     },
     "execution_count": 42,
     "metadata": {},
     "output_type": "execute_result"
    }
   ],
   "source": [
    "#Analyse de la variable \"adedpe202006_logtype_mur_pos_isol_ext\" =>(dpe) Type d'isolation des murs\n",
    "df_selec[\"adedpe202006_logtype_mur_pos_isol_ext\"].value_counts()"
   ]
  },
  {
   "cell_type": "code",
   "execution_count": 43,
   "id": "3f649996",
   "metadata": {},
   "outputs": [
    {
     "data": {
      "text/plain": [
       "34948"
      ]
     },
     "execution_count": 43,
     "metadata": {},
     "output_type": "execute_result"
    }
   ],
   "source": [
    "df_selec[\"adedpe202006_logtype_mur_pos_isol_ext\"].isna().sum()"
   ]
  },
  {
   "cell_type": "code",
   "execution_count": 44,
   "id": "ba95bdac",
   "metadata": {},
   "outputs": [],
   "source": [
    "# remlacement des nan par Unknwon\n",
    "df_selec[\"adedpe202006_logtype_mur_pos_isol_ext\"]=df_selec[\"adedpe202006_logtype_mur_pos_isol_ext\"].fillna(\"Unknown\")"
   ]
  },
  {
   "cell_type": "code",
   "execution_count": 45,
   "id": "1b71f82e",
   "metadata": {},
   "outputs": [],
   "source": [
    "def filtre(x):\n",
    "    if x==\"ITI\" :\n",
    "        return \"ITI\"\n",
    "    elif x==\"ITE\" :\n",
    "        return \"ITE\"\n",
    "    elif x==\"ITR\" :\n",
    "        return \"ITR\"\n",
    "    elif \"Unknown\" in x :\n",
    "        return \"Unknown\"\n",
    "    else :\n",
    "        return \"Autres\"\n",
    "    \n"
   ]
  },
  {
   "cell_type": "code",
   "execution_count": 46,
   "id": "a9928170",
   "metadata": {},
   "outputs": [],
   "source": [
    "df_selec[\"adedpe202006_logtype_mur_pos_isol_ext\"]=df_selec[\"adedpe202006_logtype_mur_pos_isol_ext\"].apply(filtre)"
   ]
  },
  {
   "cell_type": "code",
   "execution_count": 47,
   "id": "95541bb4",
   "metadata": {},
   "outputs": [
    {
     "data": {
      "text/plain": [
       "ITI        49829\n",
       "Unknown    34948\n",
       "Autres      8614\n",
       "ITE          282\n",
       "ITR           78\n",
       "Name: adedpe202006_logtype_mur_pos_isol_ext, dtype: int64"
      ]
     },
     "execution_count": 47,
     "metadata": {},
     "output_type": "execute_result"
    }
   ],
   "source": [
    "df_selec[\"adedpe202006_logtype_mur_pos_isol_ext\"].value_counts()"
   ]
  },
  {
   "cell_type": "code",
   "execution_count": 48,
   "id": "d98531aa",
   "metadata": {},
   "outputs": [
    {
     "data": {
      "text/plain": [
       "murs en pierre de taille et moellons avec remplissage tout venant     24151\n",
       "murs en briques pleines simples                                        8117\n",
       "murs en béton banché                                                   7770\n",
       "murs en pierre de taille et moellons constitué d'un seul matériaux     4005\n",
       "murs en blocs de béton pleins                                          2852\n",
       "murs en pierre                                                         1938\n",
       "murs en blocs de béton creux                                           1120\n",
       "murs en pan de bois avec remplissage tout venant                        929\n",
       "murs en pan de bois sans remplissage tout venant                        883\n",
       "murs en béton de mâchefer                                               817\n",
       "murs en béton                                                           504\n",
       "murs en briques creuses                                                 370\n",
       "murs en briques                                                         277\n",
       "cloison de plâtre                                                       252\n",
       "murs en briques pleines doubles avec lame d'air                         118\n",
       "béton cellulaire                                                         66\n",
       "murs en pisé ou béton de terre stabilisé (à partir d'argile crue)        27\n",
       "monomur terre cuite                                                       3\n",
       "Name: adedpe202006_logtype_mur_mat_ext, dtype: int64"
      ]
     },
     "execution_count": 48,
     "metadata": {},
     "output_type": "execute_result"
    }
   ],
   "source": [
    "#Analyse de la variable \"adedpe202006_logtype_mur_mat_ext\" =>(dpe) Matériaux de la structure des murs extérieurs\n",
    "\n",
    "df_selec[\"adedpe202006_logtype_mur_mat_ext\"].value_counts()"
   ]
  },
  {
   "cell_type": "code",
   "execution_count": 49,
   "id": "a4defeee",
   "metadata": {},
   "outputs": [
    {
     "data": {
      "text/plain": [
       "39552"
      ]
     },
     "execution_count": 49,
     "metadata": {},
     "output_type": "execute_result"
    }
   ],
   "source": [
    "df_selec[\"adedpe202006_logtype_mur_mat_ext\"].isna().sum()"
   ]
  },
  {
   "cell_type": "code",
   "execution_count": 50,
   "id": "11048974",
   "metadata": {},
   "outputs": [],
   "source": [
    "# On  remplace les Nan par Unknown\n",
    "df_selec[\"adedpe202006_logtype_mur_mat_ext\"]=df_selec[\"adedpe202006_logtype_mur_mat_ext\"].fillna(\"Unknown\")"
   ]
  },
  {
   "cell_type": "code",
   "execution_count": 51,
   "id": "c71641e3",
   "metadata": {},
   "outputs": [],
   "source": [
    "def filtre(x) :\n",
    "    if \"pierre\" in x :\n",
    "        return \"Mur en pierre\"\n",
    "    elif \"briques\" in x :\n",
    "        return \"Mur en brique\"\n",
    "    elif \"béton\" in x :\n",
    "        return \"Mur en béton\"\n",
    "    elif \"bois\" in x :\n",
    "        return \"Mur en pan de bois\"\n",
    "    elif \"plâtre\" in x :\n",
    "        return \"Mur en cloison de plâtre\"\n",
    "    else :\n",
    "        return \"Indeterminé\""
   ]
  },
  {
   "cell_type": "code",
   "execution_count": 52,
   "id": "a4c59613",
   "metadata": {},
   "outputs": [],
   "source": [
    "df_selec[\"adedpe202006_logtype_mur_mat_ext\"]=df_selec[\"adedpe202006_logtype_mur_mat_ext\"].apply(filtre)"
   ]
  },
  {
   "cell_type": "code",
   "execution_count": 53,
   "id": "7081fc21",
   "metadata": {},
   "outputs": [
    {
     "data": {
      "text/plain": [
       "Indeterminé                 39555\n",
       "Mur en pierre               30094\n",
       "Mur en béton                13156\n",
       "Mur en brique                8882\n",
       "Mur en pan de bois           1812\n",
       "Mur en cloison de plâtre      252\n",
       "Name: adedpe202006_logtype_mur_mat_ext, dtype: int64"
      ]
     },
     "execution_count": 53,
     "metadata": {},
     "output_type": "execute_result"
    }
   ],
   "source": [
    "df_selec[\"adedpe202006_logtype_mur_mat_ext\"].value_counts()"
   ]
  },
  {
   "cell_type": "code",
   "execution_count": null,
   "id": "0eccd5ef",
   "metadata": {},
   "outputs": [],
   "source": []
  },
  {
   "cell_type": "code",
   "execution_count": 54,
   "id": "1a9f8ea2",
   "metadata": {},
   "outputs": [],
   "source": [
    "float_col=df_selec.loc[:, df_selec.dtypes == np.float64].columns.tolist()\n",
    "int_col=df_selec.loc[:, df_selec.dtypes == np.int64].columns.tolist()\n",
    "numeric_columns=float_col+int_col\n",
    "object_columns=df_selec.loc[:, df_selec.dtypes == \"object\"].columns.tolist()\n"
   ]
  },
  {
   "cell_type": "code",
   "execution_count": 55,
   "id": "054dbeb9",
   "metadata": {},
   "outputs": [
    {
     "data": {
      "text/plain": [
       "['valeurfonc',\n",
       " 'scarrez',\n",
       " 'anarnc202012_nb_log',\n",
       " 'anarnc202012_nb_lot_garpark',\n",
       " 'anarnc202012_nb_lot_tertiaire',\n",
       " 'anarnc202012_nb_lot_tot',\n",
       " 'adedpe202006_logtype_perc_surf_vitree_ext',\n",
       " 'adedpe202006_logtype_presence_balcon',\n",
       " 'adedpe202006_logtype_presence_climatisation',\n",
       " 'ancqpv201410_is_qpv',\n",
       " 'igntop202103_bat_hauteur',\n",
       " 'mcumer202007_dist500min',\n",
       " 'mcumer202007_is_mer',\n",
       " 'adedpe202006_logtype_s_hab',\n",
       " 'idmutation',\n",
       " 'qty_of_mut',\n",
       " 'y',\n",
       " 'idnatmut',\n",
       " 'anneemut',\n",
       " 'moismut',\n",
       " 'nblot',\n",
       " 'nbcomm',\n",
       " 'l_codinsee',\n",
       " 'nblocapt',\n",
       " 'nblocdep',\n",
       " 'nbapt2pp',\n",
       " 'nbapt3pp',\n",
       " 'sbati',\n",
       " 'sbatapt',\n",
       " 'sbatact',\n",
       " 'sapt2pp',\n",
       " 'sapt3pp',\n",
       " 'cerffo2020_nb_log']"
      ]
     },
     "execution_count": 55,
     "metadata": {},
     "output_type": "execute_result"
    }
   ],
   "source": [
    "numeric_columns"
   ]
  },
  {
   "cell_type": "code",
   "execution_count": 56,
   "id": "70ae0505",
   "metadata": {},
   "outputs": [
    {
     "data": {
      "text/plain": [
       "['datemut',\n",
       " 'libnatmut',\n",
       " 'vefa',\n",
       " 'etaban202111_label',\n",
       " 'mcumer202007_id',\n",
       " 'adedpe202006_logtype_baie_orientation',\n",
       " 'adedpe202006_logtype_baie_type_vitrage',\n",
       " 'adedpe202006_logtype_ch_gen_lib_princ',\n",
       " 'adedpe202006_mean_class_conso_ener',\n",
       " 'adedpe202006_mean_class_estim_ges',\n",
       " 'adedpe202006_logtype_traversant',\n",
       " 'adedpe202006_logtype_ecs_type_ener',\n",
       " 'adedpe202006_logtype_enr',\n",
       " 'adedpe202006_logtype_ph_pos_isol',\n",
       " 'adedpe202006_logtype_type_batiment',\n",
       " 'arcthd2021t1_l_bat_type',\n",
       " 'cerffo2020_usage_niveau_1_txt',\n",
       " 'georad2020_alea',\n",
       " 'insbpe2019_l_type_equipement',\n",
       " 'adedpe202006_logtype_ch_type_inst',\n",
       " 'adedpe202006_logtype_ecs_type_inst',\n",
       " 'adedpe202006_logtype_mur_ep_mat_ext',\n",
       " 'adedpe202006_logtype_mur_mat_ext',\n",
       " 'adedpe202006_logtype_mur_pos_isol_ext']"
      ]
     },
     "execution_count": 56,
     "metadata": {},
     "output_type": "execute_result"
    }
   ],
   "source": [
    "object_columns"
   ]
  },
  {
   "cell_type": "code",
   "execution_count": 57,
   "id": "e345bb52",
   "metadata": {},
   "outputs": [
    {
     "name": "stdout",
     "output_type": "stream",
     "text": [
      "2314\n",
      "2\n",
      "2\n",
      "26298\n",
      "1767\n",
      "5\n",
      "4\n",
      "19\n",
      "8\n",
      "8\n",
      "9\n",
      "5\n",
      "3\n",
      "5\n",
      "5\n",
      "3\n",
      "5\n",
      "1\n",
      "4123\n",
      "2\n",
      "2\n",
      "31\n",
      "6\n",
      "5\n"
     ]
    }
   ],
   "source": [
    "for col in df_selec[object_columns]:\n",
    "    print(df_selec[col].nunique())"
   ]
  },
  {
   "cell_type": "code",
   "execution_count": 58,
   "id": "ad36cff2",
   "metadata": {},
   "outputs": [
    {
     "data": {
      "text/plain": [
       "list"
      ]
     },
     "execution_count": 58,
     "metadata": {},
     "output_type": "execute_result"
    }
   ],
   "source": [
    "type(numeric_columns)"
   ]
  },
  {
   "cell_type": "code",
   "execution_count": 59,
   "id": "ea1894e0",
   "metadata": {},
   "outputs": [
    {
     "name": "stdout",
     "output_type": "stream",
     "text": [
      "vefa etaban202111_label insbpe2019_l_type_equipement\n"
     ]
    }
   ],
   "source": [
    "#A quoi correspondent les colonnes qui ont 26298, 1767 et 4123 valeurs uniques  ?\n",
    "print(object_columns[2],object_columns[3], object_columns[-6]) \n"
   ]
  },
  {
   "cell_type": "code",
   "execution_count": 60,
   "id": "3ca47ea9",
   "metadata": {},
   "outputs": [
    {
     "data": {
      "text/plain": [
       "0           33 Rue de l’Arbre Sec 75001 Paris\n",
       "1                7 Rue de Reuilly 75012 Paris\n",
       "2                19 Rue Edgar Poë 75019 Paris\n",
       "3                 19 Villa Dupont 75016 Paris\n",
       "4                    50 Rue Ramus 75020 Paris\n",
       "                         ...                 \n",
       "93906         19 Avenue Mac-Mahon 75017 Paris\n",
       "93907     14 Rue Bochart de Saron 75009 Paris\n",
       "93908             66 Rue Taitbout 75009 Paris\n",
       "93909    23 Rue de Constantinople 75008 Paris\n",
       "93910       21 Rue de Tocqueville 75017 Paris\n",
       "Name: etaban202111_label, Length: 93751, dtype: object"
      ]
     },
     "execution_count": 60,
     "metadata": {},
     "output_type": "execute_result"
    }
   ],
   "source": [
    "df_selec[\"etaban202111_label\"]"
   ]
  },
  {
   "cell_type": "code",
   "execution_count": 61,
   "id": "91517b09",
   "metadata": {},
   "outputs": [],
   "source": [
    "#On supprime la colonne etaban202111_label\" => on travaillera uniquemet avec le code etaban_lot si besoin\n",
    "object_columns.remove(\"etaban202111_label\")\n",
    "df_selec=df_selec.drop(\"etaban202111_label\", axis=1)\n"
   ]
  },
  {
   "cell_type": "code",
   "execution_count": 62,
   "id": "f43c0922",
   "metadata": {},
   "outputs": [
    {
     "data": {
      "text/plain": [
       "0               NaN\n",
       "1        PA00086535\n",
       "2        PA00086770\n",
       "3        PA00086708\n",
       "4        PA00086781\n",
       "            ...    \n",
       "93906    PA00086719\n",
       "93907    PA00088985\n",
       "93908    PA00088967\n",
       "93909    PA00086725\n",
       "93910    PA00088850\n",
       "Name: mcumer202007_id, Length: 93751, dtype: object"
      ]
     },
     "execution_count": 62,
     "metadata": {},
     "output_type": "execute_result"
    }
   ],
   "source": [
    "df_selec[\"mcumer202007_id\"]"
   ]
  },
  {
   "cell_type": "code",
   "execution_count": 63,
   "id": "50f1e2a9",
   "metadata": {},
   "outputs": [
    {
     "data": {
      "text/plain": [
       "1767"
      ]
     },
     "execution_count": 63,
     "metadata": {},
     "output_type": "execute_result"
    }
   ],
   "source": [
    "df_selec[\"mcumer202007_id\"].nunique()"
   ]
  },
  {
   "cell_type": "code",
   "execution_count": 64,
   "id": "1b01c15f",
   "metadata": {},
   "outputs": [
    {
     "data": {
      "text/plain": [
       "5781"
      ]
     },
     "execution_count": 64,
     "metadata": {},
     "output_type": "execute_result"
    }
   ],
   "source": [
    "df_final[\"mcumer202007_id\"].isna().sum()"
   ]
  },
  {
   "cell_type": "code",
   "execution_count": 65,
   "id": "2386a508",
   "metadata": {},
   "outputs": [
    {
     "data": {
      "text/plain": [
       "count          88130\n",
       "unique          1769\n",
       "top       PA75130002\n",
       "freq            1073\n",
       "Name: mcumer202007_id, dtype: object"
      ]
     },
     "execution_count": 65,
     "metadata": {},
     "output_type": "execute_result"
    }
   ],
   "source": [
    "df_final[\"mcumer202007_id\"].describe()"
   ]
  },
  {
   "cell_type": "code",
   "execution_count": 66,
   "id": "09e21745",
   "metadata": {},
   "outputs": [],
   "source": [
    "# 88130 des mutations ont un identifiant mcumer202007_id. Le reste ce sont des nan. \n",
    "# Si cet identifiant veut dire que le bâtiment est dans un périmètre ABF monument historique, autant prendre la variable mcumer202007_is_mer. \n",
    "# Si cet identifiant veut dire que le bâtiment est classé monument historique => alors pas nécessaire de le garder pq ils le sont tous dans la mesure où ils ont tous un identifiant"
   ]
  },
  {
   "cell_type": "code",
   "execution_count": 67,
   "id": "971856f1",
   "metadata": {},
   "outputs": [],
   "source": [
    "# Décision prise de supprimer les variables \"mcumer202007_id\" et \"mcumer202007_dist500min\" pour ne garder que \"mcumer202007_is_mer\"\n",
    "\n",
    "object_columns.remove(\"mcumer202007_id\")\n",
    "numeric_columns.remove(\"mcumer202007_dist500min\")\n",
    "\n",
    "df_selec=df_selec.drop([\"mcumer202007_id\",\"mcumer202007_dist500min\"], axis=1)\n",
    "\n",
    "\n"
   ]
  },
  {
   "cell_type": "code",
   "execution_count": 68,
   "id": "4157616e",
   "metadata": {},
   "outputs": [
    {
     "data": {
      "text/plain": [
       "4123"
      ]
     },
     "execution_count": 68,
     "metadata": {},
     "output_type": "execute_result"
    }
   ],
   "source": [
    "df_selec[\"insbpe2019_l_type_equipement\"].nunique()"
   ]
  },
  {
   "cell_type": "code",
   "execution_count": 69,
   "id": "09b11ce8",
   "metadata": {},
   "outputs": [
    {
     "data": {
      "text/plain": [
       "0                                                      nan\n",
       "1                                                      nan\n",
       "2                                                      nan\n",
       "3                                                      nan\n",
       "4                                       1:Plâtrier peintre\n",
       "                               ...                        \n",
       "93906                                                  nan\n",
       "93907    2:Agence immobilière,Restaurant - Restauration...\n",
       "93908                                                  nan\n",
       "93909                                                  nan\n",
       "93910    2:Magasin de vêtements,Restaurant - Restaurati...\n",
       "Name: insbpe2019_l_type_equipement, Length: 93751, dtype: object"
      ]
     },
     "execution_count": 69,
     "metadata": {},
     "output_type": "execute_result"
    }
   ],
   "source": [
    "df_selec[\"insbpe2019_l_type_equipement\"]=df_selec[\"insbpe2019_l_type_equipement\"].astype(str)\n",
    "df_selec[\"insbpe2019_l_type_equipement\"]=df_selec[\"insbpe2019_l_type_equipement\"].apply(lambda x : x.strip(\"()\"))\n",
    "df_selec[\"insbpe2019_l_type_equipement\"]"
   ]
  },
  {
   "cell_type": "code",
   "execution_count": 70,
   "id": "94bac429",
   "metadata": {},
   "outputs": [
    {
     "data": {
      "text/plain": [
       "0                                                        n\n",
       "1                                                        n\n",
       "2                                                        n\n",
       "3                                                        n\n",
       "4                                         Plâtrier peintre\n",
       "                               ...                        \n",
       "93906                                                    n\n",
       "93907    Agence immobilière,Restaurant - Restauration r...\n",
       "93908                                                    n\n",
       "93909                                                    n\n",
       "93910    Magasin de vêtements,Restaurant - Restauration...\n",
       "Name: insbpe2019_l_type_equipement, Length: 93751, dtype: object"
      ]
     },
     "execution_count": 70,
     "metadata": {},
     "output_type": "execute_result"
    }
   ],
   "source": [
    "df_selec[\"insbpe2019_l_type_equipement\"]=df_selec[\"insbpe2019_l_type_equipement\"].apply(lambda x : x[2:])\n",
    "df_selec[\"insbpe2019_l_type_equipement\"]"
   ]
  },
  {
   "cell_type": "code",
   "execution_count": 71,
   "id": "814a9395",
   "metadata": {},
   "outputs": [
    {
     "data": {
      "text/plain": [
       "0                                       n\n",
       "1                                       n\n",
       "2                                       n\n",
       "3                                       n\n",
       "4                        Plâtrier peintre\n",
       "                       ...               \n",
       "93906                  Agence immobilière\n",
       "93907        Librairie papeterie journaux\n",
       "93908    Location auto-utilitaires légers\n",
       "93909                           Pharmacie\n",
       "93910                                   n\n",
       "Name: insbpe2019_l_type_equipement, Length: 93751, dtype: object"
      ]
     },
     "execution_count": 71,
     "metadata": {},
     "output_type": "execute_result"
    }
   ],
   "source": [
    "df_selec[\"insbpe2019_l_type_equipement\"]=df_selec[\"insbpe2019_l_type_equipement\"].str.split(\",\",expand=True).stack().reset_index(drop=True)\n",
    "df_selec[\"insbpe2019_l_type_equipement\"]"
   ]
  },
  {
   "cell_type": "code",
   "execution_count": 72,
   "id": "1f148e7b",
   "metadata": {},
   "outputs": [
    {
     "data": {
      "text/plain": [
       "0                                     nan\n",
       "1                                     nan\n",
       "2                                     nan\n",
       "3                                     nan\n",
       "4                        Plâtrier peintre\n",
       "                       ...               \n",
       "93906                  Agence immobilière\n",
       "93907        Librairie papeterie journaux\n",
       "93908    Location auto-utilitaires légers\n",
       "93909                           Pharmacie\n",
       "93910                                 nan\n",
       "Name: insbpe2019_l_type_equipement, Length: 93751, dtype: object"
      ]
     },
     "execution_count": 72,
     "metadata": {},
     "output_type": "execute_result"
    }
   ],
   "source": [
    "df_selec[\"insbpe2019_l_type_equipement\"]=df_selec[\"insbpe2019_l_type_equipement\"].replace({\"n\": \"nan\"})\n",
    "df_selec[\"insbpe2019_l_type_equipement\"]"
   ]
  },
  {
   "cell_type": "code",
   "execution_count": 73,
   "id": "b0f329ad",
   "metadata": {},
   "outputs": [
    {
     "data": {
      "text/plain": [
       "189"
      ]
     },
     "execution_count": 73,
     "metadata": {},
     "output_type": "execute_result"
    }
   ],
   "source": [
    "df_selec[\"insbpe2019_l_type_equipement\"].nunique()"
   ]
  },
  {
   "cell_type": "code",
   "execution_count": 74,
   "id": "3b45eb04",
   "metadata": {},
   "outputs": [
    {
     "data": {
      "text/plain": [
       "nan                                     28166\n",
       "Restaurant - Restauration rapide         9307\n",
       "Agence immobilière                       3645\n",
       "Magasin de vêtements                     3426\n",
       "Taxi - VTC                               2415\n",
       "                                        ...  \n",
       "Bowling                                     1\n",
       "Gare de voyageurs d’intérêt national        1\n",
       "Centre médecine préventive                  1\n",
       ":Pharmacie                                  1\n",
       ":Centre de santé                            1\n",
       "Name: insbpe2019_l_type_equipement, Length: 189, dtype: int64"
      ]
     },
     "execution_count": 74,
     "metadata": {},
     "output_type": "execute_result"
    }
   ],
   "source": [
    "df_selec[\"insbpe2019_l_type_equipement\"].value_counts()"
   ]
  },
  {
   "cell_type": "code",
   "execution_count": 75,
   "id": "84cc7e90",
   "metadata": {},
   "outputs": [
    {
     "data": {
      "text/plain": [
       "nan                                        28166\n",
       "Restaurant - Restauration rapide            9307\n",
       "Agence immobilière                          3645\n",
       "Magasin de vêtements                        3426\n",
       "Taxi - VTC                                  2415\n",
       "Coiffure                                    2200\n",
       "Entreprise générale du bâtiment             2023\n",
       "Plâtrier peintre                            1980\n",
       "Institut de beauté - Onglerie               1889\n",
       "Psychologue                                 1497\n",
       " couvreur                                   1439\n",
       " chauffagiste                               1439\n",
       "Plombier                                    1432\n",
       " serrurier                                  1332\n",
       "Menuisier                                   1328\n",
       " charpentier                                1326\n",
       "Épicerie                                    1303\n",
       "Boulangerie                                 1100\n",
       "Librairie papeterie journaux                1083\n",
       "Électricien                                 1076\n",
       " Caisse d’Épargne                           1014\n",
       "Banque                                      1005\n",
       "Information touristique                      976\n",
       "Masseur kinésithérapeute                     975\n",
       "Agence de voyages                            932\n",
       "Médecin généraliste                          923\n",
       "Hôtel                                        891\n",
       "Pressing - Laverie automatique               827\n",
       "Parfumerie - Cosmétique                      776\n",
       "Chirurgien dentiste                          751\n",
       "Infirmier                                    719\n",
       "Pharmacie                                    700\n",
       "Magasin d’optique                            694\n",
       "Spécialiste en psychiatrie                   626\n",
       "Magasin de chaussures                        623\n",
       "Magasin d'équipements du foyer               617\n",
       "Horlogerie Bijouterie                        617\n",
       "Fleuriste - Jardinerie - Animalerie          616\n",
       "Boucherie charcuterie                        547\n",
       "Magasin de meubles                           507\n",
       "Réparation auto et de matériel agricole      493\n",
       "Pédicure-podologue                           379\n",
       "Crèche                                       372\n",
       "Agence de travail temporaire                 320\n",
       " audio vidéo                                 319\n",
       "Magasin d'électroménager                     319\n",
       "Supermarché                                  315\n",
       "Orthophoniste                                314\n",
       "Location auto-utilitaires légers             297\n",
       "Magasin d'art. de sports et de loisirs       266\n",
       "Name: insbpe2019_l_type_equipement, dtype: int64"
      ]
     },
     "execution_count": 75,
     "metadata": {},
     "output_type": "execute_result"
    }
   ],
   "source": [
    "df_selec[\"insbpe2019_l_type_equipement\"].value_counts().head(50)"
   ]
  },
  {
   "cell_type": "code",
   "execution_count": 76,
   "id": "c656af96",
   "metadata": {},
   "outputs": [
    {
     "name": "stdout",
     "output_type": "stream",
     "text": [
      "['nan' 'Plâtrier peintre' 'Masseur kinésithérapeute' 'Pédicure-podologue'\n",
      " 'Établissement santé moyen séjour' 'Coiffure' 'Supermarché'\n",
      " 'Entreprise générale du bâtiment' 'Taxi - VTC' 'Psychologue' 'Banque'\n",
      " ' Caisse d’Épargne' 'Institut de beauté - Onglerie' 'Plombier'\n",
      " ' couvreur' ' chauffagiste' 'Produits surgelés' 'Agence de voyages'\n",
      " 'Restaurant - Restauration rapide' 'Spécialiste en ophtalmologie'\n",
      " 'Épicerie' 'Librairie papeterie journaux' 'Psychomotricien'\n",
      " 'Parfumerie - Cosmétique' 'Pressing - Laverie automatique'\n",
      " 'Magasin de vêtements' 'Agence immobilière' 'Information touristique'\n",
      " 'Magasin de meubles' 'Médecin généraliste'\n",
      " 'Fleuriste - Jardinerie - Animalerie' 'École de conduite'\n",
      " 'Salles de combat' 'Salles spécialisées'\n",
      " \"Magasin d'art. de sports et de loisirs\" 'Agence de travail temporaire'\n",
      " 'Ambulance' 'Salles de remise en forme' 'École élémentaire'\n",
      " 'Pompes funèbres' 'Menuisier' ' charpentier' ' serrurier' 'Hôtel'\n",
      " 'Boulangerie' 'Spécialiste en stomatologie'\n",
      " 'Magasin de revêtements murs et sols' 'Police'\n",
      " 'Structures psychiatriques en ambulatoire' 'Horlogerie Bijouterie'\n",
      " 'Spécialiste en cardiologie' 'Spécialiste en dermatologie vénéréologie'\n",
      " 'Spécialiste en gynécologie (médicale et/ou obstétrique'\n",
      " 'Chirurgien dentiste' \"Laboratoire d'analyses et de biologie médicales\"\n",
      " 'Autre formation continue' 'Bureau de poste' 'Électricien'\n",
      " 'Boucherie charcuterie' 'Droguerie quincaillerie bricolage' 'Infirmier'\n",
      " 'Pharmacie' 'Réparation auto et de matériel agricole'\n",
      " \"Lycée d'enseignement général et/ou techno.\" \"Magasin d'électroménager\"\n",
      " ' audio vidéo' 'Orthophoniste' 'Spécialiste en psychiatrie'\n",
      " 'Magasin de matériel médical et orthopédique' 'Poissonnerie' 'Sage-femme'\n",
      " 'Supérette' 'École maternelle' 'Bassin de natation'\n",
      " 'Magasin de chaussures' 'Spéc. en radiodiagnostic et imagerie médicale'\n",
      " 'Autre formation post bac non universitaire' ':Boulangerie'\n",
      " 'Magasin d’optique' 'Vétérinaire' 'Location auto-utilitaires légers'\n",
      " 'Autres établissements pour adultes et familles en difficulté' 'Crèche'\n",
      " \"Magasin d'équipements du foyer\" 'Diététicien' 'Centre de santé'\n",
      " ':Agence immobilière' \"Centre de formation d'apprentis (hors agriculture\"\n",
      " ':Agence de voyages' 'Autre enseignement supérieur'\n",
      " 'Spécialiste en gastro-entérologie' 'Spécialiste en pédiatrie' 'Musée'\n",
      " 'Spécialiste en oto-rhino-laryngologie'\n",
      " 'Direction Régionale des Finances Publiques (DRFIP'\n",
      " 'Gare de voyageurs d’intérêt régional' ':Librairie papeterie journaux'\n",
      " 'Urgences' 'Établissement santé court séjour' 'Formation commerce'\n",
      " ':Agence de travail temporaire' 'Théâtre - Art de rue - Pôle cirque'\n",
      " 'Orthoptiste' 'Contrôle technique automobile' 'Collège'\n",
      " 'Spécialiste en gynécologie (médicale et/ou obstétrique)'\n",
      " 'Audio prothésiste' \"Personnes âgées : services d'aide\" ':Plombier'\n",
      " 'Grande surface de bricolage' ':Chirurgien dentiste'\n",
      " \"Aide sociale à l'enfance : hébergement\" 'Salles multisports (gymnase'\n",
      " 'Spécialiste en pneumologie' 'Cinéma'\n",
      " 'Enseignement général supérieur privé'\n",
      " ':Restaurant - Restauration rapide' 'Bibliothèque'\n",
      " 'Adultes handicapés : accueil/hébergement' 'Terrain de grands jeux'\n",
      " 'Équipement de cyclisme' \"CHRS Centre d'héberg. et de réadapt. sociale\"\n",
      " 'Salles multisports (gymnase)' 'Adultes handicapés : services d’aide'\n",
      " 'Enfants handicapés : hébergement' 'UFR'\n",
      " 'Établissement psychiatrique avec hébergement'\n",
      " 'Personnes âgées : hébergement' 'Maison de justice et du droit'\n",
      " 'Résidence universitaire' ':Coiffure' \"École d'ingénieurs\"\n",
      " 'Ergothérapeute' 'Enfants handicapés.: soins à domicile' 'Relais poste'\n",
      " \"Lycée d'enseignement professionnel\" 'STS CPGE' 'Formation santé'\n",
      " 'Salles non spécialisées' \"Centre accueil demandeur d'asile\" ':Infirmier'\n",
      " 'SEP : Section enseignement professionnel' 'Restaurant universitaire'\n",
      " ':Adultes handicapés : services d’aide' 'Travail protégé' ':Taxi - VTC'\n",
      " ':École maternelle' 'Dialyse' 'Maternité' 'Transfusion sanguine'\n",
      " 'Établissement santé long séjour'\n",
      " ':Adultes handicapés : accueil/hébergement'\n",
      " 'Réseau de proximité Pôle Emploi' ':Centre de santé' ':Menuisier'\n",
      " \"Centre de formation d'apprentis (hors agriculture)\" 'Sports de glace'\n",
      " 'Tennis' 'Gare de voyageurs d’intérêt national'\n",
      " 'Centre médecine préventive' \"Aide sociale à l'enfance : action éduc.\"\n",
      " ':Pharmacie' 'Réseau spécialisé Pôle Emploi' 'Hospitalisation à domicile'\n",
      " 'Maison de santé pluridisciplinaire' 'Station service' ':Bibliothèque'\n",
      " 'Direction Régionale des Finances Publiques (DRFIP)' ':Banque'\n",
      " 'Athlétisme' 'Adultes handicapés : services de soins à domicile'\n",
      " 'Personnes âgées : soins à domicile' 'Conservatoire' 'Hypermarché'\n",
      " ':Boucherie charcuterie' 'Boulodrome' ':Information touristique'\n",
      " 'Bowling' ':Entreprise générale du bâtiment'\n",
      " 'Direction Générale des Finances Publiques (DGFIP'\n",
      " 'Plateaux et terrains de jeux extérieurs'\n",
      " ':Contrôle technique automobile'\n",
      " 'Centre dispensant de la formation continue agricole'\n",
      " 'Centre dispensant des formations d’apprentissage agricole'\n",
      " 'écoles d’enseignement supérieur agricole' ':Ambulance'\n",
      " 'Cour d’appel (CA)' 'Direction Générale des Finances Publiques (DGFIP)'\n",
      " ':Plâtrier peintre']\n"
     ]
    }
   ],
   "source": [
    "print(df_selec[\"insbpe2019_l_type_equipement\"].unique())"
   ]
  },
  {
   "cell_type": "code",
   "execution_count": 77,
   "id": "4d0cd5be",
   "metadata": {},
   "outputs": [],
   "source": [
    "# Remplacement des nan par \"Aucun\"\n",
    "df_selec[\"insbpe2019_l_type_equipement\"]=df_selec[\"insbpe2019_l_type_equipement\"].replace({\"nan\": \"Aucun\"})"
   ]
  },
  {
   "cell_type": "code",
   "execution_count": 78,
   "id": "0ea96b5b",
   "metadata": {},
   "outputs": [],
   "source": [
    "# On ne va conserver que les occurences qui à priori occasionnent le plus de nuisances sonores pour les riverains \n",
    "# et qui par conséquent sont suceptibles de déclencher une revente\n",
    "\n",
    "def filtre_supermarché (x):\n",
    "    if x==\"Supermarché\" or x==\"Épicerie\" or x==\"Supérette\" or x==\"Hypermarché\" :\n",
    "        return 1\n",
    "    else :\n",
    "        return 0\n"
   ]
  },
  {
   "cell_type": "code",
   "execution_count": 79,
   "id": "26ecbe1c",
   "metadata": {},
   "outputs": [],
   "source": [
    "df_selec[\"insbpe2019_l_type_equipement_supermarché\"]=df_selec[\"insbpe2019_l_type_equipement\"].apply(filtre_supermarché)"
   ]
  },
  {
   "cell_type": "code",
   "execution_count": 80,
   "id": "05e6be1d",
   "metadata": {},
   "outputs": [
    {
     "data": {
      "text/plain": [
       "0    91899\n",
       "1     1852\n",
       "Name: insbpe2019_l_type_equipement_supermarché, dtype: int64"
      ]
     },
     "execution_count": 80,
     "metadata": {},
     "output_type": "execute_result"
    }
   ],
   "source": [
    "df_selec[\"insbpe2019_l_type_equipement_supermarché\"].value_counts()"
   ]
  },
  {
   "cell_type": "code",
   "execution_count": 81,
   "id": "d67abd8c",
   "metadata": {},
   "outputs": [],
   "source": [
    "def filtre_restaurant (x):\n",
    "    if x==\"Restaurant - Restauration rapide\" or x==\":Restaurant - Restauration rapide\" or x==\"Restaurant universitaire\" :\n",
    "        return 1\n",
    "    else :\n",
    "        return 0"
   ]
  },
  {
   "cell_type": "code",
   "execution_count": 82,
   "id": "7078f9bc",
   "metadata": {},
   "outputs": [],
   "source": [
    "df_selec[\"insbpe2019_l_type_equipement_restaurant\"]=df_selec[\"insbpe2019_l_type_equipement\"].apply(filtre_restaurant)"
   ]
  },
  {
   "cell_type": "code",
   "execution_count": 83,
   "id": "dc440670",
   "metadata": {},
   "outputs": [
    {
     "data": {
      "text/plain": [
       "0    84426\n",
       "1     9325\n",
       "Name: insbpe2019_l_type_equipement_restaurant, dtype: int64"
      ]
     },
     "execution_count": 83,
     "metadata": {},
     "output_type": "execute_result"
    }
   ],
   "source": [
    "df_selec[\"insbpe2019_l_type_equipement_restaurant\"].value_counts()"
   ]
  },
  {
   "cell_type": "code",
   "execution_count": 84,
   "id": "d1215878",
   "metadata": {},
   "outputs": [],
   "source": [
    "def filtre_boulangerie (x):\n",
    "    if x==\"Boulangerie\" or x==\":Boulangerie\" :\n",
    "        return 1\n",
    "    else :\n",
    "        return 0"
   ]
  },
  {
   "cell_type": "code",
   "execution_count": 85,
   "id": "55893a2d",
   "metadata": {},
   "outputs": [],
   "source": [
    "df_selec[\"insbpe2019_l_type_equipement_boulangerie\"]=df_selec[\"insbpe2019_l_type_equipement\"].apply(filtre_boulangerie)"
   ]
  },
  {
   "cell_type": "code",
   "execution_count": 86,
   "id": "5486c110",
   "metadata": {},
   "outputs": [
    {
     "data": {
      "text/plain": [
       "0    92644\n",
       "1     1107\n",
       "Name: insbpe2019_l_type_equipement_boulangerie, dtype: int64"
      ]
     },
     "execution_count": 86,
     "metadata": {},
     "output_type": "execute_result"
    }
   ],
   "source": [
    "df_selec[\"insbpe2019_l_type_equipement_boulangerie\"].value_counts()"
   ]
  },
  {
   "cell_type": "code",
   "execution_count": 87,
   "id": "7834fba9",
   "metadata": {},
   "outputs": [
    {
     "data": {
      "text/plain": [
       "0    65585\n",
       "1    28166\n",
       "Name: insbpe2019_l_type_equipement_aucun, dtype: int64"
      ]
     },
     "execution_count": 87,
     "metadata": {},
     "output_type": "execute_result"
    }
   ],
   "source": [
    "def filtre_aucun (x) :\n",
    "    if x==\"Aucun\":\n",
    "        return 1\n",
    "    else :\n",
    "        return 0\n",
    "    \n",
    "df_selec[\"insbpe2019_l_type_equipement_aucun\"]=df_selec[\"insbpe2019_l_type_equipement\"].apply(filtre_aucun)\n",
    "df_selec[\"insbpe2019_l_type_equipement_aucun\"].value_counts()"
   ]
  },
  {
   "cell_type": "code",
   "execution_count": 88,
   "id": "84d39c05",
   "metadata": {},
   "outputs": [
    {
     "data": {
      "text/plain": [
       "1    53301\n",
       "0    40450\n",
       "Name: insbpe2019_l_type_equipement_autre, dtype: int64"
      ]
     },
     "execution_count": 88,
     "metadata": {},
     "output_type": "execute_result"
    }
   ],
   "source": [
    "liste_equipement =[\"Supermarché\", \n",
    "                   \"Épicerie\", \n",
    "                   \"Supérette\",\n",
    "                   \"Hypermarché\", \n",
    "                   \"Restaurant - Restauration rapide\",\n",
    "                   \":Restaurant - Restauration rapide\",\n",
    "                   \"Restaurant universitaire\",\n",
    "                   \"Boulangerie\",\n",
    "                   \":Boulangerie\",\n",
    "                   \"Aucun\"]\n",
    "\n",
    "def filtre_autre_equipement (x) :\n",
    "    if x in  liste_equipement :\n",
    "        return 0\n",
    "    else :\n",
    "        return 1\n",
    "    \n",
    "df_selec[\"insbpe2019_l_type_equipement_autre\"]=df_selec[\"insbpe2019_l_type_equipement\"].apply(filtre_autre_equipement)\n",
    "df_selec[\"insbpe2019_l_type_equipement_autre\"].value_counts()"
   ]
  },
  {
   "cell_type": "code",
   "execution_count": 89,
   "id": "270a055b",
   "metadata": {},
   "outputs": [],
   "source": [
    "#On peut maintenant supprimer la colonne df_selec[\"insbpe2019_l_type_equipement\"]\n",
    "\n",
    "object_columns.remove(\"insbpe2019_l_type_equipement\")\n",
    "df_selec=df_selec.drop(\"insbpe2019_l_type_equipement\", axis=1)"
   ]
  },
  {
   "cell_type": "code",
   "execution_count": 90,
   "id": "5d00b5e3",
   "metadata": {},
   "outputs": [],
   "source": [
    "# Et ajouter les 5 colonnes équipements nouvellement créées dans la liste des variables numériques\n",
    "\n",
    "liste_new_colonne=[\"insbpe2019_l_type_equipement_supermarché\",\n",
    "                   \"insbpe2019_l_type_equipement_restaurant\",\n",
    "                   \"insbpe2019_l_type_equipement_boulangerie\",\n",
    "                   \"insbpe2019_l_type_equipement_aucun\",\n",
    "                   \"insbpe2019_l_type_equipement_autre\"]\n",
    "\n",
    "for col in liste_new_colonne :\n",
    "    numeric_columns.append(col)\n"
   ]
  },
  {
   "cell_type": "code",
   "execution_count": 91,
   "id": "9d6e5e57",
   "metadata": {},
   "outputs": [
    {
     "data": {
      "text/plain": [
       "['valeurfonc',\n",
       " 'scarrez',\n",
       " 'anarnc202012_nb_log',\n",
       " 'anarnc202012_nb_lot_garpark',\n",
       " 'anarnc202012_nb_lot_tertiaire',\n",
       " 'anarnc202012_nb_lot_tot',\n",
       " 'adedpe202006_logtype_perc_surf_vitree_ext',\n",
       " 'adedpe202006_logtype_presence_balcon',\n",
       " 'adedpe202006_logtype_presence_climatisation',\n",
       " 'ancqpv201410_is_qpv',\n",
       " 'igntop202103_bat_hauteur',\n",
       " 'mcumer202007_is_mer',\n",
       " 'adedpe202006_logtype_s_hab',\n",
       " 'idmutation',\n",
       " 'qty_of_mut',\n",
       " 'y',\n",
       " 'idnatmut',\n",
       " 'anneemut',\n",
       " 'moismut',\n",
       " 'nblot',\n",
       " 'nbcomm',\n",
       " 'l_codinsee',\n",
       " 'nblocapt',\n",
       " 'nblocdep',\n",
       " 'nbapt2pp',\n",
       " 'nbapt3pp',\n",
       " 'sbati',\n",
       " 'sbatapt',\n",
       " 'sbatact',\n",
       " 'sapt2pp',\n",
       " 'sapt3pp',\n",
       " 'cerffo2020_nb_log',\n",
       " 'insbpe2019_l_type_equipement_supermarché',\n",
       " 'insbpe2019_l_type_equipement_restaurant',\n",
       " 'insbpe2019_l_type_equipement_boulangerie',\n",
       " 'insbpe2019_l_type_equipement_aucun',\n",
       " 'insbpe2019_l_type_equipement_autre']"
      ]
     },
     "execution_count": 91,
     "metadata": {},
     "output_type": "execute_result"
    }
   ],
   "source": [
    "numeric_columns\n"
   ]
  },
  {
   "cell_type": "code",
   "execution_count": 92,
   "id": "b42d1016",
   "metadata": {},
   "outputs": [
    {
     "data": {
      "text/plain": [
       "['datemut',\n",
       " 'libnatmut',\n",
       " 'vefa',\n",
       " 'adedpe202006_logtype_baie_orientation',\n",
       " 'adedpe202006_logtype_baie_type_vitrage',\n",
       " 'adedpe202006_logtype_ch_gen_lib_princ',\n",
       " 'adedpe202006_mean_class_conso_ener',\n",
       " 'adedpe202006_mean_class_estim_ges',\n",
       " 'adedpe202006_logtype_traversant',\n",
       " 'adedpe202006_logtype_ecs_type_ener',\n",
       " 'adedpe202006_logtype_enr',\n",
       " 'adedpe202006_logtype_ph_pos_isol',\n",
       " 'adedpe202006_logtype_type_batiment',\n",
       " 'arcthd2021t1_l_bat_type',\n",
       " 'cerffo2020_usage_niveau_1_txt',\n",
       " 'georad2020_alea',\n",
       " 'adedpe202006_logtype_ch_type_inst',\n",
       " 'adedpe202006_logtype_ecs_type_inst',\n",
       " 'adedpe202006_logtype_mur_ep_mat_ext',\n",
       " 'adedpe202006_logtype_mur_mat_ext',\n",
       " 'adedpe202006_logtype_mur_pos_isol_ext']"
      ]
     },
     "execution_count": 92,
     "metadata": {},
     "output_type": "execute_result"
    }
   ],
   "source": [
    "object_columns"
   ]
  },
  {
   "cell_type": "code",
   "execution_count": 93,
   "id": "772e3f2e",
   "metadata": {},
   "outputs": [
    {
     "name": "stdout",
     "output_type": "stream",
     "text": [
      "2314\n",
      "2\n",
      "2\n",
      "5\n",
      "4\n",
      "19\n",
      "8\n",
      "8\n",
      "9\n",
      "5\n",
      "3\n",
      "5\n",
      "5\n",
      "3\n",
      "5\n",
      "1\n",
      "2\n",
      "2\n",
      "31\n",
      "6\n",
      "5\n"
     ]
    }
   ],
   "source": [
    "for col in df_selec[object_columns]:\n",
    "    print(df_selec[col].nunique())"
   ]
  },
  {
   "cell_type": "code",
   "execution_count": null,
   "id": "e2a87699",
   "metadata": {},
   "outputs": [],
   "source": []
  },
  {
   "cell_type": "code",
   "execution_count": 94,
   "id": "600cf253",
   "metadata": {},
   "outputs": [
    {
     "name": "stdout",
     "output_type": "stream",
     "text": [
      "<class 'pandas.core.frame.DataFrame'>\n",
      "Int64Index: 93751 entries, 0 to 93910\n",
      "Data columns (total 59 columns):\n",
      " #   Column                                       Non-Null Count  Dtype   \n",
      "---  ------                                       --------------  -----   \n",
      " 0   idmutation                                   93751 non-null  int64   \n",
      " 1   qty_of_mut                                   93751 non-null  int64   \n",
      " 2   y                                            93751 non-null  int64   \n",
      " 3   idnatmut                                     93751 non-null  int64   \n",
      " 4   datemut                                      93751 non-null  object  \n",
      " 5   anneemut                                     93751 non-null  int64   \n",
      " 6   moismut                                      93751 non-null  int64   \n",
      " 7   libnatmut                                    93751 non-null  object  \n",
      " 8   vefa                                         93751 non-null  object  \n",
      " 9   valeurfonc                                   93717 non-null  float64 \n",
      " 10  nblot                                        93751 non-null  int64   \n",
      " 11  nbcomm                                       93751 non-null  int64   \n",
      " 12  l_codinsee                                   93751 non-null  int64   \n",
      " 13  nblocapt                                     93751 non-null  int64   \n",
      " 14  nblocdep                                     93751 non-null  int64   \n",
      " 15  nbapt2pp                                     93751 non-null  int64   \n",
      " 16  nbapt3pp                                     93751 non-null  int64   \n",
      " 17  sbati                                        93751 non-null  int64   \n",
      " 18  sbatapt                                      93751 non-null  int64   \n",
      " 19  sbatact                                      93751 non-null  int64   \n",
      " 20  sapt2pp                                      93751 non-null  int64   \n",
      " 21  sapt3pp                                      93751 non-null  int64   \n",
      " 22  scarrez                                      93751 non-null  float64 \n",
      " 23  anarnc202012_nb_log                          56344 non-null  float64 \n",
      " 24  anarnc202012_nb_lot_garpark                  56344 non-null  float64 \n",
      " 25  anarnc202012_nb_lot_tertiaire                56344 non-null  float64 \n",
      " 26  anarnc202012_nb_lot_tot                      56344 non-null  float64 \n",
      " 27  adedpe202006_logtype_baie_orientation        93751 non-null  object  \n",
      " 28  adedpe202006_logtype_baie_type_vitrage       61345 non-null  object  \n",
      " 29  adedpe202006_logtype_ch_gen_lib_princ        61388 non-null  object  \n",
      " 30  adedpe202006_mean_class_conso_ener           62419 non-null  object  \n",
      " 31  adedpe202006_mean_class_estim_ges            62419 non-null  object  \n",
      " 32  adedpe202006_logtype_traversant              48263 non-null  object  \n",
      " 33  adedpe202006_logtype_ecs_type_ener           60299 non-null  object  \n",
      " 34  adedpe202006_logtype_enr                     93751 non-null  object  \n",
      " 35  adedpe202006_logtype_perc_surf_vitree_ext    8488 non-null   float64 \n",
      " 36  adedpe202006_logtype_ph_pos_isol             43737 non-null  object  \n",
      " 37  adedpe202006_logtype_presence_balcon         9570 non-null   float64 \n",
      " 38  adedpe202006_logtype_presence_climatisation  62370 non-null  float64 \n",
      " 39  adedpe202006_logtype_type_batiment           62370 non-null  object  \n",
      " 40  ancqpv201410_is_qpv                          92792 non-null  float64 \n",
      " 41  arcthd2021t1_l_bat_type                      93751 non-null  object  \n",
      " 42  cerffo2020_annee_construction                71985 non-null  category\n",
      " 43  cerffo2020_usage_niveau_1_txt                93751 non-null  object  \n",
      " 44  cerffo2020_nb_log                            93751 non-null  int64   \n",
      " 45  georad2020_alea                              92792 non-null  object  \n",
      " 46  igntop202103_bat_hauteur                     92692 non-null  float64 \n",
      " 47  mcumer202007_is_mer                          92792 non-null  float64 \n",
      " 48  adedpe202006_logtype_s_hab                   61784 non-null  float64 \n",
      " 49  adedpe202006_logtype_ch_type_inst            50530 non-null  object  \n",
      " 50  adedpe202006_logtype_ecs_type_inst           51357 non-null  object  \n",
      " 51  adedpe202006_logtype_mur_ep_mat_ext          9285 non-null   object  \n",
      " 52  adedpe202006_logtype_mur_mat_ext             93751 non-null  object  \n",
      " 53  adedpe202006_logtype_mur_pos_isol_ext        93751 non-null  object  \n",
      " 54  insbpe2019_l_type_equipement_supermarché     93751 non-null  int64   \n",
      " 55  insbpe2019_l_type_equipement_restaurant      93751 non-null  int64   \n",
      " 56  insbpe2019_l_type_equipement_boulangerie     93751 non-null  int64   \n",
      " 57  insbpe2019_l_type_equipement_aucun           93751 non-null  int64   \n",
      " 58  insbpe2019_l_type_equipement_autre           93751 non-null  int64   \n",
      "dtypes: category(1), float64(13), int64(24), object(21)\n",
      "memory usage: 44.3+ MB\n"
     ]
    }
   ],
   "source": [
    "\n",
    "df_selec.info()"
   ]
  },
  {
   "cell_type": "code",
   "execution_count": 95,
   "id": "72676dfb",
   "metadata": {},
   "outputs": [],
   "source": [
    "df_selec_2=df_selec"
   ]
  },
  {
   "cell_type": "code",
   "execution_count": 96,
   "id": "cb54d1ec",
   "metadata": {},
   "outputs": [],
   "source": [
    "df_selec_2.to_csv(r\"C:\\Users\\Anne\\Projet Bâtiment\\210622\\df_selec_2.csv\", index=False)"
   ]
  }
 ],
 "metadata": {
  "kernelspec": {
   "display_name": "Python 3 (ipykernel)",
   "language": "python",
   "name": "python3"
  },
  "language_info": {
   "codemirror_mode": {
    "name": "ipython",
    "version": 3
   },
   "file_extension": ".py",
   "mimetype": "text/x-python",
   "name": "python",
   "nbconvert_exporter": "python",
   "pygments_lexer": "ipython3",
   "version": "3.9.7"
  }
 },
 "nbformat": 4,
 "nbformat_minor": 5
}
