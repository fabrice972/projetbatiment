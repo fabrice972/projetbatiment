{
 "cells": [
  {
   "cell_type": "code",
   "execution_count": 1,
   "id": "d7fa110a",
   "metadata": {},
   "outputs": [],
   "source": [
    "# MODELISATION AVEC VARIABLE CIBLE = Revente (sans les variables \"durée de détention\" et \"evol_val\", \n",
    "# donc juste les variables caractéristiques du bâtiment)"
   ]
  },
  {
   "cell_type": "code",
   "execution_count": 2,
   "id": "3e9b7a10",
   "metadata": {},
   "outputs": [],
   "source": [
    "import pandas as pd\n",
    "import numpy as np\n",
    "import matplotlib.pyplot as plt\n",
    "%matplotlib inline "
   ]
  },
  {
   "cell_type": "code",
   "execution_count": 3,
   "id": "3c8ad0d0",
   "metadata": {},
   "outputs": [],
   "source": [
    "df2=pd.read_csv(\"df2.csv\")"
   ]
  },
  {
   "cell_type": "code",
   "execution_count": 4,
   "id": "34d24633",
   "metadata": {},
   "outputs": [
    {
     "data": {
      "text/html": [
       "<div>\n",
       "<style scoped>\n",
       "    .dataframe tbody tr th:only-of-type {\n",
       "        vertical-align: middle;\n",
       "    }\n",
       "\n",
       "    .dataframe tbody tr th {\n",
       "        vertical-align: top;\n",
       "    }\n",
       "\n",
       "    .dataframe thead th {\n",
       "        text-align: right;\n",
       "    }\n",
       "</style>\n",
       "<table border=\"1\" class=\"dataframe\">\n",
       "  <thead>\n",
       "    <tr style=\"text-align: right;\">\n",
       "      <th></th>\n",
       "      <th>Revente</th>\n",
       "      <th>anneemut</th>\n",
       "      <th>Immeuble_neuf</th>\n",
       "      <th>nblot</th>\n",
       "      <th>l_codinsee</th>\n",
       "      <th>nblocdep</th>\n",
       "      <th>Type_appart</th>\n",
       "      <th>scarrez</th>\n",
       "      <th>anarnc202012_nb_lot_tot</th>\n",
       "      <th>adedpe202006_mean_class_conso_ener</th>\n",
       "      <th>...</th>\n",
       "      <th>mcumer202007_is_mer</th>\n",
       "      <th>adedpe202006_logtype_ch_type_inst</th>\n",
       "      <th>adedpe202006_logtype_ecs_type_inst</th>\n",
       "      <th>adedpe202006_logtype_mur_mat_ext</th>\n",
       "      <th>adedpe202006_logtype_mur_pos_isol_ext</th>\n",
       "      <th>Commerces_bruyants</th>\n",
       "      <th>Evol_val</th>\n",
       "      <th>Taille_copro</th>\n",
       "      <th>nbre_etages</th>\n",
       "      <th>duree_detention</th>\n",
       "    </tr>\n",
       "  </thead>\n",
       "  <tbody>\n",
       "    <tr>\n",
       "      <th>0</th>\n",
       "      <td>0</td>\n",
       "      <td>2021</td>\n",
       "      <td>0</td>\n",
       "      <td>1</td>\n",
       "      <td>75101</td>\n",
       "      <td>1</td>\n",
       "      <td>2P</td>\n",
       "      <td>26.06</td>\n",
       "      <td>394.0</td>\n",
       "      <td>E</td>\n",
       "      <td>...</td>\n",
       "      <td>1.0</td>\n",
       "      <td>individuel</td>\n",
       "      <td>individuel</td>\n",
       "      <td>Mur en brique</td>\n",
       "      <td>ITI</td>\n",
       "      <td>1</td>\n",
       "      <td>-0.044936</td>\n",
       "      <td>Très grande</td>\n",
       "      <td>De 4 à 7</td>\n",
       "      <td>1.0</td>\n",
       "    </tr>\n",
       "    <tr>\n",
       "      <th>1</th>\n",
       "      <td>0</td>\n",
       "      <td>2021</td>\n",
       "      <td>0</td>\n",
       "      <td>1</td>\n",
       "      <td>75117</td>\n",
       "      <td>0</td>\n",
       "      <td>2P</td>\n",
       "      <td>35.53</td>\n",
       "      <td>33.0</td>\n",
       "      <td>F</td>\n",
       "      <td>...</td>\n",
       "      <td>1.0</td>\n",
       "      <td>individuel</td>\n",
       "      <td>individuel</td>\n",
       "      <td>Mur en pierre</td>\n",
       "      <td>ITI</td>\n",
       "      <td>0</td>\n",
       "      <td>-0.176744</td>\n",
       "      <td>Grande</td>\n",
       "      <td>De 4 à 7</td>\n",
       "      <td>1.0</td>\n",
       "    </tr>\n",
       "    <tr>\n",
       "      <th>2</th>\n",
       "      <td>0</td>\n",
       "      <td>2021</td>\n",
       "      <td>0</td>\n",
       "      <td>3</td>\n",
       "      <td>75115</td>\n",
       "      <td>1</td>\n",
       "      <td>3P</td>\n",
       "      <td>35.40</td>\n",
       "      <td>50.0</td>\n",
       "      <td>F</td>\n",
       "      <td>...</td>\n",
       "      <td>1.0</td>\n",
       "      <td>individuel</td>\n",
       "      <td>individuel</td>\n",
       "      <td>Mur en pierre</td>\n",
       "      <td>ITI</td>\n",
       "      <td>0</td>\n",
       "      <td>-0.174273</td>\n",
       "      <td>Grande</td>\n",
       "      <td>De 4 à 7</td>\n",
       "      <td>1.0</td>\n",
       "    </tr>\n",
       "    <tr>\n",
       "      <th>3</th>\n",
       "      <td>1</td>\n",
       "      <td>2021</td>\n",
       "      <td>0</td>\n",
       "      <td>1</td>\n",
       "      <td>75118</td>\n",
       "      <td>0</td>\n",
       "      <td>2P</td>\n",
       "      <td>46.02</td>\n",
       "      <td>52.0</td>\n",
       "      <td>E</td>\n",
       "      <td>...</td>\n",
       "      <td>1.0</td>\n",
       "      <td>individuel</td>\n",
       "      <td>individuel</td>\n",
       "      <td>Mur en pierre</td>\n",
       "      <td>ITI</td>\n",
       "      <td>1</td>\n",
       "      <td>0.492303</td>\n",
       "      <td>Moyenne</td>\n",
       "      <td>De 4 à 7</td>\n",
       "      <td>1.0</td>\n",
       "    </tr>\n",
       "    <tr>\n",
       "      <th>4</th>\n",
       "      <td>1</td>\n",
       "      <td>2016</td>\n",
       "      <td>0</td>\n",
       "      <td>1</td>\n",
       "      <td>75118</td>\n",
       "      <td>0</td>\n",
       "      <td>2P</td>\n",
       "      <td>45.76</td>\n",
       "      <td>52.0</td>\n",
       "      <td>E</td>\n",
       "      <td>...</td>\n",
       "      <td>1.0</td>\n",
       "      <td>individuel</td>\n",
       "      <td>individuel</td>\n",
       "      <td>Mur en pierre</td>\n",
       "      <td>ITI</td>\n",
       "      <td>1</td>\n",
       "      <td>0.000000</td>\n",
       "      <td>Moyenne</td>\n",
       "      <td>De 4 à 7</td>\n",
       "      <td>5.0</td>\n",
       "    </tr>\n",
       "  </tbody>\n",
       "</table>\n",
       "<p>5 rows × 23 columns</p>\n",
       "</div>"
      ],
      "text/plain": [
       "   Revente  anneemut  Immeuble_neuf nblot  l_codinsee nblocdep Type_appart  \\\n",
       "0        0      2021              0     1       75101        1          2P   \n",
       "1        0      2021              0     1       75117        0          2P   \n",
       "2        0      2021              0     3       75115        1          3P   \n",
       "3        1      2021              0     1       75118        0          2P   \n",
       "4        1      2016              0     1       75118        0          2P   \n",
       "\n",
       "   scarrez  anarnc202012_nb_lot_tot adedpe202006_mean_class_conso_ener  ...  \\\n",
       "0    26.06                    394.0                                  E  ...   \n",
       "1    35.53                     33.0                                  F  ...   \n",
       "2    35.40                     50.0                                  F  ...   \n",
       "3    46.02                     52.0                                  E  ...   \n",
       "4    45.76                     52.0                                  E  ...   \n",
       "\n",
       "  mcumer202007_is_mer adedpe202006_logtype_ch_type_inst  \\\n",
       "0                 1.0                        individuel   \n",
       "1                 1.0                        individuel   \n",
       "2                 1.0                        individuel   \n",
       "3                 1.0                        individuel   \n",
       "4                 1.0                        individuel   \n",
       "\n",
       "  adedpe202006_logtype_ecs_type_inst  adedpe202006_logtype_mur_mat_ext  \\\n",
       "0                         individuel                     Mur en brique   \n",
       "1                         individuel                     Mur en pierre   \n",
       "2                         individuel                     Mur en pierre   \n",
       "3                         individuel                     Mur en pierre   \n",
       "4                         individuel                     Mur en pierre   \n",
       "\n",
       "  adedpe202006_logtype_mur_pos_isol_ext Commerces_bruyants  Evol_val  \\\n",
       "0                                   ITI                  1 -0.044936   \n",
       "1                                   ITI                  0 -0.176744   \n",
       "2                                   ITI                  0 -0.174273   \n",
       "3                                   ITI                  1  0.492303   \n",
       "4                                   ITI                  1  0.000000   \n",
       "\n",
       "  Taille_copro  nbre_etages  duree_detention  \n",
       "0  Très grande     De 4 à 7              1.0  \n",
       "1       Grande     De 4 à 7              1.0  \n",
       "2       Grande     De 4 à 7              1.0  \n",
       "3      Moyenne     De 4 à 7              1.0  \n",
       "4      Moyenne     De 4 à 7              5.0  \n",
       "\n",
       "[5 rows x 23 columns]"
      ]
     },
     "execution_count": 4,
     "metadata": {},
     "output_type": "execute_result"
    }
   ],
   "source": [
    "df2.head()"
   ]
  },
  {
   "cell_type": "code",
   "execution_count": 5,
   "id": "b90c7f52",
   "metadata": {},
   "outputs": [
    {
     "name": "stdout",
     "output_type": "stream",
     "text": [
      "<class 'pandas.core.frame.DataFrame'>\n",
      "RangeIndex: 101507 entries, 0 to 101506\n",
      "Data columns (total 23 columns):\n",
      " #   Column                                 Non-Null Count   Dtype  \n",
      "---  ------                                 --------------   -----  \n",
      " 0   Revente                                101507 non-null  int64  \n",
      " 1   anneemut                               101507 non-null  int64  \n",
      " 2   Immeuble_neuf                          101507 non-null  int64  \n",
      " 3   nblot                                  101507 non-null  object \n",
      " 4   l_codinsee                             101507 non-null  int64  \n",
      " 5   nblocdep                               101507 non-null  object \n",
      " 6   Type_appart                            101507 non-null  object \n",
      " 7   scarrez                                101507 non-null  float64\n",
      " 8   anarnc202012_nb_lot_tot                101507 non-null  float64\n",
      " 9   adedpe202006_mean_class_conso_ener     101507 non-null  object \n",
      " 10  adedpe202006_mean_class_estim_ges      101507 non-null  object \n",
      " 11  adedpe202006_logtype_traversant        101507 non-null  object \n",
      " 12  cerffo2020_annee_construction          101507 non-null  object \n",
      " 13  mcumer202007_is_mer                    101507 non-null  float64\n",
      " 14  adedpe202006_logtype_ch_type_inst      101507 non-null  object \n",
      " 15  adedpe202006_logtype_ecs_type_inst     101507 non-null  object \n",
      " 16  adedpe202006_logtype_mur_mat_ext       101507 non-null  object \n",
      " 17  adedpe202006_logtype_mur_pos_isol_ext  101507 non-null  object \n",
      " 18  Commerces_bruyants                     101507 non-null  int64  \n",
      " 19  Evol_val                               101507 non-null  float64\n",
      " 20  Taille_copro                           101507 non-null  object \n",
      " 21  nbre_etages                            101507 non-null  object \n",
      " 22  duree_detention                        101507 non-null  float64\n",
      "dtypes: float64(5), int64(5), object(13)\n",
      "memory usage: 17.8+ MB\n"
     ]
    }
   ],
   "source": [
    "df2.info()"
   ]
  },
  {
   "cell_type": "code",
   "execution_count": 6,
   "id": "1123e0fc",
   "metadata": {},
   "outputs": [
    {
     "data": {
      "text/plain": [
       "Revente                                  0\n",
       "anneemut                                 0\n",
       "Immeuble_neuf                            0\n",
       "nblot                                    0\n",
       "l_codinsee                               0\n",
       "nblocdep                                 0\n",
       "Type_appart                              0\n",
       "scarrez                                  0\n",
       "anarnc202012_nb_lot_tot                  0\n",
       "adedpe202006_mean_class_conso_ener       0\n",
       "adedpe202006_mean_class_estim_ges        0\n",
       "adedpe202006_logtype_traversant          0\n",
       "cerffo2020_annee_construction            0\n",
       "mcumer202007_is_mer                      0\n",
       "adedpe202006_logtype_ch_type_inst        0\n",
       "adedpe202006_logtype_ecs_type_inst       0\n",
       "adedpe202006_logtype_mur_mat_ext         0\n",
       "adedpe202006_logtype_mur_pos_isol_ext    0\n",
       "Commerces_bruyants                       0\n",
       "Evol_val                                 0\n",
       "Taille_copro                             0\n",
       "nbre_etages                              0\n",
       "duree_detention                          0\n",
       "dtype: int64"
      ]
     },
     "execution_count": 6,
     "metadata": {},
     "output_type": "execute_result"
    }
   ],
   "source": [
    "df2.isna().sum()"
   ]
  },
  {
   "cell_type": "code",
   "execution_count": 7,
   "id": "68626d1b",
   "metadata": {},
   "outputs": [],
   "source": [
    "df2=df2.drop([\"Evol_val\",\"duree_detention\"], axis=1)"
   ]
  },
  {
   "cell_type": "code",
   "execution_count": 8,
   "id": "cb14c4f9",
   "metadata": {},
   "outputs": [],
   "source": [
    "# Suppression de la variable annéemut qui va gêner la dichotomisation\n",
    "df2=df2.drop(\"anneemut\", axis=1)"
   ]
  },
  {
   "cell_type": "code",
   "execution_count": 9,
   "id": "605e07f8",
   "metadata": {},
   "outputs": [],
   "source": [
    "from sklearn.model_selection import train_test_split"
   ]
  },
  {
   "cell_type": "code",
   "execution_count": 10,
   "id": "2e368c7b",
   "metadata": {},
   "outputs": [
    {
     "data": {
      "text/plain": [
       "((101507, 19), (101507,))"
      ]
     },
     "execution_count": 10,
     "metadata": {},
     "output_type": "execute_result"
    }
   ],
   "source": [
    "#Features / Target\n",
    "\n",
    "X=df2.drop(\"Revente\", axis=1)\n",
    "y=df2[\"Revente\"]\n",
    "\n",
    "X.shape, y.shape"
   ]
  },
  {
   "cell_type": "code",
   "execution_count": 11,
   "id": "4b0136b1",
   "metadata": {},
   "outputs": [
    {
     "data": {
      "text/plain": [
       "['Immeuble_neuf',\n",
       " 'l_codinsee',\n",
       " 'scarrez',\n",
       " 'anarnc202012_nb_lot_tot',\n",
       " 'mcumer202007_is_mer',\n",
       " 'Commerces_bruyants']"
      ]
     },
     "execution_count": 11,
     "metadata": {},
     "output_type": "execute_result"
    }
   ],
   "source": [
    "numeric_columns=X.select_dtypes(include=np.number).columns.tolist()\n",
    "numeric_columns"
   ]
  },
  {
   "cell_type": "code",
   "execution_count": 12,
   "id": "5f7b4da6",
   "metadata": {},
   "outputs": [
    {
     "data": {
      "text/plain": [
       "['nblot',\n",
       " 'nblocdep',\n",
       " 'Type_appart',\n",
       " 'adedpe202006_mean_class_conso_ener',\n",
       " 'adedpe202006_mean_class_estim_ges',\n",
       " 'adedpe202006_logtype_traversant',\n",
       " 'cerffo2020_annee_construction',\n",
       " 'adedpe202006_logtype_ch_type_inst',\n",
       " 'adedpe202006_logtype_ecs_type_inst',\n",
       " 'adedpe202006_logtype_mur_mat_ext',\n",
       " 'adedpe202006_logtype_mur_pos_isol_ext',\n",
       " 'Taille_copro',\n",
       " 'nbre_etages']"
      ]
     },
     "execution_count": 12,
     "metadata": {},
     "output_type": "execute_result"
    }
   ],
   "source": [
    "object_columns=X.select_dtypes(include='object').columns.tolist()\n",
    "object_columns"
   ]
  },
  {
   "cell_type": "code",
   "execution_count": 13,
   "id": "045f0fe1",
   "metadata": {},
   "outputs": [
    {
     "data": {
      "text/plain": [
       "((76130, 19), (25377, 19))"
      ]
     },
     "execution_count": 13,
     "metadata": {},
     "output_type": "execute_result"
    }
   ],
   "source": [
    "X_train, X_test, y_train, y_test=train_test_split(X,y, test_size=0.25, random_state=10)\n",
    "X_train.shape, X_test.shape"
   ]
  },
  {
   "cell_type": "code",
   "execution_count": 14,
   "id": "20fc9967",
   "metadata": {},
   "outputs": [],
   "source": [
    "#ENCODAGE DES DONNEES CATEGORIELLES"
   ]
  },
  {
   "cell_type": "code",
   "execution_count": 15,
   "id": "00bdf080",
   "metadata": {},
   "outputs": [],
   "source": [
    "X_train=pd.get_dummies(X_train)"
   ]
  },
  {
   "cell_type": "code",
   "execution_count": 16,
   "id": "7223a2d4",
   "metadata": {},
   "outputs": [],
   "source": [
    "X_test=pd.get_dummies(X_test)"
   ]
  },
  {
   "cell_type": "code",
   "execution_count": 17,
   "id": "45987674",
   "metadata": {},
   "outputs": [
    {
     "data": {
      "text/plain": [
       "(76130, 63)"
      ]
     },
     "execution_count": 17,
     "metadata": {},
     "output_type": "execute_result"
    }
   ],
   "source": [
    "X_train.shape"
   ]
  },
  {
   "cell_type": "code",
   "execution_count": 18,
   "id": "a7892ca1",
   "metadata": {},
   "outputs": [
    {
     "data": {
      "text/plain": [
       "(25377, 63)"
      ]
     },
     "execution_count": 18,
     "metadata": {},
     "output_type": "execute_result"
    }
   ],
   "source": [
    "X_test.shape"
   ]
  },
  {
   "cell_type": "code",
   "execution_count": 19,
   "id": "b83444d3",
   "metadata": {},
   "outputs": [],
   "source": [
    "# NORMALISATION\n",
    "\n",
    "from sklearn.preprocessing import StandardScaler\n",
    "scaler = StandardScaler()\n",
    "X_train[numeric_columns] = scaler.fit_transform(X_train[numeric_columns])\n",
    "X_test[numeric_columns] = scaler.transform(X_test[numeric_columns])"
   ]
  },
  {
   "cell_type": "code",
   "execution_count": 20,
   "id": "8644f2c7",
   "metadata": {},
   "outputs": [],
   "source": [
    "# Utilisation de la carte Scikit Learn pour choix modèle de classification\n",
    "# https://scikit-learn.org/stable/tutorial/machine_learning_map/index.html"
   ]
  },
  {
   "cell_type": "code",
   "execution_count": 21,
   "id": "c0404598",
   "metadata": {},
   "outputs": [],
   "source": [
    "from sklearn.metrics import confusion_matrix\n",
    "from sklearn.metrics import classification_report"
   ]
  },
  {
   "cell_type": "code",
   "execution_count": 22,
   "id": "319af63f",
   "metadata": {},
   "outputs": [
    {
     "name": "stderr",
     "output_type": "stream",
     "text": [
      "C:\\Users\\Anne\\anaconda3\\lib\\site-packages\\sklearn\\svm\\_base.py:985: ConvergenceWarning: Liblinear failed to converge, increase the number of iterations.\n",
      "  warnings.warn(\"Liblinear failed to converge, increase \"\n"
     ]
    },
    {
     "data": {
      "text/plain": [
       "0.8140048075028569"
      ]
     },
     "execution_count": 22,
     "metadata": {},
     "output_type": "execute_result"
    }
   ],
   "source": [
    "# Premier modèle : https://scikit-learn.org/stable/modules/generated/sklearn.svm.LinearSVC.html\n",
    "\n",
    "from sklearn.svm import LinearSVC\n",
    "\n",
    "model1=LinearSVC()\n",
    "model1.fit(X_train, y_train)\n",
    "model1.score(X_test, y_test)\n"
   ]
  },
  {
   "cell_type": "code",
   "execution_count": 23,
   "id": "02ce1edb",
   "metadata": {},
   "outputs": [
    {
     "data": {
      "text/html": [
       "<div>\n",
       "<style scoped>\n",
       "    .dataframe tbody tr th:only-of-type {\n",
       "        vertical-align: middle;\n",
       "    }\n",
       "\n",
       "    .dataframe tbody tr th {\n",
       "        vertical-align: top;\n",
       "    }\n",
       "\n",
       "    .dataframe thead th {\n",
       "        text-align: right;\n",
       "    }\n",
       "</style>\n",
       "<table border=\"1\" class=\"dataframe\">\n",
       "  <thead>\n",
       "    <tr style=\"text-align: right;\">\n",
       "      <th>col_0</th>\n",
       "      <th>0</th>\n",
       "      <th>1</th>\n",
       "    </tr>\n",
       "    <tr>\n",
       "      <th>Revente</th>\n",
       "      <th></th>\n",
       "      <th></th>\n",
       "    </tr>\n",
       "  </thead>\n",
       "  <tbody>\n",
       "    <tr>\n",
       "      <th>0</th>\n",
       "      <td>20657</td>\n",
       "      <td>24</td>\n",
       "    </tr>\n",
       "    <tr>\n",
       "      <th>1</th>\n",
       "      <td>4696</td>\n",
       "      <td>0</td>\n",
       "    </tr>\n",
       "  </tbody>\n",
       "</table>\n",
       "</div>"
      ],
      "text/plain": [
       "col_0        0   1\n",
       "Revente           \n",
       "0        20657  24\n",
       "1         4696   0"
      ]
     },
     "execution_count": 23,
     "metadata": {},
     "output_type": "execute_result"
    }
   ],
   "source": [
    "y_pred_1=model1.predict(X_test)\n",
    "pd.crosstab(y_test, y_pred_1)\n"
   ]
  },
  {
   "cell_type": "code",
   "execution_count": 24,
   "id": "5d234f8a",
   "metadata": {},
   "outputs": [
    {
     "name": "stdout",
     "output_type": "stream",
     "text": [
      "              precision    recall  f1-score   support\n",
      "\n",
      "           0       0.81      1.00      0.90     20681\n",
      "           1       0.00      0.00      0.00      4696\n",
      "\n",
      "    accuracy                           0.81     25377\n",
      "   macro avg       0.41      0.50      0.45     25377\n",
      "weighted avg       0.66      0.81      0.73     25377\n",
      "\n"
     ]
    }
   ],
   "source": [
    "print(classification_report(y_test, y_pred_1))"
   ]
  },
  {
   "cell_type": "code",
   "execution_count": null,
   "id": "5b381fe5",
   "metadata": {},
   "outputs": [],
   "source": []
  },
  {
   "cell_type": "code",
   "execution_count": 25,
   "id": "9e9f91a9",
   "metadata": {},
   "outputs": [
    {
     "data": {
      "text/plain": [
       "0.7882728454900106"
      ]
     },
     "execution_count": 25,
     "metadata": {},
     "output_type": "execute_result"
    }
   ],
   "source": [
    "# Deuxième modèle : https://scikit-learn.org/stable/modules/generated/sklearn.neighbors.KNeighborsClassifier.html\n",
    "\n",
    "from sklearn.neighbors import KNeighborsClassifier\n",
    "\n",
    "model2=KNeighborsClassifier()\n",
    "model2.fit(X_train, y_train)\n",
    "model2.score(X_test, y_test)\n"
   ]
  },
  {
   "cell_type": "code",
   "execution_count": 26,
   "id": "f46644b9",
   "metadata": {},
   "outputs": [
    {
     "data": {
      "text/html": [
       "<div>\n",
       "<style scoped>\n",
       "    .dataframe tbody tr th:only-of-type {\n",
       "        vertical-align: middle;\n",
       "    }\n",
       "\n",
       "    .dataframe tbody tr th {\n",
       "        vertical-align: top;\n",
       "    }\n",
       "\n",
       "    .dataframe thead th {\n",
       "        text-align: right;\n",
       "    }\n",
       "</style>\n",
       "<table border=\"1\" class=\"dataframe\">\n",
       "  <thead>\n",
       "    <tr style=\"text-align: right;\">\n",
       "      <th>col_0</th>\n",
       "      <th>0</th>\n",
       "      <th>1</th>\n",
       "    </tr>\n",
       "    <tr>\n",
       "      <th>Revente</th>\n",
       "      <th></th>\n",
       "      <th></th>\n",
       "    </tr>\n",
       "  </thead>\n",
       "  <tbody>\n",
       "    <tr>\n",
       "      <th>0</th>\n",
       "      <td>19072</td>\n",
       "      <td>1609</td>\n",
       "    </tr>\n",
       "    <tr>\n",
       "      <th>1</th>\n",
       "      <td>3764</td>\n",
       "      <td>932</td>\n",
       "    </tr>\n",
       "  </tbody>\n",
       "</table>\n",
       "</div>"
      ],
      "text/plain": [
       "col_0        0     1\n",
       "Revente             \n",
       "0        19072  1609\n",
       "1         3764   932"
      ]
     },
     "execution_count": 26,
     "metadata": {},
     "output_type": "execute_result"
    }
   ],
   "source": [
    "y_pred_2=model2.predict(X_test)\n",
    "pd.crosstab(y_test, y_pred_2)\n"
   ]
  },
  {
   "cell_type": "code",
   "execution_count": 27,
   "id": "cdee1bdc",
   "metadata": {},
   "outputs": [
    {
     "name": "stdout",
     "output_type": "stream",
     "text": [
      "              precision    recall  f1-score   support\n",
      "\n",
      "           0       0.84      0.92      0.88     20681\n",
      "           1       0.37      0.20      0.26      4696\n",
      "\n",
      "    accuracy                           0.79     25377\n",
      "   macro avg       0.60      0.56      0.57     25377\n",
      "weighted avg       0.75      0.79      0.76     25377\n",
      "\n"
     ]
    }
   ],
   "source": [
    "print(classification_report(y_test, y_pred_2))"
   ]
  },
  {
   "cell_type": "code",
   "execution_count": 28,
   "id": "057dca9e",
   "metadata": {},
   "outputs": [
    {
     "data": {
      "text/plain": [
       "0.8685029751349648"
      ]
     },
     "execution_count": 28,
     "metadata": {},
     "output_type": "execute_result"
    }
   ],
   "source": [
    "# Troisième modèle : https://scikit-learn.org/stable/modules/generated/sklearn.ensemble.RandomForestClassifier.html\n",
    "from sklearn.ensemble import RandomForestClassifier\n",
    "\n",
    "model3=RandomForestClassifier()\n",
    "model3.fit(X_train, y_train)\n",
    "model3.score(X_test, y_test)\n"
   ]
  },
  {
   "cell_type": "code",
   "execution_count": 29,
   "id": "4c5df935",
   "metadata": {},
   "outputs": [
    {
     "data": {
      "text/html": [
       "<div>\n",
       "<style scoped>\n",
       "    .dataframe tbody tr th:only-of-type {\n",
       "        vertical-align: middle;\n",
       "    }\n",
       "\n",
       "    .dataframe tbody tr th {\n",
       "        vertical-align: top;\n",
       "    }\n",
       "\n",
       "    .dataframe thead th {\n",
       "        text-align: right;\n",
       "    }\n",
       "</style>\n",
       "<table border=\"1\" class=\"dataframe\">\n",
       "  <thead>\n",
       "    <tr style=\"text-align: right;\">\n",
       "      <th>col_0</th>\n",
       "      <th>0</th>\n",
       "      <th>1</th>\n",
       "    </tr>\n",
       "    <tr>\n",
       "      <th>Revente</th>\n",
       "      <th></th>\n",
       "      <th></th>\n",
       "    </tr>\n",
       "  </thead>\n",
       "  <tbody>\n",
       "    <tr>\n",
       "      <th>0</th>\n",
       "      <td>19247</td>\n",
       "      <td>1434</td>\n",
       "    </tr>\n",
       "    <tr>\n",
       "      <th>1</th>\n",
       "      <td>1903</td>\n",
       "      <td>2793</td>\n",
       "    </tr>\n",
       "  </tbody>\n",
       "</table>\n",
       "</div>"
      ],
      "text/plain": [
       "col_0        0     1\n",
       "Revente             \n",
       "0        19247  1434\n",
       "1         1903  2793"
      ]
     },
     "execution_count": 29,
     "metadata": {},
     "output_type": "execute_result"
    }
   ],
   "source": [
    "y_pred_3=model3.predict(X_test)\n",
    "pd.crosstab(y_test, y_pred_3)\n"
   ]
  },
  {
   "cell_type": "code",
   "execution_count": 30,
   "id": "cf16f383",
   "metadata": {},
   "outputs": [
    {
     "name": "stdout",
     "output_type": "stream",
     "text": [
      "              precision    recall  f1-score   support\n",
      "\n",
      "           0       0.91      0.93      0.92     20681\n",
      "           1       0.66      0.59      0.63      4696\n",
      "\n",
      "    accuracy                           0.87     25377\n",
      "   macro avg       0.79      0.76      0.77     25377\n",
      "weighted avg       0.86      0.87      0.87     25377\n",
      "\n"
     ]
    }
   ],
   "source": [
    "print(classification_report(y_test, y_pred_3))"
   ]
  },
  {
   "cell_type": "code",
   "execution_count": 31,
   "id": "73b11c5b",
   "metadata": {},
   "outputs": [
    {
     "data": {
      "text/html": [
       "<div>\n",
       "<style scoped>\n",
       "    .dataframe tbody tr th:only-of-type {\n",
       "        vertical-align: middle;\n",
       "    }\n",
       "\n",
       "    .dataframe tbody tr th {\n",
       "        vertical-align: top;\n",
       "    }\n",
       "\n",
       "    .dataframe thead th {\n",
       "        text-align: right;\n",
       "    }\n",
       "</style>\n",
       "<table border=\"1\" class=\"dataframe\">\n",
       "  <thead>\n",
       "    <tr style=\"text-align: right;\">\n",
       "      <th></th>\n",
       "      <th>Importance</th>\n",
       "    </tr>\n",
       "  </thead>\n",
       "  <tbody>\n",
       "    <tr>\n",
       "      <th>scarrez</th>\n",
       "      <td>0.338146</td>\n",
       "    </tr>\n",
       "    <tr>\n",
       "      <th>anarnc202012_nb_lot_tot</th>\n",
       "      <td>0.133628</td>\n",
       "    </tr>\n",
       "    <tr>\n",
       "      <th>l_codinsee</th>\n",
       "      <td>0.085386</td>\n",
       "    </tr>\n",
       "    <tr>\n",
       "      <th>Commerces_bruyants</th>\n",
       "      <td>0.027413</td>\n",
       "    </tr>\n",
       "    <tr>\n",
       "      <th>nblot_2</th>\n",
       "      <td>0.016323</td>\n",
       "    </tr>\n",
       "  </tbody>\n",
       "</table>\n",
       "</div>"
      ],
      "text/plain": [
       "                         Importance\n",
       "scarrez                    0.338146\n",
       "anarnc202012_nb_lot_tot    0.133628\n",
       "l_codinsee                 0.085386\n",
       "Commerces_bruyants         0.027413\n",
       "nblot_2                    0.016323"
      ]
     },
     "execution_count": 31,
     "metadata": {},
     "output_type": "execute_result"
    }
   ],
   "source": [
    "# Affichage des meilleurs paramètres du RandomForestClassifier\n",
    "feats = {}\n",
    "for feature, importance in zip(X_train.columns, model3.feature_importances_):\n",
    "    feats[feature] = importance \n",
    "    \n",
    "importances = pd.DataFrame.from_dict(feats, orient='index').rename(columns={0: 'Importance'})\n",
    "importances.sort_values(by='Importance', ascending=False).head(5)"
   ]
  },
  {
   "cell_type": "code",
   "execution_count": 32,
   "id": "90fbfb61",
   "metadata": {},
   "outputs": [
    {
     "data": {
      "text/plain": [
       "0.8149505457697915"
      ]
     },
     "execution_count": 32,
     "metadata": {},
     "output_type": "execute_result"
    }
   ],
   "source": [
    "# Quatrième modèle : https://scikit-learn.org/stable/modules/generated/sklearn.linear_model.SGDClassifier.html\n",
    "\n",
    "from sklearn.linear_model import SGDClassifier\n",
    "\n",
    "model4=SGDClassifier()\n",
    "model4.fit(X_train, y_train)\n",
    "model4.score(X_test, y_test)\n"
   ]
  },
  {
   "cell_type": "code",
   "execution_count": 33,
   "id": "81e851ef",
   "metadata": {},
   "outputs": [
    {
     "data": {
      "text/html": [
       "<div>\n",
       "<style scoped>\n",
       "    .dataframe tbody tr th:only-of-type {\n",
       "        vertical-align: middle;\n",
       "    }\n",
       "\n",
       "    .dataframe tbody tr th {\n",
       "        vertical-align: top;\n",
       "    }\n",
       "\n",
       "    .dataframe thead th {\n",
       "        text-align: right;\n",
       "    }\n",
       "</style>\n",
       "<table border=\"1\" class=\"dataframe\">\n",
       "  <thead>\n",
       "    <tr style=\"text-align: right;\">\n",
       "      <th>col_0</th>\n",
       "      <th>0</th>\n",
       "    </tr>\n",
       "    <tr>\n",
       "      <th>Revente</th>\n",
       "      <th></th>\n",
       "    </tr>\n",
       "  </thead>\n",
       "  <tbody>\n",
       "    <tr>\n",
       "      <th>0</th>\n",
       "      <td>20681</td>\n",
       "    </tr>\n",
       "    <tr>\n",
       "      <th>1</th>\n",
       "      <td>4696</td>\n",
       "    </tr>\n",
       "  </tbody>\n",
       "</table>\n",
       "</div>"
      ],
      "text/plain": [
       "col_0        0\n",
       "Revente       \n",
       "0        20681\n",
       "1         4696"
      ]
     },
     "execution_count": 33,
     "metadata": {},
     "output_type": "execute_result"
    }
   ],
   "source": [
    "y_pred_4=model4.predict(X_test)\n",
    "pd.crosstab(y_test, y_pred_4)\n"
   ]
  },
  {
   "cell_type": "code",
   "execution_count": 34,
   "id": "e1298139",
   "metadata": {},
   "outputs": [
    {
     "name": "stdout",
     "output_type": "stream",
     "text": [
      "              precision    recall  f1-score   support\n",
      "\n",
      "           0       0.81      1.00      0.90     20681\n",
      "           1       0.00      0.00      0.00      4696\n",
      "\n",
      "    accuracy                           0.81     25377\n",
      "   macro avg       0.41      0.50      0.45     25377\n",
      "weighted avg       0.66      0.81      0.73     25377\n",
      "\n"
     ]
    },
    {
     "name": "stderr",
     "output_type": "stream",
     "text": [
      "C:\\Users\\Anne\\anaconda3\\lib\\site-packages\\sklearn\\metrics\\_classification.py:1248: UndefinedMetricWarning: Precision and F-score are ill-defined and being set to 0.0 in labels with no predicted samples. Use `zero_division` parameter to control this behavior.\n",
      "  _warn_prf(average, modifier, msg_start, len(result))\n",
      "C:\\Users\\Anne\\anaconda3\\lib\\site-packages\\sklearn\\metrics\\_classification.py:1248: UndefinedMetricWarning: Precision and F-score are ill-defined and being set to 0.0 in labels with no predicted samples. Use `zero_division` parameter to control this behavior.\n",
      "  _warn_prf(average, modifier, msg_start, len(result))\n",
      "C:\\Users\\Anne\\anaconda3\\lib\\site-packages\\sklearn\\metrics\\_classification.py:1248: UndefinedMetricWarning: Precision and F-score are ill-defined and being set to 0.0 in labels with no predicted samples. Use `zero_division` parameter to control this behavior.\n",
      "  _warn_prf(average, modifier, msg_start, len(result))\n"
     ]
    }
   ],
   "source": [
    "print(classification_report(y_test, y_pred_4))"
   ]
  },
  {
   "cell_type": "code",
   "execution_count": 35,
   "id": "c5654e46",
   "metadata": {},
   "outputs": [
    {
     "name": "stderr",
     "output_type": "stream",
     "text": [
      "C:\\Users\\Anne\\anaconda3\\lib\\site-packages\\sklearn\\linear_model\\_logistic.py:763: ConvergenceWarning: lbfgs failed to converge (status=1):\n",
      "STOP: TOTAL NO. of ITERATIONS REACHED LIMIT.\n",
      "\n",
      "Increase the number of iterations (max_iter) or scale the data as shown in:\n",
      "    https://scikit-learn.org/stable/modules/preprocessing.html\n",
      "Please also refer to the documentation for alternative solver options:\n",
      "    https://scikit-learn.org/stable/modules/linear_model.html#logistic-regression\n",
      "  n_iter_i = _check_optimize_result(\n"
     ]
    },
    {
     "data": {
      "text/plain": [
       "0.8149505457697915"
      ]
     },
     "execution_count": 35,
     "metadata": {},
     "output_type": "execute_result"
    }
   ],
   "source": [
    "# Cinquième modèle : https://scikit-learn.org/stable/modules/generated/sklearn.linear_model.LogisticRegression.html\n",
    "\n",
    "from sklearn.linear_model import LogisticRegression\n",
    "\n",
    "model5=LogisticRegression()\n",
    "model5.fit(X_train, y_train)\n",
    "model5.score(X_test, y_test)\n"
   ]
  },
  {
   "cell_type": "code",
   "execution_count": 36,
   "id": "3cc1c99c",
   "metadata": {},
   "outputs": [
    {
     "data": {
      "text/html": [
       "<div>\n",
       "<style scoped>\n",
       "    .dataframe tbody tr th:only-of-type {\n",
       "        vertical-align: middle;\n",
       "    }\n",
       "\n",
       "    .dataframe tbody tr th {\n",
       "        vertical-align: top;\n",
       "    }\n",
       "\n",
       "    .dataframe thead th {\n",
       "        text-align: right;\n",
       "    }\n",
       "</style>\n",
       "<table border=\"1\" class=\"dataframe\">\n",
       "  <thead>\n",
       "    <tr style=\"text-align: right;\">\n",
       "      <th>col_0</th>\n",
       "      <th>0</th>\n",
       "    </tr>\n",
       "    <tr>\n",
       "      <th>Revente</th>\n",
       "      <th></th>\n",
       "    </tr>\n",
       "  </thead>\n",
       "  <tbody>\n",
       "    <tr>\n",
       "      <th>0</th>\n",
       "      <td>20681</td>\n",
       "    </tr>\n",
       "    <tr>\n",
       "      <th>1</th>\n",
       "      <td>4696</td>\n",
       "    </tr>\n",
       "  </tbody>\n",
       "</table>\n",
       "</div>"
      ],
      "text/plain": [
       "col_0        0\n",
       "Revente       \n",
       "0        20681\n",
       "1         4696"
      ]
     },
     "execution_count": 36,
     "metadata": {},
     "output_type": "execute_result"
    }
   ],
   "source": [
    "y_pred_5=model5.predict(X_test)\n",
    "pd.crosstab(y_test, y_pred_5)\n"
   ]
  },
  {
   "cell_type": "code",
   "execution_count": 37,
   "id": "0ed80119",
   "metadata": {},
   "outputs": [
    {
     "name": "stdout",
     "output_type": "stream",
     "text": [
      "              precision    recall  f1-score   support\n",
      "\n",
      "           0       0.81      1.00      0.90     20681\n",
      "           1       0.00      0.00      0.00      4696\n",
      "\n",
      "    accuracy                           0.81     25377\n",
      "   macro avg       0.41      0.50      0.45     25377\n",
      "weighted avg       0.66      0.81      0.73     25377\n",
      "\n"
     ]
    },
    {
     "name": "stderr",
     "output_type": "stream",
     "text": [
      "C:\\Users\\Anne\\anaconda3\\lib\\site-packages\\sklearn\\metrics\\_classification.py:1248: UndefinedMetricWarning: Precision and F-score are ill-defined and being set to 0.0 in labels with no predicted samples. Use `zero_division` parameter to control this behavior.\n",
      "  _warn_prf(average, modifier, msg_start, len(result))\n",
      "C:\\Users\\Anne\\anaconda3\\lib\\site-packages\\sklearn\\metrics\\_classification.py:1248: UndefinedMetricWarning: Precision and F-score are ill-defined and being set to 0.0 in labels with no predicted samples. Use `zero_division` parameter to control this behavior.\n",
      "  _warn_prf(average, modifier, msg_start, len(result))\n",
      "C:\\Users\\Anne\\anaconda3\\lib\\site-packages\\sklearn\\metrics\\_classification.py:1248: UndefinedMetricWarning: Precision and F-score are ill-defined and being set to 0.0 in labels with no predicted samples. Use `zero_division` parameter to control this behavior.\n",
      "  _warn_prf(average, modifier, msg_start, len(result))\n"
     ]
    }
   ],
   "source": [
    "print(classification_report(y_test, y_pred_5))"
   ]
  },
  {
   "cell_type": "code",
   "execution_count": 38,
   "id": "5a198829",
   "metadata": {},
   "outputs": [],
   "source": [
    "# Sixième modèle : https://scikit-learn.org/stable/modules/generated/sklearn.svm.SVC.html\n",
    "\n",
    "# Trop long... On le suspend\n",
    "\n",
    "#from sklearn.svm import SVC\n",
    "\n",
    "#model6=SVC(kernel=\"linear\")\n",
    "#model6.fit(X_train, y_train)\n",
    "#model6.score(X_test, y_test)\n"
   ]
  },
  {
   "cell_type": "code",
   "execution_count": 39,
   "id": "33fcba21",
   "metadata": {},
   "outputs": [],
   "source": [
    "#y_pred_6=model6.predict(X_test)\n",
    "#pd.crosstab(y_test, y_pred_6)\n"
   ]
  },
  {
   "cell_type": "code",
   "execution_count": 40,
   "id": "f432d392",
   "metadata": {},
   "outputs": [],
   "source": [
    "#print(classification_report(y_test, y_pred_6))"
   ]
  },
  {
   "cell_type": "code",
   "execution_count": 41,
   "id": "c02a8637",
   "metadata": {},
   "outputs": [
    {
     "data": {
      "text/plain": [
       "0.7982030972928242"
      ]
     },
     "execution_count": 41,
     "metadata": {},
     "output_type": "execute_result"
    }
   ],
   "source": [
    "# Septième modèle : https://scikit-learn.org/stable/modules/generated/sklearn.tree.DecisionTreeClassifier.html\n",
    "from sklearn.tree import DecisionTreeClassifier\n",
    "\n",
    "model7=DecisionTreeClassifier()\n",
    "model7.fit(X_train, y_train)\n",
    "model7.score(X_test, y_test)\n"
   ]
  },
  {
   "cell_type": "code",
   "execution_count": 42,
   "id": "f4d51f74",
   "metadata": {},
   "outputs": [
    {
     "data": {
      "text/html": [
       "<div>\n",
       "<style scoped>\n",
       "    .dataframe tbody tr th:only-of-type {\n",
       "        vertical-align: middle;\n",
       "    }\n",
       "\n",
       "    .dataframe tbody tr th {\n",
       "        vertical-align: top;\n",
       "    }\n",
       "\n",
       "    .dataframe thead th {\n",
       "        text-align: right;\n",
       "    }\n",
       "</style>\n",
       "<table border=\"1\" class=\"dataframe\">\n",
       "  <thead>\n",
       "    <tr style=\"text-align: right;\">\n",
       "      <th>col_0</th>\n",
       "      <th>0</th>\n",
       "      <th>1</th>\n",
       "    </tr>\n",
       "    <tr>\n",
       "      <th>Revente</th>\n",
       "      <th></th>\n",
       "      <th></th>\n",
       "    </tr>\n",
       "  </thead>\n",
       "  <tbody>\n",
       "    <tr>\n",
       "      <th>0</th>\n",
       "      <td>17457</td>\n",
       "      <td>3224</td>\n",
       "    </tr>\n",
       "    <tr>\n",
       "      <th>1</th>\n",
       "      <td>1897</td>\n",
       "      <td>2799</td>\n",
       "    </tr>\n",
       "  </tbody>\n",
       "</table>\n",
       "</div>"
      ],
      "text/plain": [
       "col_0        0     1\n",
       "Revente             \n",
       "0        17457  3224\n",
       "1         1897  2799"
      ]
     },
     "execution_count": 42,
     "metadata": {},
     "output_type": "execute_result"
    }
   ],
   "source": [
    "y_pred_7=model7.predict(X_test)\n",
    "pd.crosstab(y_test, y_pred_7)\n"
   ]
  },
  {
   "cell_type": "code",
   "execution_count": 43,
   "id": "e039dded",
   "metadata": {},
   "outputs": [
    {
     "name": "stdout",
     "output_type": "stream",
     "text": [
      "              precision    recall  f1-score   support\n",
      "\n",
      "           0       0.90      0.84      0.87     20681\n",
      "           1       0.46      0.60      0.52      4696\n",
      "\n",
      "    accuracy                           0.80     25377\n",
      "   macro avg       0.68      0.72      0.70     25377\n",
      "weighted avg       0.82      0.80      0.81     25377\n",
      "\n"
     ]
    }
   ],
   "source": [
    "print(classification_report(y_test, y_pred_7))"
   ]
  },
  {
   "cell_type": "code",
   "execution_count": 44,
   "id": "eda128d0",
   "metadata": {},
   "outputs": [
    {
     "data": {
      "text/html": [
       "<div>\n",
       "<style scoped>\n",
       "    .dataframe tbody tr th:only-of-type {\n",
       "        vertical-align: middle;\n",
       "    }\n",
       "\n",
       "    .dataframe tbody tr th {\n",
       "        vertical-align: top;\n",
       "    }\n",
       "\n",
       "    .dataframe thead th {\n",
       "        text-align: right;\n",
       "    }\n",
       "</style>\n",
       "<table border=\"1\" class=\"dataframe\">\n",
       "  <thead>\n",
       "    <tr style=\"text-align: right;\">\n",
       "      <th></th>\n",
       "      <th>Importance</th>\n",
       "    </tr>\n",
       "  </thead>\n",
       "  <tbody>\n",
       "    <tr>\n",
       "      <th>scarrez</th>\n",
       "      <td>0.388705</td>\n",
       "    </tr>\n",
       "    <tr>\n",
       "      <th>anarnc202012_nb_lot_tot</th>\n",
       "      <td>0.156019</td>\n",
       "    </tr>\n",
       "    <tr>\n",
       "      <th>l_codinsee</th>\n",
       "      <td>0.059007</td>\n",
       "    </tr>\n",
       "    <tr>\n",
       "      <th>Commerces_bruyants</th>\n",
       "      <td>0.019732</td>\n",
       "    </tr>\n",
       "    <tr>\n",
       "      <th>adedpe202006_mean_class_conso_ener_E</th>\n",
       "      <td>0.014520</td>\n",
       "    </tr>\n",
       "  </tbody>\n",
       "</table>\n",
       "</div>"
      ],
      "text/plain": [
       "                                      Importance\n",
       "scarrez                                 0.388705\n",
       "anarnc202012_nb_lot_tot                 0.156019\n",
       "l_codinsee                              0.059007\n",
       "Commerces_bruyants                      0.019732\n",
       "adedpe202006_mean_class_conso_ener_E    0.014520"
      ]
     },
     "execution_count": 44,
     "metadata": {},
     "output_type": "execute_result"
    }
   ],
   "source": [
    "# Affichage des meilleurs paramètres du DecisionTreeClassifier\n",
    "feats = {}\n",
    "for feature, importance in zip(X_train.columns, model7.feature_importances_):\n",
    "    feats[feature] = importance \n",
    "    \n",
    "importances = pd.DataFrame.from_dict(feats, orient='index').rename(columns={0: 'Importance'})\n",
    "importances.sort_values(by='Importance', ascending=False).head(5)"
   ]
  },
  {
   "cell_type": "code",
   "execution_count": 45,
   "id": "6de3a65e",
   "metadata": {},
   "outputs": [],
   "source": [
    "# Le meilleur score est obtenu pour le modèle de RandomForestClassifier (commentaires des scores sur doc excel Compar_scores). \n",
    "# Nous allons donc essayer d'optimiser ce modèle :"
   ]
  },
  {
   "cell_type": "code",
   "execution_count": 46,
   "id": "0cd1c212",
   "metadata": {},
   "outputs": [],
   "source": [
    "#from sklearn.model_selection import GridSearchCV \n",
    "#model3=RandomForestClassifier(random_state=123)"
   ]
  },
  {
   "cell_type": "code",
   "execution_count": 47,
   "id": "ec0548c4",
   "metadata": {},
   "outputs": [],
   "source": [
    "#params_model3={'max_features': ['auto', 'sqrt', 'log2'],\n",
    "   # 'max_depth' : [4,5,6,7,8],\n",
    "   # 'criterion' :['gini', 'entropy'],}"
   ]
  },
  {
   "cell_type": "code",
   "execution_count": 48,
   "id": "ca632779",
   "metadata": {},
   "outputs": [],
   "source": [
    "#CV_model3 = GridSearchCV(estimator=model3, param_grid=params_model3, cv= 5, verbose=3)\n",
    "#CV_model3.fit(X_train, y_train)"
   ]
  },
  {
   "cell_type": "code",
   "execution_count": 49,
   "id": "37228214",
   "metadata": {},
   "outputs": [],
   "source": [
    "#CV_model3.best_params_"
   ]
  },
  {
   "cell_type": "code",
   "execution_count": 50,
   "id": "070aceb4",
   "metadata": {},
   "outputs": [],
   "source": [
    "#print(\"score : {}\".format(CV_model3.score(X_test, y_test)))"
   ]
  },
  {
   "cell_type": "code",
   "execution_count": 51,
   "id": "1b688066",
   "metadata": {},
   "outputs": [],
   "source": [
    "# Prédiction du modèle\n",
    "#y_pred_CV_model3 = CV_model3.predict(X_test) "
   ]
  },
  {
   "cell_type": "code",
   "execution_count": 52,
   "id": "213c49bd",
   "metadata": {},
   "outputs": [],
   "source": [
    "# Matrice de correlation\n",
    "#pd.crosstab(y_test, y_pred_CV_model3, rownames=['Classe'], colnames=['Classe prédite par dt'])"
   ]
  },
  {
   "cell_type": "code",
   "execution_count": 53,
   "id": "688b6630",
   "metadata": {},
   "outputs": [],
   "source": [
    "# Rapport de classification\n",
    "#print(classification_report(y_test, y_pred_CV_model3))"
   ]
  },
  {
   "cell_type": "code",
   "execution_count": 54,
   "id": "082b90e8",
   "metadata": {},
   "outputs": [],
   "source": [
    "# On va essayer d'améliorer le recall du RandomForestClassifier avec l'over et l'undersampling "
   ]
  },
  {
   "cell_type": "code",
   "execution_count": 55,
   "id": "89912e20",
   "metadata": {},
   "outputs": [],
   "source": [
    "# OVERSAMPLING & UNDERSAMPLING \n",
    "\n",
    "# La classification sur données déséquilibrées est un problème de classification où l'échantillon d'apprentissage \n",
    "# contient une forte disparité entre les classes à prédire.\n",
    "# Ce problème revient fréquemment dans les problèmes de classifications binaires. "
   ]
  },
  {
   "cell_type": "code",
   "execution_count": 56,
   "id": "1369978e",
   "metadata": {},
   "outputs": [],
   "source": [
    "# OVERSAMPLING = Les méthodes d'Oversampling fonctionnent en augmentant le nombre d'observations \n",
    "# de la / des classes minoritaires afin d'arriver à un ratio classe minoritaire / classe majoritaire satisfaisant."
   ]
  },
  {
   "cell_type": "code",
   "execution_count": 57,
   "id": "fd9b97f3",
   "metadata": {},
   "outputs": [],
   "source": [
    "# 1ère méthode d'Oversampling = OVERSAMPLING ALEATOIRE\n",
    "\n",
    "from imblearn.over_sampling import RandomOverSampler\n",
    "from imblearn.metrics import classification_report_imbalanced"
   ]
  },
  {
   "cell_type": "code",
   "execution_count": 58,
   "id": "2685ec73",
   "metadata": {},
   "outputs": [
    {
     "name": "stdout",
     "output_type": "stream",
     "text": [
      "0    61755\n",
      "1    61755\n",
      "Name: Revente, dtype: int64\n"
     ]
    }
   ],
   "source": [
    "ros = RandomOverSampler()\n",
    "X_ro, y_ro = ros.fit_resample(X_train, y_train)\n",
    "print(y_ro.value_counts())\n"
   ]
  },
  {
   "cell_type": "code",
   "execution_count": 59,
   "id": "621fcd84",
   "metadata": {},
   "outputs": [
    {
     "data": {
      "text/html": [
       "<div>\n",
       "<style scoped>\n",
       "    .dataframe tbody tr th:only-of-type {\n",
       "        vertical-align: middle;\n",
       "    }\n",
       "\n",
       "    .dataframe tbody tr th {\n",
       "        vertical-align: top;\n",
       "    }\n",
       "\n",
       "    .dataframe thead th {\n",
       "        text-align: right;\n",
       "    }\n",
       "</style>\n",
       "<table border=\"1\" class=\"dataframe\">\n",
       "  <thead>\n",
       "    <tr style=\"text-align: right;\">\n",
       "      <th>Classe prédite</th>\n",
       "      <th>0</th>\n",
       "      <th>1</th>\n",
       "    </tr>\n",
       "    <tr>\n",
       "      <th>Classe réelle</th>\n",
       "      <th></th>\n",
       "      <th></th>\n",
       "    </tr>\n",
       "  </thead>\n",
       "  <tbody>\n",
       "    <tr>\n",
       "      <th>0</th>\n",
       "      <td>18913</td>\n",
       "      <td>1768</td>\n",
       "    </tr>\n",
       "    <tr>\n",
       "      <th>1</th>\n",
       "      <td>1696</td>\n",
       "      <td>3000</td>\n",
       "    </tr>\n",
       "  </tbody>\n",
       "</table>\n",
       "</div>"
      ],
      "text/plain": [
       "Classe prédite      0     1\n",
       "Classe réelle              \n",
       "0               18913  1768\n",
       "1                1696  3000"
      ]
     },
     "execution_count": 59,
     "metadata": {},
     "output_type": "execute_result"
    }
   ],
   "source": [
    "model3.fit(X_ro, y_ro)\n",
    "y_pred = model3.predict(X_test)\n",
    "cm = pd.crosstab(y_test, y_pred, rownames=['Classe réelle'], colnames=['Classe prédite'])\n",
    "cm"
   ]
  },
  {
   "cell_type": "code",
   "execution_count": 60,
   "id": "3b5ef7c8",
   "metadata": {},
   "outputs": [
    {
     "name": "stdout",
     "output_type": "stream",
     "text": [
      "              precision    recall  f1-score   support\n",
      "\n",
      "           0       0.92      0.91      0.92     20681\n",
      "           1       0.63      0.64      0.63      4696\n",
      "\n",
      "    accuracy                           0.86     25377\n",
      "   macro avg       0.77      0.78      0.78     25377\n",
      "weighted avg       0.86      0.86      0.86     25377\n",
      "\n"
     ]
    }
   ],
   "source": [
    "print(classification_report(y_test, y_pred))"
   ]
  },
  {
   "cell_type": "code",
   "execution_count": 61,
   "id": "25945155",
   "metadata": {},
   "outputs": [],
   "source": [
    "# 2ème méthode d'Oversampling = SMOTE\n",
    "\n",
    "from imblearn.over_sampling import SMOTE"
   ]
  },
  {
   "cell_type": "code",
   "execution_count": 62,
   "id": "a1e2c59c",
   "metadata": {},
   "outputs": [
    {
     "name": "stdout",
     "output_type": "stream",
     "text": [
      "0    61755\n",
      "1    61755\n",
      "Name: Revente, dtype: int64\n"
     ]
    }
   ],
   "source": [
    "sm = SMOTE()\n",
    "X_sm, y_sm = sm.fit_resample(X_train, y_train)\n",
    "print(y_sm.value_counts())"
   ]
  },
  {
   "cell_type": "code",
   "execution_count": 63,
   "id": "1febd976",
   "metadata": {},
   "outputs": [
    {
     "data": {
      "text/html": [
       "<div>\n",
       "<style scoped>\n",
       "    .dataframe tbody tr th:only-of-type {\n",
       "        vertical-align: middle;\n",
       "    }\n",
       "\n",
       "    .dataframe tbody tr th {\n",
       "        vertical-align: top;\n",
       "    }\n",
       "\n",
       "    .dataframe thead th {\n",
       "        text-align: right;\n",
       "    }\n",
       "</style>\n",
       "<table border=\"1\" class=\"dataframe\">\n",
       "  <thead>\n",
       "    <tr style=\"text-align: right;\">\n",
       "      <th>Classe prédite</th>\n",
       "      <th>0</th>\n",
       "      <th>1</th>\n",
       "    </tr>\n",
       "    <tr>\n",
       "      <th>Classe réelle</th>\n",
       "      <th></th>\n",
       "      <th></th>\n",
       "    </tr>\n",
       "  </thead>\n",
       "  <tbody>\n",
       "    <tr>\n",
       "      <th>0</th>\n",
       "      <td>18642</td>\n",
       "      <td>2039</td>\n",
       "    </tr>\n",
       "    <tr>\n",
       "      <th>1</th>\n",
       "      <td>1793</td>\n",
       "      <td>2903</td>\n",
       "    </tr>\n",
       "  </tbody>\n",
       "</table>\n",
       "</div>"
      ],
      "text/plain": [
       "Classe prédite      0     1\n",
       "Classe réelle              \n",
       "0               18642  2039\n",
       "1                1793  2903"
      ]
     },
     "execution_count": 63,
     "metadata": {},
     "output_type": "execute_result"
    }
   ],
   "source": [
    "model3.fit(X_sm, y_sm)\n",
    "y_pred = model3.predict(X_test)\n",
    "cm = pd.crosstab(y_test, y_pred, rownames=['Classe réelle'], colnames=['Classe prédite'])\n",
    "cm"
   ]
  },
  {
   "cell_type": "code",
   "execution_count": 64,
   "id": "01964e7e",
   "metadata": {},
   "outputs": [
    {
     "name": "stdout",
     "output_type": "stream",
     "text": [
      "              precision    recall  f1-score   support\n",
      "\n",
      "           0       0.91      0.90      0.91     20681\n",
      "           1       0.59      0.62      0.60      4696\n",
      "\n",
      "    accuracy                           0.85     25377\n",
      "   macro avg       0.75      0.76      0.75     25377\n",
      "weighted avg       0.85      0.85      0.85     25377\n",
      "\n"
     ]
    }
   ],
   "source": [
    "print(classification_report(y_test, y_pred))"
   ]
  },
  {
   "cell_type": "code",
   "execution_count": 65,
   "id": "bb57f7cd",
   "metadata": {},
   "outputs": [],
   "source": [
    "# 3ème méthode d'Oversampling : ADASYN\n",
    "# https://imbalanced-learn.org/stable/references/generated/imblearn.over_sampling.ADASYN.html\n",
    "\n",
    "\n",
    "from imblearn.over_sampling import ADASYN"
   ]
  },
  {
   "cell_type": "code",
   "execution_count": 66,
   "id": "e267926e",
   "metadata": {},
   "outputs": [
    {
     "name": "stdout",
     "output_type": "stream",
     "text": [
      "1    63746\n",
      "0    61755\n",
      "Name: Revente, dtype: int64\n"
     ]
    }
   ],
   "source": [
    "adsyn = ADASYN()\n",
    "X_adsyn, y_adsyn = adsyn.fit_resample(X_train, y_train)\n",
    "print(y_adsyn.value_counts())"
   ]
  },
  {
   "cell_type": "code",
   "execution_count": 67,
   "id": "85562040",
   "metadata": {},
   "outputs": [
    {
     "data": {
      "text/html": [
       "<div>\n",
       "<style scoped>\n",
       "    .dataframe tbody tr th:only-of-type {\n",
       "        vertical-align: middle;\n",
       "    }\n",
       "\n",
       "    .dataframe tbody tr th {\n",
       "        vertical-align: top;\n",
       "    }\n",
       "\n",
       "    .dataframe thead th {\n",
       "        text-align: right;\n",
       "    }\n",
       "</style>\n",
       "<table border=\"1\" class=\"dataframe\">\n",
       "  <thead>\n",
       "    <tr style=\"text-align: right;\">\n",
       "      <th>Classe prédite</th>\n",
       "      <th>0</th>\n",
       "      <th>1</th>\n",
       "    </tr>\n",
       "    <tr>\n",
       "      <th>Classe réelle</th>\n",
       "      <th></th>\n",
       "      <th></th>\n",
       "    </tr>\n",
       "  </thead>\n",
       "  <tbody>\n",
       "    <tr>\n",
       "      <th>0</th>\n",
       "      <td>18561</td>\n",
       "      <td>2120</td>\n",
       "    </tr>\n",
       "    <tr>\n",
       "      <th>1</th>\n",
       "      <td>1782</td>\n",
       "      <td>2914</td>\n",
       "    </tr>\n",
       "  </tbody>\n",
       "</table>\n",
       "</div>"
      ],
      "text/plain": [
       "Classe prédite      0     1\n",
       "Classe réelle              \n",
       "0               18561  2120\n",
       "1                1782  2914"
      ]
     },
     "execution_count": 67,
     "metadata": {},
     "output_type": "execute_result"
    }
   ],
   "source": [
    "model3.fit(X_adsyn, y_adsyn)\n",
    "y_pred = model3.predict(X_test)\n",
    "cm = pd.crosstab(y_test, y_pred, rownames=['Classe réelle'], colnames=['Classe prédite'])\n",
    "cm"
   ]
  },
  {
   "cell_type": "code",
   "execution_count": 68,
   "id": "eef0f1d6",
   "metadata": {},
   "outputs": [
    {
     "name": "stdout",
     "output_type": "stream",
     "text": [
      "              precision    recall  f1-score   support\n",
      "\n",
      "           0       0.91      0.90      0.90     20681\n",
      "           1       0.58      0.62      0.60      4696\n",
      "\n",
      "    accuracy                           0.85     25377\n",
      "   macro avg       0.75      0.76      0.75     25377\n",
      "weighted avg       0.85      0.85      0.85     25377\n",
      "\n"
     ]
    }
   ],
   "source": [
    "print(classification_report(y_test, y_pred))"
   ]
  },
  {
   "cell_type": "code",
   "execution_count": 69,
   "id": "81ff8747",
   "metadata": {},
   "outputs": [],
   "source": [
    "# 4 ème méthode d'Oversampling : BORDERLINE smote\n",
    "# https://imbalanced-learn.org/stable/references/generated/imblearn.over_sampling.BorderlineSMOTE.html\n",
    "\n",
    "from imblearn.over_sampling import BorderlineSMOTE"
   ]
  },
  {
   "cell_type": "code",
   "execution_count": 70,
   "id": "dc415a62",
   "metadata": {},
   "outputs": [
    {
     "name": "stdout",
     "output_type": "stream",
     "text": [
      "0    61755\n",
      "1    61755\n",
      "Name: Revente, dtype: int64\n"
     ]
    }
   ],
   "source": [
    "bdls = BorderlineSMOTE()\n",
    "X_bdls, y_bdls = bdls.fit_resample(X_train, y_train)\n",
    "print(y_bdls.value_counts())"
   ]
  },
  {
   "cell_type": "code",
   "execution_count": 71,
   "id": "0ede4d7f",
   "metadata": {},
   "outputs": [
    {
     "data": {
      "text/html": [
       "<div>\n",
       "<style scoped>\n",
       "    .dataframe tbody tr th:only-of-type {\n",
       "        vertical-align: middle;\n",
       "    }\n",
       "\n",
       "    .dataframe tbody tr th {\n",
       "        vertical-align: top;\n",
       "    }\n",
       "\n",
       "    .dataframe thead th {\n",
       "        text-align: right;\n",
       "    }\n",
       "</style>\n",
       "<table border=\"1\" class=\"dataframe\">\n",
       "  <thead>\n",
       "    <tr style=\"text-align: right;\">\n",
       "      <th>Classe prédite</th>\n",
       "      <th>0</th>\n",
       "      <th>1</th>\n",
       "    </tr>\n",
       "    <tr>\n",
       "      <th>Classe réelle</th>\n",
       "      <th></th>\n",
       "      <th></th>\n",
       "    </tr>\n",
       "  </thead>\n",
       "  <tbody>\n",
       "    <tr>\n",
       "      <th>0</th>\n",
       "      <td>18636</td>\n",
       "      <td>2045</td>\n",
       "    </tr>\n",
       "    <tr>\n",
       "      <th>1</th>\n",
       "      <td>1814</td>\n",
       "      <td>2882</td>\n",
       "    </tr>\n",
       "  </tbody>\n",
       "</table>\n",
       "</div>"
      ],
      "text/plain": [
       "Classe prédite      0     1\n",
       "Classe réelle              \n",
       "0               18636  2045\n",
       "1                1814  2882"
      ]
     },
     "execution_count": 71,
     "metadata": {},
     "output_type": "execute_result"
    }
   ],
   "source": [
    "model3.fit(X_bdls, y_bdls)\n",
    "y_pred = model3.predict(X_test)\n",
    "cm = pd.crosstab(y_test, y_pred, rownames=['Classe réelle'], colnames=['Classe prédite'])\n",
    "cm"
   ]
  },
  {
   "cell_type": "code",
   "execution_count": 72,
   "id": "812ca74c",
   "metadata": {},
   "outputs": [
    {
     "name": "stdout",
     "output_type": "stream",
     "text": [
      "              precision    recall  f1-score   support\n",
      "\n",
      "           0       0.91      0.90      0.91     20681\n",
      "           1       0.58      0.61      0.60      4696\n",
      "\n",
      "    accuracy                           0.85     25377\n",
      "   macro avg       0.75      0.76      0.75     25377\n",
      "weighted avg       0.85      0.85      0.85     25377\n",
      "\n"
     ]
    }
   ],
   "source": [
    "print(classification_report(y_test, y_pred))"
   ]
  },
  {
   "cell_type": "code",
   "execution_count": 73,
   "id": "11b25b71",
   "metadata": {},
   "outputs": [],
   "source": [
    "# UNDERSAMPLING = Les méthodes d'Undersampling fonctionnent en diminuant le nombre d'observations \n",
    "# de la / des classes majoritaires afin d'arriver à un ratio classe minoritaire / classe majoritaire satisfaisant."
   ]
  },
  {
   "cell_type": "code",
   "execution_count": 74,
   "id": "8eea64e1",
   "metadata": {},
   "outputs": [],
   "source": [
    "# UNDERSAMPLING ALEATOIRE\n",
    "from imblearn.under_sampling import RandomUnderSampler"
   ]
  },
  {
   "cell_type": "code",
   "execution_count": 75,
   "id": "bc99a96a",
   "metadata": {},
   "outputs": [
    {
     "name": "stdout",
     "output_type": "stream",
     "text": [
      "0    14375\n",
      "1    14375\n",
      "Name: Revente, dtype: int64\n"
     ]
    }
   ],
   "source": [
    "RUS=RandomUnderSampler()\n",
    "X_ru, y_ru=RUS.fit_resample(X_train, y_train)\n",
    "print(y_ru.value_counts())"
   ]
  },
  {
   "cell_type": "code",
   "execution_count": 76,
   "id": "ca274d1d",
   "metadata": {},
   "outputs": [
    {
     "data": {
      "text/html": [
       "<div>\n",
       "<style scoped>\n",
       "    .dataframe tbody tr th:only-of-type {\n",
       "        vertical-align: middle;\n",
       "    }\n",
       "\n",
       "    .dataframe tbody tr th {\n",
       "        vertical-align: top;\n",
       "    }\n",
       "\n",
       "    .dataframe thead th {\n",
       "        text-align: right;\n",
       "    }\n",
       "</style>\n",
       "<table border=\"1\" class=\"dataframe\">\n",
       "  <thead>\n",
       "    <tr style=\"text-align: right;\">\n",
       "      <th>Classe prédite</th>\n",
       "      <th>0</th>\n",
       "      <th>1</th>\n",
       "    </tr>\n",
       "    <tr>\n",
       "      <th>Classe réelle</th>\n",
       "      <th></th>\n",
       "      <th></th>\n",
       "    </tr>\n",
       "  </thead>\n",
       "  <tbody>\n",
       "    <tr>\n",
       "      <th>0</th>\n",
       "      <td>14175</td>\n",
       "      <td>6506</td>\n",
       "    </tr>\n",
       "    <tr>\n",
       "      <th>1</th>\n",
       "      <td>978</td>\n",
       "      <td>3718</td>\n",
       "    </tr>\n",
       "  </tbody>\n",
       "</table>\n",
       "</div>"
      ],
      "text/plain": [
       "Classe prédite      0     1\n",
       "Classe réelle              \n",
       "0               14175  6506\n",
       "1                 978  3718"
      ]
     },
     "execution_count": 76,
     "metadata": {},
     "output_type": "execute_result"
    }
   ],
   "source": [
    "model3.fit(X_ru, y_ru)\n",
    "y_pred = model3.predict(X_test)\n",
    "cm = pd.crosstab(y_test, y_pred, rownames=['Classe réelle'], colnames=['Classe prédite'])\n",
    "cm"
   ]
  },
  {
   "cell_type": "code",
   "execution_count": 77,
   "id": "6d95ccf1",
   "metadata": {},
   "outputs": [
    {
     "name": "stdout",
     "output_type": "stream",
     "text": [
      "              precision    recall  f1-score   support\n",
      "\n",
      "           0       0.94      0.69      0.79     20681\n",
      "           1       0.36      0.79      0.50      4696\n",
      "\n",
      "    accuracy                           0.71     25377\n",
      "   macro avg       0.65      0.74      0.64     25377\n",
      "weighted avg       0.83      0.71      0.74     25377\n",
      "\n"
     ]
    }
   ],
   "source": [
    "print(classification_report(y_test, y_pred))"
   ]
  },
  {
   "cell_type": "code",
   "execution_count": 78,
   "id": "12e87f15",
   "metadata": {},
   "outputs": [
    {
     "data": {
      "text/plain": [
       "0.8687788154628207"
      ]
     },
     "execution_count": 78,
     "metadata": {},
     "output_type": "execute_result"
    }
   ],
   "source": [
    "# PARAMETRE CLASS_WEIGHT : nous allons donner plus de poids à la classe 1 (70% au lieu de 50%)\n",
    "\n",
    "model3=RandomForestClassifier(class_weight={0: 0.30, 1: 0.70})\n",
    "model3.fit(X_train, y_train)\n",
    "model3.score(X_test, y_test)\n"
   ]
  },
  {
   "cell_type": "code",
   "execution_count": 79,
   "id": "cd8ebe64",
   "metadata": {},
   "outputs": [
    {
     "data": {
      "text/html": [
       "<div>\n",
       "<style scoped>\n",
       "    .dataframe tbody tr th:only-of-type {\n",
       "        vertical-align: middle;\n",
       "    }\n",
       "\n",
       "    .dataframe tbody tr th {\n",
       "        vertical-align: top;\n",
       "    }\n",
       "\n",
       "    .dataframe thead th {\n",
       "        text-align: right;\n",
       "    }\n",
       "</style>\n",
       "<table border=\"1\" class=\"dataframe\">\n",
       "  <thead>\n",
       "    <tr style=\"text-align: right;\">\n",
       "      <th>col_0</th>\n",
       "      <th>0</th>\n",
       "      <th>1</th>\n",
       "    </tr>\n",
       "    <tr>\n",
       "      <th>Revente</th>\n",
       "      <th></th>\n",
       "      <th></th>\n",
       "    </tr>\n",
       "  </thead>\n",
       "  <tbody>\n",
       "    <tr>\n",
       "      <th>0</th>\n",
       "      <td>19262</td>\n",
       "      <td>1419</td>\n",
       "    </tr>\n",
       "    <tr>\n",
       "      <th>1</th>\n",
       "      <td>1911</td>\n",
       "      <td>2785</td>\n",
       "    </tr>\n",
       "  </tbody>\n",
       "</table>\n",
       "</div>"
      ],
      "text/plain": [
       "col_0        0     1\n",
       "Revente             \n",
       "0        19262  1419\n",
       "1         1911  2785"
      ]
     },
     "execution_count": 79,
     "metadata": {},
     "output_type": "execute_result"
    }
   ],
   "source": [
    "y_pred_3=model3.predict(X_test)\n",
    "pd.crosstab(y_test, y_pred_3)"
   ]
  },
  {
   "cell_type": "code",
   "execution_count": 80,
   "id": "c3966faa",
   "metadata": {},
   "outputs": [
    {
     "name": "stdout",
     "output_type": "stream",
     "text": [
      "              precision    recall  f1-score   support\n",
      "\n",
      "           0       0.91      0.93      0.92     20681\n",
      "           1       0.66      0.59      0.63      4696\n",
      "\n",
      "    accuracy                           0.87     25377\n",
      "   macro avg       0.79      0.76      0.77     25377\n",
      "weighted avg       0.86      0.87      0.87     25377\n",
      "\n"
     ]
    }
   ],
   "source": [
    "print(classification_report(y_test, y_pred_3))"
   ]
  },
  {
   "cell_type": "code",
   "execution_count": 81,
   "id": "a079461b",
   "metadata": {},
   "outputs": [],
   "source": [
    "# MODIFICATION DU SEUIL DE PROBA à 0.3"
   ]
  },
  {
   "cell_type": "code",
   "execution_count": 82,
   "id": "f9c53d66",
   "metadata": {},
   "outputs": [
    {
     "data": {
      "text/html": [
       "<div>\n",
       "<style scoped>\n",
       "    .dataframe tbody tr th:only-of-type {\n",
       "        vertical-align: middle;\n",
       "    }\n",
       "\n",
       "    .dataframe tbody tr th {\n",
       "        vertical-align: top;\n",
       "    }\n",
       "\n",
       "    .dataframe thead th {\n",
       "        text-align: right;\n",
       "    }\n",
       "</style>\n",
       "<table border=\"1\" class=\"dataframe\">\n",
       "  <thead>\n",
       "    <tr style=\"text-align: right;\">\n",
       "      <th>col_0</th>\n",
       "      <th>0</th>\n",
       "      <th>1</th>\n",
       "    </tr>\n",
       "    <tr>\n",
       "      <th>Revente</th>\n",
       "      <th></th>\n",
       "      <th></th>\n",
       "    </tr>\n",
       "  </thead>\n",
       "  <tbody>\n",
       "    <tr>\n",
       "      <th>0</th>\n",
       "      <td>17982</td>\n",
       "      <td>2699</td>\n",
       "    </tr>\n",
       "    <tr>\n",
       "      <th>1</th>\n",
       "      <td>1503</td>\n",
       "      <td>3193</td>\n",
       "    </tr>\n",
       "  </tbody>\n",
       "</table>\n",
       "</div>"
      ],
      "text/plain": [
       "col_0        0     1\n",
       "Revente             \n",
       "0        17982  2699\n",
       "1         1503  3193"
      ]
     },
     "execution_count": 82,
     "metadata": {},
     "output_type": "execute_result"
    }
   ],
   "source": [
    "model3=RandomForestClassifier()\n",
    "model3.fit(X_train, y_train)\n",
    "\n",
    "threshold = 0.3\n",
    "\n",
    "probs = model3.predict_proba(X_test)\n",
    "pred_class = (probs[:,1]>=threshold).astype('int')\n",
    "\n",
    "pd.crosstab(y_test, pred_class)"
   ]
  },
  {
   "cell_type": "code",
   "execution_count": 83,
   "id": "890d3c4a",
   "metadata": {},
   "outputs": [
    {
     "name": "stdout",
     "output_type": "stream",
     "text": [
      "              precision    recall  f1-score   support\n",
      "\n",
      "           0       0.92      0.87      0.90     20681\n",
      "           1       0.54      0.68      0.60      4696\n",
      "\n",
      "    accuracy                           0.83     25377\n",
      "   macro avg       0.73      0.77      0.75     25377\n",
      "weighted avg       0.85      0.83      0.84     25377\n",
      "\n"
     ]
    }
   ],
   "source": [
    "print(classification_report(y_test, pred_class))"
   ]
  },
  {
   "cell_type": "code",
   "execution_count": 84,
   "id": "099e587a",
   "metadata": {},
   "outputs": [],
   "source": [
    "# MODIFICATION DU SEUIL DE PROBA à 0.4"
   ]
  },
  {
   "cell_type": "code",
   "execution_count": 85,
   "id": "40170181",
   "metadata": {},
   "outputs": [
    {
     "data": {
      "text/html": [
       "<div>\n",
       "<style scoped>\n",
       "    .dataframe tbody tr th:only-of-type {\n",
       "        vertical-align: middle;\n",
       "    }\n",
       "\n",
       "    .dataframe tbody tr th {\n",
       "        vertical-align: top;\n",
       "    }\n",
       "\n",
       "    .dataframe thead th {\n",
       "        text-align: right;\n",
       "    }\n",
       "</style>\n",
       "<table border=\"1\" class=\"dataframe\">\n",
       "  <thead>\n",
       "    <tr style=\"text-align: right;\">\n",
       "      <th>col_0</th>\n",
       "      <th>0</th>\n",
       "      <th>1</th>\n",
       "    </tr>\n",
       "    <tr>\n",
       "      <th>Revente</th>\n",
       "      <th></th>\n",
       "      <th></th>\n",
       "    </tr>\n",
       "  </thead>\n",
       "  <tbody>\n",
       "    <tr>\n",
       "      <th>0</th>\n",
       "      <td>18854</td>\n",
       "      <td>1827</td>\n",
       "    </tr>\n",
       "    <tr>\n",
       "      <th>1</th>\n",
       "      <td>1719</td>\n",
       "      <td>2977</td>\n",
       "    </tr>\n",
       "  </tbody>\n",
       "</table>\n",
       "</div>"
      ],
      "text/plain": [
       "col_0        0     1\n",
       "Revente             \n",
       "0        18854  1827\n",
       "1         1719  2977"
      ]
     },
     "execution_count": 85,
     "metadata": {},
     "output_type": "execute_result"
    }
   ],
   "source": [
    "model3=RandomForestClassifier()\n",
    "model3.fit(X_train, y_train)\n",
    "\n",
    "threshold = 0.4\n",
    "\n",
    "probs = model3.predict_proba(X_test)\n",
    "pred_class = (probs[:,1]>=threshold).astype('int')\n",
    "\n",
    "pd.crosstab(y_test, pred_class)"
   ]
  },
  {
   "cell_type": "code",
   "execution_count": 86,
   "id": "8452754d",
   "metadata": {},
   "outputs": [
    {
     "name": "stdout",
     "output_type": "stream",
     "text": [
      "              precision    recall  f1-score   support\n",
      "\n",
      "           0       0.92      0.91      0.91     20681\n",
      "           1       0.62      0.63      0.63      4696\n",
      "\n",
      "    accuracy                           0.86     25377\n",
      "   macro avg       0.77      0.77      0.77     25377\n",
      "weighted avg       0.86      0.86      0.86     25377\n",
      "\n"
     ]
    }
   ],
   "source": [
    "print(classification_report(y_test, pred_class))"
   ]
  },
  {
   "cell_type": "code",
   "execution_count": 87,
   "id": "5ab682f1",
   "metadata": {},
   "outputs": [],
   "source": [
    "#https://datascientest.com/comment-gerer-les-problemes-de-classification-desequilibree-partie-ii"
   ]
  }
 ],
 "metadata": {
  "kernelspec": {
   "display_name": "Python 3 (ipykernel)",
   "language": "python",
   "name": "python3"
  },
  "language_info": {
   "codemirror_mode": {
    "name": "ipython",
    "version": 3
   },
   "file_extension": ".py",
   "mimetype": "text/x-python",
   "name": "python",
   "nbconvert_exporter": "python",
   "pygments_lexer": "ipython3",
   "version": "3.9.7"
  }
 },
 "nbformat": 4,
 "nbformat_minor": 5
}
