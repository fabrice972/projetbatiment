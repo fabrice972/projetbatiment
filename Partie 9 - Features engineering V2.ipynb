{
 "cells": [
  {
   "cell_type": "code",
   "execution_count": 1,
   "id": "62264575",
   "metadata": {},
   "outputs": [],
   "source": [
    "import pandas as pd\n",
    "import numpy as np"
   ]
  },
  {
   "cell_type": "code",
   "execution_count": 2,
   "id": "5363104e",
   "metadata": {},
   "outputs": [
    {
     "name": "stderr",
     "output_type": "stream",
     "text": [
      "C:\\Users\\Anne\\anaconda3\\lib\\site-packages\\IPython\\core\\interactiveshell.py:3444: DtypeWarning: Columns (45,171,194,229) have mixed types.Specify dtype option on import or set low_memory=False.\n",
      "  exec(code_obj, self.user_global_ns, self.user_ns)\n"
     ]
    }
   ],
   "source": [
    "df_final=pd.read_csv(\"df_final.csv\")"
   ]
  },
  {
   "cell_type": "code",
   "execution_count": 3,
   "id": "9899316e",
   "metadata": {},
   "outputs": [
    {
     "data": {
      "text/html": [
       "<div>\n",
       "<style scoped>\n",
       "    .dataframe tbody tr th:only-of-type {\n",
       "        vertical-align: middle;\n",
       "    }\n",
       "\n",
       "    .dataframe tbody tr th {\n",
       "        vertical-align: top;\n",
       "    }\n",
       "\n",
       "    .dataframe thead th {\n",
       "        text-align: right;\n",
       "    }\n",
       "</style>\n",
       "<table border=\"1\" class=\"dataframe\">\n",
       "  <thead>\n",
       "    <tr style=\"text-align: right;\">\n",
       "      <th></th>\n",
       "      <th>geombui</th>\n",
       "      <th>bnb_id</th>\n",
       "      <th>bnb_l_geombui_id</th>\n",
       "      <th>bnb_matching_type</th>\n",
       "      <th>bnb_optim_status</th>\n",
       "      <th>bnb_sfce_geombat_m2</th>\n",
       "      <th>bnb_altitude_sol</th>\n",
       "      <th>insee_code_commune</th>\n",
       "      <th>insee_code_dept</th>\n",
       "      <th>insee_code_dept_num</th>\n",
       "      <th>...</th>\n",
       "      <th>codvoie</th>\n",
       "      <th>voie</th>\n",
       "      <th>codepostal</th>\n",
       "      <th>commune</th>\n",
       "      <th>idadrinvar</th>\n",
       "      <th>coddep_x</th>\n",
       "      <th>coddep_y</th>\n",
       "      <th>etaban_lot</th>\n",
       "      <th>qty_of_mut</th>\n",
       "      <th>y</th>\n",
       "    </tr>\n",
       "  </thead>\n",
       "  <tbody>\n",
       "    <tr>\n",
       "      <th>0</th>\n",
       "      <td>MULTIPOLYGON (((651611.7 6862718.0,651608.4 68...</td>\n",
       "      <td>75101000AS0007_dfbe38a28e3f986</td>\n",
       "      <td>(1:BATIMENT0000000245185276-6)</td>\n",
       "      <td>sp-n.1</td>\n",
       "      <td>NaN</td>\n",
       "      <td>2154.0</td>\n",
       "      <td>36.0</td>\n",
       "      <td>75101</td>\n",
       "      <td>75</td>\n",
       "      <td>75</td>\n",
       "      <td>...</td>\n",
       "      <td>4901</td>\n",
       "      <td>JEAN JACQUES ROUSSEAU</td>\n",
       "      <td>75001.0</td>\n",
       "      <td>PARIS 01</td>\n",
       "      <td>19$$4901$RUE$JEAN JACQUES ROUSSEAU$75001$PARIS 01</td>\n",
       "      <td>75</td>\n",
       "      <td>75</td>\n",
       "      <td>75101_4901_00019_93</td>\n",
       "      <td>1</td>\n",
       "      <td>0</td>\n",
       "    </tr>\n",
       "    <tr>\n",
       "      <th>1</th>\n",
       "      <td>MULTIPOLYGON (((654258.8 6861954.8,654248.9 68...</td>\n",
       "      <td>75111000BY0083_e91b43387c313a2</td>\n",
       "      <td>(9:BATIMENT0000000240744834-1,BATIMENT00000002...</td>\n",
       "      <td>sp-n.m</td>\n",
       "      <td>INFEASIBLE</td>\n",
       "      <td>NaN</td>\n",
       "      <td>31.0</td>\n",
       "      <td>75111</td>\n",
       "      <td>75</td>\n",
       "      <td>75</td>\n",
       "      <td>...</td>\n",
       "      <td>1383</td>\n",
       "      <td>BULLOURDE</td>\n",
       "      <td>75011.0</td>\n",
       "      <td>PARIS 11</td>\n",
       "      <td>5$$1383$PAS$BULLOURDE$75011$PARIS 11</td>\n",
       "      <td>75</td>\n",
       "      <td>75</td>\n",
       "      <td>75111_1383_00005_8057</td>\n",
       "      <td>1</td>\n",
       "      <td>0</td>\n",
       "    </tr>\n",
       "    <tr>\n",
       "      <th>2</th>\n",
       "      <td>MULTIPOLYGON (((650008.0 6865729.8,650017.3 68...</td>\n",
       "      <td>75117000CS0043_cdbf517e1853ed4</td>\n",
       "      <td>(1:BATIMENT0000000245175364-2)</td>\n",
       "      <td>sp-1.1</td>\n",
       "      <td>NaN</td>\n",
       "      <td>244.0</td>\n",
       "      <td>41.0</td>\n",
       "      <td>75117</td>\n",
       "      <td>75</td>\n",
       "      <td>75</td>\n",
       "      <td>...</td>\n",
       "      <td>5503</td>\n",
       "      <td>LEMERCIER</td>\n",
       "      <td>75017.0</td>\n",
       "      <td>PARIS 17</td>\n",
       "      <td>103$$5503$RUE$LEMERCIER$75017$PARIS 17</td>\n",
       "      <td>75</td>\n",
       "      <td>75</td>\n",
       "      <td>75117_5503_00103_24</td>\n",
       "      <td>1</td>\n",
       "      <td>0</td>\n",
       "    </tr>\n",
       "    <tr>\n",
       "      <th>3</th>\n",
       "      <td>MULTIPOLYGON (((649673.9 6860532.3,649680.1 68...</td>\n",
       "      <td>75115000CS0060_e2adb0db8c7947a</td>\n",
       "      <td>(1:BATIMENT0000000241921094-1)</td>\n",
       "      <td>sp-1.m</td>\n",
       "      <td>NaN</td>\n",
       "      <td>158.0</td>\n",
       "      <td>47.0</td>\n",
       "      <td>75115</td>\n",
       "      <td>75</td>\n",
       "      <td>75</td>\n",
       "      <td>...</td>\n",
       "      <td>2521</td>\n",
       "      <td>DALOU</td>\n",
       "      <td>75015.0</td>\n",
       "      <td>PARIS 15</td>\n",
       "      <td>8$$2521$RUE$DALOU$75015$PARIS 15</td>\n",
       "      <td>75</td>\n",
       "      <td>75</td>\n",
       "      <td>75115_2521_00008_19</td>\n",
       "      <td>1</td>\n",
       "      <td>0</td>\n",
       "    </tr>\n",
       "    <tr>\n",
       "      <th>4</th>\n",
       "      <td>MULTIPOLYGON (((650929.7 6865171.0,650939.1 68...</td>\n",
       "      <td>75118000AQ0016_a54663fbbbc7683</td>\n",
       "      <td>(1:BATIMENT0000000245203979-1)</td>\n",
       "      <td>sp-1.1</td>\n",
       "      <td>NaN</td>\n",
       "      <td>364.0</td>\n",
       "      <td>70.0</td>\n",
       "      <td>75118</td>\n",
       "      <td>75</td>\n",
       "      <td>75</td>\n",
       "      <td>...</td>\n",
       "      <td>2113</td>\n",
       "      <td>DE CLICHY</td>\n",
       "      <td>75018.0</td>\n",
       "      <td>PARIS 18</td>\n",
       "      <td>110$$2113$BD$DE CLICHY$75018$PARIS 18</td>\n",
       "      <td>75</td>\n",
       "      <td>75</td>\n",
       "      <td>75118_2113_00110_19</td>\n",
       "      <td>2</td>\n",
       "      <td>1</td>\n",
       "    </tr>\n",
       "  </tbody>\n",
       "</table>\n",
       "<p>5 rows × 247 columns</p>\n",
       "</div>"
      ],
      "text/plain": [
       "                                             geombui  \\\n",
       "0  MULTIPOLYGON (((651611.7 6862718.0,651608.4 68...   \n",
       "1  MULTIPOLYGON (((654258.8 6861954.8,654248.9 68...   \n",
       "2  MULTIPOLYGON (((650008.0 6865729.8,650017.3 68...   \n",
       "3  MULTIPOLYGON (((649673.9 6860532.3,649680.1 68...   \n",
       "4  MULTIPOLYGON (((650929.7 6865171.0,650939.1 68...   \n",
       "\n",
       "                           bnb_id  \\\n",
       "0  75101000AS0007_dfbe38a28e3f986   \n",
       "1  75111000BY0083_e91b43387c313a2   \n",
       "2  75117000CS0043_cdbf517e1853ed4   \n",
       "3  75115000CS0060_e2adb0db8c7947a   \n",
       "4  75118000AQ0016_a54663fbbbc7683   \n",
       "\n",
       "                                    bnb_l_geombui_id bnb_matching_type  \\\n",
       "0                     (1:BATIMENT0000000245185276-6)            sp-n.1   \n",
       "1  (9:BATIMENT0000000240744834-1,BATIMENT00000002...            sp-n.m   \n",
       "2                     (1:BATIMENT0000000245175364-2)            sp-1.1   \n",
       "3                     (1:BATIMENT0000000241921094-1)            sp-1.m   \n",
       "4                     (1:BATIMENT0000000245203979-1)            sp-1.1   \n",
       "\n",
       "  bnb_optim_status  bnb_sfce_geombat_m2  bnb_altitude_sol  insee_code_commune  \\\n",
       "0              NaN               2154.0              36.0               75101   \n",
       "1       INFEASIBLE                  NaN              31.0               75111   \n",
       "2              NaN                244.0              41.0               75117   \n",
       "3              NaN                158.0              47.0               75115   \n",
       "4              NaN                364.0              70.0               75118   \n",
       "\n",
       "   insee_code_dept  insee_code_dept_num  ...  codvoie                   voie  \\\n",
       "0               75                   75  ...     4901  JEAN JACQUES ROUSSEAU   \n",
       "1               75                   75  ...     1383              BULLOURDE   \n",
       "2               75                   75  ...     5503              LEMERCIER   \n",
       "3               75                   75  ...     2521                  DALOU   \n",
       "4               75                   75  ...     2113              DE CLICHY   \n",
       "\n",
       "  codepostal   commune                                         idadrinvar  \\\n",
       "0    75001.0  PARIS 01  19$$4901$RUE$JEAN JACQUES ROUSSEAU$75001$PARIS 01   \n",
       "1    75011.0  PARIS 11               5$$1383$PAS$BULLOURDE$75011$PARIS 11   \n",
       "2    75017.0  PARIS 17             103$$5503$RUE$LEMERCIER$75017$PARIS 17   \n",
       "3    75015.0  PARIS 15                   8$$2521$RUE$DALOU$75015$PARIS 15   \n",
       "4    75018.0  PARIS 18              110$$2113$BD$DE CLICHY$75018$PARIS 18   \n",
       "\n",
       "  coddep_x  coddep_y             etaban_lot qty_of_mut  y  \n",
       "0       75        75    75101_4901_00019_93          1  0  \n",
       "1       75        75  75111_1383_00005_8057          1  0  \n",
       "2       75        75    75117_5503_00103_24          1  0  \n",
       "3       75        75    75115_2521_00008_19          1  0  \n",
       "4       75        75    75118_2113_00110_19          2  1  \n",
       "\n",
       "[5 rows x 247 columns]"
      ]
     },
     "execution_count": 3,
     "metadata": {},
     "output_type": "execute_result"
    }
   ],
   "source": [
    "df_final.head()"
   ]
  },
  {
   "cell_type": "code",
   "execution_count": 4,
   "id": "0eaa877f",
   "metadata": {},
   "outputs": [
    {
     "name": "stdout",
     "output_type": "stream",
     "text": [
      "<class 'pandas.core.frame.DataFrame'>\n",
      "RangeIndex: 114072 entries, 0 to 114071\n",
      "Columns: 247 entries, geombui to y\n",
      "dtypes: float64(86), int64(59), object(102)\n",
      "memory usage: 215.0+ MB\n"
     ]
    }
   ],
   "source": [
    "df_final.info()"
   ]
  },
  {
   "cell_type": "code",
   "execution_count": 5,
   "id": "c80fc973",
   "metadata": {},
   "outputs": [],
   "source": [
    "# Création d'un Dataframe avec sélection variables CSTB + Cerema + variable cible \"y\" \n",
    "# + variables créées précédemment : \"etaban_lot\" + \"qty_of_mut\"\n",
    "df_selec=df_final[[\"idmutation\",\n",
    "                   \"etaban_lot\",\n",
    "                   \"qty_of_mut\",\n",
    "                   \"y\",\n",
    "                   \"idnatmut\",\n",
    "                   \"datemut\",\n",
    "                   \"anneemut\",\n",
    "                   \"moismut\",\n",
    "                   \"libnatmut\",\n",
    "                   \"vefa\",\n",
    "                   \"valeurfonc\",\n",
    "                   \"nblot\",\n",
    "                   \"nbcomm\",\n",
    "                   \"l_codinsee\",\n",
    "                   \"nblocapt\",\n",
    "                   \"nblocdep\",\n",
    "                   \"nbapt2pp\",\n",
    "                   \"nbapt3pp\",\n",
    "                   \"sbati\",\n",
    "                   \"sbatapt\",\n",
    "                   \"sbatact\",\n",
    "                   \"sapt2pp\",\n",
    "                   \"sapt3pp\",\n",
    "                   \"scarrez\",\n",
    "                   \"nolot\",\n",
    "\"anarnc202012_nb_log\",\n",
    "\"anarnc202012_nb_lot_garpark\",\n",
    "\"anarnc202012_nb_lot_tertiaire\",\n",
    "\"anarnc202012_nb_lot_tot\",\n",
    "\"etaban202111_label\",\n",
    "\"mcumer202007_id\",\n",
    "\"adedpe202006_logtype_baie_orientation\",\n",
    "\"adedpe202006_logtype_baie_type_vitrage\",\n",
    "\"adedpe202006_logtype_ch_gen_lib_princ\",\n",
    "\"adedpe202006_mean_class_conso_ener\",\n",
    "\"adedpe202006_mean_class_estim_ges\",\n",
    "\"adedpe202006_logtype_traversant\",\n",
    "\"adedpe202006_logtype_ecs_type_ener\",\n",
    "\"adedpe202006_logtype_enr\",\n",
    "\"adedpe202006_logtype_perc_surf_vitree_ext\",\n",
    "\"adedpe202006_logtype_ph_pos_isol\",\n",
    "\"adedpe202006_logtype_presence_balcon\",\n",
    "\"adedpe202006_logtype_presence_climatisation\",\n",
    "\"adedpe202006_logtype_type_batiment\",\n",
    "\"ancqpv201410_is_qpv\",\n",
    "\"arcthd2021t1_l_bat_type\",\n",
    "\"cerffo2020_annee_construction\",\n",
    "\"cerffo2020_usage_niveau_1_txt\",\n",
    "\"cerffo2020_nb_log\",\n",
    "\"geoarg2020_alea\",\n",
    "\"georad2020_alea\",\n",
    "\"igntop202103_bat_hauteur\",\n",
    "\"insbpe2019_l_type_equipement\",\n",
    "\"mcumer202007_dist500min\",\n",
    "\"mcumer202007_is_mer\",\n",
    "\"adedpe202006_logtype_s_hab\",\n",
    "\"adedpe202006_logtype_ch_type_inst\",\n",
    "\"adedpe202006_logtype_ecs_type_inst\",\n",
    "\"adedpe202006_logtype_mur_ep_mat_ext\",\n",
    "\"adedpe202006_logtype_mur_mat_ext\",\n",
    "\"adedpe202006_logtype_mur_pos_isol_ext\"]]\n"
   ]
  },
  {
   "cell_type": "code",
   "execution_count": 6,
   "id": "14516c1d",
   "metadata": {},
   "outputs": [
    {
     "data": {
      "text/html": [
       "<div>\n",
       "<style scoped>\n",
       "    .dataframe tbody tr th:only-of-type {\n",
       "        vertical-align: middle;\n",
       "    }\n",
       "\n",
       "    .dataframe tbody tr th {\n",
       "        vertical-align: top;\n",
       "    }\n",
       "\n",
       "    .dataframe thead th {\n",
       "        text-align: right;\n",
       "    }\n",
       "</style>\n",
       "<table border=\"1\" class=\"dataframe\">\n",
       "  <thead>\n",
       "    <tr style=\"text-align: right;\">\n",
       "      <th></th>\n",
       "      <th>idmutation</th>\n",
       "      <th>etaban_lot</th>\n",
       "      <th>qty_of_mut</th>\n",
       "      <th>y</th>\n",
       "      <th>idnatmut</th>\n",
       "      <th>datemut</th>\n",
       "      <th>anneemut</th>\n",
       "      <th>moismut</th>\n",
       "      <th>libnatmut</th>\n",
       "      <th>vefa</th>\n",
       "      <th>...</th>\n",
       "      <th>igntop202103_bat_hauteur</th>\n",
       "      <th>insbpe2019_l_type_equipement</th>\n",
       "      <th>mcumer202007_dist500min</th>\n",
       "      <th>mcumer202007_is_mer</th>\n",
       "      <th>adedpe202006_logtype_s_hab</th>\n",
       "      <th>adedpe202006_logtype_ch_type_inst</th>\n",
       "      <th>adedpe202006_logtype_ecs_type_inst</th>\n",
       "      <th>adedpe202006_logtype_mur_ep_mat_ext</th>\n",
       "      <th>adedpe202006_logtype_mur_mat_ext</th>\n",
       "      <th>adedpe202006_logtype_mur_pos_isol_ext</th>\n",
       "    </tr>\n",
       "  </thead>\n",
       "  <tbody>\n",
       "    <tr>\n",
       "      <th>0</th>\n",
       "      <td>7819809</td>\n",
       "      <td>75101_4901_00019_93</td>\n",
       "      <td>1</td>\n",
       "      <td>0</td>\n",
       "      <td>1</td>\n",
       "      <td>2021-06-04</td>\n",
       "      <td>2021</td>\n",
       "      <td>6</td>\n",
       "      <td>Vente</td>\n",
       "      <td>f</td>\n",
       "      <td>...</td>\n",
       "      <td>20.2</td>\n",
       "      <td>(7:Agence immobilière,Magasin d'équipements du...</td>\n",
       "      <td>465.0</td>\n",
       "      <td>1.0</td>\n",
       "      <td>75.0</td>\n",
       "      <td>individuel</td>\n",
       "      <td>individuel</td>\n",
       "      <td>NaN</td>\n",
       "      <td>murs en briques pleines simples</td>\n",
       "      <td>ITI</td>\n",
       "    </tr>\n",
       "    <tr>\n",
       "      <th>1</th>\n",
       "      <td>7819819</td>\n",
       "      <td>75111_1383_00005_8057</td>\n",
       "      <td>1</td>\n",
       "      <td>0</td>\n",
       "      <td>1</td>\n",
       "      <td>2021-11-25</td>\n",
       "      <td>2021</td>\n",
       "      <td>11</td>\n",
       "      <td>Vente</td>\n",
       "      <td>f</td>\n",
       "      <td>...</td>\n",
       "      <td>35.0</td>\n",
       "      <td>(11:Menuisier, charpentier, serrurier,Pressing...</td>\n",
       "      <td>51.0</td>\n",
       "      <td>1.0</td>\n",
       "      <td>24.0</td>\n",
       "      <td>collectif</td>\n",
       "      <td>collectif</td>\n",
       "      <td>NaN</td>\n",
       "      <td>murs en béton banché</td>\n",
       "      <td>ITI</td>\n",
       "    </tr>\n",
       "    <tr>\n",
       "      <th>2</th>\n",
       "      <td>7819821</td>\n",
       "      <td>75117_5503_00103_24</td>\n",
       "      <td>1</td>\n",
       "      <td>0</td>\n",
       "      <td>1</td>\n",
       "      <td>2021-03-18</td>\n",
       "      <td>2021</td>\n",
       "      <td>3</td>\n",
       "      <td>Vente</td>\n",
       "      <td>f</td>\n",
       "      <td>...</td>\n",
       "      <td>18.8</td>\n",
       "      <td>NaN</td>\n",
       "      <td>407.0</td>\n",
       "      <td>1.0</td>\n",
       "      <td>36.0</td>\n",
       "      <td>individuel</td>\n",
       "      <td>individuel</td>\n",
       "      <td>NaN</td>\n",
       "      <td>murs en pierre de taille et moellons avec remp...</td>\n",
       "      <td>ITI</td>\n",
       "    </tr>\n",
       "    <tr>\n",
       "      <th>3</th>\n",
       "      <td>7819822</td>\n",
       "      <td>75115_2521_00008_19</td>\n",
       "      <td>1</td>\n",
       "      <td>0</td>\n",
       "      <td>1</td>\n",
       "      <td>2021-11-12</td>\n",
       "      <td>2021</td>\n",
       "      <td>11</td>\n",
       "      <td>Vente</td>\n",
       "      <td>f</td>\n",
       "      <td>...</td>\n",
       "      <td>18.0</td>\n",
       "      <td>NaN</td>\n",
       "      <td>78.0</td>\n",
       "      <td>1.0</td>\n",
       "      <td>49.0</td>\n",
       "      <td>individuel</td>\n",
       "      <td>individuel</td>\n",
       "      <td>NaN</td>\n",
       "      <td>murs en pierre</td>\n",
       "      <td>ITI</td>\n",
       "    </tr>\n",
       "    <tr>\n",
       "      <th>4</th>\n",
       "      <td>7819824</td>\n",
       "      <td>75118_2113_00110_19</td>\n",
       "      <td>2</td>\n",
       "      <td>1</td>\n",
       "      <td>1</td>\n",
       "      <td>2021-01-08</td>\n",
       "      <td>2021</td>\n",
       "      <td>1</td>\n",
       "      <td>Vente</td>\n",
       "      <td>f</td>\n",
       "      <td>...</td>\n",
       "      <td>18.9</td>\n",
       "      <td>(1:Restaurant - Restauration rapide)</td>\n",
       "      <td>427.0</td>\n",
       "      <td>1.0</td>\n",
       "      <td>100.0</td>\n",
       "      <td>individuel</td>\n",
       "      <td>individuel</td>\n",
       "      <td>NaN</td>\n",
       "      <td>murs en pierre de taille et moellons avec remp...</td>\n",
       "      <td>ITI</td>\n",
       "    </tr>\n",
       "  </tbody>\n",
       "</table>\n",
       "<p>5 rows × 61 columns</p>\n",
       "</div>"
      ],
      "text/plain": [
       "   idmutation             etaban_lot  qty_of_mut  y  idnatmut     datemut  \\\n",
       "0     7819809    75101_4901_00019_93           1  0         1  2021-06-04   \n",
       "1     7819819  75111_1383_00005_8057           1  0         1  2021-11-25   \n",
       "2     7819821    75117_5503_00103_24           1  0         1  2021-03-18   \n",
       "3     7819822    75115_2521_00008_19           1  0         1  2021-11-12   \n",
       "4     7819824    75118_2113_00110_19           2  1         1  2021-01-08   \n",
       "\n",
       "   anneemut  moismut libnatmut vefa  ...  igntop202103_bat_hauteur  \\\n",
       "0      2021        6     Vente    f  ...                      20.2   \n",
       "1      2021       11     Vente    f  ...                      35.0   \n",
       "2      2021        3     Vente    f  ...                      18.8   \n",
       "3      2021       11     Vente    f  ...                      18.0   \n",
       "4      2021        1     Vente    f  ...                      18.9   \n",
       "\n",
       "                        insbpe2019_l_type_equipement  mcumer202007_dist500min  \\\n",
       "0  (7:Agence immobilière,Magasin d'équipements du...                    465.0   \n",
       "1  (11:Menuisier, charpentier, serrurier,Pressing...                     51.0   \n",
       "2                                                NaN                    407.0   \n",
       "3                                                NaN                     78.0   \n",
       "4               (1:Restaurant - Restauration rapide)                    427.0   \n",
       "\n",
       "   mcumer202007_is_mer  adedpe202006_logtype_s_hab  \\\n",
       "0                  1.0                        75.0   \n",
       "1                  1.0                        24.0   \n",
       "2                  1.0                        36.0   \n",
       "3                  1.0                        49.0   \n",
       "4                  1.0                       100.0   \n",
       "\n",
       "   adedpe202006_logtype_ch_type_inst  adedpe202006_logtype_ecs_type_inst  \\\n",
       "0                         individuel                          individuel   \n",
       "1                          collectif                           collectif   \n",
       "2                         individuel                          individuel   \n",
       "3                         individuel                          individuel   \n",
       "4                         individuel                          individuel   \n",
       "\n",
       "   adedpe202006_logtype_mur_ep_mat_ext  \\\n",
       "0                                  NaN   \n",
       "1                                  NaN   \n",
       "2                                  NaN   \n",
       "3                                  NaN   \n",
       "4                                  NaN   \n",
       "\n",
       "                    adedpe202006_logtype_mur_mat_ext  \\\n",
       "0                    murs en briques pleines simples   \n",
       "1                               murs en béton banché   \n",
       "2  murs en pierre de taille et moellons avec remp...   \n",
       "3                                     murs en pierre   \n",
       "4  murs en pierre de taille et moellons avec remp...   \n",
       "\n",
       "   adedpe202006_logtype_mur_pos_isol_ext  \n",
       "0                                    ITI  \n",
       "1                                    ITI  \n",
       "2                                    ITI  \n",
       "3                                    ITI  \n",
       "4                                    ITI  \n",
       "\n",
       "[5 rows x 61 columns]"
      ]
     },
     "execution_count": 6,
     "metadata": {},
     "output_type": "execute_result"
    }
   ],
   "source": [
    "df_selec.head()"
   ]
  },
  {
   "cell_type": "code",
   "execution_count": 7,
   "id": "671c01ff",
   "metadata": {},
   "outputs": [
    {
     "name": "stdout",
     "output_type": "stream",
     "text": [
      "<class 'pandas.core.frame.DataFrame'>\n",
      "RangeIndex: 114072 entries, 0 to 114071\n",
      "Data columns (total 61 columns):\n",
      " #   Column                                       Non-Null Count   Dtype  \n",
      "---  ------                                       --------------   -----  \n",
      " 0   idmutation                                   114072 non-null  int64  \n",
      " 1   etaban_lot                                   114072 non-null  object \n",
      " 2   qty_of_mut                                   114072 non-null  int64  \n",
      " 3   y                                            114072 non-null  int64  \n",
      " 4   idnatmut                                     114072 non-null  int64  \n",
      " 5   datemut                                      114072 non-null  object \n",
      " 6   anneemut                                     114072 non-null  int64  \n",
      " 7   moismut                                      114072 non-null  int64  \n",
      " 8   libnatmut                                    114072 non-null  object \n",
      " 9   vefa                                         114072 non-null  object \n",
      " 10  valeurfonc                                   114033 non-null  float64\n",
      " 11  nblot                                        114072 non-null  int64  \n",
      " 12  nbcomm                                       114072 non-null  int64  \n",
      " 13  l_codinsee                                   114072 non-null  int64  \n",
      " 14  nblocapt                                     114072 non-null  int64  \n",
      " 15  nblocdep                                     114072 non-null  int64  \n",
      " 16  nbapt2pp                                     114072 non-null  int64  \n",
      " 17  nbapt3pp                                     114072 non-null  int64  \n",
      " 18  sbati                                        114072 non-null  int64  \n",
      " 19  sbatapt                                      114072 non-null  int64  \n",
      " 20  sbatact                                      114072 non-null  int64  \n",
      " 21  sapt2pp                                      114072 non-null  int64  \n",
      " 22  sapt3pp                                      114072 non-null  int64  \n",
      " 23  scarrez                                      114072 non-null  float64\n",
      " 24  nolot                                        114072 non-null  object \n",
      " 25  anarnc202012_nb_log                          105340 non-null  float64\n",
      " 26  anarnc202012_nb_lot_garpark                  105340 non-null  float64\n",
      " 27  anarnc202012_nb_lot_tertiaire                105340 non-null  float64\n",
      " 28  anarnc202012_nb_lot_tot                      105340 non-null  float64\n",
      " 29  etaban202111_label                           114072 non-null  object \n",
      " 30  mcumer202007_id                              107993 non-null  object \n",
      " 31  adedpe202006_logtype_baie_orientation        93490 non-null   object \n",
      " 32  adedpe202006_logtype_baie_type_vitrage       106602 non-null  object \n",
      " 33  adedpe202006_logtype_ch_gen_lib_princ        107050 non-null  object \n",
      " 34  adedpe202006_mean_class_conso_ener           107848 non-null  object \n",
      " 35  adedpe202006_mean_class_estim_ges            107848 non-null  object \n",
      " 36  adedpe202006_logtype_traversant              93490 non-null   object \n",
      " 37  adedpe202006_logtype_ecs_type_ener           105833 non-null  object \n",
      " 38  adedpe202006_logtype_enr                     36 non-null      object \n",
      " 39  adedpe202006_logtype_perc_surf_vitree_ext    18372 non-null   float64\n",
      " 40  adedpe202006_logtype_ph_pos_isol             81449 non-null   object \n",
      " 41  adedpe202006_logtype_presence_balcon         20109 non-null   float64\n",
      " 42  adedpe202006_logtype_presence_climatisation  107820 non-null  float64\n",
      " 43  adedpe202006_logtype_type_batiment           107820 non-null  object \n",
      " 44  ancqpv201410_is_qpv                          113819 non-null  float64\n",
      " 45  arcthd2021t1_l_bat_type                      89037 non-null   object \n",
      " 46  cerffo2020_annee_construction                103191 non-null  float64\n",
      " 47  cerffo2020_usage_niveau_1_txt                114072 non-null  object \n",
      " 48  cerffo2020_nb_log                            114072 non-null  int64  \n",
      " 49  geoarg2020_alea                              0 non-null       float64\n",
      " 50  georad2020_alea                              113819 non-null  object \n",
      " 51  igntop202103_bat_hauteur                     113804 non-null  float64\n",
      " 52  insbpe2019_l_type_equipement                 72948 non-null   object \n",
      " 53  mcumer202007_dist500min                      107993 non-null  float64\n",
      " 54  mcumer202007_is_mer                          113819 non-null  float64\n",
      " 55  adedpe202006_logtype_s_hab                   107644 non-null  float64\n",
      " 56  adedpe202006_logtype_ch_type_inst            94029 non-null   object \n",
      " 57  adedpe202006_logtype_ecs_type_inst           95007 non-null   object \n",
      " 58  adedpe202006_logtype_mur_ep_mat_ext          19656 non-null   object \n",
      " 59  adedpe202006_logtype_mur_mat_ext             96140 non-null   object \n",
      " 60  adedpe202006_logtype_mur_pos_isol_ext        105000 non-null  object \n",
      "dtypes: float64(16), int64(19), object(26)\n",
      "memory usage: 53.1+ MB\n"
     ]
    }
   ],
   "source": [
    "df_selec.info()"
   ]
  },
  {
   "cell_type": "code",
   "execution_count": 8,
   "id": "8190ec65",
   "metadata": {},
   "outputs": [
    {
     "data": {
      "text/plain": [
       "idmutation                                   0\n",
       "etaban_lot                                   0\n",
       "qty_of_mut                                   0\n",
       "y                                            0\n",
       "idnatmut                                     0\n",
       "                                         ...  \n",
       "adedpe202006_logtype_ch_type_inst        20043\n",
       "adedpe202006_logtype_ecs_type_inst       19065\n",
       "adedpe202006_logtype_mur_ep_mat_ext      94416\n",
       "adedpe202006_logtype_mur_mat_ext         17932\n",
       "adedpe202006_logtype_mur_pos_isol_ext     9072\n",
       "Length: 61, dtype: int64"
      ]
     },
     "execution_count": 8,
     "metadata": {},
     "output_type": "execute_result"
    }
   ],
   "source": [
    "df_selec.isna().sum()"
   ]
  },
  {
   "cell_type": "markdown",
   "id": "14ad29ca",
   "metadata": {},
   "source": [
    "**Grosse proportion de Nan dans les variables issues du CSTB (voir démonstration en fin de NB1)=> Cette forte proportion de Nan est due au fichier d'origine CSTB. Pas de perte due aux merge ou autre. Les variables \"anarnc202012_nb_log \", \"anarnc202012_nb_lot_garpark\", \"anarnc202012_nb_lot_tertiaire\", \"anarnc202012_nb_lot_tot\" ont le même nombre de Nan. On fait le pari qu'en supprimant les lignes Nan en colonne \"anarnc202012_nb_log, les Nan vont aussi disparaitre ou réduire drastiquement dans les autres colonnes CSTB."
   ]
  },
  {
   "cell_type": "code",
   "execution_count": 9,
   "id": "08756433",
   "metadata": {},
   "outputs": [],
   "source": [
    "df_selec=df_selec.dropna(subset=[\"anarnc202012_nb_log\"])"
   ]
  },
  {
   "cell_type": "markdown",
   "id": "335111e9",
   "metadata": {},
   "source": [
    "**Pari réussi. On part là dessus..."
   ]
  },
  {
   "cell_type": "markdown",
   "id": "f04a8ada",
   "metadata": {},
   "source": [
    "**Variable cible \"y\""
   ]
  },
  {
   "cell_type": "code",
   "execution_count": 10,
   "id": "c11575c4",
   "metadata": {},
   "outputs": [
    {
     "data": {
      "text/plain": [
       "0    85650\n",
       "1    19690\n",
       "Name: y, dtype: int64"
      ]
     },
     "execution_count": 10,
     "metadata": {},
     "output_type": "execute_result"
    }
   ],
   "source": [
    "df_selec[\"y\"].value_counts()"
   ]
  },
  {
   "cell_type": "code",
   "execution_count": 11,
   "id": "e1aed07d",
   "metadata": {},
   "outputs": [
    {
     "data": {
      "text/plain": [
       "0         0\n",
       "2         0\n",
       "3         0\n",
       "4         1\n",
       "5         1\n",
       "         ..\n",
       "114066    0\n",
       "114067    0\n",
       "114068    0\n",
       "114069    0\n",
       "114070    0\n",
       "Name: Revente, Length: 105340, dtype: int64"
      ]
     },
     "execution_count": 11,
     "metadata": {},
     "output_type": "execute_result"
    }
   ],
   "source": [
    "#Renommer la variable cible pour être plus explicite \n",
    "df_selec=df_selec.rename({\"y\":\"Revente\"}, axis=1)\n",
    "df_selec[\"Revente\"]"
   ]
  },
  {
   "cell_type": "markdown",
   "id": "59b29eb5",
   "metadata": {},
   "source": [
    "**\"Variable \"qty of mut\""
   ]
  },
  {
   "cell_type": "code",
   "execution_count": 12,
   "id": "d298fa76",
   "metadata": {},
   "outputs": [
    {
     "data": {
      "text/plain": [
       "1    85650\n",
       "2    18410\n",
       "3     1236\n",
       "4       44\n",
       "Name: qty_of_mut, dtype: int64"
      ]
     },
     "execution_count": 12,
     "metadata": {},
     "output_type": "execute_result"
    }
   ],
   "source": [
    "df_selec[\"qty_of_mut\"].value_counts()"
   ]
  },
  {
   "cell_type": "code",
   "execution_count": 13,
   "id": "062809f2",
   "metadata": {},
   "outputs": [
    {
     "data": {
      "text/plain": [
       "0    85650\n",
       "1    18410\n",
       "2     1236\n",
       "3       44\n",
       "Name: qty_of_mut, dtype: int64"
      ]
     },
     "execution_count": 13,
     "metadata": {},
     "output_type": "execute_result"
    }
   ],
   "source": [
    "#La variable \"qty_of_mut\" nous donne le nombre de mutations du lot pendant la période 2014-2021. \n",
    "# Mais notre projet consiste à travailler sur le nombre de fois où le bien a été revendu \n",
    "# (en plus de cette première mutation) pdt la période. Donc pour une meilleure compréhension, on va renommer les modalités.\n",
    "df_selec[\"qty_of_mut\"]=df_selec[\"qty_of_mut\"].replace({1:0, 2:1, 3:2, 4:3})\n",
    "df_selec[\"qty_of_mut\"].value_counts()"
   ]
  },
  {
   "cell_type": "markdown",
   "id": "0102db8d",
   "metadata": {},
   "source": [
    "**Analyse de la variable \"adedpe202006_logtype_enr\" => Energies renouvelables présentes dans le bâtiment"
   ]
  },
  {
   "cell_type": "code",
   "execution_count": 14,
   "id": "7cd094c3",
   "metadata": {},
   "outputs": [
    {
     "data": {
      "text/plain": [
       "array([nan, 'solaire photovoltaique', 'solaire thermique (ecs)'],\n",
       "      dtype=object)"
      ]
     },
     "execution_count": 14,
     "metadata": {},
     "output_type": "execute_result"
    }
   ],
   "source": [
    "df_selec[\"adedpe202006_logtype_enr\"].unique()"
   ]
  },
  {
   "cell_type": "code",
   "execution_count": 15,
   "id": "1940aeea",
   "metadata": {},
   "outputs": [
    {
     "data": {
      "text/plain": [
       "105304"
      ]
     },
     "execution_count": 15,
     "metadata": {},
     "output_type": "execute_result"
    }
   ],
   "source": [
    "df_selec[\"adedpe202006_logtype_enr\"].isna().sum()"
   ]
  },
  {
   "cell_type": "code",
   "execution_count": 16,
   "id": "e47b866f",
   "metadata": {},
   "outputs": [
    {
     "data": {
      "text/html": [
       "<div>\n",
       "<style scoped>\n",
       "    .dataframe tbody tr th:only-of-type {\n",
       "        vertical-align: middle;\n",
       "    }\n",
       "\n",
       "    .dataframe tbody tr th {\n",
       "        vertical-align: top;\n",
       "    }\n",
       "\n",
       "    .dataframe thead th {\n",
       "        text-align: right;\n",
       "    }\n",
       "</style>\n",
       "<table border=\"1\" class=\"dataframe\">\n",
       "  <thead>\n",
       "    <tr style=\"text-align: right;\">\n",
       "      <th></th>\n",
       "      <th>adedpe202006_logtype_enr</th>\n",
       "    </tr>\n",
       "  </thead>\n",
       "  <tbody>\n",
       "    <tr>\n",
       "      <th>solaire thermique (ecs)</th>\n",
       "      <td>31</td>\n",
       "    </tr>\n",
       "    <tr>\n",
       "      <th>solaire photovoltaique</th>\n",
       "      <td>5</td>\n",
       "    </tr>\n",
       "  </tbody>\n",
       "</table>\n",
       "</div>"
      ],
      "text/plain": [
       "                         adedpe202006_logtype_enr\n",
       "solaire thermique (ecs)                        31\n",
       "solaire photovoltaique                          5"
      ]
     },
     "execution_count": 16,
     "metadata": {},
     "output_type": "execute_result"
    }
   ],
   "source": [
    "df_selec[\"adedpe202006_logtype_enr\"].value_counts().to_frame()"
   ]
  },
  {
   "cell_type": "code",
   "execution_count": 17,
   "id": "057084e6",
   "metadata": {},
   "outputs": [],
   "source": [
    "# Seulement 36 lignes pour lesquelles la variable est renseignée. \n",
    "# Le reste est Nan  mais on peut supposer que ce ne sont pas des vraies Nan. \n",
    "# Ca peut plutôt signifier l'absence d'énergies renouvelables dans le bâtiment. Modification des modalités :\n",
    "\n",
    "def filtre (x):\n",
    "    if x ==\"solaire thermique (ecs)\" :\n",
    "        return 1\n",
    "    elif x ==\"solaire photovoltaique\" :\n",
    "        return 1\n",
    "    else : \n",
    "        return 0\n",
    "    \n",
    "df_selec[\"adedpe202006_logtype_enr\"]=df_selec[\"adedpe202006_logtype_enr\"].apply(filtre)"
   ]
  },
  {
   "cell_type": "code",
   "execution_count": 18,
   "id": "313eccf8",
   "metadata": {},
   "outputs": [
    {
     "data": {
      "text/html": [
       "<div>\n",
       "<style scoped>\n",
       "    .dataframe tbody tr th:only-of-type {\n",
       "        vertical-align: middle;\n",
       "    }\n",
       "\n",
       "    .dataframe tbody tr th {\n",
       "        vertical-align: top;\n",
       "    }\n",
       "\n",
       "    .dataframe thead th {\n",
       "        text-align: right;\n",
       "    }\n",
       "</style>\n",
       "<table border=\"1\" class=\"dataframe\">\n",
       "  <thead>\n",
       "    <tr style=\"text-align: right;\">\n",
       "      <th></th>\n",
       "      <th>adedpe202006_logtype_enr</th>\n",
       "    </tr>\n",
       "  </thead>\n",
       "  <tbody>\n",
       "    <tr>\n",
       "      <th>0</th>\n",
       "      <td>105304</td>\n",
       "    </tr>\n",
       "    <tr>\n",
       "      <th>1</th>\n",
       "      <td>36</td>\n",
       "    </tr>\n",
       "  </tbody>\n",
       "</table>\n",
       "</div>"
      ],
      "text/plain": [
       "   adedpe202006_logtype_enr\n",
       "0                    105304\n",
       "1                        36"
      ]
     },
     "execution_count": 18,
     "metadata": {},
     "output_type": "execute_result"
    }
   ],
   "source": [
    "df_selec[\"adedpe202006_logtype_enr\"].value_counts().to_frame()"
   ]
  },
  {
   "cell_type": "code",
   "execution_count": 19,
   "id": "7afe47c3",
   "metadata": {},
   "outputs": [],
   "source": [
    "#**La variable est trop déséquilibrée. Suppression\n",
    "df_selec=df_selec.drop(\"adedpe202006_logtype_enr\", axis=1)"
   ]
  },
  {
   "cell_type": "markdown",
   "id": "589d5279",
   "metadata": {},
   "source": [
    "**Analyse de la variable  \"cerffo2020_usage_niveau_1_txt\"=> (cstb) indicateurs d'usage simplifié du bâtiment (verbose)"
   ]
  },
  {
   "cell_type": "code",
   "execution_count": 20,
   "id": "35e4ece1",
   "metadata": {},
   "outputs": [
    {
     "data": {
      "text/html": [
       "<div>\n",
       "<style scoped>\n",
       "    .dataframe tbody tr th:only-of-type {\n",
       "        vertical-align: middle;\n",
       "    }\n",
       "\n",
       "    .dataframe tbody tr th {\n",
       "        vertical-align: top;\n",
       "    }\n",
       "\n",
       "    .dataframe thead th {\n",
       "        text-align: right;\n",
       "    }\n",
       "</style>\n",
       "<table border=\"1\" class=\"dataframe\">\n",
       "  <thead>\n",
       "    <tr style=\"text-align: right;\">\n",
       "      <th></th>\n",
       "      <th>cerffo2020_usage_niveau_1_txt</th>\n",
       "    </tr>\n",
       "  </thead>\n",
       "  <tbody>\n",
       "    <tr>\n",
       "      <th>Résidentiel collectif</th>\n",
       "      <td>102227</td>\n",
       "    </tr>\n",
       "    <tr>\n",
       "      <th>Tertiaire &amp; Autres</th>\n",
       "      <td>2539</td>\n",
       "    </tr>\n",
       "    <tr>\n",
       "      <th>Résidentiel individuel</th>\n",
       "      <td>379</td>\n",
       "    </tr>\n",
       "    <tr>\n",
       "      <th>Dépendance</th>\n",
       "      <td>188</td>\n",
       "    </tr>\n",
       "    <tr>\n",
       "      <th>Secondaire</th>\n",
       "      <td>7</td>\n",
       "    </tr>\n",
       "  </tbody>\n",
       "</table>\n",
       "</div>"
      ],
      "text/plain": [
       "                        cerffo2020_usage_niveau_1_txt\n",
       "Résidentiel collectif                          102227\n",
       "Tertiaire & Autres                               2539\n",
       "Résidentiel individuel                            379\n",
       "Dépendance                                        188\n",
       "Secondaire                                          7"
      ]
     },
     "execution_count": 20,
     "metadata": {},
     "output_type": "execute_result"
    }
   ],
   "source": [
    "df_selec[\"cerffo2020_usage_niveau_1_txt\"].value_counts().to_frame()"
   ]
  },
  {
   "cell_type": "code",
   "execution_count": 21,
   "id": "5430a243",
   "metadata": {},
   "outputs": [
    {
     "data": {
      "text/plain": [
       "0"
      ]
     },
     "execution_count": 21,
     "metadata": {},
     "output_type": "execute_result"
    }
   ],
   "source": [
    "df_selec[\"cerffo2020_usage_niveau_1_txt\"].isna().sum()"
   ]
  },
  {
   "cell_type": "code",
   "execution_count": 22,
   "id": "e69648f8",
   "metadata": {},
   "outputs": [],
   "source": [
    "#Regroupement des modalités \"dépendances\" et \"secondaires\" en \"autres\" sinon plantage en get dummies\n",
    "df_selec[\"cerffo2020_usage_niveau_1_txt\"]=df_selec[\"cerffo2020_usage_niveau_1_txt\"].replace({\"Dépendance\":\"Autres\", \"Secondaire\":\"Autres\"})"
   ]
  },
  {
   "cell_type": "code",
   "execution_count": 23,
   "id": "aebe43b7",
   "metadata": {},
   "outputs": [
    {
     "data": {
      "text/plain": [
       "Résidentiel collectif     102227\n",
       "Tertiaire & Autres          2539\n",
       "Résidentiel individuel       379\n",
       "Autres                       195\n",
       "Name: cerffo2020_usage_niveau_1_txt, dtype: int64"
      ]
     },
     "execution_count": 23,
     "metadata": {},
     "output_type": "execute_result"
    }
   ],
   "source": [
    "df_selec[\"cerffo2020_usage_niveau_1_txt\"].value_counts()"
   ]
  },
  {
   "cell_type": "markdown",
   "id": "bbd0ac0d",
   "metadata": {},
   "source": [
    "**Analyse de la variable \"idnatmut\" =>  identifiant de clef primaire de la table ann_nature_mutation (1=vente - 2 = vefa)"
   ]
  },
  {
   "cell_type": "code",
   "execution_count": 24,
   "id": "319cc7d3",
   "metadata": {},
   "outputs": [
    {
     "data": {
      "text/html": [
       "<div>\n",
       "<style scoped>\n",
       "    .dataframe tbody tr th:only-of-type {\n",
       "        vertical-align: middle;\n",
       "    }\n",
       "\n",
       "    .dataframe tbody tr th {\n",
       "        vertical-align: top;\n",
       "    }\n",
       "\n",
       "    .dataframe thead th {\n",
       "        text-align: right;\n",
       "    }\n",
       "</style>\n",
       "<table border=\"1\" class=\"dataframe\">\n",
       "  <thead>\n",
       "    <tr style=\"text-align: right;\">\n",
       "      <th></th>\n",
       "      <th>idnatmut</th>\n",
       "    </tr>\n",
       "  </thead>\n",
       "  <tbody>\n",
       "    <tr>\n",
       "      <th>1</th>\n",
       "      <td>105206</td>\n",
       "    </tr>\n",
       "    <tr>\n",
       "      <th>2</th>\n",
       "      <td>134</td>\n",
       "    </tr>\n",
       "  </tbody>\n",
       "</table>\n",
       "</div>"
      ],
      "text/plain": [
       "   idnatmut\n",
       "1    105206\n",
       "2       134"
      ]
     },
     "execution_count": 24,
     "metadata": {},
     "output_type": "execute_result"
    }
   ],
   "source": [
    "df_selec[\"idnatmut\"].value_counts(ascending=False).to_frame()"
   ]
  },
  {
   "cell_type": "markdown",
   "id": "b04d9abe",
   "metadata": {},
   "source": [
    "**Analyse de la variable \"libnatmut\" => libellé de la nature de mutation "
   ]
  },
  {
   "cell_type": "code",
   "execution_count": 25,
   "id": "fa96380a",
   "metadata": {},
   "outputs": [
    {
     "data": {
      "text/html": [
       "<div>\n",
       "<style scoped>\n",
       "    .dataframe tbody tr th:only-of-type {\n",
       "        vertical-align: middle;\n",
       "    }\n",
       "\n",
       "    .dataframe tbody tr th {\n",
       "        vertical-align: top;\n",
       "    }\n",
       "\n",
       "    .dataframe thead th {\n",
       "        text-align: right;\n",
       "    }\n",
       "</style>\n",
       "<table border=\"1\" class=\"dataframe\">\n",
       "  <thead>\n",
       "    <tr style=\"text-align: right;\">\n",
       "      <th></th>\n",
       "      <th>libnatmut</th>\n",
       "    </tr>\n",
       "  </thead>\n",
       "  <tbody>\n",
       "    <tr>\n",
       "      <th>Vente</th>\n",
       "      <td>105206</td>\n",
       "    </tr>\n",
       "    <tr>\n",
       "      <th>Vente en l'état futur d'achèvement</th>\n",
       "      <td>134</td>\n",
       "    </tr>\n",
       "  </tbody>\n",
       "</table>\n",
       "</div>"
      ],
      "text/plain": [
       "                                    libnatmut\n",
       "Vente                                  105206\n",
       "Vente en l'état futur d'achèvement        134"
      ]
     },
     "execution_count": 25,
     "metadata": {},
     "output_type": "execute_result"
    }
   ],
   "source": [
    "df_selec[\"libnatmut\"].value_counts().to_frame()"
   ]
  },
  {
   "cell_type": "markdown",
   "id": "4421f978",
   "metadata": {},
   "source": [
    "**Analyse de la variable \"vefa\" => vrai si la mutation est une Vente en l'état futur d'achèvement (VEFA)"
   ]
  },
  {
   "cell_type": "code",
   "execution_count": 26,
   "id": "68102e2c",
   "metadata": {},
   "outputs": [
    {
     "data": {
      "text/html": [
       "<div>\n",
       "<style scoped>\n",
       "    .dataframe tbody tr th:only-of-type {\n",
       "        vertical-align: middle;\n",
       "    }\n",
       "\n",
       "    .dataframe tbody tr th {\n",
       "        vertical-align: top;\n",
       "    }\n",
       "\n",
       "    .dataframe thead th {\n",
       "        text-align: right;\n",
       "    }\n",
       "</style>\n",
       "<table border=\"1\" class=\"dataframe\">\n",
       "  <thead>\n",
       "    <tr style=\"text-align: right;\">\n",
       "      <th></th>\n",
       "      <th>vefa</th>\n",
       "    </tr>\n",
       "  </thead>\n",
       "  <tbody>\n",
       "    <tr>\n",
       "      <th>f</th>\n",
       "      <td>105206</td>\n",
       "    </tr>\n",
       "    <tr>\n",
       "      <th>t</th>\n",
       "      <td>134</td>\n",
       "    </tr>\n",
       "  </tbody>\n",
       "</table>\n",
       "</div>"
      ],
      "text/plain": [
       "     vefa\n",
       "f  105206\n",
       "t     134"
      ]
     },
     "execution_count": 26,
     "metadata": {},
     "output_type": "execute_result"
    }
   ],
   "source": [
    "df_selec[\"vefa\"].value_counts().to_frame()"
   ]
  },
  {
   "cell_type": "code",
   "execution_count": 27,
   "id": "63764680",
   "metadata": {},
   "outputs": [
    {
     "data": {
      "text/plain": [
       "0"
      ]
     },
     "execution_count": 27,
     "metadata": {},
     "output_type": "execute_result"
    }
   ],
   "source": [
    "df_selec[\"vefa\"].isna().sum()"
   ]
  },
  {
   "cell_type": "code",
   "execution_count": 28,
   "id": "eefb4dc3",
   "metadata": {},
   "outputs": [],
   "source": [
    "#Redondance de ces 3 variables. Suppression de \"idnatmut\" et \"libnatmut\"\n",
    "df_selec=df_selec.drop([\"libnatmut\", \"idnatmut\"], axis=1)"
   ]
  },
  {
   "cell_type": "code",
   "execution_count": 29,
   "id": "27a6b975",
   "metadata": {},
   "outputs": [],
   "source": [
    "#Qui dit Vefa dit immeuble neuf. On renomme la variable et les modalités :\n",
    "df_selec.rename(columns={'vefa':\"Immeuble_neuf\"}, inplace=True)"
   ]
  },
  {
   "cell_type": "code",
   "execution_count": 30,
   "id": "3cb7cf57",
   "metadata": {},
   "outputs": [],
   "source": [
    "df_selec[\"Immeuble_neuf\"]=df_selec[\"Immeuble_neuf\"].replace({\"f\":0, \"t\":1})"
   ]
  },
  {
   "cell_type": "code",
   "execution_count": 31,
   "id": "61001426",
   "metadata": {},
   "outputs": [],
   "source": [
    "#La variable \"nolot\" n'est plus utile. Elle a été fusionnée avec etaban dans etaban_lot dans df_final[\"nolot\"] :\n",
    "df_selec=df_selec.drop(\"nolot\", axis=1)"
   ]
  },
  {
   "cell_type": "markdown",
   "id": "3b7db1c8",
   "metadata": {},
   "source": [
    "**Etude de la variable \"cerffo2020_annee_construction\" "
   ]
  },
  {
   "cell_type": "code",
   "execution_count": 32,
   "id": "ef736c8f",
   "metadata": {},
   "outputs": [
    {
     "data": {
      "text/plain": [
       "array([1820., 1910., 1880., 1900., 2008., 1920., 2018., 1925., 2002.,\n",
       "         nan, 1980., 1906., 1882., 1932., 1905., 1902., 1890., 1903.,\n",
       "       1830., 1840., 1896., 1935., 1934., 1931., 1973., 1891., 1914.,\n",
       "       1939., 1850., 1963., 1930., 1962., 1800., 1958., 1897., 2001.,\n",
       "       1760., 1959., 1960., 1972., 1997., 1953., 1981., 1941., 1876.,\n",
       "       1869., 2010., 1868., 1870., 1750., 1956., 1965., 1904., 1650.,\n",
       "       1908., 1860., 2003., 1929., 2016., 1893., 1976., 1875., 1907.,\n",
       "       1994., 1885., 1892., 1970., 1888., 1886., 1919., 1901., 1948.,\n",
       "       2005., 1855., 1955., 1967., 1928., 1912., 1873., 1933., 1848.,\n",
       "       1969., 1895., 1983., 1978., 1909., 1991., 1957., 1961., 1936.,\n",
       "       1918., 1872., 1977., 2000., 1600., 1954., 1974., 1825., 1659.,\n",
       "       1780., 1926., 1913., 1865., 2011., 2004., 1971., 1992., 1640.,\n",
       "       1966., 1740., 1866., 1999., 1894., 1700., 1856., 1968., 1857.,\n",
       "       1881., 1810., 1911., 1995., 1859., 1985., 1826., 1950., 2013.,\n",
       "       1940., 1878., 1987., 1990., 1887., 1979., 2015., 1898., 1998.,\n",
       "       1989., 1730., 1884., 1670., 1923., 1964., 1899., 1889., 1874.,\n",
       "       1975., 1837., 1846., 1836., 1915., 1858., 1952., 1783., 1841.,\n",
       "       1854., 1996., 1845., 2017., 2019., 1993., 1790., 1924., 1937.,\n",
       "       1710., 1864., 1927., 1988., 1883., 1942., 1715., 1862., 1852.,\n",
       "       1922., 1867., 1877., 1946., 1879., 1871., 1690., 2014., 1945.,\n",
       "       2009., 1625., 1799., 1835., 1917., 1916., 2006., 1813., 1951.,\n",
       "       1530., 1938., 1680., 1770., 1756., 1631., 1815., 1986., 1843.,\n",
       "       1842., 1805., 1795., 1847., 1851., 1741., 1824., 1823., 1675.,\n",
       "       1849., 1984., 1660., 1608., 1500., 1943., 1300., 1674., 1982.,\n",
       "       1839., 1520., 2007., 1630., 1802., 1834., 1804., 1809., 1769.,\n",
       "       2012., 1620., 1789., 1863., 1753., 1785., 1646., 1787., 1745.,\n",
       "       1944., 1828., 1792., 1844., 1728., 1807., 1838., 1642., 1853.,\n",
       "       1663., 1827., 1694., 1629., 1829., 1755., 1921., 1748., 1949.,\n",
       "       1798., 1772., 1774., 1729., 1720., 1814., 1460., 1808., 1645.,\n",
       "       1947., 1701., 1758., 1725., 1751., 1832., 1635., 1861., 1812.,\n",
       "       1778., 1480., 1803., 1550., 1505., 1683., 1782., 1610., 1791.,\n",
       "       1776., 1400., 1793., 1786., 1604., 1767., 1649., 1698., 1560.,\n",
       "       1658., 1580., 1643., 1788., 1672., 1743., 1634., 1450., 1796.,\n",
       "       1648., 1615., 1821., 1689., 1816., 1759., 1612., 1723., 1704.,\n",
       "       1775., 1831., 1765., 1652.])"
      ]
     },
     "execution_count": 32,
     "metadata": {},
     "output_type": "execute_result"
    }
   ],
   "source": [
    "df_selec[\"cerffo2020_annee_construction\"].unique()"
   ]
  },
  {
   "cell_type": "code",
   "execution_count": 33,
   "id": "804ad22f",
   "metadata": {},
   "outputs": [
    {
     "data": {
      "text/plain": [
       "9488"
      ]
     },
     "execution_count": 33,
     "metadata": {},
     "output_type": "execute_result"
    }
   ],
   "source": [
    "df_selec[\"cerffo2020_annee_construction\"].isna().sum()"
   ]
  },
  {
   "cell_type": "markdown",
   "id": "91e6cc0a",
   "metadata": {},
   "source": []
  },
  {
   "cell_type": "code",
   "execution_count": 34,
   "id": "cc25ada4",
   "metadata": {},
   "outputs": [
    {
     "data": {
      "text/plain": [
       "['<1948', '>2000', NaN, '1974-2000', '1948-1974']\n",
       "Categories (4, object): ['<1948' < '1948-1974' < '1974-2000' < '>2000']"
      ]
     },
     "execution_count": 34,
     "metadata": {},
     "output_type": "execute_result"
    }
   ],
   "source": [
    "#Discrétisation de la variable\n",
    "df_selec[\"cerffo2020_annee_construction\"]=pd.cut(x=df_selec[\"cerffo2020_annee_construction\"], bins=[0,1948,1974,2000,2022], labels=[\"<1948\", \"1948-1974\", \"1974-2000\", \">2000\"])\n",
    "df_selec[\"cerffo2020_annee_construction\"].unique()"
   ]
  },
  {
   "cell_type": "markdown",
   "id": "3a7a1ae1",
   "metadata": {},
   "source": [
    "**Analyse de la variable \"adedpe202006_logtype_baie_orientation\" => Orientations des vitrages d'un logement représentatif du bâtiment"
   ]
  },
  {
   "cell_type": "code",
   "execution_count": 35,
   "id": "44c89ff6",
   "metadata": {},
   "outputs": [
    {
     "data": {
      "text/plain": [
       "0               (1:sud)\n",
       "2              (1:nord)\n",
       "3              (1:nord)\n",
       "4              (1:nord)\n",
       "5              (1:nord)\n",
       "              ...      \n",
       "114066         (1:nord)\n",
       "114067    (2:ouest,sud)\n",
       "114068         (1:nord)\n",
       "114069         (1:nord)\n",
       "114070         (1:nord)\n",
       "Name: adedpe202006_logtype_baie_orientation, Length: 105340, dtype: object"
      ]
     },
     "execution_count": 35,
     "metadata": {},
     "output_type": "execute_result"
    }
   ],
   "source": [
    "df_selec[\"adedpe202006_logtype_baie_orientation\"]"
   ]
  },
  {
   "cell_type": "markdown",
   "id": "77dd0d6d",
   "metadata": {},
   "source": []
  },
  {
   "cell_type": "code",
   "execution_count": 36,
   "id": "de87649f",
   "metadata": {},
   "outputs": [],
   "source": [
    "#Simplification des valeurs de la variable \"adedpe202006_logtype_baie_orientation\" => \n",
    "# sa multitude de valeurs créé des différences de nombre de colonnes entre X train et X test après get dummies.\n",
    "df_selec[\"adedpe202006_logtype_baie_orientation\"]=df_selec[\"adedpe202006_logtype_baie_orientation\"].astype(str)"
   ]
  },
  {
   "cell_type": "code",
   "execution_count": 37,
   "id": "9c61f644",
   "metadata": {},
   "outputs": [
    {
     "data": {
      "text/plain": [
       "0               1:sud\n",
       "2              1:nord\n",
       "3              1:nord\n",
       "4              1:nord\n",
       "5              1:nord\n",
       "             ...     \n",
       "114066         1:nord\n",
       "114067    2:ouest,sud\n",
       "114068         1:nord\n",
       "114069         1:nord\n",
       "114070         1:nord\n",
       "Name: adedpe202006_logtype_baie_orientation, Length: 105340, dtype: object"
      ]
     },
     "execution_count": 37,
     "metadata": {},
     "output_type": "execute_result"
    }
   ],
   "source": [
    "df_selec[\"adedpe202006_logtype_baie_orientation\"]=df_selec[\"adedpe202006_logtype_baie_orientation\"].apply(lambda x : x.strip(\"()\"))\n",
    "df_selec[\"adedpe202006_logtype_baie_orientation\"]"
   ]
  },
  {
   "cell_type": "code",
   "execution_count": 38,
   "id": "5ede4d97",
   "metadata": {},
   "outputs": [
    {
     "data": {
      "text/plain": [
       "array(['1:sud', '1:nord', '2:nord,sud', '2:est,ouest', 'nan',\n",
       "       '2:nord,ouest', '1:ouest', '3:nord,ouest,sud', '2:est,nord',\n",
       "       '3:est,nord,sud', '4:est,nord,ouest,sud', '1:est',\n",
       "       '3:est,ouest,sud', '2:ouest,sud', '2:est,sud', '3:est,nord,ouest',\n",
       "       '1:horizontale', '2:est ou ouest,sud', '2:est ou ouest,nord',\n",
       "       '3:est,est ou ouest,sud', '2:est,est ou ouest',\n",
       "       '3:est,indetermine,nord', '2:est,indetermine',\n",
       "       '3:est,est ou ouest,nord', '3:est ou ouest,nord,sud',\n",
       "       '3:indetermine,nord,sud', '3:horizontale,nord,sud',\n",
       "       '1:est ou ouest', '2:est ou ouest,horizontale',\n",
       "       '3:est,indetermine,ouest', '5:est,horizontale,nord,ouest,sud',\n",
       "       '2:indetermine,ouest', '4:horizontale,nord,ouest,sud',\n",
       "       '4:est,est ou ouest,nord,sud', '4:est,horizontale,nord,sud',\n",
       "       '5:est,indetermine,nord,ouest,sud', '2:indetermine,sud'],\n",
       "      dtype=object)"
      ]
     },
     "execution_count": 38,
     "metadata": {},
     "output_type": "execute_result"
    }
   ],
   "source": [
    "df_selec[\"adedpe202006_logtype_baie_orientation\"].unique()"
   ]
  },
  {
   "cell_type": "code",
   "execution_count": 39,
   "id": "dbef7359",
   "metadata": {},
   "outputs": [
    {
     "data": {
      "text/plain": [
       "array(['sud', 'nord', 'nord,sud', 'est,ouest', 'n', 'nord,ouest', 'ouest',\n",
       "       'nord,ouest,sud', 'est,nord', 'est,nord,sud', 'est,nord,ouest,sud',\n",
       "       'est', 'est,ouest,sud', 'ouest,sud', 'est,sud', 'est,nord,ouest',\n",
       "       'horizontale', 'est ou ouest,sud', 'est ou ouest,nord',\n",
       "       'est,est ou ouest,sud', 'est,est ou ouest', 'est,indetermine,nord',\n",
       "       'est,indetermine', 'est,est ou ouest,nord',\n",
       "       'est ou ouest,nord,sud', 'indetermine,nord,sud',\n",
       "       'horizontale,nord,sud', 'est ou ouest', 'est ou ouest,horizontale',\n",
       "       'est,indetermine,ouest', 'est,horizontale,nord,ouest,sud',\n",
       "       'indetermine,ouest', 'horizontale,nord,ouest,sud',\n",
       "       'est,est ou ouest,nord,sud', 'est,horizontale,nord,sud',\n",
       "       'est,indetermine,nord,ouest,sud', 'indetermine,sud'], dtype=object)"
      ]
     },
     "execution_count": 39,
     "metadata": {},
     "output_type": "execute_result"
    }
   ],
   "source": [
    "df_selec[\"adedpe202006_logtype_baie_orientation\"]=df_selec[\"adedpe202006_logtype_baie_orientation\"].apply(lambda x : x[2:])\n",
    "df_selec[\"adedpe202006_logtype_baie_orientation\"].unique()"
   ]
  },
  {
   "cell_type": "code",
   "execution_count": 40,
   "id": "2a8ae528",
   "metadata": {},
   "outputs": [
    {
     "data": {
      "text/plain": [
       "array(['sud', 'nord', 'nord,sud', 'est,ouest', 'Nan', 'nord,ouest',\n",
       "       'ouest', 'nord,ouest,sud', 'est,nord', 'est,nord,sud',\n",
       "       'est,nord,ouest,sud', 'est', 'est,ouest,sud', 'ouest,sud',\n",
       "       'est,sud', 'est,nord,ouest', 'horizontale', 'est ou ouest,sud',\n",
       "       'est ou ouest,nord', 'est,est ou ouest,sud', 'est,est ou ouest',\n",
       "       'est,indetermine,nord', 'est,indetermine', 'est,est ou ouest,nord',\n",
       "       'est ou ouest,nord,sud', 'indetermine,nord,sud',\n",
       "       'horizontale,nord,sud', 'est ou ouest', 'est ou ouest,horizontale',\n",
       "       'est,indetermine,ouest', 'est,horizontale,nord,ouest,sud',\n",
       "       'indetermine,ouest', 'horizontale,nord,ouest,sud',\n",
       "       'est,est ou ouest,nord,sud', 'est,horizontale,nord,sud',\n",
       "       'est,indetermine,nord,ouest,sud', 'indetermine,sud'], dtype=object)"
      ]
     },
     "execution_count": 40,
     "metadata": {},
     "output_type": "execute_result"
    }
   ],
   "source": [
    "df_selec[\"adedpe202006_logtype_baie_orientation\"]=df_selec[\"adedpe202006_logtype_baie_orientation\"].replace({\"n\": \"Nan\"})\n",
    "df_selec[\"adedpe202006_logtype_baie_orientation\"].unique()"
   ]
  },
  {
   "cell_type": "code",
   "execution_count": 41,
   "id": "ba059c25",
   "metadata": {},
   "outputs": [
    {
     "data": {
      "text/plain": [
       "nord                              55627\n",
       "Nan                               17234\n",
       "est                                6896\n",
       "nord,sud                           6029\n",
       "sud                                4463\n",
       "est,ouest                          3499\n",
       "ouest                              3374\n",
       "est,nord,sud                       1055\n",
       "est,ouest,sud                       958\n",
       "nord,ouest                          934\n",
       "ouest,sud                           920\n",
       "est,sud                             915\n",
       "est,nord                            847\n",
       "est,nord,ouest,sud                  808\n",
       "est,nord,ouest                      778\n",
       "nord,ouest,sud                      764\n",
       "horizontale                          46\n",
       "est,est ou ouest                     34\n",
       "est ou ouest,nord                    31\n",
       "est ou ouest,nord,sud                30\n",
       "est ou ouest,sud                     20\n",
       "est,est ou ouest,sud                 16\n",
       "est,indetermine                      16\n",
       "est ou ouest                         11\n",
       "indetermine,nord,sud                  8\n",
       "est,est ou ouest,nord                 5\n",
       "est,indetermine,nord                  4\n",
       "horizontale,nord,sud                  3\n",
       "est,indetermine,nord,ouest,sud        3\n",
       "est,horizontale,nord,ouest,sud        3\n",
       "indetermine,ouest                     3\n",
       "est,est ou ouest,nord,sud             1\n",
       "est,horizontale,nord,sud              1\n",
       "est ou ouest,horizontale              1\n",
       "horizontale,nord,ouest,sud            1\n",
       "est,indetermine,ouest                 1\n",
       "indetermine,sud                       1\n",
       "Name: adedpe202006_logtype_baie_orientation, dtype: int64"
      ]
     },
     "execution_count": 41,
     "metadata": {},
     "output_type": "execute_result"
    }
   ],
   "source": [
    "df_selec[\"adedpe202006_logtype_baie_orientation\"].value_counts()"
   ]
  },
  {
   "cell_type": "code",
   "execution_count": 42,
   "id": "3cc44faa",
   "metadata": {},
   "outputs": [
    {
     "data": {
      "text/plain": [
       "0    89341\n",
       "1    15999\n",
       "Name: baie_orientation_sud, dtype: int64"
      ]
     },
     "execution_count": 42,
     "metadata": {},
     "output_type": "execute_result"
    }
   ],
   "source": [
    "def filtre_sud(x) :\n",
    "    if \"sud\" in x :\n",
    "        return 1\n",
    "    else : \n",
    "        return 0\n",
    "    \n",
    "df_selec[\"baie_orientation_sud\"]=df_selec[\"adedpe202006_logtype_baie_orientation\"].apply(filtre_sud)\n",
    "df_selec[\"baie_orientation_sud\"].value_counts()"
   ]
  },
  {
   "cell_type": "code",
   "execution_count": 43,
   "id": "bdf70dc0",
   "metadata": {},
   "outputs": [
    {
     "data": {
      "text/plain": [
       "1    66932\n",
       "0    38408\n",
       "Name: baie_orientation_nord, dtype: int64"
      ]
     },
     "execution_count": 43,
     "metadata": {},
     "output_type": "execute_result"
    }
   ],
   "source": [
    "def filtre_nord(x) :\n",
    "    if \"nord\" in x :\n",
    "        return 1\n",
    "    else : \n",
    "        return 0\n",
    "    \n",
    "df_selec[\"baie_orientation_nord\"]=df_selec[\"adedpe202006_logtype_baie_orientation\"].apply(filtre_nord)\n",
    "df_selec[\"baie_orientation_nord\"].value_counts()"
   ]
  },
  {
   "cell_type": "code",
   "execution_count": 44,
   "id": "c77ca218",
   "metadata": {},
   "outputs": [
    {
     "data": {
      "text/plain": [
       "0    93145\n",
       "1    12195\n",
       "Name: baie_orientation_ouest, dtype: int64"
      ]
     },
     "execution_count": 44,
     "metadata": {},
     "output_type": "execute_result"
    }
   ],
   "source": [
    "def filtre_ouest(x) :\n",
    "    if \"ouest\" in x :\n",
    "        return 1\n",
    "    else : \n",
    "        return 0\n",
    "    \n",
    "df_selec[\"baie_orientation_ouest\"]=df_selec[\"adedpe202006_logtype_baie_orientation\"].apply(filtre_ouest)\n",
    "df_selec[\"baie_orientation_ouest\"].value_counts()"
   ]
  },
  {
   "cell_type": "code",
   "execution_count": 45,
   "id": "dc02b7e7",
   "metadata": {},
   "outputs": [
    {
     "data": {
      "text/plain": [
       "0    89407\n",
       "1    15933\n",
       "Name: baie_orientation_est, dtype: int64"
      ]
     },
     "execution_count": 45,
     "metadata": {},
     "output_type": "execute_result"
    }
   ],
   "source": [
    "def filtre_est(x) :\n",
    "    if x.startswith(\"est\") :\n",
    "        return 1\n",
    "    else : \n",
    "        return 0\n",
    "    \n",
    "df_selec[\"baie_orientation_est\"]=df_selec[\"adedpe202006_logtype_baie_orientation\"].apply(filtre_est)\n",
    "df_selec[\"baie_orientation_est\"].value_counts()\n"
   ]
  },
  {
   "cell_type": "code",
   "execution_count": 46,
   "id": "dadcf4dc",
   "metadata": {},
   "outputs": [
    {
     "data": {
      "text/plain": [
       "0    105249\n",
       "1        91\n",
       "Name: baie_orientation_autre, dtype: int64"
      ]
     },
     "execution_count": 46,
     "metadata": {},
     "output_type": "execute_result"
    }
   ],
   "source": [
    "def filtre_autre(x) :\n",
    "    if \"indetermine\" in x:\n",
    "        return 1\n",
    "    elif \"horizontale\" in x:\n",
    "        return 1\n",
    "    else : \n",
    "        return 0\n",
    "    \n",
    "df_selec[\"baie_orientation_autre\"]=df_selec[\"adedpe202006_logtype_baie_orientation\"].apply(filtre_autre)\n",
    "df_selec[\"baie_orientation_autre\"].value_counts()"
   ]
  },
  {
   "cell_type": "markdown",
   "id": "662ddc2e",
   "metadata": {},
   "source": []
  },
  {
   "cell_type": "code",
   "execution_count": 47,
   "id": "44fd782e",
   "metadata": {},
   "outputs": [],
   "source": [
    "#Suppression de la variable df_selec[\"adedpe202006_logtype_baie_orientation\"]\n",
    "df_selec=df_selec.drop(\"adedpe202006_logtype_baie_orientation\", axis=1)"
   ]
  },
  {
   "cell_type": "markdown",
   "id": "23852df9",
   "metadata": {},
   "source": []
  },
  {
   "cell_type": "code",
   "execution_count": 48,
   "id": "802e27c5",
   "metadata": {},
   "outputs": [],
   "source": [
    "#Après réflexion, toutes ces variables orientation concernent seulement un logement représentatif du bâtiment=> on supprime\n",
    "to_drop=[\"baie_orientation_sud\",\"baie_orientation_nord\", \"baie_orientation_ouest\", \"baie_orientation_est\", \"baie_orientation_autre\"]\n",
    "df_selec=df_selec.drop(to_drop, axis=1)"
   ]
  },
  {
   "cell_type": "markdown",
   "id": "7dd00f12",
   "metadata": {},
   "source": [
    "**Analyse de la variable \"adedpe202006_logtype_ch_gen_lib_princ\" :  Type de générateur de chauffage principal"
   ]
  },
  {
   "cell_type": "code",
   "execution_count": 51,
   "id": "e775acfc",
   "metadata": {
    "scrolled": true
   },
   "outputs": [
    {
     "data": {
      "text/html": [
       "<div>\n",
       "<style scoped>\n",
       "    .dataframe tbody tr th:only-of-type {\n",
       "        vertical-align: middle;\n",
       "    }\n",
       "\n",
       "    .dataframe tbody tr th {\n",
       "        vertical-align: top;\n",
       "    }\n",
       "\n",
       "    .dataframe thead th {\n",
       "        text-align: right;\n",
       "    }\n",
       "</style>\n",
       "<table border=\"1\" class=\"dataframe\">\n",
       "  <thead>\n",
       "    <tr style=\"text-align: right;\">\n",
       "      <th></th>\n",
       "      <th>adedpe202006_logtype_ch_gen_lib_princ</th>\n",
       "    </tr>\n",
       "  </thead>\n",
       "  <tbody>\n",
       "    <tr>\n",
       "      <th>generateurs a effet joule</th>\n",
       "      <td>51045</td>\n",
       "    </tr>\n",
       "    <tr>\n",
       "      <th>chaudiere gaz standard</th>\n",
       "      <td>31478</td>\n",
       "    </tr>\n",
       "    <tr>\n",
       "      <th>reseau de chaleur</th>\n",
       "      <td>6358</td>\n",
       "    </tr>\n",
       "    <tr>\n",
       "      <th>chaudiere gaz basse temperature</th>\n",
       "      <td>3586</td>\n",
       "    </tr>\n",
       "    <tr>\n",
       "      <th>chaudiere gaz condensation</th>\n",
       "      <td>2654</td>\n",
       "    </tr>\n",
       "    <tr>\n",
       "      <th>chaudiere fioul standard</th>\n",
       "      <td>2392</td>\n",
       "    </tr>\n",
       "    <tr>\n",
       "      <th>chaudiere electrique</th>\n",
       "      <td>903</td>\n",
       "    </tr>\n",
       "    <tr>\n",
       "      <th>pac air/air</th>\n",
       "      <td>710</td>\n",
       "    </tr>\n",
       "    <tr>\n",
       "      <th>pac indetermine</th>\n",
       "      <td>448</td>\n",
       "    </tr>\n",
       "    <tr>\n",
       "      <th>chaudiere energie indetermine standard</th>\n",
       "      <td>260</td>\n",
       "    </tr>\n",
       "    <tr>\n",
       "      <th>radiateurs gaz</th>\n",
       "      <td>222</td>\n",
       "    </tr>\n",
       "    <tr>\n",
       "      <th>chaudiere fioul basse temperature</th>\n",
       "      <td>209</td>\n",
       "    </tr>\n",
       "    <tr>\n",
       "      <th>chaudiere energie indetermine indetermine</th>\n",
       "      <td>195</td>\n",
       "    </tr>\n",
       "    <tr>\n",
       "      <th>chauffage autre indetermine</th>\n",
       "      <td>73</td>\n",
       "    </tr>\n",
       "    <tr>\n",
       "      <th>pac air/eau</th>\n",
       "      <td>69</td>\n",
       "    </tr>\n",
       "    <tr>\n",
       "      <th>chaudiere energie indetermine basse temperature</th>\n",
       "      <td>45</td>\n",
       "    </tr>\n",
       "    <tr>\n",
       "      <th>chaudiere fioul condensation</th>\n",
       "      <td>32</td>\n",
       "    </tr>\n",
       "    <tr>\n",
       "      <th>chaudiere bois</th>\n",
       "      <td>29</td>\n",
       "    </tr>\n",
       "    <tr>\n",
       "      <th>chaudiere energie indetermine condensation</th>\n",
       "      <td>23</td>\n",
       "    </tr>\n",
       "    <tr>\n",
       "      <th>pac eau/eau</th>\n",
       "      <td>16</td>\n",
       "    </tr>\n",
       "    <tr>\n",
       "      <th>pac geothermique</th>\n",
       "      <td>6</td>\n",
       "    </tr>\n",
       "    <tr>\n",
       "      <th>poele ou insert bois</th>\n",
       "      <td>4</td>\n",
       "    </tr>\n",
       "    <tr>\n",
       "      <th>chaudiere gpl/butane/propane standard</th>\n",
       "      <td>4</td>\n",
       "    </tr>\n",
       "    <tr>\n",
       "      <th>poele ou insert charbon</th>\n",
       "      <td>3</td>\n",
       "    </tr>\n",
       "    <tr>\n",
       "      <th>chaudiere charbon standard</th>\n",
       "      <td>2</td>\n",
       "    </tr>\n",
       "    <tr>\n",
       "      <th>poele ou insert indetermine</th>\n",
       "      <td>1</td>\n",
       "    </tr>\n",
       "    <tr>\n",
       "      <th>chauffage solaire</th>\n",
       "      <td>1</td>\n",
       "    </tr>\n",
       "  </tbody>\n",
       "</table>\n",
       "</div>"
      ],
      "text/plain": [
       "                                                 adedpe202006_logtype_ch_gen_lib_princ\n",
       "generateurs a effet joule                                                        51045\n",
       "chaudiere gaz standard                                                           31478\n",
       "reseau de chaleur                                                                 6358\n",
       "chaudiere gaz basse temperature                                                   3586\n",
       "chaudiere gaz condensation                                                        2654\n",
       "chaudiere fioul standard                                                          2392\n",
       "chaudiere electrique                                                               903\n",
       "pac air/air                                                                        710\n",
       "pac indetermine                                                                    448\n",
       "chaudiere energie indetermine standard                                             260\n",
       "radiateurs gaz                                                                     222\n",
       "chaudiere fioul basse temperature                                                  209\n",
       "chaudiere energie indetermine indetermine                                          195\n",
       "chauffage autre indetermine                                                         73\n",
       "pac air/eau                                                                         69\n",
       "chaudiere energie indetermine basse temperature                                     45\n",
       "chaudiere fioul condensation                                                        32\n",
       "chaudiere bois                                                                      29\n",
       "chaudiere energie indetermine condensation                                          23\n",
       "pac eau/eau                                                                         16\n",
       "pac geothermique                                                                     6\n",
       "poele ou insert bois                                                                 4\n",
       "chaudiere gpl/butane/propane standard                                                4\n",
       "poele ou insert charbon                                                              3\n",
       "chaudiere charbon standard                                                           2\n",
       "poele ou insert indetermine                                                          1\n",
       "chauffage solaire                                                                    1"
      ]
     },
     "execution_count": 51,
     "metadata": {},
     "output_type": "execute_result"
    }
   ],
   "source": [
    "# Simplification des valeurs de la variable \"adedpe202006_logtype_ch_gen_lib_princ\" => \n",
    "# sa multitude de valeurs créé des différence de nombre de colonnes entre X train et X test après get dummies\n",
    "\n",
    "df_selec[\"adedpe202006_logtype_ch_gen_lib_princ\"].value_counts().to_frame()"
   ]
  },
  {
   "cell_type": "code",
   "execution_count": 50,
   "id": "03da464f",
   "metadata": {},
   "outputs": [
    {
     "data": {
      "text/html": [
       "<div>\n",
       "<style scoped>\n",
       "    .dataframe tbody tr th:only-of-type {\n",
       "        vertical-align: middle;\n",
       "    }\n",
       "\n",
       "    .dataframe tbody tr th {\n",
       "        vertical-align: top;\n",
       "    }\n",
       "\n",
       "    .dataframe thead th {\n",
       "        text-align: right;\n",
       "    }\n",
       "</style>\n",
       "<table border=\"1\" class=\"dataframe\">\n",
       "  <thead>\n",
       "    <tr style=\"text-align: right;\">\n",
       "      <th></th>\n",
       "      <th>adedpe202006_logtype_ch_gen_lib_princ</th>\n",
       "    </tr>\n",
       "  </thead>\n",
       "  <tbody>\n",
       "    <tr>\n",
       "      <th>generateurs a effet joule</th>\n",
       "      <td>51045</td>\n",
       "    </tr>\n",
       "    <tr>\n",
       "      <th>chaudiere gaz standard</th>\n",
       "      <td>31478</td>\n",
       "    </tr>\n",
       "    <tr>\n",
       "      <th>reseau de chaleur</th>\n",
       "      <td>6358</td>\n",
       "    </tr>\n",
       "    <tr>\n",
       "      <th>chaudiere gaz basse temperature</th>\n",
       "      <td>3586</td>\n",
       "    </tr>\n",
       "    <tr>\n",
       "      <th>chaudiere gaz condensation</th>\n",
       "      <td>2654</td>\n",
       "    </tr>\n",
       "    <tr>\n",
       "      <th>chaudiere fioul standard</th>\n",
       "      <td>2392</td>\n",
       "    </tr>\n",
       "    <tr>\n",
       "      <th>chaudiere electrique</th>\n",
       "      <td>903</td>\n",
       "    </tr>\n",
       "    <tr>\n",
       "      <th>pac air/air</th>\n",
       "      <td>710</td>\n",
       "    </tr>\n",
       "    <tr>\n",
       "      <th>pac indetermine</th>\n",
       "      <td>448</td>\n",
       "    </tr>\n",
       "    <tr>\n",
       "      <th>chaudiere energie indetermine standard</th>\n",
       "      <td>260</td>\n",
       "    </tr>\n",
       "    <tr>\n",
       "      <th>radiateurs gaz</th>\n",
       "      <td>222</td>\n",
       "    </tr>\n",
       "    <tr>\n",
       "      <th>chaudiere fioul basse temperature</th>\n",
       "      <td>209</td>\n",
       "    </tr>\n",
       "    <tr>\n",
       "      <th>chaudiere energie indetermine indetermine</th>\n",
       "      <td>195</td>\n",
       "    </tr>\n",
       "    <tr>\n",
       "      <th>autres</th>\n",
       "      <td>89</td>\n",
       "    </tr>\n",
       "    <tr>\n",
       "      <th>chauffage autre indetermine</th>\n",
       "      <td>73</td>\n",
       "    </tr>\n",
       "    <tr>\n",
       "      <th>pac air/eau</th>\n",
       "      <td>69</td>\n",
       "    </tr>\n",
       "    <tr>\n",
       "      <th>chaudiere energie indetermine basse temperature</th>\n",
       "      <td>45</td>\n",
       "    </tr>\n",
       "    <tr>\n",
       "      <th>chaudiere fioul condensation</th>\n",
       "      <td>32</td>\n",
       "    </tr>\n",
       "  </tbody>\n",
       "</table>\n",
       "</div>"
      ],
      "text/plain": [
       "                                                 adedpe202006_logtype_ch_gen_lib_princ\n",
       "generateurs a effet joule                                                        51045\n",
       "chaudiere gaz standard                                                           31478\n",
       "reseau de chaleur                                                                 6358\n",
       "chaudiere gaz basse temperature                                                   3586\n",
       "chaudiere gaz condensation                                                        2654\n",
       "chaudiere fioul standard                                                          2392\n",
       "chaudiere electrique                                                               903\n",
       "pac air/air                                                                        710\n",
       "pac indetermine                                                                    448\n",
       "chaudiere energie indetermine standard                                             260\n",
       "radiateurs gaz                                                                     222\n",
       "chaudiere fioul basse temperature                                                  209\n",
       "chaudiere energie indetermine indetermine                                          195\n",
       "autres                                                                              89\n",
       "chauffage autre indetermine                                                         73\n",
       "pac air/eau                                                                         69\n",
       "chaudiere energie indetermine basse temperature                                     45\n",
       "chaudiere fioul condensation                                                        32"
      ]
     },
     "execution_count": 50,
     "metadata": {},
     "output_type": "execute_result"
    }
   ],
   "source": [
    "# Regroupement des occurences faiblement représentées :\n",
    "liste_equipement =[\"pac eau/eau\",\n",
    "                   \"pac geothermique\",\n",
    "                   \"poele ou insert bois\", \n",
    "                   \"chaudiere gpl/butane/propane standard\",\n",
    "                   \"poele ou insert charbon\",\n",
    "                   \"chaudiere charbon standard\",\n",
    "                   \"poele ou insert indetermine\",\n",
    "                   \"chauffage solaire\",\n",
    "                   \"chaudiere bois\", \n",
    "                   \"chaudiere energie indetermine condensation\"]\n",
    "\n",
    "def filtre_autre_equipement (x) :\n",
    "    if x in  liste_equipement :\n",
    "        return \"autres\"\n",
    "    else :\n",
    "        return x\n",
    "        \n",
    "df_selec[\"adedpe202006_logtype_ch_gen_lib_princ\"]=df_selec[\"adedpe202006_logtype_ch_gen_lib_princ\"].apply(filtre_autre_equipement)\n",
    "df_selec[\"adedpe202006_logtype_ch_gen_lib_princ\"].value_counts().to_frame()"
   ]
  },
  {
   "cell_type": "markdown",
   "id": "bf10dabe",
   "metadata": {},
   "source": [
    "**Analyse de la variable \"adedpe202006_logtype_ecs_type_ener\" : Type d'énergie d'eau chaude sanitaire"
   ]
  },
  {
   "cell_type": "code",
   "execution_count": 51,
   "id": "c2bd6a7a",
   "metadata": {},
   "outputs": [
    {
     "data": {
      "text/plain": [
       "5630"
      ]
     },
     "execution_count": 51,
     "metadata": {},
     "output_type": "execute_result"
    }
   ],
   "source": [
    "df_selec[\"adedpe202006_logtype_ecs_type_ener\"].isna().sum()"
   ]
  },
  {
   "cell_type": "code",
   "execution_count": 52,
   "id": "73193069",
   "metadata": {},
   "outputs": [
    {
     "data": {
      "text/html": [
       "<div>\n",
       "<style scoped>\n",
       "    .dataframe tbody tr th:only-of-type {\n",
       "        vertical-align: middle;\n",
       "    }\n",
       "\n",
       "    .dataframe tbody tr th {\n",
       "        vertical-align: top;\n",
       "    }\n",
       "\n",
       "    .dataframe thead th {\n",
       "        text-align: right;\n",
       "    }\n",
       "</style>\n",
       "<table border=\"1\" class=\"dataframe\">\n",
       "  <thead>\n",
       "    <tr style=\"text-align: right;\">\n",
       "      <th></th>\n",
       "      <th>adedpe202006_logtype_ecs_type_ener</th>\n",
       "    </tr>\n",
       "  </thead>\n",
       "  <tbody>\n",
       "    <tr>\n",
       "      <th>electricite</th>\n",
       "      <td>56108</td>\n",
       "    </tr>\n",
       "    <tr>\n",
       "      <th>gaz</th>\n",
       "      <td>35541</td>\n",
       "    </tr>\n",
       "    <tr>\n",
       "      <th>reseau de chaleur</th>\n",
       "      <td>5616</td>\n",
       "    </tr>\n",
       "    <tr>\n",
       "      <th>fioul</th>\n",
       "      <td>1857</td>\n",
       "    </tr>\n",
       "    <tr>\n",
       "      <th>ecs thermodynamique electrique(pac ou ballon)</th>\n",
       "      <td>292</td>\n",
       "    </tr>\n",
       "    <tr>\n",
       "      <th>bois</th>\n",
       "      <td>140</td>\n",
       "    </tr>\n",
       "    <tr>\n",
       "      <th>ecs thermodynamique electrique(pac ou ballon) + gaz</th>\n",
       "      <td>64</td>\n",
       "    </tr>\n",
       "    <tr>\n",
       "      <th>bois + reseau de chaleur</th>\n",
       "      <td>39</td>\n",
       "    </tr>\n",
       "    <tr>\n",
       "      <th>electricite + gaz</th>\n",
       "      <td>15</td>\n",
       "    </tr>\n",
       "    <tr>\n",
       "      <th>bois + gaz</th>\n",
       "      <td>13</td>\n",
       "    </tr>\n",
       "    <tr>\n",
       "      <th>ecs thermodynamique electrique(pac ou ballon) + electricite</th>\n",
       "      <td>9</td>\n",
       "    </tr>\n",
       "    <tr>\n",
       "      <th>bois + ecs thermodynamique electrique(pac ou ballon) + gaz</th>\n",
       "      <td>5</td>\n",
       "    </tr>\n",
       "    <tr>\n",
       "      <th>autre</th>\n",
       "      <td>4</td>\n",
       "    </tr>\n",
       "    <tr>\n",
       "      <th>gpl/butane/propane</th>\n",
       "      <td>4</td>\n",
       "    </tr>\n",
       "    <tr>\n",
       "      <th>charbon + gaz</th>\n",
       "      <td>2</td>\n",
       "    </tr>\n",
       "    <tr>\n",
       "      <th>electricite + reseau de chaleur</th>\n",
       "      <td>1</td>\n",
       "    </tr>\n",
       "  </tbody>\n",
       "</table>\n",
       "</div>"
      ],
      "text/plain": [
       "                                                    adedpe202006_logtype_ecs_type_ener\n",
       "electricite                                                                      56108\n",
       "gaz                                                                              35541\n",
       "reseau de chaleur                                                                 5616\n",
       "fioul                                                                             1857\n",
       "ecs thermodynamique electrique(pac ou ballon)                                      292\n",
       "bois                                                                               140\n",
       "ecs thermodynamique electrique(pac ou ballon) +...                                  64\n",
       "bois + reseau de chaleur                                                            39\n",
       "electricite + gaz                                                                   15\n",
       "bois + gaz                                                                          13\n",
       "ecs thermodynamique electrique(pac ou ballon) +...                                   9\n",
       "bois + ecs thermodynamique electrique(pac ou ba...                                   5\n",
       "autre                                                                                4\n",
       "gpl/butane/propane                                                                   4\n",
       "charbon + gaz                                                                        2\n",
       "electricite + reseau de chaleur                                                      1"
      ]
     },
     "execution_count": 52,
     "metadata": {},
     "output_type": "execute_result"
    }
   ],
   "source": [
    "# Simplification des valeurs de la variable \"adedpe202006_logtype_ecs_type_ener\" => \n",
    "# sa multitude de valeurs créé des différences de nombre de colonnes entre X train et X test après get dummies.\n",
    "df_selec[\"adedpe202006_logtype_ecs_type_ener\"].value_counts().to_frame()"
   ]
  },
  {
   "cell_type": "code",
   "execution_count": 53,
   "id": "2ae2de07",
   "metadata": {},
   "outputs": [
    {
     "data": {
      "text/html": [
       "<div>\n",
       "<style scoped>\n",
       "    .dataframe tbody tr th:only-of-type {\n",
       "        vertical-align: middle;\n",
       "    }\n",
       "\n",
       "    .dataframe tbody tr th {\n",
       "        vertical-align: top;\n",
       "    }\n",
       "\n",
       "    .dataframe thead th {\n",
       "        text-align: right;\n",
       "    }\n",
       "</style>\n",
       "<table border=\"1\" class=\"dataframe\">\n",
       "  <thead>\n",
       "    <tr style=\"text-align: right;\">\n",
       "      <th></th>\n",
       "      <th>adedpe202006_logtype_ecs_type_ener</th>\n",
       "    </tr>\n",
       "  </thead>\n",
       "  <tbody>\n",
       "    <tr>\n",
       "      <th>electricite</th>\n",
       "      <td>56108</td>\n",
       "    </tr>\n",
       "    <tr>\n",
       "      <th>gaz</th>\n",
       "      <td>35541</td>\n",
       "    </tr>\n",
       "    <tr>\n",
       "      <th>reseau de chaleur</th>\n",
       "      <td>5616</td>\n",
       "    </tr>\n",
       "    <tr>\n",
       "      <th>fioul</th>\n",
       "      <td>1857</td>\n",
       "    </tr>\n",
       "    <tr>\n",
       "      <th>ecs thermodynamique electrique(pac ou ballon)</th>\n",
       "      <td>292</td>\n",
       "    </tr>\n",
       "    <tr>\n",
       "      <th>autres</th>\n",
       "      <td>156</td>\n",
       "    </tr>\n",
       "    <tr>\n",
       "      <th>bois</th>\n",
       "      <td>140</td>\n",
       "    </tr>\n",
       "  </tbody>\n",
       "</table>\n",
       "</div>"
      ],
      "text/plain": [
       "                                               adedpe202006_logtype_ecs_type_ener\n",
       "electricite                                                                 56108\n",
       "gaz                                                                         35541\n",
       "reseau de chaleur                                                            5616\n",
       "fioul                                                                        1857\n",
       "ecs thermodynamique electrique(pac ou ballon)                                 292\n",
       "autres                                                                        156\n",
       "bois                                                                          140"
      ]
     },
     "execution_count": 53,
     "metadata": {},
     "output_type": "execute_result"
    }
   ],
   "source": [
    "# Regroupement des occurences faiblement représentées\n",
    "\n",
    "liste_equipement =[\"ecs thermodynamique electrique(pac ou ballon) + gaz\",\n",
    "                   \"ecs thermodynamique electrique(pac ou ballon) + electricite\",\n",
    "                   \"bois + ecs thermodynamique electrique(pac ou ballon) + gaz\",\n",
    "                   \"autre\",\n",
    "                   \"gpl/butane/propane\",\n",
    "                   \"charbon + gaz\",\n",
    "                   \"electricite + reseau de chaleur\",\n",
    "                   \"bois + reseau de chaleur\",\n",
    "                   \"electricite + gaz\",\n",
    "                   \"bois + gaz\"]\n",
    "\n",
    "def filtre_autre_equipement (x) :\n",
    "    if x in  liste_equipement :\n",
    "        return \"autres\"\n",
    "    else :\n",
    "        return x\n",
    "        \n",
    "df_selec[\"adedpe202006_logtype_ecs_type_ener\"]=df_selec[\"adedpe202006_logtype_ecs_type_ener\"].apply(filtre_autre_equipement)\n",
    "df_selec[\"adedpe202006_logtype_ecs_type_ener\"].value_counts().to_frame()\n"
   ]
  },
  {
   "cell_type": "markdown",
   "id": "4786d9aa",
   "metadata": {},
   "source": [
    "**Analyse de la variable \"arcthd2021t1_l_bat_type\" => (arcep) Type de construction du bâtiment"
   ]
  },
  {
   "cell_type": "code",
   "execution_count": 54,
   "id": "f0b38714",
   "metadata": {},
   "outputs": [
    {
     "data": {
      "text/plain": [
       "{immeuble}                                                                                                                                                                                        74623\n",
       "{immeuble,immeuble}                                                                                                                                                                                3621\n",
       "{immeuble,pavillon}                                                                                                                                                                                1764\n",
       "{immeuble,immeuble,immeuble}                                                                                                                                                                        765\n",
       "{pavillon}                                                                                                                                                                                          679\n",
       "{pavillon,immeuble}                                                                                                                                                                                 197\n",
       "{immeuble,pavillon,immeuble}                                                                                                                                                                        106\n",
       "{immeuble,immeuble,pavillon}                                                                                                                                                                        106\n",
       "{immeuble,pavillon,immeuble,immeuble,immeuble}                                                                                                                                                       78\n",
       "{immeuble,immeuble,immeuble,immeuble,immeuble}                                                                                                                                                       75\n",
       "{immeuble,immeuble,immeuble,immeuble}                                                                                                                                                                63\n",
       "{immeuble,immeuble,immeuble,immeuble,immeuble,pavillon,immeuble,immeuble}                                                                                                                            61\n",
       "{immeuble,immeuble,immeuble,immeuble,immeuble,immeuble}                                                                                                                                              41\n",
       "{immeuble,immeuble,immeuble,pavillon}                                                                                                                                                                40\n",
       "{immeuble,immeuble,immeuble,immeuble,immeuble,immeuble,immeuble}                                                                                                                                     40\n",
       "{immeuble,immeuble,immeuble,immeuble,pavillon}                                                                                                                                                       39\n",
       "{immeuble,immeuble,pavillon,immeuble}                                                                                                                                                                38\n",
       "{immeuble,immeuble,immeuble,pavillon,immeuble,immeuble,immeuble}                                                                                                                                     37\n",
       "{pavillon,pavillon,immeuble,pavillon}                                                                                                                                                                29\n",
       "{pavillon,immeuble,pavillon,pavillon}                                                                                                                                                                27\n",
       "{immeuble,immeuble,immeuble,immeuble,immeuble,pavillon}                                                                                                                                              26\n",
       "{immeuble,immeuble,immeuble,immeuble,pavillon,pavillon}                                                                                                                                              16\n",
       "{immeuble,pavillon,immeuble,immeuble}                                                                                                                                                                14\n",
       "{pavillon,immeuble,pavillon}                                                                                                                                                                         12\n",
       "{pavillon,immeuble,pavillon,immeuble,immeuble,immeuble}                                                                                                                                              11\n",
       "{immeuble,immeuble,immeuble,immeuble,immeuble,immeuble,immeuble,immeuble}                                                                                                                            10\n",
       "{immeuble,immeuble,pavillon,immeuble,immeuble}                                                                                                                                                        9\n",
       "{immeuble,immeuble,immeuble,immeuble,immeuble,immeuble,immeuble,immeuble,immeuble,immeuble,immeuble,pavillon,immeuble,pavillon,immeuble,immeuble,immeuble,pavillon,immeuble,immeuble}                 9\n",
       "{immeuble,immeuble,immeuble,pavillon,pavillon}                                                                                                                                                        8\n",
       "{pavillon,pavillon}                                                                                                                                                                                   8\n",
       "{immeuble,immeuble,immeuble,immeuble,immeuble,immeuble,immeuble,immeuble,immeuble,immeuble,immeuble}                                                                                                  6\n",
       "{pavillon,immeuble,immeuble}                                                                                                                                                                          6\n",
       "{immeuble,pavillon,immeuble,immeuble,immeuble,pavillon}                                                                                                                                               6\n",
       "{immeuble,immeuble,pavillon,immeuble,immeuble,pavillon,immeuble,immeuble,immeuble,immeuble,immeuble,pavillon,immeuble,pavillon,immeuble,immeuble,immeuble,immeuble,immeuble,pavillon,immeuble}        5\n",
       "{immeuble,pavillon,pavillon,immeuble}                                                                                                                                                                 4\n",
       "{immeuble,immeuble,immeuble,pavillon,immeuble}                                                                                                                                                        4\n",
       "{immeuble,pavillon,pavillon,immeuble,immeuble}                                                                                                                                                        4\n",
       "{pavillon,immeuble,pavillon,immeuble}                                                                                                                                                                 2\n",
       "{immeuble,pavillon,immeuble,pavillon}                                                                                                                                                                 2\n",
       "{immeuble,pavillon,pavillon}                                                                                                                                                                          2\n",
       "{immeuble,immeuble,immeuble,pavillon,immeuble,immeuble}                                                                                                                                               2\n",
       "{immeuble,immeuble,immeuble,immeuble,immeuble,pavillon,immeuble,immeuble,pavillon,immeuble}                                                                                                           1\n",
       "{immeuble,immeuble,immeuble,immeuble,immeuble,immeuble,immeuble,immeuble,immeuble}                                                                                                                    1\n",
       "{immeuble,immeuble,immeuble,immeuble,pavillon,immeuble}                                                                                                                                               1\n",
       "Name: arcthd2021t1_l_bat_type, dtype: int64"
      ]
     },
     "execution_count": 54,
     "metadata": {},
     "output_type": "execute_result"
    }
   ],
   "source": [
    "df_selec[\"arcthd2021t1_l_bat_type\"].value_counts()"
   ]
  },
  {
   "cell_type": "code",
   "execution_count": 55,
   "id": "995f44f0",
   "metadata": {},
   "outputs": [],
   "source": [
    "# On supprime cette variable pq on ne s'intéresse qu'aux bâtiments en copropriété \n",
    "\n",
    "df_selec=df_selec.drop(\"arcthd2021t1_l_bat_type\", axis=1)"
   ]
  },
  {
   "cell_type": "markdown",
   "id": "9b938dab",
   "metadata": {},
   "source": [
    "**Analyse de la variable \"geoarg2020_alea\" = Niveau de risque argile"
   ]
  },
  {
   "cell_type": "code",
   "execution_count": 56,
   "id": "eec58c3b",
   "metadata": {},
   "outputs": [
    {
     "data": {
      "text/plain": [
       "105340"
      ]
     },
     "execution_count": 56,
     "metadata": {},
     "output_type": "execute_result"
    }
   ],
   "source": [
    "df_selec[\"geoarg2020_alea\"].isna().sum()"
   ]
  },
  {
   "cell_type": "code",
   "execution_count": 57,
   "id": "7246ea25",
   "metadata": {},
   "outputs": [],
   "source": [
    "# La variable \"geoarg2020_alea\" est composée à 100% de Nan\n",
    "# Aucun bâtiment en risque argile à Paris : https://assistance.brgm.fr/georisques/pourquoi-ny-til-pas-cartographie-lexposition-au-risque-retrait-gonflement-argiles-ville\n",
    "# Suppression\n",
    "df_selec=df_selec.drop(\"geoarg2020_alea\", axis=1)"
   ]
  },
  {
   "cell_type": "markdown",
   "id": "8c6ff047",
   "metadata": {},
   "source": [
    "**Analyse de la variable \"adedpe202006_logtype_ch_type_inst\" : Type d'installation de chauffage"
   ]
  },
  {
   "cell_type": "code",
   "execution_count": 58,
   "id": "2adca82f",
   "metadata": {},
   "outputs": [
    {
     "data": {
      "text/html": [
       "<div>\n",
       "<style scoped>\n",
       "    .dataframe tbody tr th:only-of-type {\n",
       "        vertical-align: middle;\n",
       "    }\n",
       "\n",
       "    .dataframe tbody tr th {\n",
       "        vertical-align: top;\n",
       "    }\n",
       "\n",
       "    .dataframe thead th {\n",
       "        text-align: right;\n",
       "    }\n",
       "</style>\n",
       "<table border=\"1\" class=\"dataframe\">\n",
       "  <thead>\n",
       "    <tr style=\"text-align: right;\">\n",
       "      <th></th>\n",
       "      <th>adedpe202006_logtype_ch_type_inst</th>\n",
       "    </tr>\n",
       "  </thead>\n",
       "  <tbody>\n",
       "    <tr>\n",
       "      <th>individuel</th>\n",
       "      <td>67785</td>\n",
       "    </tr>\n",
       "    <tr>\n",
       "      <th>collectif</th>\n",
       "      <td>20667</td>\n",
       "    </tr>\n",
       "  </tbody>\n",
       "</table>\n",
       "</div>"
      ],
      "text/plain": [
       "            adedpe202006_logtype_ch_type_inst\n",
       "individuel                              67785\n",
       "collectif                               20667"
      ]
     },
     "execution_count": 58,
     "metadata": {},
     "output_type": "execute_result"
    }
   ],
   "source": [
    "df_selec[\"adedpe202006_logtype_ch_type_inst\"].value_counts().to_frame()"
   ]
  },
  {
   "cell_type": "code",
   "execution_count": 59,
   "id": "ad50b343",
   "metadata": {},
   "outputs": [
    {
     "data": {
      "text/plain": [
       "16888"
      ]
     },
     "execution_count": 59,
     "metadata": {},
     "output_type": "execute_result"
    }
   ],
   "source": [
    "df_selec[\"adedpe202006_logtype_ch_type_inst\"].isna().sum()"
   ]
  },
  {
   "cell_type": "markdown",
   "id": "854ad851",
   "metadata": {},
   "source": [
    "**Analyse de la variable \"adedpe202006_logtype_mur_pos_isol_ext\" =>(dpe) Type d'isolation des murs"
   ]
  },
  {
   "cell_type": "code",
   "execution_count": 60,
   "id": "a51ac713",
   "metadata": {},
   "outputs": [
    {
     "data": {
      "text/html": [
       "<div>\n",
       "<style scoped>\n",
       "    .dataframe tbody tr th:only-of-type {\n",
       "        vertical-align: middle;\n",
       "    }\n",
       "\n",
       "    .dataframe tbody tr th {\n",
       "        vertical-align: top;\n",
       "    }\n",
       "\n",
       "    .dataframe thead th {\n",
       "        text-align: right;\n",
       "    }\n",
       "</style>\n",
       "<table border=\"1\" class=\"dataframe\">\n",
       "  <thead>\n",
       "    <tr style=\"text-align: right;\">\n",
       "      <th></th>\n",
       "      <th>adedpe202006_logtype_mur_pos_isol_ext</th>\n",
       "    </tr>\n",
       "  </thead>\n",
       "  <tbody>\n",
       "    <tr>\n",
       "      <th>ITI</th>\n",
       "      <td>85628</td>\n",
       "    </tr>\n",
       "    <tr>\n",
       "      <th>non isole</th>\n",
       "      <td>12218</td>\n",
       "    </tr>\n",
       "    <tr>\n",
       "      <th>isole</th>\n",
       "      <td>439</td>\n",
       "    </tr>\n",
       "    <tr>\n",
       "      <th>ITE</th>\n",
       "      <td>361</td>\n",
       "    </tr>\n",
       "    <tr>\n",
       "      <th>ITR</th>\n",
       "      <td>149</td>\n",
       "    </tr>\n",
       "    <tr>\n",
       "      <th>ITI+ITE</th>\n",
       "      <td>128</td>\n",
       "    </tr>\n",
       "    <tr>\n",
       "      <th>ITI+ITR</th>\n",
       "      <td>69</td>\n",
       "    </tr>\n",
       "    <tr>\n",
       "      <th>ITE+ITR</th>\n",
       "      <td>6</td>\n",
       "    </tr>\n",
       "  </tbody>\n",
       "</table>\n",
       "</div>"
      ],
      "text/plain": [
       "           adedpe202006_logtype_mur_pos_isol_ext\n",
       "ITI                                        85628\n",
       "non isole                                  12218\n",
       "isole                                        439\n",
       "ITE                                          361\n",
       "ITR                                          149\n",
       "ITI+ITE                                      128\n",
       "ITI+ITR                                       69\n",
       "ITE+ITR                                        6"
      ]
     },
     "execution_count": 60,
     "metadata": {},
     "output_type": "execute_result"
    }
   ],
   "source": [
    "df_selec[\"adedpe202006_logtype_mur_pos_isol_ext\"].value_counts().to_frame()"
   ]
  },
  {
   "cell_type": "code",
   "execution_count": 61,
   "id": "3f649996",
   "metadata": {},
   "outputs": [
    {
     "data": {
      "text/plain": [
       "6342"
      ]
     },
     "execution_count": 61,
     "metadata": {},
     "output_type": "execute_result"
    }
   ],
   "source": [
    "df_selec[\"adedpe202006_logtype_mur_pos_isol_ext\"].isna().sum()"
   ]
  },
  {
   "cell_type": "code",
   "execution_count": 62,
   "id": "ba95bdac",
   "metadata": {},
   "outputs": [],
   "source": [
    "# Remlacement des nan par \"Inconnu\"\n",
    "df_selec[\"adedpe202006_logtype_mur_pos_isol_ext\"]=df_selec[\"adedpe202006_logtype_mur_pos_isol_ext\"].fillna(\"Inconnu\")"
   ]
  },
  {
   "cell_type": "code",
   "execution_count": 63,
   "id": "1b71f82e",
   "metadata": {},
   "outputs": [],
   "source": [
    "# Simplification des modalités \n",
    "def filtre(x):\n",
    "    if x==\"ITI\" :\n",
    "        return \"ITI\"\n",
    "    elif x==\"ITE\" :\n",
    "        return \"ITE\"\n",
    "    elif x==\"ITR\" :\n",
    "        return \"ITR\"\n",
    "    elif \"Inconnu\" in x :\n",
    "        return \"Inconnu\"\n",
    "    else :\n",
    "        return \"Autres\""
   ]
  },
  {
   "cell_type": "code",
   "execution_count": 64,
   "id": "a9928170",
   "metadata": {},
   "outputs": [],
   "source": [
    "df_selec[\"adedpe202006_logtype_mur_pos_isol_ext\"]=df_selec[\"adedpe202006_logtype_mur_pos_isol_ext\"].apply(filtre)"
   ]
  },
  {
   "cell_type": "code",
   "execution_count": 65,
   "id": "95541bb4",
   "metadata": {},
   "outputs": [
    {
     "data": {
      "text/html": [
       "<div>\n",
       "<style scoped>\n",
       "    .dataframe tbody tr th:only-of-type {\n",
       "        vertical-align: middle;\n",
       "    }\n",
       "\n",
       "    .dataframe tbody tr th {\n",
       "        vertical-align: top;\n",
       "    }\n",
       "\n",
       "    .dataframe thead th {\n",
       "        text-align: right;\n",
       "    }\n",
       "</style>\n",
       "<table border=\"1\" class=\"dataframe\">\n",
       "  <thead>\n",
       "    <tr style=\"text-align: right;\">\n",
       "      <th></th>\n",
       "      <th>adedpe202006_logtype_mur_pos_isol_ext</th>\n",
       "    </tr>\n",
       "  </thead>\n",
       "  <tbody>\n",
       "    <tr>\n",
       "      <th>ITI</th>\n",
       "      <td>85628</td>\n",
       "    </tr>\n",
       "    <tr>\n",
       "      <th>Autres</th>\n",
       "      <td>12860</td>\n",
       "    </tr>\n",
       "    <tr>\n",
       "      <th>Inconnu</th>\n",
       "      <td>6342</td>\n",
       "    </tr>\n",
       "    <tr>\n",
       "      <th>ITE</th>\n",
       "      <td>361</td>\n",
       "    </tr>\n",
       "    <tr>\n",
       "      <th>ITR</th>\n",
       "      <td>149</td>\n",
       "    </tr>\n",
       "  </tbody>\n",
       "</table>\n",
       "</div>"
      ],
      "text/plain": [
       "         adedpe202006_logtype_mur_pos_isol_ext\n",
       "ITI                                      85628\n",
       "Autres                                   12860\n",
       "Inconnu                                   6342\n",
       "ITE                                        361\n",
       "ITR                                        149"
      ]
     },
     "execution_count": 65,
     "metadata": {},
     "output_type": "execute_result"
    }
   ],
   "source": [
    "df_selec[\"adedpe202006_logtype_mur_pos_isol_ext\"].value_counts().to_frame()"
   ]
  },
  {
   "cell_type": "markdown",
   "id": "d13a74d2",
   "metadata": {},
   "source": [
    "**Analyse de la variable \"adedpe202006_logtype_mur_mat_ext\" =>(dpe) Matériaux de la structure des murs extérieurs"
   ]
  },
  {
   "cell_type": "code",
   "execution_count": 66,
   "id": "d98531aa",
   "metadata": {},
   "outputs": [
    {
     "data": {
      "text/plain": [
       "murs en pierre de taille et moellons avec remplissage tout venant     35952\n",
       "murs en béton banché                                                  16023\n",
       "murs en briques pleines simples                                       15076\n",
       "murs en blocs de béton pleins                                          6305\n",
       "murs en pierre de taille et moellons constitué d'un seul matériaux     5513\n",
       "murs en pierre                                                         2589\n",
       "murs en blocs de béton creux                                           2296\n",
       "murs en pan de bois avec remplissage tout venant                       1484\n",
       "murs en béton de mâchefer                                              1476\n",
       "murs en pan de bois sans remplissage tout venant                       1232\n",
       "murs en briques creuses                                                 720\n",
       "murs en béton                                                           671\n",
       "murs en briques                                                         381\n",
       "cloison de plâtre                                                       314\n",
       "murs en briques pleines doubles avec lame d'air                         196\n",
       "béton cellulaire                                                        112\n",
       "murs en pisé ou béton de terre stabilisé (à partir d'argile crue)        33\n",
       "monomur terre cuite                                                       9\n",
       "Name: adedpe202006_logtype_mur_mat_ext, dtype: int64"
      ]
     },
     "execution_count": 66,
     "metadata": {},
     "output_type": "execute_result"
    }
   ],
   "source": [
    "df_selec[\"adedpe202006_logtype_mur_mat_ext\"].value_counts()"
   ]
  },
  {
   "cell_type": "code",
   "execution_count": 67,
   "id": "a4defeee",
   "metadata": {},
   "outputs": [
    {
     "data": {
      "text/plain": [
       "14958"
      ]
     },
     "execution_count": 67,
     "metadata": {},
     "output_type": "execute_result"
    }
   ],
   "source": [
    "df_selec[\"adedpe202006_logtype_mur_mat_ext\"].isna().sum()"
   ]
  },
  {
   "cell_type": "code",
   "execution_count": 68,
   "id": "11048974",
   "metadata": {},
   "outputs": [],
   "source": [
    "# On  remplace les Nan par \"Inconnu\"\n",
    "df_selec[\"adedpe202006_logtype_mur_mat_ext\"]=df_selec[\"adedpe202006_logtype_mur_mat_ext\"].fillna(\"Inconnu\")"
   ]
  },
  {
   "cell_type": "code",
   "execution_count": 69,
   "id": "c71641e3",
   "metadata": {},
   "outputs": [],
   "source": [
    "# Regroupement des occurences\n",
    "\n",
    "def filtre(x) :\n",
    "    if \"pierre\" in x :\n",
    "        return \"Mur en pierre\"\n",
    "    elif \"briques\" in x :\n",
    "        return \"Mur en brique\"\n",
    "    elif \"béton\" in x :\n",
    "        return \"Mur en béton\"\n",
    "    elif \"bois\" in x :\n",
    "        return \"Mur en pan de bois\"\n",
    "    elif \"plâtre\" in x :\n",
    "        return \"Mur en cloison de plâtre\"\n",
    "    else :\n",
    "        return \"Indeterminé\""
   ]
  },
  {
   "cell_type": "code",
   "execution_count": 70,
   "id": "a4c59613",
   "metadata": {},
   "outputs": [],
   "source": [
    "df_selec[\"adedpe202006_logtype_mur_mat_ext\"]=df_selec[\"adedpe202006_logtype_mur_mat_ext\"].apply(filtre)"
   ]
  },
  {
   "cell_type": "code",
   "execution_count": 71,
   "id": "7081fc21",
   "metadata": {},
   "outputs": [
    {
     "data": {
      "text/html": [
       "<div>\n",
       "<style scoped>\n",
       "    .dataframe tbody tr th:only-of-type {\n",
       "        vertical-align: middle;\n",
       "    }\n",
       "\n",
       "    .dataframe tbody tr th {\n",
       "        vertical-align: top;\n",
       "    }\n",
       "\n",
       "    .dataframe thead th {\n",
       "        text-align: right;\n",
       "    }\n",
       "</style>\n",
       "<table border=\"1\" class=\"dataframe\">\n",
       "  <thead>\n",
       "    <tr style=\"text-align: right;\">\n",
       "      <th></th>\n",
       "      <th>adedpe202006_logtype_mur_mat_ext</th>\n",
       "    </tr>\n",
       "  </thead>\n",
       "  <tbody>\n",
       "    <tr>\n",
       "      <th>Mur en pierre</th>\n",
       "      <td>44054</td>\n",
       "    </tr>\n",
       "    <tr>\n",
       "      <th>Mur en béton</th>\n",
       "      <td>26916</td>\n",
       "    </tr>\n",
       "    <tr>\n",
       "      <th>Mur en brique</th>\n",
       "      <td>16373</td>\n",
       "    </tr>\n",
       "    <tr>\n",
       "      <th>Indeterminé</th>\n",
       "      <td>14967</td>\n",
       "    </tr>\n",
       "    <tr>\n",
       "      <th>Mur en pan de bois</th>\n",
       "      <td>2716</td>\n",
       "    </tr>\n",
       "    <tr>\n",
       "      <th>Mur en cloison de plâtre</th>\n",
       "      <td>314</td>\n",
       "    </tr>\n",
       "  </tbody>\n",
       "</table>\n",
       "</div>"
      ],
      "text/plain": [
       "                          adedpe202006_logtype_mur_mat_ext\n",
       "Mur en pierre                                        44054\n",
       "Mur en béton                                         26916\n",
       "Mur en brique                                        16373\n",
       "Indeterminé                                          14967\n",
       "Mur en pan de bois                                    2716\n",
       "Mur en cloison de plâtre                               314"
      ]
     },
     "execution_count": 71,
     "metadata": {},
     "output_type": "execute_result"
    }
   ],
   "source": [
    "df_selec[\"adedpe202006_logtype_mur_mat_ext\"].value_counts().to_frame()"
   ]
  },
  {
   "cell_type": "code",
   "execution_count": 72,
   "id": "70ae0505",
   "metadata": {},
   "outputs": [
    {
     "data": {
      "text/plain": [
       "['etaban_lot',\n",
       " 'datemut',\n",
       " 'etaban202111_label',\n",
       " 'mcumer202007_id',\n",
       " 'adedpe202006_logtype_baie_type_vitrage',\n",
       " 'adedpe202006_logtype_ch_gen_lib_princ',\n",
       " 'adedpe202006_mean_class_conso_ener',\n",
       " 'adedpe202006_mean_class_estim_ges',\n",
       " 'adedpe202006_logtype_traversant',\n",
       " 'adedpe202006_logtype_ecs_type_ener',\n",
       " 'adedpe202006_logtype_ph_pos_isol',\n",
       " 'adedpe202006_logtype_type_batiment',\n",
       " 'cerffo2020_usage_niveau_1_txt',\n",
       " 'georad2020_alea',\n",
       " 'insbpe2019_l_type_equipement',\n",
       " 'adedpe202006_logtype_ch_type_inst',\n",
       " 'adedpe202006_logtype_ecs_type_inst',\n",
       " 'adedpe202006_logtype_mur_ep_mat_ext',\n",
       " 'adedpe202006_logtype_mur_mat_ext',\n",
       " 'adedpe202006_logtype_mur_pos_isol_ext']"
      ]
     },
     "execution_count": 72,
     "metadata": {},
     "output_type": "execute_result"
    }
   ],
   "source": [
    "# Regardons le nombre de modalités des variables de type \"object\" pour préparer la dichotomisation :\n",
    "object_columns=df_selec.select_dtypes(include='object').columns.tolist()\n",
    "object_columns"
   ]
  },
  {
   "cell_type": "code",
   "execution_count": 73,
   "id": "e345bb52",
   "metadata": {},
   "outputs": [
    {
     "name": "stdout",
     "output_type": "stream",
     "text": [
      "95279 etaban_lot\n",
      "2334 datemut\n",
      "27152 etaban202111_label\n",
      "1731 mcumer202007_id\n",
      "5 adedpe202006_logtype_baie_type_vitrage\n",
      "18 adedpe202006_logtype_ch_gen_lib_princ\n",
      "8 adedpe202006_mean_class_conso_ener\n",
      "8 adedpe202006_mean_class_estim_ges\n",
      "9 adedpe202006_logtype_traversant\n",
      "7 adedpe202006_logtype_ecs_type_ener\n",
      "5 adedpe202006_logtype_ph_pos_isol\n",
      "5 adedpe202006_logtype_type_batiment\n",
      "4 cerffo2020_usage_niveau_1_txt\n",
      "1 georad2020_alea\n",
      "4914 insbpe2019_l_type_equipement\n",
      "2 adedpe202006_logtype_ch_type_inst\n",
      "2 adedpe202006_logtype_ecs_type_inst\n",
      "33 adedpe202006_logtype_mur_ep_mat_ext\n",
      "6 adedpe202006_logtype_mur_mat_ext\n",
      "5 adedpe202006_logtype_mur_pos_isol_ext\n"
     ]
    }
   ],
   "source": [
    "\n",
    "for col in df_selec[object_columns]:\n",
    "    print(df_selec[col].nunique(), col)"
   ]
  },
  {
   "cell_type": "markdown",
   "id": "677e069a",
   "metadata": {},
   "source": [
    "**Analyse de la variable \"etaban202111_label\"= Adresse postale principale du bâtiment"
   ]
  },
  {
   "cell_type": "code",
   "execution_count": 74,
   "id": "3ca47ea9",
   "metadata": {},
   "outputs": [
    {
     "data": {
      "text/plain": [
       "0         19 Rue Jean-Jacques Rousseau 75001 Paris\n",
       "2                    103 Rue Lemercier 75017 Paris\n",
       "3                          8 Rue Dalou 75015 Paris\n",
       "4              110 Boulevard de Clichy 75018 Paris\n",
       "5              110 Boulevard de Clichy 75018 Paris\n",
       "                            ...                   \n",
       "114066                  17 Rue Fondary 75015 Paris\n",
       "114067    37 Rue Jean-Baptiste Pigalle 75009 Paris\n",
       "114068              9 Rue Joseph Dijon 75018 Paris\n",
       "114069             7 Rue Chateaubriand 75008 Paris\n",
       "114070             177 Boulevard Murat 75016 Paris\n",
       "Name: etaban202111_label, Length: 105340, dtype: object"
      ]
     },
     "execution_count": 74,
     "metadata": {},
     "output_type": "execute_result"
    }
   ],
   "source": [
    "df_selec[\"etaban202111_label\"]"
   ]
  },
  {
   "cell_type": "code",
   "execution_count": 75,
   "id": "91517b09",
   "metadata": {},
   "outputs": [],
   "source": [
    "#Suppression de la colonne etaban202111_label\" => inutile pour la suite\n",
    "\n",
    "df_selec=df_selec.drop(\"etaban202111_label\", axis=1)"
   ]
  },
  {
   "cell_type": "markdown",
   "id": "92e72a84",
   "metadata": {},
   "source": [
    "**Analyse de la variable \"mcumer202007_id\"= Identifiant unique MERIMEE (=classé)"
   ]
  },
  {
   "cell_type": "code",
   "execution_count": 76,
   "id": "f43c0922",
   "metadata": {},
   "outputs": [
    {
     "data": {
      "text/plain": [
       "0         PA00085855\n",
       "2         PA75170004\n",
       "3         PA00086657\n",
       "4         PA00088936\n",
       "5         PA00088936\n",
       "             ...    \n",
       "114066    PA75150002\n",
       "114067    PA00088920\n",
       "114068    PA00086756\n",
       "114069    PA00088889\n",
       "114070    PA00086698\n",
       "Name: mcumer202007_id, Length: 105340, dtype: object"
      ]
     },
     "execution_count": 76,
     "metadata": {},
     "output_type": "execute_result"
    }
   ],
   "source": [
    "df_selec[\"mcumer202007_id\"]"
   ]
  },
  {
   "cell_type": "code",
   "execution_count": 77,
   "id": "50f1e2a9",
   "metadata": {},
   "outputs": [
    {
     "data": {
      "text/plain": [
       "1731"
      ]
     },
     "execution_count": 77,
     "metadata": {},
     "output_type": "execute_result"
    }
   ],
   "source": [
    "df_selec[\"mcumer202007_id\"].nunique()"
   ]
  },
  {
   "cell_type": "code",
   "execution_count": 78,
   "id": "1b01c15f",
   "metadata": {},
   "outputs": [
    {
     "data": {
      "text/plain": [
       "5571"
      ]
     },
     "execution_count": 78,
     "metadata": {},
     "output_type": "execute_result"
    }
   ],
   "source": [
    "df_selec[\"mcumer202007_id\"].isna().sum()"
   ]
  },
  {
   "cell_type": "code",
   "execution_count": 79,
   "id": "2386a508",
   "metadata": {},
   "outputs": [
    {
     "data": {
      "text/plain": [
       "count          99769\n",
       "unique          1731\n",
       "top       PA00132991\n",
       "freq            1211\n",
       "Name: mcumer202007_id, dtype: object"
      ]
     },
     "execution_count": 79,
     "metadata": {},
     "output_type": "execute_result"
    }
   ],
   "source": [
    "df_selec[\"mcumer202007_id\"].describe()"
   ]
  },
  {
   "cell_type": "code",
   "execution_count": 80,
   "id": "09e21745",
   "metadata": {},
   "outputs": [],
   "source": [
    "# 99769 des mutations ont un identifiant mcumer202007_id. Le reste ce sont des nan. \n",
    "# Si cet identifiant veut dire que le bâtiment est dans un périmètre ABF monument historique, autant prendre la variable mcumer202007_is_mer. \n",
    "# Si cet identifiant veut dire que le bâtiment est classé monument historique => alors pas nécessaire de le garder pq ils le sont tous dans la mesure où ils ont tous un identifiant"
   ]
  },
  {
   "cell_type": "code",
   "execution_count": 81,
   "id": "971856f1",
   "metadata": {},
   "outputs": [],
   "source": [
    "# Décision prise de supprimer les variables \"mcumer202007_id\" et \"mcumer202007_dist500min\" pour ne garder que \"mcumer202007_is_mer\"\n",
    "\n",
    "df_selec=df_selec.drop([\"mcumer202007_id\",\"mcumer202007_dist500min\"], axis=1)"
   ]
  },
  {
   "cell_type": "markdown",
   "id": "bd0fe0ca",
   "metadata": {},
   "source": [
    "**Analyse de la variable \"insbpe2019_l_type_equipement\" = Type d''équipement public"
   ]
  },
  {
   "cell_type": "code",
   "execution_count": 82,
   "id": "4157616e",
   "metadata": {},
   "outputs": [
    {
     "data": {
      "text/plain": [
       "4914"
      ]
     },
     "execution_count": 82,
     "metadata": {},
     "output_type": "execute_result"
    }
   ],
   "source": [
    "df_selec[\"insbpe2019_l_type_equipement\"].nunique()"
   ]
  },
  {
   "cell_type": "code",
   "execution_count": 83,
   "id": "09b11ce8",
   "metadata": {},
   "outputs": [
    {
     "data": {
      "text/plain": [
       "0         7:Agence immobilière,Magasin d'équipements du ...\n",
       "2                                                       nan\n",
       "3                                                       nan\n",
       "4                        1:Restaurant - Restauration rapide\n",
       "5                        1:Restaurant - Restauration rapide\n",
       "                                ...                        \n",
       "114066                                                  nan\n",
       "114067                                                  nan\n",
       "114068    4:Coiffure,Institut de beauté - Onglerie,Taxi ...\n",
       "114069    2:Agence immobilière,Spécialiste en dermatolog...\n",
       "114070                                                  nan\n",
       "Name: insbpe2019_l_type_equipement, Length: 105340, dtype: object"
      ]
     },
     "execution_count": 83,
     "metadata": {},
     "output_type": "execute_result"
    }
   ],
   "source": [
    "df_selec[\"insbpe2019_l_type_equipement\"]=df_selec[\"insbpe2019_l_type_equipement\"].astype(str)\n",
    "df_selec[\"insbpe2019_l_type_equipement\"]=df_selec[\"insbpe2019_l_type_equipement\"].apply(lambda x : x.strip(\"()\"))\n",
    "df_selec[\"insbpe2019_l_type_equipement\"]"
   ]
  },
  {
   "cell_type": "code",
   "execution_count": 84,
   "id": "0ea96b5b",
   "metadata": {},
   "outputs": [],
   "source": [
    "# On ne va conserver que les occurences qui à priori occasionnent le plus de nuisances sonores pour les riverains \n",
    "# et qui par conséquent sont suceptibles de déclencher une revente\n",
    "\n",
    "def filtre_supermarché (x):\n",
    "    if \"Supermarché\" in x or \"Épicerie\" in x or \"Supérette\" in x or \"Hypermarché\" in x :\n",
    "        return 1\n",
    "    else :\n",
    "        return 0"
   ]
  },
  {
   "cell_type": "code",
   "execution_count": 85,
   "id": "26ecbe1c",
   "metadata": {},
   "outputs": [],
   "source": [
    "df_selec[\"insbpe2019_l_type_equipement_supermarché\"]=df_selec[\"insbpe2019_l_type_equipement\"].apply(filtre_supermarché)"
   ]
  },
  {
   "cell_type": "code",
   "execution_count": 86,
   "id": "05e6be1d",
   "metadata": {},
   "outputs": [
    {
     "data": {
      "text/plain": [
       "0    98377\n",
       "1     6963\n",
       "Name: insbpe2019_l_type_equipement_supermarché, dtype: int64"
      ]
     },
     "execution_count": 86,
     "metadata": {},
     "output_type": "execute_result"
    }
   ],
   "source": [
    "df_selec[\"insbpe2019_l_type_equipement_supermarché\"].value_counts()"
   ]
  },
  {
   "cell_type": "code",
   "execution_count": 87,
   "id": "06923538",
   "metadata": {},
   "outputs": [
    {
     "data": {
      "text/html": [
       "<div>\n",
       "<style scoped>\n",
       "    .dataframe tbody tr th:only-of-type {\n",
       "        vertical-align: middle;\n",
       "    }\n",
       "\n",
       "    .dataframe tbody tr th {\n",
       "        vertical-align: top;\n",
       "    }\n",
       "\n",
       "    .dataframe thead th {\n",
       "        text-align: right;\n",
       "    }\n",
       "</style>\n",
       "<table border=\"1\" class=\"dataframe\">\n",
       "  <thead>\n",
       "    <tr style=\"text-align: right;\">\n",
       "      <th></th>\n",
       "      <th>insbpe2019_l_type_equipement</th>\n",
       "      <th>insbpe2019_l_type_equipement_supermarché</th>\n",
       "    </tr>\n",
       "  </thead>\n",
       "  <tbody>\n",
       "    <tr>\n",
       "      <th>0</th>\n",
       "      <td>7:Agence immobilière,Magasin d'équipements du ...</td>\n",
       "      <td>0</td>\n",
       "    </tr>\n",
       "    <tr>\n",
       "      <th>2</th>\n",
       "      <td>nan</td>\n",
       "      <td>0</td>\n",
       "    </tr>\n",
       "    <tr>\n",
       "      <th>3</th>\n",
       "      <td>nan</td>\n",
       "      <td>0</td>\n",
       "    </tr>\n",
       "    <tr>\n",
       "      <th>4</th>\n",
       "      <td>1:Restaurant - Restauration rapide</td>\n",
       "      <td>0</td>\n",
       "    </tr>\n",
       "    <tr>\n",
       "      <th>5</th>\n",
       "      <td>1:Restaurant - Restauration rapide</td>\n",
       "      <td>0</td>\n",
       "    </tr>\n",
       "    <tr>\n",
       "      <th>...</th>\n",
       "      <td>...</td>\n",
       "      <td>...</td>\n",
       "    </tr>\n",
       "    <tr>\n",
       "      <th>114066</th>\n",
       "      <td>nan</td>\n",
       "      <td>0</td>\n",
       "    </tr>\n",
       "    <tr>\n",
       "      <th>114067</th>\n",
       "      <td>nan</td>\n",
       "      <td>0</td>\n",
       "    </tr>\n",
       "    <tr>\n",
       "      <th>114068</th>\n",
       "      <td>4:Coiffure,Institut de beauté - Onglerie,Taxi ...</td>\n",
       "      <td>1</td>\n",
       "    </tr>\n",
       "    <tr>\n",
       "      <th>114069</th>\n",
       "      <td>2:Agence immobilière,Spécialiste en dermatolog...</td>\n",
       "      <td>0</td>\n",
       "    </tr>\n",
       "    <tr>\n",
       "      <th>114070</th>\n",
       "      <td>nan</td>\n",
       "      <td>0</td>\n",
       "    </tr>\n",
       "  </tbody>\n",
       "</table>\n",
       "<p>105340 rows × 2 columns</p>\n",
       "</div>"
      ],
      "text/plain": [
       "                             insbpe2019_l_type_equipement  \\\n",
       "0       7:Agence immobilière,Magasin d'équipements du ...   \n",
       "2                                                     nan   \n",
       "3                                                     nan   \n",
       "4                      1:Restaurant - Restauration rapide   \n",
       "5                      1:Restaurant - Restauration rapide   \n",
       "...                                                   ...   \n",
       "114066                                                nan   \n",
       "114067                                                nan   \n",
       "114068  4:Coiffure,Institut de beauté - Onglerie,Taxi ...   \n",
       "114069  2:Agence immobilière,Spécialiste en dermatolog...   \n",
       "114070                                                nan   \n",
       "\n",
       "        insbpe2019_l_type_equipement_supermarché  \n",
       "0                                              0  \n",
       "2                                              0  \n",
       "3                                              0  \n",
       "4                                              0  \n",
       "5                                              0  \n",
       "...                                          ...  \n",
       "114066                                         0  \n",
       "114067                                         0  \n",
       "114068                                         1  \n",
       "114069                                         0  \n",
       "114070                                         0  \n",
       "\n",
       "[105340 rows x 2 columns]"
      ]
     },
     "execution_count": 87,
     "metadata": {},
     "output_type": "execute_result"
    }
   ],
   "source": [
    "df_selec[[\"insbpe2019_l_type_equipement\", \"insbpe2019_l_type_equipement_supermarché\"]]"
   ]
  },
  {
   "cell_type": "code",
   "execution_count": 88,
   "id": "a24aac2a",
   "metadata": {},
   "outputs": [
    {
     "data": {
      "text/plain": [
       "'nan'"
      ]
     },
     "execution_count": 88,
     "metadata": {},
     "output_type": "execute_result"
    }
   ],
   "source": [
    "df_selec.iloc[1][\"insbpe2019_l_type_equipement\"]"
   ]
  },
  {
   "cell_type": "code",
   "execution_count": 89,
   "id": "d67abd8c",
   "metadata": {},
   "outputs": [],
   "source": [
    "def filtre_restaurant (x):\n",
    "    if \"Restaurant - Restauration rapide\" in x or \":Restaurant - Restauration rapide\" in x or \"Restaurant universitaire\" in x :\n",
    "        return 1\n",
    "    else :\n",
    "        return 0"
   ]
  },
  {
   "cell_type": "code",
   "execution_count": 90,
   "id": "7078f9bc",
   "metadata": {},
   "outputs": [],
   "source": [
    "df_selec[\"insbpe2019_l_type_equipement_restaurant\"]=df_selec[\"insbpe2019_l_type_equipement\"].apply(filtre_restaurant)"
   ]
  },
  {
   "cell_type": "code",
   "execution_count": 91,
   "id": "dc440670",
   "metadata": {},
   "outputs": [
    {
     "data": {
      "text/plain": [
       "0    80524\n",
       "1    24816\n",
       "Name: insbpe2019_l_type_equipement_restaurant, dtype: int64"
      ]
     },
     "execution_count": 91,
     "metadata": {},
     "output_type": "execute_result"
    }
   ],
   "source": [
    "df_selec[\"insbpe2019_l_type_equipement_restaurant\"].value_counts()"
   ]
  },
  {
   "cell_type": "code",
   "execution_count": 92,
   "id": "d1215878",
   "metadata": {},
   "outputs": [],
   "source": [
    "def filtre_boulangerie (x):\n",
    "    if \"Boulangerie\" in x or \":Boulangerie\" in x :\n",
    "        return 1\n",
    "    else :\n",
    "        return 0"
   ]
  },
  {
   "cell_type": "code",
   "execution_count": 93,
   "id": "55893a2d",
   "metadata": {},
   "outputs": [],
   "source": [
    "df_selec[\"insbpe2019_l_type_equipement_boulangerie\"]=df_selec[\"insbpe2019_l_type_equipement\"].apply(filtre_boulangerie)"
   ]
  },
  {
   "cell_type": "code",
   "execution_count": 94,
   "id": "5486c110",
   "metadata": {},
   "outputs": [
    {
     "data": {
      "text/plain": [
       "0    101613\n",
       "1      3727\n",
       "Name: insbpe2019_l_type_equipement_boulangerie, dtype: int64"
      ]
     },
     "execution_count": 94,
     "metadata": {},
     "output_type": "execute_result"
    }
   ],
   "source": [
    "df_selec[\"insbpe2019_l_type_equipement_boulangerie\"].value_counts()"
   ]
  },
  {
   "cell_type": "code",
   "execution_count": 95,
   "id": "ae713fe1",
   "metadata": {},
   "outputs": [],
   "source": [
    "# Création d'une variable \"insbpe2019_l_type_equipement_bruyant\"\n",
    "df_selec[\"Commerces_bruyants\"]=df_selec[\"insbpe2019_l_type_equipement_supermarché\"]+df_selec[\"insbpe2019_l_type_equipement_boulangerie\"]+df_selec[\"insbpe2019_l_type_equipement_restaurant\"]\n"
   ]
  },
  {
   "cell_type": "code",
   "execution_count": 96,
   "id": "270a055b",
   "metadata": {},
   "outputs": [],
   "source": [
    "#On peut maintenant supprimer la colonne df_selec[\"insbpe2019_l_type_equipement\"] \n",
    "# et les colonnes qui ont servi à créer la variable \"commerces_bruyants\"\n",
    "to_drop=[\"insbpe2019_l_type_equipement\", \n",
    "         \"insbpe2019_l_type_equipement_supermarché\",\n",
    "                   \"insbpe2019_l_type_equipement_restaurant\",\n",
    "                   \"insbpe2019_l_type_equipement_boulangerie\"]\n",
    "\n",
    "df_selec=df_selec.drop(to_drop, axis=1)"
   ]
  },
  {
   "cell_type": "code",
   "execution_count": 97,
   "id": "ed0622ff",
   "metadata": {},
   "outputs": [
    {
     "data": {
      "text/plain": [
       "['etaban_lot',\n",
       " 'datemut',\n",
       " 'adedpe202006_logtype_baie_type_vitrage',\n",
       " 'adedpe202006_logtype_ch_gen_lib_princ',\n",
       " 'adedpe202006_mean_class_conso_ener',\n",
       " 'adedpe202006_mean_class_estim_ges',\n",
       " 'adedpe202006_logtype_traversant',\n",
       " 'adedpe202006_logtype_ecs_type_ener',\n",
       " 'adedpe202006_logtype_ph_pos_isol',\n",
       " 'adedpe202006_logtype_type_batiment',\n",
       " 'cerffo2020_usage_niveau_1_txt',\n",
       " 'georad2020_alea',\n",
       " 'adedpe202006_logtype_ch_type_inst',\n",
       " 'adedpe202006_logtype_ecs_type_inst',\n",
       " 'adedpe202006_logtype_mur_ep_mat_ext',\n",
       " 'adedpe202006_logtype_mur_mat_ext',\n",
       " 'adedpe202006_logtype_mur_pos_isol_ext']"
      ]
     },
     "execution_count": 97,
     "metadata": {},
     "output_type": "execute_result"
    }
   ],
   "source": [
    "object_columns=df_selec.select_dtypes(include='object').columns.tolist()\n",
    "object_columns"
   ]
  },
  {
   "cell_type": "code",
   "execution_count": 98,
   "id": "772e3f2e",
   "metadata": {},
   "outputs": [
    {
     "name": "stdout",
     "output_type": "stream",
     "text": [
      "95279 etaban_lot\n",
      "2334 datemut\n",
      "5 adedpe202006_logtype_baie_type_vitrage\n",
      "18 adedpe202006_logtype_ch_gen_lib_princ\n",
      "8 adedpe202006_mean_class_conso_ener\n",
      "8 adedpe202006_mean_class_estim_ges\n",
      "9 adedpe202006_logtype_traversant\n",
      "7 adedpe202006_logtype_ecs_type_ener\n",
      "5 adedpe202006_logtype_ph_pos_isol\n",
      "5 adedpe202006_logtype_type_batiment\n",
      "4 cerffo2020_usage_niveau_1_txt\n",
      "1 georad2020_alea\n",
      "2 adedpe202006_logtype_ch_type_inst\n",
      "2 adedpe202006_logtype_ecs_type_inst\n",
      "33 adedpe202006_logtype_mur_ep_mat_ext\n",
      "6 adedpe202006_logtype_mur_mat_ext\n",
      "5 adedpe202006_logtype_mur_pos_isol_ext\n"
     ]
    }
   ],
   "source": [
    "for col in df_selec[object_columns]:\n",
    "    print(df_selec[col].nunique(), col)"
   ]
  },
  {
   "cell_type": "code",
   "execution_count": 99,
   "id": "e2a87699",
   "metadata": {},
   "outputs": [
    {
     "data": {
      "text/html": [
       "<div>\n",
       "<style scoped>\n",
       "    .dataframe tbody tr th:only-of-type {\n",
       "        vertical-align: middle;\n",
       "    }\n",
       "\n",
       "    .dataframe tbody tr th {\n",
       "        vertical-align: top;\n",
       "    }\n",
       "\n",
       "    .dataframe thead th {\n",
       "        text-align: right;\n",
       "    }\n",
       "</style>\n",
       "<table border=\"1\" class=\"dataframe\">\n",
       "  <thead>\n",
       "    <tr style=\"text-align: right;\">\n",
       "      <th></th>\n",
       "      <th>idmutation</th>\n",
       "      <th>etaban_lot</th>\n",
       "      <th>qty_of_mut</th>\n",
       "      <th>Revente</th>\n",
       "      <th>datemut</th>\n",
       "      <th>anneemut</th>\n",
       "      <th>moismut</th>\n",
       "      <th>Immeuble_neuf</th>\n",
       "      <th>valeurfonc</th>\n",
       "      <th>nblot</th>\n",
       "      <th>...</th>\n",
       "      <th>georad2020_alea</th>\n",
       "      <th>igntop202103_bat_hauteur</th>\n",
       "      <th>mcumer202007_is_mer</th>\n",
       "      <th>adedpe202006_logtype_s_hab</th>\n",
       "      <th>adedpe202006_logtype_ch_type_inst</th>\n",
       "      <th>adedpe202006_logtype_ecs_type_inst</th>\n",
       "      <th>adedpe202006_logtype_mur_ep_mat_ext</th>\n",
       "      <th>adedpe202006_logtype_mur_mat_ext</th>\n",
       "      <th>adedpe202006_logtype_mur_pos_isol_ext</th>\n",
       "      <th>Commerces_bruyants</th>\n",
       "    </tr>\n",
       "  </thead>\n",
       "  <tbody>\n",
       "    <tr>\n",
       "      <th>0</th>\n",
       "      <td>7819809</td>\n",
       "      <td>75101_4901_00019_93</td>\n",
       "      <td>0</td>\n",
       "      <td>0</td>\n",
       "      <td>2021-06-04</td>\n",
       "      <td>2021</td>\n",
       "      <td>6</td>\n",
       "      <td>0</td>\n",
       "      <td>370000.0</td>\n",
       "      <td>1</td>\n",
       "      <td>...</td>\n",
       "      <td>Faible</td>\n",
       "      <td>20.2</td>\n",
       "      <td>1.0</td>\n",
       "      <td>75.0</td>\n",
       "      <td>individuel</td>\n",
       "      <td>individuel</td>\n",
       "      <td>NaN</td>\n",
       "      <td>Mur en brique</td>\n",
       "      <td>ITI</td>\n",
       "      <td>1</td>\n",
       "    </tr>\n",
       "    <tr>\n",
       "      <th>2</th>\n",
       "      <td>7819821</td>\n",
       "      <td>75117_5503_00103_24</td>\n",
       "      <td>0</td>\n",
       "      <td>0</td>\n",
       "      <td>2021-03-18</td>\n",
       "      <td>2021</td>\n",
       "      <td>3</td>\n",
       "      <td>0</td>\n",
       "      <td>451000.0</td>\n",
       "      <td>1</td>\n",
       "      <td>...</td>\n",
       "      <td>Faible</td>\n",
       "      <td>18.8</td>\n",
       "      <td>1.0</td>\n",
       "      <td>36.0</td>\n",
       "      <td>individuel</td>\n",
       "      <td>individuel</td>\n",
       "      <td>NaN</td>\n",
       "      <td>Mur en pierre</td>\n",
       "      <td>ITI</td>\n",
       "      <td>0</td>\n",
       "    </tr>\n",
       "    <tr>\n",
       "      <th>3</th>\n",
       "      <td>7819822</td>\n",
       "      <td>75115_2521_00008_19</td>\n",
       "      <td>0</td>\n",
       "      <td>0</td>\n",
       "      <td>2021-11-12</td>\n",
       "      <td>2021</td>\n",
       "      <td>11</td>\n",
       "      <td>0</td>\n",
       "      <td>433000.0</td>\n",
       "      <td>3</td>\n",
       "      <td>...</td>\n",
       "      <td>Faible</td>\n",
       "      <td>18.0</td>\n",
       "      <td>1.0</td>\n",
       "      <td>49.0</td>\n",
       "      <td>individuel</td>\n",
       "      <td>individuel</td>\n",
       "      <td>NaN</td>\n",
       "      <td>Mur en pierre</td>\n",
       "      <td>ITI</td>\n",
       "      <td>0</td>\n",
       "    </tr>\n",
       "    <tr>\n",
       "      <th>4</th>\n",
       "      <td>7819824</td>\n",
       "      <td>75118_2113_00110_19</td>\n",
       "      <td>1</td>\n",
       "      <td>1</td>\n",
       "      <td>2021-01-08</td>\n",
       "      <td>2021</td>\n",
       "      <td>1</td>\n",
       "      <td>0</td>\n",
       "      <td>561076.0</td>\n",
       "      <td>1</td>\n",
       "      <td>...</td>\n",
       "      <td>Faible</td>\n",
       "      <td>18.9</td>\n",
       "      <td>1.0</td>\n",
       "      <td>100.0</td>\n",
       "      <td>individuel</td>\n",
       "      <td>individuel</td>\n",
       "      <td>NaN</td>\n",
       "      <td>Mur en pierre</td>\n",
       "      <td>ITI</td>\n",
       "      <td>1</td>\n",
       "    </tr>\n",
       "    <tr>\n",
       "      <th>5</th>\n",
       "      <td>8563148</td>\n",
       "      <td>75118_2113_00110_19</td>\n",
       "      <td>1</td>\n",
       "      <td>1</td>\n",
       "      <td>2016-09-09</td>\n",
       "      <td>2016</td>\n",
       "      <td>9</td>\n",
       "      <td>0</td>\n",
       "      <td>375980.0</td>\n",
       "      <td>1</td>\n",
       "      <td>...</td>\n",
       "      <td>Faible</td>\n",
       "      <td>18.9</td>\n",
       "      <td>1.0</td>\n",
       "      <td>100.0</td>\n",
       "      <td>individuel</td>\n",
       "      <td>individuel</td>\n",
       "      <td>NaN</td>\n",
       "      <td>Mur en pierre</td>\n",
       "      <td>ITI</td>\n",
       "      <td>1</td>\n",
       "    </tr>\n",
       "  </tbody>\n",
       "</table>\n",
       "<p>5 rows × 51 columns</p>\n",
       "</div>"
      ],
      "text/plain": [
       "   idmutation           etaban_lot  qty_of_mut  Revente     datemut  anneemut  \\\n",
       "0     7819809  75101_4901_00019_93           0        0  2021-06-04      2021   \n",
       "2     7819821  75117_5503_00103_24           0        0  2021-03-18      2021   \n",
       "3     7819822  75115_2521_00008_19           0        0  2021-11-12      2021   \n",
       "4     7819824  75118_2113_00110_19           1        1  2021-01-08      2021   \n",
       "5     8563148  75118_2113_00110_19           1        1  2016-09-09      2016   \n",
       "\n",
       "   moismut  Immeuble_neuf  valeurfonc  nblot  ...  georad2020_alea  \\\n",
       "0        6              0    370000.0      1  ...           Faible   \n",
       "2        3              0    451000.0      1  ...           Faible   \n",
       "3       11              0    433000.0      3  ...           Faible   \n",
       "4        1              0    561076.0      1  ...           Faible   \n",
       "5        9              0    375980.0      1  ...           Faible   \n",
       "\n",
       "   igntop202103_bat_hauteur  mcumer202007_is_mer  adedpe202006_logtype_s_hab  \\\n",
       "0                      20.2                  1.0                        75.0   \n",
       "2                      18.8                  1.0                        36.0   \n",
       "3                      18.0                  1.0                        49.0   \n",
       "4                      18.9                  1.0                       100.0   \n",
       "5                      18.9                  1.0                       100.0   \n",
       "\n",
       "   adedpe202006_logtype_ch_type_inst  adedpe202006_logtype_ecs_type_inst  \\\n",
       "0                         individuel                          individuel   \n",
       "2                         individuel                          individuel   \n",
       "3                         individuel                          individuel   \n",
       "4                         individuel                          individuel   \n",
       "5                         individuel                          individuel   \n",
       "\n",
       "   adedpe202006_logtype_mur_ep_mat_ext  adedpe202006_logtype_mur_mat_ext  \\\n",
       "0                                  NaN                     Mur en brique   \n",
       "2                                  NaN                     Mur en pierre   \n",
       "3                                  NaN                     Mur en pierre   \n",
       "4                                  NaN                     Mur en pierre   \n",
       "5                                  NaN                     Mur en pierre   \n",
       "\n",
       "   adedpe202006_logtype_mur_pos_isol_ext  Commerces_bruyants  \n",
       "0                                    ITI                   1  \n",
       "2                                    ITI                   0  \n",
       "3                                    ITI                   0  \n",
       "4                                    ITI                   1  \n",
       "5                                    ITI                   1  \n",
       "\n",
       "[5 rows x 51 columns]"
      ]
     },
     "execution_count": 99,
     "metadata": {},
     "output_type": "execute_result"
    }
   ],
   "source": [
    "df_selec.head()"
   ]
  },
  {
   "cell_type": "code",
   "execution_count": 100,
   "id": "600cf253",
   "metadata": {},
   "outputs": [
    {
     "name": "stdout",
     "output_type": "stream",
     "text": [
      "<class 'pandas.core.frame.DataFrame'>\n",
      "Int64Index: 105340 entries, 0 to 114070\n",
      "Data columns (total 51 columns):\n",
      " #   Column                                       Non-Null Count   Dtype   \n",
      "---  ------                                       --------------   -----   \n",
      " 0   idmutation                                   105340 non-null  int64   \n",
      " 1   etaban_lot                                   105340 non-null  object  \n",
      " 2   qty_of_mut                                   105340 non-null  int64   \n",
      " 3   Revente                                      105340 non-null  int64   \n",
      " 4   datemut                                      105340 non-null  object  \n",
      " 5   anneemut                                     105340 non-null  int64   \n",
      " 6   moismut                                      105340 non-null  int64   \n",
      " 7   Immeuble_neuf                                105340 non-null  int64   \n",
      " 8   valeurfonc                                   105304 non-null  float64 \n",
      " 9   nblot                                        105340 non-null  int64   \n",
      " 10  nbcomm                                       105340 non-null  int64   \n",
      " 11  l_codinsee                                   105340 non-null  int64   \n",
      " 12  nblocapt                                     105340 non-null  int64   \n",
      " 13  nblocdep                                     105340 non-null  int64   \n",
      " 14  nbapt2pp                                     105340 non-null  int64   \n",
      " 15  nbapt3pp                                     105340 non-null  int64   \n",
      " 16  sbati                                        105340 non-null  int64   \n",
      " 17  sbatapt                                      105340 non-null  int64   \n",
      " 18  sbatact                                      105340 non-null  int64   \n",
      " 19  sapt2pp                                      105340 non-null  int64   \n",
      " 20  sapt3pp                                      105340 non-null  int64   \n",
      " 21  scarrez                                      105340 non-null  float64 \n",
      " 22  anarnc202012_nb_log                          105340 non-null  float64 \n",
      " 23  anarnc202012_nb_lot_garpark                  105340 non-null  float64 \n",
      " 24  anarnc202012_nb_lot_tertiaire                105340 non-null  float64 \n",
      " 25  anarnc202012_nb_lot_tot                      105340 non-null  float64 \n",
      " 26  adedpe202006_logtype_baie_type_vitrage       100411 non-null  object  \n",
      " 27  adedpe202006_logtype_ch_gen_lib_princ        100768 non-null  object  \n",
      " 28  adedpe202006_mean_class_conso_ener           101524 non-null  object  \n",
      " 29  adedpe202006_mean_class_estim_ges            101524 non-null  object  \n",
      " 30  adedpe202006_logtype_traversant              88106 non-null   object  \n",
      " 31  adedpe202006_logtype_ecs_type_ener           99710 non-null   object  \n",
      " 32  adedpe202006_logtype_perc_surf_vitree_ext    16973 non-null   float64 \n",
      " 33  adedpe202006_logtype_ph_pos_isol             76625 non-null   object  \n",
      " 34  adedpe202006_logtype_presence_balcon         18477 non-null   float64 \n",
      " 35  adedpe202006_logtype_presence_climatisation  101504 non-null  float64 \n",
      " 36  adedpe202006_logtype_type_batiment           101504 non-null  object  \n",
      " 37  ancqpv201410_is_qpv                          105129 non-null  float64 \n",
      " 38  cerffo2020_annee_construction                95852 non-null   category\n",
      " 39  cerffo2020_usage_niveau_1_txt                105340 non-null  object  \n",
      " 40  cerffo2020_nb_log                            105340 non-null  int64   \n",
      " 41  georad2020_alea                              105129 non-null  object  \n",
      " 42  igntop202103_bat_hauteur                     105116 non-null  float64 \n",
      " 43  mcumer202007_is_mer                          105129 non-null  float64 \n",
      " 44  adedpe202006_logtype_s_hab                   101346 non-null  float64 \n",
      " 45  adedpe202006_logtype_ch_type_inst            88452 non-null   object  \n",
      " 46  adedpe202006_logtype_ecs_type_inst           89494 non-null   object  \n",
      " 47  adedpe202006_logtype_mur_ep_mat_ext          18044 non-null   object  \n",
      " 48  adedpe202006_logtype_mur_mat_ext             105340 non-null  object  \n",
      " 49  adedpe202006_logtype_mur_pos_isol_ext        105340 non-null  object  \n",
      " 50  Commerces_bruyants                           105340 non-null  int64   \n",
      "dtypes: category(1), float64(13), int64(20), object(17)\n",
      "memory usage: 41.1+ MB\n"
     ]
    }
   ],
   "source": [
    "df_selec.info()"
   ]
  },
  {
   "cell_type": "code",
   "execution_count": 101,
   "id": "72676dfb",
   "metadata": {},
   "outputs": [],
   "source": [
    "df_selec_2=df_selec"
   ]
  },
  {
   "cell_type": "code",
   "execution_count": 102,
   "id": "cb54d1ec",
   "metadata": {},
   "outputs": [],
   "source": [
    "df_selec_2.to_csv(r\"C:\\Users\\Anne\\Projet Bâtiment\\210622\\df_selec_2.csv\", index=False)"
   ]
  }
 ],
 "metadata": {
  "kernelspec": {
   "display_name": "Python 3 (ipykernel)",
   "language": "python",
   "name": "python3"
  },
  "language_info": {
   "codemirror_mode": {
    "name": "ipython",
    "version": 3
   },
   "file_extension": ".py",
   "mimetype": "text/x-python",
   "name": "python",
   "nbconvert_exporter": "python",
   "pygments_lexer": "ipython3",
   "version": "3.9.7"
  }
 },
 "nbformat": 4,
 "nbformat_minor": 5
}
