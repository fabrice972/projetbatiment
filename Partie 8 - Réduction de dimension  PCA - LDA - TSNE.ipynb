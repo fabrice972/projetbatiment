{
 "cells": [
  {
   "cell_type": "code",
   "execution_count": 1,
   "id": "d7fa110a",
   "metadata": {},
   "outputs": [],
   "source": [
    "#PCA"
   ]
  },
  {
   "cell_type": "code",
   "execution_count": 2,
   "id": "3e9b7a10",
   "metadata": {},
   "outputs": [],
   "source": [
    "import pandas as pd\n",
    "import numpy as np\n",
    "import matplotlib.pyplot as plt\n",
    "%matplotlib inline "
   ]
  },
  {
   "cell_type": "code",
   "execution_count": 3,
   "id": "3c8ad0d0",
   "metadata": {},
   "outputs": [],
   "source": [
    "df=pd.read_csv(\"df.csv\")"
   ]
  },
  {
   "cell_type": "code",
   "execution_count": 4,
   "id": "34d24633",
   "metadata": {},
   "outputs": [
    {
     "data": {
      "text/html": [
       "<div>\n",
       "<style scoped>\n",
       "    .dataframe tbody tr th:only-of-type {\n",
       "        vertical-align: middle;\n",
       "    }\n",
       "\n",
       "    .dataframe tbody tr th {\n",
       "        vertical-align: top;\n",
       "    }\n",
       "\n",
       "    .dataframe thead th {\n",
       "        text-align: right;\n",
       "    }\n",
       "</style>\n",
       "<table border=\"1\" class=\"dataframe\">\n",
       "  <thead>\n",
       "    <tr style=\"text-align: right;\">\n",
       "      <th></th>\n",
       "      <th>Revente &gt;1</th>\n",
       "      <th>libnatmut</th>\n",
       "      <th>valeurfonc</th>\n",
       "      <th>nblot</th>\n",
       "      <th>l_codinsee</th>\n",
       "      <th>nblocdep</th>\n",
       "      <th>Type appart</th>\n",
       "      <th>scarrez</th>\n",
       "      <th>anarnc202012_nb_log</th>\n",
       "      <th>anarnc202012_nb_lot_garpark</th>\n",
       "      <th>...</th>\n",
       "      <th>baie_orientation_autre</th>\n",
       "      <th>Commerces_bruyants</th>\n",
       "      <th>qty_of_mut</th>\n",
       "      <th>datemut</th>\n",
       "      <th>anneemut</th>\n",
       "      <th>moismut</th>\n",
       "      <th>etaban_lot</th>\n",
       "      <th>cat_valeur</th>\n",
       "      <th>surface_appart</th>\n",
       "      <th>cat_scarrez</th>\n",
       "    </tr>\n",
       "  </thead>\n",
       "  <tbody>\n",
       "    <tr>\n",
       "      <th>0</th>\n",
       "      <td>0</td>\n",
       "      <td>Vente</td>\n",
       "      <td>370000.0</td>\n",
       "      <td>1</td>\n",
       "      <td>75101</td>\n",
       "      <td>1</td>\n",
       "      <td>2P</td>\n",
       "      <td>26.06</td>\n",
       "      <td>158.0</td>\n",
       "      <td>0.0</td>\n",
       "      <td>...</td>\n",
       "      <td>0</td>\n",
       "      <td>1</td>\n",
       "      <td>1</td>\n",
       "      <td>2021-06-04</td>\n",
       "      <td>2021</td>\n",
       "      <td>6</td>\n",
       "      <td>75101_4901_00019_93</td>\n",
       "      <td>Entre 320 &amp; 436k€ €</td>\n",
       "      <td>32</td>\n",
       "      <td>&lt;35 m²</td>\n",
       "    </tr>\n",
       "    <tr>\n",
       "      <th>1</th>\n",
       "      <td>0</td>\n",
       "      <td>Vente</td>\n",
       "      <td>451000.0</td>\n",
       "      <td>1</td>\n",
       "      <td>75117</td>\n",
       "      <td>0</td>\n",
       "      <td>2P</td>\n",
       "      <td>35.53</td>\n",
       "      <td>32.0</td>\n",
       "      <td>0.0</td>\n",
       "      <td>...</td>\n",
       "      <td>0</td>\n",
       "      <td>0</td>\n",
       "      <td>1</td>\n",
       "      <td>2021-03-18</td>\n",
       "      <td>2021</td>\n",
       "      <td>3</td>\n",
       "      <td>75117_5503_00103_24</td>\n",
       "      <td>Entre 436 &amp; 600k€</td>\n",
       "      <td>30</td>\n",
       "      <td>Entre 35 &amp; 47 m²</td>\n",
       "    </tr>\n",
       "    <tr>\n",
       "      <th>2</th>\n",
       "      <td>0</td>\n",
       "      <td>Vente</td>\n",
       "      <td>433000.0</td>\n",
       "      <td>3</td>\n",
       "      <td>75115</td>\n",
       "      <td>1</td>\n",
       "      <td>3P</td>\n",
       "      <td>35.40</td>\n",
       "      <td>50.0</td>\n",
       "      <td>0.0</td>\n",
       "      <td>...</td>\n",
       "      <td>0</td>\n",
       "      <td>0</td>\n",
       "      <td>1</td>\n",
       "      <td>2021-11-12</td>\n",
       "      <td>2021</td>\n",
       "      <td>11</td>\n",
       "      <td>75115_2521_00008_19</td>\n",
       "      <td>Entre 320 &amp; 436k€ €</td>\n",
       "      <td>34</td>\n",
       "      <td>Entre 35 &amp; 47 m²</td>\n",
       "    </tr>\n",
       "    <tr>\n",
       "      <th>3</th>\n",
       "      <td>1</td>\n",
       "      <td>Vente</td>\n",
       "      <td>561076.0</td>\n",
       "      <td>1</td>\n",
       "      <td>75118</td>\n",
       "      <td>0</td>\n",
       "      <td>2P</td>\n",
       "      <td>46.02</td>\n",
       "      <td>29.0</td>\n",
       "      <td>0.0</td>\n",
       "      <td>...</td>\n",
       "      <td>0</td>\n",
       "      <td>1</td>\n",
       "      <td>2</td>\n",
       "      <td>2021-01-08</td>\n",
       "      <td>2021</td>\n",
       "      <td>1</td>\n",
       "      <td>75118_2113_00110_19</td>\n",
       "      <td>Entre 436 &amp; 600k€</td>\n",
       "      <td>50</td>\n",
       "      <td>Entre 35 &amp; 47 m²</td>\n",
       "    </tr>\n",
       "    <tr>\n",
       "      <th>4</th>\n",
       "      <td>1</td>\n",
       "      <td>Vente</td>\n",
       "      <td>375980.0</td>\n",
       "      <td>1</td>\n",
       "      <td>75118</td>\n",
       "      <td>0</td>\n",
       "      <td>2P</td>\n",
       "      <td>45.76</td>\n",
       "      <td>29.0</td>\n",
       "      <td>0.0</td>\n",
       "      <td>...</td>\n",
       "      <td>0</td>\n",
       "      <td>1</td>\n",
       "      <td>2</td>\n",
       "      <td>2016-09-09</td>\n",
       "      <td>2016</td>\n",
       "      <td>9</td>\n",
       "      <td>75118_2113_00110_19</td>\n",
       "      <td>Entre 320 &amp; 436k€ €</td>\n",
       "      <td>50</td>\n",
       "      <td>Entre 35 &amp; 47 m²</td>\n",
       "    </tr>\n",
       "  </tbody>\n",
       "</table>\n",
       "<p>5 rows × 41 columns</p>\n",
       "</div>"
      ],
      "text/plain": [
       "   Revente >1 libnatmut  valeurfonc nblot  l_codinsee  nblocdep Type appart  \\\n",
       "0           0     Vente    370000.0     1       75101         1          2P   \n",
       "1           0     Vente    451000.0     1       75117         0          2P   \n",
       "2           0     Vente    433000.0     3       75115         1          3P   \n",
       "3           1     Vente    561076.0     1       75118         0          2P   \n",
       "4           1     Vente    375980.0     1       75118         0          2P   \n",
       "\n",
       "   scarrez  anarnc202012_nb_log  anarnc202012_nb_lot_garpark  ...  \\\n",
       "0    26.06                158.0                          0.0  ...   \n",
       "1    35.53                 32.0                          0.0  ...   \n",
       "2    35.40                 50.0                          0.0  ...   \n",
       "3    46.02                 29.0                          0.0  ...   \n",
       "4    45.76                 29.0                          0.0  ...   \n",
       "\n",
       "   baie_orientation_autre  Commerces_bruyants qty_of_mut     datemut anneemut  \\\n",
       "0                       0                   1          1  2021-06-04     2021   \n",
       "1                       0                   0          1  2021-03-18     2021   \n",
       "2                       0                   0          1  2021-11-12     2021   \n",
       "3                       0                   1          2  2021-01-08     2021   \n",
       "4                       0                   1          2  2016-09-09     2016   \n",
       "\n",
       "  moismut           etaban_lot           cat_valeur surface_appart  \\\n",
       "0       6  75101_4901_00019_93  Entre 320 & 436k€ €             32   \n",
       "1       3  75117_5503_00103_24    Entre 436 & 600k€             30   \n",
       "2      11  75115_2521_00008_19  Entre 320 & 436k€ €             34   \n",
       "3       1  75118_2113_00110_19    Entre 436 & 600k€             50   \n",
       "4       9  75118_2113_00110_19  Entre 320 & 436k€ €             50   \n",
       "\n",
       "        cat_scarrez  \n",
       "0            <35 m²  \n",
       "1  Entre 35 & 47 m²  \n",
       "2  Entre 35 & 47 m²  \n",
       "3  Entre 35 & 47 m²  \n",
       "4  Entre 35 & 47 m²  \n",
       "\n",
       "[5 rows x 41 columns]"
      ]
     },
     "execution_count": 4,
     "metadata": {},
     "output_type": "execute_result"
    }
   ],
   "source": [
    "df.head()"
   ]
  },
  {
   "cell_type": "code",
   "execution_count": 5,
   "id": "b90c7f52",
   "metadata": {},
   "outputs": [
    {
     "name": "stdout",
     "output_type": "stream",
     "text": [
      "<class 'pandas.core.frame.DataFrame'>\n",
      "RangeIndex: 102577 entries, 0 to 102576\n",
      "Data columns (total 41 columns):\n",
      " #   Column                                       Non-Null Count   Dtype  \n",
      "---  ------                                       --------------   -----  \n",
      " 0   Revente >1                                   102577 non-null  int64  \n",
      " 1   libnatmut                                    102577 non-null  object \n",
      " 2   valeurfonc                                   102577 non-null  float64\n",
      " 3   nblot                                        102577 non-null  object \n",
      " 4   l_codinsee                                   102577 non-null  int64  \n",
      " 5   nblocdep                                     102577 non-null  int64  \n",
      " 6   Type appart                                  102577 non-null  object \n",
      " 7   scarrez                                      102577 non-null  float64\n",
      " 8   anarnc202012_nb_log                          102577 non-null  float64\n",
      " 9   anarnc202012_nb_lot_garpark                  102577 non-null  float64\n",
      " 10  anarnc202012_nb_lot_tertiaire                102577 non-null  float64\n",
      " 11  anarnc202012_nb_lot_tot                      102577 non-null  float64\n",
      " 12  adedpe202006_logtype_baie_type_vitrage       102577 non-null  object \n",
      " 13  adedpe202006_logtype_ch_gen_lib_princ        102577 non-null  object \n",
      " 14  adedpe202006_logtype_classe_conso_ener       102577 non-null  object \n",
      " 15  adedpe202006_logtype_classe_estim_ges        102577 non-null  object \n",
      " 16  adedpe202006_logtype_traversant              102577 non-null  object \n",
      " 17  adedpe202006_logtype_ecs_type_ener           102577 non-null  object \n",
      " 18  adedpe202006_logtype_ph_pos_isol             102577 non-null  object \n",
      " 19  adedpe202006_logtype_presence_climatisation  102577 non-null  float64\n",
      " 20  adedpe202006_logtype_type_batiment           102577 non-null  object \n",
      " 21  ancqpv201410_is_qpv                          102577 non-null  float64\n",
      " 22  cerffo2020_annee_construction                102577 non-null  object \n",
      " 23  cerffo2020_usage_niveau_1_txt                102577 non-null  object \n",
      " 24  cerffo2020_nb_log                            102577 non-null  int64  \n",
      " 25  igntop202103_bat_hauteur                     102577 non-null  float64\n",
      " 26  mcumer202007_is_mer                          102577 non-null  float64\n",
      " 27  baie_orientation_sud                         102577 non-null  int64  \n",
      " 28  baie_orientation_nord                        102577 non-null  int64  \n",
      " 29  baie_orientation_ouest                       102577 non-null  int64  \n",
      " 30  baie_orientation_est                         102577 non-null  int64  \n",
      " 31  baie_orientation_autre                       102577 non-null  int64  \n",
      " 32  Commerces_bruyants                           102577 non-null  int64  \n",
      " 33  qty_of_mut                                   102577 non-null  int64  \n",
      " 34  datemut                                      102577 non-null  object \n",
      " 35  anneemut                                     102577 non-null  int64  \n",
      " 36  moismut                                      102577 non-null  int64  \n",
      " 37  etaban_lot                                   102577 non-null  object \n",
      " 38  cat_valeur                                   102577 non-null  object \n",
      " 39  surface_appart                               102577 non-null  int64  \n",
      " 40  cat_scarrez                                  102577 non-null  object \n",
      "dtypes: float64(10), int64(14), object(17)\n",
      "memory usage: 32.1+ MB\n"
     ]
    }
   ],
   "source": [
    "df.info()"
   ]
  },
  {
   "cell_type": "code",
   "execution_count": 6,
   "id": "26422a75",
   "metadata": {},
   "outputs": [],
   "source": [
    "#suppression des variables qui vont gêner la modélisation :\n",
    "\n",
    "to_drop=([\"datemut\",\n",
    "         \"moismut\",\n",
    "         \"etaban_lot\",\n",
    "         \"cat_valeur\",\n",
    "         \"cat_scarrez\"])\n",
    "df=df.drop(to_drop, axis=1)\n"
   ]
  },
  {
   "cell_type": "code",
   "execution_count": 7,
   "id": "7f8abefe",
   "metadata": {},
   "outputs": [
    {
     "name": "stdout",
     "output_type": "stream",
     "text": [
      "<class 'pandas.core.frame.DataFrame'>\n",
      "RangeIndex: 102577 entries, 0 to 102576\n",
      "Data columns (total 36 columns):\n",
      " #   Column                                       Non-Null Count   Dtype  \n",
      "---  ------                                       --------------   -----  \n",
      " 0   Revente >1                                   102577 non-null  int64  \n",
      " 1   libnatmut                                    102577 non-null  object \n",
      " 2   valeurfonc                                   102577 non-null  float64\n",
      " 3   nblot                                        102577 non-null  object \n",
      " 4   l_codinsee                                   102577 non-null  int64  \n",
      " 5   nblocdep                                     102577 non-null  int64  \n",
      " 6   Type appart                                  102577 non-null  object \n",
      " 7   scarrez                                      102577 non-null  float64\n",
      " 8   anarnc202012_nb_log                          102577 non-null  float64\n",
      " 9   anarnc202012_nb_lot_garpark                  102577 non-null  float64\n",
      " 10  anarnc202012_nb_lot_tertiaire                102577 non-null  float64\n",
      " 11  anarnc202012_nb_lot_tot                      102577 non-null  float64\n",
      " 12  adedpe202006_logtype_baie_type_vitrage       102577 non-null  object \n",
      " 13  adedpe202006_logtype_ch_gen_lib_princ        102577 non-null  object \n",
      " 14  adedpe202006_logtype_classe_conso_ener       102577 non-null  object \n",
      " 15  adedpe202006_logtype_classe_estim_ges        102577 non-null  object \n",
      " 16  adedpe202006_logtype_traversant              102577 non-null  object \n",
      " 17  adedpe202006_logtype_ecs_type_ener           102577 non-null  object \n",
      " 18  adedpe202006_logtype_ph_pos_isol             102577 non-null  object \n",
      " 19  adedpe202006_logtype_presence_climatisation  102577 non-null  float64\n",
      " 20  adedpe202006_logtype_type_batiment           102577 non-null  object \n",
      " 21  ancqpv201410_is_qpv                          102577 non-null  float64\n",
      " 22  cerffo2020_annee_construction                102577 non-null  object \n",
      " 23  cerffo2020_usage_niveau_1_txt                102577 non-null  object \n",
      " 24  cerffo2020_nb_log                            102577 non-null  int64  \n",
      " 25  igntop202103_bat_hauteur                     102577 non-null  float64\n",
      " 26  mcumer202007_is_mer                          102577 non-null  float64\n",
      " 27  baie_orientation_sud                         102577 non-null  int64  \n",
      " 28  baie_orientation_nord                        102577 non-null  int64  \n",
      " 29  baie_orientation_ouest                       102577 non-null  int64  \n",
      " 30  baie_orientation_est                         102577 non-null  int64  \n",
      " 31  baie_orientation_autre                       102577 non-null  int64  \n",
      " 32  Commerces_bruyants                           102577 non-null  int64  \n",
      " 33  qty_of_mut                                   102577 non-null  int64  \n",
      " 34  anneemut                                     102577 non-null  int64  \n",
      " 35  surface_appart                               102577 non-null  int64  \n",
      "dtypes: float64(10), int64(13), object(13)\n",
      "memory usage: 28.2+ MB\n"
     ]
    }
   ],
   "source": [
    "df.info()"
   ]
  },
  {
   "cell_type": "code",
   "execution_count": 8,
   "id": "1123e0fc",
   "metadata": {},
   "outputs": [
    {
     "data": {
      "text/plain": [
       "Revente >1                                     0\n",
       "libnatmut                                      0\n",
       "valeurfonc                                     0\n",
       "nblot                                          0\n",
       "l_codinsee                                     0\n",
       "nblocdep                                       0\n",
       "Type appart                                    0\n",
       "scarrez                                        0\n",
       "anarnc202012_nb_log                            0\n",
       "anarnc202012_nb_lot_garpark                    0\n",
       "anarnc202012_nb_lot_tertiaire                  0\n",
       "anarnc202012_nb_lot_tot                        0\n",
       "adedpe202006_logtype_baie_type_vitrage         0\n",
       "adedpe202006_logtype_ch_gen_lib_princ          0\n",
       "adedpe202006_logtype_classe_conso_ener         0\n",
       "adedpe202006_logtype_classe_estim_ges          0\n",
       "adedpe202006_logtype_traversant                0\n",
       "adedpe202006_logtype_ecs_type_ener             0\n",
       "adedpe202006_logtype_ph_pos_isol               0\n",
       "adedpe202006_logtype_presence_climatisation    0\n",
       "adedpe202006_logtype_type_batiment             0\n",
       "ancqpv201410_is_qpv                            0\n",
       "cerffo2020_annee_construction                  0\n",
       "cerffo2020_usage_niveau_1_txt                  0\n",
       "cerffo2020_nb_log                              0\n",
       "igntop202103_bat_hauteur                       0\n",
       "mcumer202007_is_mer                            0\n",
       "baie_orientation_sud                           0\n",
       "baie_orientation_nord                          0\n",
       "baie_orientation_ouest                         0\n",
       "baie_orientation_est                           0\n",
       "baie_orientation_autre                         0\n",
       "Commerces_bruyants                             0\n",
       "qty_of_mut                                     0\n",
       "anneemut                                       0\n",
       "surface_appart                                 0\n",
       "dtype: int64"
      ]
     },
     "execution_count": 8,
     "metadata": {},
     "output_type": "execute_result"
    }
   ],
   "source": [
    "df.isna().sum()"
   ]
  },
  {
   "cell_type": "code",
   "execution_count": 9,
   "id": "605e07f8",
   "metadata": {},
   "outputs": [],
   "source": [
    "from sklearn.model_selection import train_test_split"
   ]
  },
  {
   "cell_type": "code",
   "execution_count": 10,
   "id": "a6d6c8aa",
   "metadata": {},
   "outputs": [],
   "source": [
    "# On va garder \"Revente >1\" comme variable cible. Suppression de \"qty_of_mut\"\n",
    "df=df.drop(\"qty_of_mut\", axis=1)"
   ]
  },
  {
   "cell_type": "code",
   "execution_count": 11,
   "id": "2e368c7b",
   "metadata": {},
   "outputs": [
    {
     "data": {
      "text/plain": [
       "((102577, 34), (102577,))"
      ]
     },
     "execution_count": 11,
     "metadata": {},
     "output_type": "execute_result"
    }
   ],
   "source": [
    "#Features / Target\n",
    "\n",
    "X=df.drop(\"Revente >1\", axis=1)\n",
    "y=df[\"Revente >1\"]\n",
    "\n",
    "X.shape, y.shape"
   ]
  },
  {
   "cell_type": "code",
   "execution_count": 12,
   "id": "4b0136b1",
   "metadata": {},
   "outputs": [
    {
     "data": {
      "text/plain": [
       "['valeurfonc',\n",
       " 'l_codinsee',\n",
       " 'nblocdep',\n",
       " 'scarrez',\n",
       " 'anarnc202012_nb_log',\n",
       " 'anarnc202012_nb_lot_garpark',\n",
       " 'anarnc202012_nb_lot_tertiaire',\n",
       " 'anarnc202012_nb_lot_tot',\n",
       " 'adedpe202006_logtype_presence_climatisation',\n",
       " 'ancqpv201410_is_qpv',\n",
       " 'cerffo2020_nb_log',\n",
       " 'igntop202103_bat_hauteur',\n",
       " 'mcumer202007_is_mer',\n",
       " 'baie_orientation_sud',\n",
       " 'baie_orientation_nord',\n",
       " 'baie_orientation_ouest',\n",
       " 'baie_orientation_est',\n",
       " 'baie_orientation_autre',\n",
       " 'Commerces_bruyants',\n",
       " 'anneemut',\n",
       " 'surface_appart']"
      ]
     },
     "execution_count": 12,
     "metadata": {},
     "output_type": "execute_result"
    }
   ],
   "source": [
    "numeric_columns=X.select_dtypes(include=np.number).columns.tolist()\n",
    "numeric_columns"
   ]
  },
  {
   "cell_type": "code",
   "execution_count": 13,
   "id": "5f7b4da6",
   "metadata": {},
   "outputs": [
    {
     "data": {
      "text/plain": [
       "['libnatmut',\n",
       " 'nblot',\n",
       " 'Type appart',\n",
       " 'adedpe202006_logtype_baie_type_vitrage',\n",
       " 'adedpe202006_logtype_ch_gen_lib_princ',\n",
       " 'adedpe202006_logtype_classe_conso_ener',\n",
       " 'adedpe202006_logtype_classe_estim_ges',\n",
       " 'adedpe202006_logtype_traversant',\n",
       " 'adedpe202006_logtype_ecs_type_ener',\n",
       " 'adedpe202006_logtype_ph_pos_isol',\n",
       " 'adedpe202006_logtype_type_batiment',\n",
       " 'cerffo2020_annee_construction',\n",
       " 'cerffo2020_usage_niveau_1_txt']"
      ]
     },
     "execution_count": 13,
     "metadata": {},
     "output_type": "execute_result"
    }
   ],
   "source": [
    "object_columns=X.select_dtypes(include='object').columns.tolist()\n",
    "object_columns"
   ]
  },
  {
   "cell_type": "code",
   "execution_count": 14,
   "id": "045f0fe1",
   "metadata": {},
   "outputs": [
    {
     "data": {
      "text/plain": [
       "((76932, 34), (25645, 34))"
      ]
     },
     "execution_count": 14,
     "metadata": {},
     "output_type": "execute_result"
    }
   ],
   "source": [
    "X_train, X_test, y_train, y_test=train_test_split(X,y, test_size=0.25, random_state=10)\n",
    "X_train.shape, X_test.shape"
   ]
  },
  {
   "cell_type": "code",
   "execution_count": 15,
   "id": "20fc9967",
   "metadata": {},
   "outputs": [],
   "source": [
    "#DICHOTOMISATION"
   ]
  },
  {
   "cell_type": "code",
   "execution_count": 16,
   "id": "00bdf080",
   "metadata": {},
   "outputs": [],
   "source": [
    "X_train=pd.get_dummies(X_train)"
   ]
  },
  {
   "cell_type": "code",
   "execution_count": 17,
   "id": "7223a2d4",
   "metadata": {},
   "outputs": [],
   "source": [
    "X_test=pd.get_dummies(X_test)"
   ]
  },
  {
   "cell_type": "code",
   "execution_count": 18,
   "id": "45987674",
   "metadata": {},
   "outputs": [
    {
     "data": {
      "text/plain": [
       "(76932, 111)"
      ]
     },
     "execution_count": 18,
     "metadata": {},
     "output_type": "execute_result"
    }
   ],
   "source": [
    "X_train.shape"
   ]
  },
  {
   "cell_type": "code",
   "execution_count": 19,
   "id": "a7892ca1",
   "metadata": {},
   "outputs": [
    {
     "data": {
      "text/plain": [
       "(25645, 111)"
      ]
     },
     "execution_count": 19,
     "metadata": {},
     "output_type": "execute_result"
    }
   ],
   "source": [
    "X_test.shape"
   ]
  },
  {
   "cell_type": "code",
   "execution_count": 20,
   "id": "b83444d3",
   "metadata": {},
   "outputs": [],
   "source": [
    "# NORMALISATION\n",
    "\n",
    "from sklearn.preprocessing import StandardScaler\n",
    "scaler = StandardScaler()\n",
    "X_train[numeric_columns] = scaler.fit_transform(X_train[numeric_columns])\n",
    "X_test[numeric_columns] = scaler.transform(X_test[numeric_columns])"
   ]
  },
  {
   "cell_type": "code",
   "execution_count": 21,
   "id": "babed383",
   "metadata": {},
   "outputs": [],
   "source": [
    "# PCA = L'analyse en composantes principales (PCA pour Principal Component Analysis) est une méthode de réduction \n",
    "# de dimension qui consiste à transformer des variables corrélées en nouvelles variables décorrélées les unes des autres.\n",
    "# Il s’agit de résumer l’information contenue dans un ensemble de données en un certain nombre de variables synthétiques, \n",
    "# combinaisons linéaires des variables originelles : ce sont les Composantes Principales.\n",
    "# L’enjeu est généralement de réduire de manière significative la dimension du jeu de données tout en conservant \n",
    "# au maximum l'information véhiculée par les données. \n",
    "\n",
    "from sklearn.decomposition import PCA"
   ]
  },
  {
   "cell_type": "code",
   "execution_count": 22,
   "id": "b29fcfc8",
   "metadata": {},
   "outputs": [],
   "source": [
    "pca=PCA()"
   ]
  },
  {
   "cell_type": "code",
   "execution_count": 23,
   "id": "ca98da09",
   "metadata": {},
   "outputs": [
    {
     "data": {
      "text/plain": [
       "PCA()"
      ]
     },
     "execution_count": 23,
     "metadata": {},
     "output_type": "execute_result"
    }
   ],
   "source": [
    "pca.fit(X_train)"
   ]
  },
  {
   "cell_type": "code",
   "execution_count": 24,
   "id": "62938bfa",
   "metadata": {},
   "outputs": [
    {
     "data": {
      "image/png": "[encoded data removed]",
      "text/plain": [
       "<Figure size 432x288 with 1 Axes>"
      ]
     },
     "metadata": {
      "needs_background": "light"
     },
     "output_type": "display_data"
    }
   ],
   "source": [
    "plt.figure()\n",
    "plt.xlim(0,100)\n",
    "plt.plot(pca.explained_variance_ratio_);"
   ]
  },
  {
   "cell_type": "code",
   "execution_count": 25,
   "id": "c5654e46",
   "metadata": {},
   "outputs": [
    {
     "data": {
      "image/png": "[encoded data removed]",
      "text/plain": [
       "<Figure size 432x288 with 1 Axes>"
      ]
     },
     "metadata": {
      "needs_background": "light"
     },
     "output_type": "display_data"
    }
   ],
   "source": [
    "plt.figure()\n",
    "plt.xlim(0,100)\n",
    "plt.axhline(y = 0.9, color ='r', linestyle = '--')\n",
    "plt.plot(pca.explained_variance_ratio_.cumsum());"
   ]
  },
  {
   "cell_type": "code",
   "execution_count": 26,
   "id": "5a198829",
   "metadata": {},
   "outputs": [],
   "source": [
    "pca = PCA(n_components = 0.9)\n",
    "X_train_pca = pca.fit_transform(X_train)"
   ]
  },
  {
   "cell_type": "code",
   "execution_count": 27,
   "id": "c02a8637",
   "metadata": {},
   "outputs": [],
   "source": [
    "X_test_pca = pca.transform(X_test)"
   ]
  },
  {
   "cell_type": "code",
   "execution_count": 28,
   "id": "0619ff27",
   "metadata": {},
   "outputs": [
    {
     "data": {
      "text/plain": [
       "0.7087151491518815"
      ]
     },
     "execution_count": 28,
     "metadata": {},
     "output_type": "execute_result"
    }
   ],
   "source": [
    "from sklearn.tree import DecisionTreeClassifier\n",
    "\n",
    "model7=DecisionTreeClassifier()\n",
    "model7.fit(X_train_pca, y_train)\n",
    "model7.score(X_test_pca, y_test)"
   ]
  },
  {
   "cell_type": "code",
   "execution_count": 29,
   "id": "e039dded",
   "metadata": {},
   "outputs": [
    {
     "data": {
      "text/html": [
       "<div>\n",
       "<style scoped>\n",
       "    .dataframe tbody tr th:only-of-type {\n",
       "        vertical-align: middle;\n",
       "    }\n",
       "\n",
       "    .dataframe tbody tr th {\n",
       "        vertical-align: top;\n",
       "    }\n",
       "\n",
       "    .dataframe thead th {\n",
       "        text-align: right;\n",
       "    }\n",
       "</style>\n",
       "<table border=\"1\" class=\"dataframe\">\n",
       "  <thead>\n",
       "    <tr style=\"text-align: right;\">\n",
       "      <th>col_0</th>\n",
       "      <th>0</th>\n",
       "      <th>1</th>\n",
       "    </tr>\n",
       "    <tr>\n",
       "      <th>Revente &gt;1</th>\n",
       "      <th></th>\n",
       "      <th></th>\n",
       "    </tr>\n",
       "  </thead>\n",
       "  <tbody>\n",
       "    <tr>\n",
       "      <th>0</th>\n",
       "      <td>16854</td>\n",
       "      <td>3969</td>\n",
       "    </tr>\n",
       "    <tr>\n",
       "      <th>1</th>\n",
       "      <td>3501</td>\n",
       "      <td>1321</td>\n",
       "    </tr>\n",
       "  </tbody>\n",
       "</table>\n",
       "</div>"
      ],
      "text/plain": [
       "col_0           0     1\n",
       "Revente >1             \n",
       "0           16854  3969\n",
       "1            3501  1321"
      ]
     },
     "execution_count": 29,
     "metadata": {},
     "output_type": "execute_result"
    }
   ],
   "source": [
    "y_pred_7=model7.predict(X_test_pca)\n",
    "pd.crosstab(y_test, y_pred_7)\n"
   ]
  },
  {
   "cell_type": "code",
   "execution_count": 30,
   "id": "8d796aa6",
   "metadata": {},
   "outputs": [],
   "source": [
    "from sklearn.metrics import classification_report"
   ]
  },
  {
   "cell_type": "code",
   "execution_count": 31,
   "id": "356961b5",
   "metadata": {},
   "outputs": [
    {
     "name": "stdout",
     "output_type": "stream",
     "text": [
      "              precision    recall  f1-score   support\n",
      "\n",
      "           0       0.83      0.81      0.82     20823\n",
      "           1       0.25      0.27      0.26      4822\n",
      "\n",
      "    accuracy                           0.71     25645\n",
      "   macro avg       0.54      0.54      0.54     25645\n",
      "weighted avg       0.72      0.71      0.71     25645\n",
      "\n"
     ]
    }
   ],
   "source": [
    "print(classification_report(y_test, y_pred_7))"
   ]
  },
  {
   "cell_type": "code",
   "execution_count": 32,
   "id": "f5af2af8",
   "metadata": {},
   "outputs": [],
   "source": [
    "# LDA : L'analyse discriminante linéaire (LDA, Linear Discriminant Analysis en anglais) \n",
    "# fonctionne sur le même principe que la PCA : la décomposition matricielle permet de projeter les données \n",
    "# sur un hyperplan de l'espace original. Cependant, là où la PCA peut s'appliquer sur toutes sortes de données, \n",
    "# la LDA nécessite des données étiquetées. L'idée derrière cet algorithme est de projeter les données de telle sorte \n",
    "# que la variance au sein d'une classe soit la plus faible possible, tout en maximisant la variance entre les classes. \n",
    "# La LDA est donc un algorithme supervisé à l'inverse de la PCA qui est un algorithme non supervisé.\n",
    "\n",
    "\n",
    "from sklearn.discriminant_analysis import LinearDiscriminantAnalysis as LDA"
   ]
  },
  {
   "cell_type": "code",
   "execution_count": 33,
   "id": "c7eb19af",
   "metadata": {},
   "outputs": [],
   "source": [
    "lda = LDA()\n",
    "lda.fit(X_train, y_train)\n",
    "X_train_lda = lda.transform(X_train)\n",
    "X_test_lda = lda.transform(X_test)"
   ]
  },
  {
   "cell_type": "code",
   "execution_count": 34,
   "id": "b39ba2f2",
   "metadata": {},
   "outputs": [
    {
     "data": {
      "text/plain": [
       "(76932, 1)"
      ]
     },
     "execution_count": 34,
     "metadata": {},
     "output_type": "execute_result"
    }
   ],
   "source": [
    "X_train_lda.shape"
   ]
  },
  {
   "cell_type": "code",
   "execution_count": 35,
   "id": "018d6a90",
   "metadata": {},
   "outputs": [],
   "source": [
    "from sklearn.tree import DecisionTreeClassifier\n",
    "\n",
    "model7=DecisionTreeClassifier()"
   ]
  },
  {
   "cell_type": "code",
   "execution_count": 36,
   "id": "faecef4d",
   "metadata": {},
   "outputs": [
    {
     "data": {
      "text/plain": [
       "DecisionTreeClassifier()"
      ]
     },
     "execution_count": 36,
     "metadata": {},
     "output_type": "execute_result"
    }
   ],
   "source": [
    "model7.fit(X_train_lda, y_train)"
   ]
  },
  {
   "cell_type": "code",
   "execution_count": 37,
   "id": "83a26005",
   "metadata": {},
   "outputs": [
    {
     "data": {
      "text/plain": [
       "0.7033729771885358"
      ]
     },
     "execution_count": 37,
     "metadata": {},
     "output_type": "execute_result"
    }
   ],
   "source": [
    "model7.score(X_test_lda, y_test)"
   ]
  },
  {
   "cell_type": "code",
   "execution_count": 38,
   "id": "a891f2d8",
   "metadata": {},
   "outputs": [
    {
     "data": {
      "text/html": [
       "<div>\n",
       "<style scoped>\n",
       "    .dataframe tbody tr th:only-of-type {\n",
       "        vertical-align: middle;\n",
       "    }\n",
       "\n",
       "    .dataframe tbody tr th {\n",
       "        vertical-align: top;\n",
       "    }\n",
       "\n",
       "    .dataframe thead th {\n",
       "        text-align: right;\n",
       "    }\n",
       "</style>\n",
       "<table border=\"1\" class=\"dataframe\">\n",
       "  <thead>\n",
       "    <tr style=\"text-align: right;\">\n",
       "      <th>col_0</th>\n",
       "      <th>0</th>\n",
       "      <th>1</th>\n",
       "    </tr>\n",
       "    <tr>\n",
       "      <th>Revente &gt;1</th>\n",
       "      <th></th>\n",
       "      <th></th>\n",
       "    </tr>\n",
       "  </thead>\n",
       "  <tbody>\n",
       "    <tr>\n",
       "      <th>0</th>\n",
       "      <td>17079</td>\n",
       "      <td>3744</td>\n",
       "    </tr>\n",
       "    <tr>\n",
       "      <th>1</th>\n",
       "      <td>3863</td>\n",
       "      <td>959</td>\n",
       "    </tr>\n",
       "  </tbody>\n",
       "</table>\n",
       "</div>"
      ],
      "text/plain": [
       "col_0           0     1\n",
       "Revente >1             \n",
       "0           17079  3744\n",
       "1            3863   959"
      ]
     },
     "execution_count": 38,
     "metadata": {},
     "output_type": "execute_result"
    }
   ],
   "source": [
    "y_pred_7=model7.predict(X_test_lda)\n",
    "pd.crosstab(y_test, y_pred_7)"
   ]
  },
  {
   "cell_type": "code",
   "execution_count": 39,
   "id": "47201ecc",
   "metadata": {},
   "outputs": [],
   "source": [
    "from sklearn.metrics import classification_report"
   ]
  },
  {
   "cell_type": "code",
   "execution_count": 40,
   "id": "7d400068",
   "metadata": {},
   "outputs": [
    {
     "name": "stdout",
     "output_type": "stream",
     "text": [
      "              precision    recall  f1-score   support\n",
      "\n",
      "           0       0.82      0.82      0.82     20823\n",
      "           1       0.20      0.20      0.20      4822\n",
      "\n",
      "    accuracy                           0.70     25645\n",
      "   macro avg       0.51      0.51      0.51     25645\n",
      "weighted avg       0.70      0.70      0.70     25645\n",
      "\n"
     ]
    }
   ],
   "source": [
    "print(classification_report(y_test, y_pred_7))"
   ]
  },
  {
   "cell_type": "code",
   "execution_count": null,
   "id": "25a672ca",
   "metadata": {},
   "outputs": [],
   "source": []
  },
  {
   "cell_type": "code",
   "execution_count": 41,
   "id": "58af2099",
   "metadata": {},
   "outputs": [],
   "source": [
    "# TSNE : L'objectif de T-SNE est similaire à celui de l'ACP : représenter nos données dans une dimension plus petite.\n",
    "# Cependant, le principe de T-SNE est différent : Il construit une nouvelle représentation des données de manière \n",
    "# à ce que les données proches dans la dimension d'origine aient une forte probabilité d'avoir \n",
    "# des représentations proches dans la nouvelle dimension.\n",
    "# En clair, T-SNE calcule une mesure de similarité entre chaque paire d'individus dans l'espace de grande dimension et dans l'espace de faible dimension. Il tente ensuite d'optimiser ces deux mesures à l'aide d'une fonction de coût.\n",
    "\n",
    "from sklearn.manifold import TSNE\n",
    "\n",
    "# => a pris trop de temps"
   ]
  },
  {
   "cell_type": "code",
   "execution_count": 42,
   "id": "6e74eaca",
   "metadata": {},
   "outputs": [],
   "source": [
    "#tsne=TSNE(n_components=2, random_state=0)"
   ]
  },
  {
   "cell_type": "code",
   "execution_count": 43,
   "id": "a9fc06a6",
   "metadata": {},
   "outputs": [],
   "source": [
    "#tsne.fit(X_train, y_train)\n",
    "#X_train_tsne = tsne.transform(X_train)\n",
    "#X_test_tsne = tsne.transform(X_test)"
   ]
  },
  {
   "cell_type": "code",
   "execution_count": 44,
   "id": "e017979f",
   "metadata": {},
   "outputs": [],
   "source": [
    "#X_train_tsne.shape"
   ]
  },
  {
   "cell_type": "code",
   "execution_count": 45,
   "id": "a0a958bb",
   "metadata": {},
   "outputs": [],
   "source": [
    "#from sklearn.tree import DecisionTreeClassifier\n",
    "\n",
    "#model7=DecisionTreeClassifier()\n",
    "#model7.fit(X_train_tsne, y_train)\n",
    "#model7.score(X_test_tsne, y_test)"
   ]
  },
  {
   "cell_type": "code",
   "execution_count": null,
   "id": "27c1a58e",
   "metadata": {},
   "outputs": [],
   "source": []
  },
  {
   "cell_type": "code",
   "execution_count": null,
   "id": "0711c87d",
   "metadata": {},
   "outputs": [],
   "source": []
  },
  {
   "cell_type": "code",
   "execution_count": 46,
   "id": "69811b30",
   "metadata": {},
   "outputs": [],
   "source": [
    "# Synthèse des scores dasn le doc Excel Compar_scores"
   ]
  },
  {
   "cell_type": "code",
   "execution_count": null,
   "id": "ccbcdce0",
   "metadata": {},
   "outputs": [],
   "source": []
  },
  {
   "cell_type": "code",
   "execution_count": null,
   "id": "6b3bd935",
   "metadata": {},
   "outputs": [],
   "source": []
  }
 ],
 "metadata": {
  "kernelspec": {
   "display_name": "Python 3 (ipykernel)",
   "language": "python",
   "name": "python3"
  },
  "language_info": {
   "codemirror_mode": {
    "name": "ipython",
    "version": 3
   },
   "file_extension": ".py",
   "mimetype": "text/x-python",
   "name": "python",
   "nbconvert_exporter": "python",
   "pygments_lexer": "ipython3",
   "version": "3.9.7"
  }
 },
 "nbformat": 4,
 "nbformat_minor": 5
}
