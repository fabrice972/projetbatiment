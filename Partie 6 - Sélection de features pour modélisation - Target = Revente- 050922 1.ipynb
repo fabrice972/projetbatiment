{
 "cells": [
  {
   "cell_type": "code",
   "execution_count": 1,
   "id": "d7fa110a",
   "metadata": {},
   "outputs": [],
   "source": [
    "# A ce stade, nous avons 47 variables. \n",
    "# Objectif de ce notebook : sélectionner les variables qui seront utilisées pour la modélisation.\n",
    "# Nous allons utiliser ici 3 méthodes : \n",
    "# - Méthode Wrapper : RFE : Recursive Feature Elimination\n",
    "# - Sélection des variables par SelectFromModel\n",
    "# - Sélection des variables par SELECTKBEST - score_func=f_classif"
   ]
  },
  {
   "cell_type": "code",
   "execution_count": 2,
   "id": "3e9b7a10",
   "metadata": {},
   "outputs": [],
   "source": [
    "import pandas as pd\n",
    "import numpy as np\n",
    "import matplotlib.pyplot as plt\n",
    "%matplotlib inline "
   ]
  },
  {
   "cell_type": "code",
   "execution_count": 3,
   "id": "3c8ad0d0",
   "metadata": {},
   "outputs": [],
   "source": [
    "df=pd.read_csv(\"df.csv\")"
   ]
  },
  {
   "cell_type": "code",
   "execution_count": 4,
   "id": "34d24633",
   "metadata": {},
   "outputs": [
    {
     "data": {
      "text/html": [
       "<div>\n",
       "<style scoped>\n",
       "    .dataframe tbody tr th:only-of-type {\n",
       "        vertical-align: middle;\n",
       "    }\n",
       "\n",
       "    .dataframe tbody tr th {\n",
       "        vertical-align: top;\n",
       "    }\n",
       "\n",
       "    .dataframe thead th {\n",
       "        text-align: right;\n",
       "    }\n",
       "</style>\n",
       "<table border=\"1\" class=\"dataframe\">\n",
       "  <thead>\n",
       "    <tr style=\"text-align: right;\">\n",
       "      <th></th>\n",
       "      <th>Revente &gt;1</th>\n",
       "      <th>libnatmut</th>\n",
       "      <th>valeurfonc</th>\n",
       "      <th>nblot</th>\n",
       "      <th>l_codinsee</th>\n",
       "      <th>nblocdep</th>\n",
       "      <th>Type appart</th>\n",
       "      <th>scarrez</th>\n",
       "      <th>anarnc202012_nb_log</th>\n",
       "      <th>anarnc202012_nb_lot_garpark</th>\n",
       "      <th>...</th>\n",
       "      <th>baie_orientation_autre</th>\n",
       "      <th>Commerces_bruyants</th>\n",
       "      <th>qty_of_mut</th>\n",
       "      <th>datemut</th>\n",
       "      <th>anneemut</th>\n",
       "      <th>moismut</th>\n",
       "      <th>etaban_lot</th>\n",
       "      <th>cat_valeur</th>\n",
       "      <th>surface_appart</th>\n",
       "      <th>cat_scarrez</th>\n",
       "    </tr>\n",
       "  </thead>\n",
       "  <tbody>\n",
       "    <tr>\n",
       "      <th>0</th>\n",
       "      <td>0</td>\n",
       "      <td>Vente</td>\n",
       "      <td>370000.0</td>\n",
       "      <td>1</td>\n",
       "      <td>75101</td>\n",
       "      <td>1</td>\n",
       "      <td>2P</td>\n",
       "      <td>26.06</td>\n",
       "      <td>158.0</td>\n",
       "      <td>0.0</td>\n",
       "      <td>...</td>\n",
       "      <td>0</td>\n",
       "      <td>1</td>\n",
       "      <td>1</td>\n",
       "      <td>2021-06-04</td>\n",
       "      <td>2021</td>\n",
       "      <td>6</td>\n",
       "      <td>75101_4901_00019_93</td>\n",
       "      <td>Entre 320 &amp; 436k€ €</td>\n",
       "      <td>32</td>\n",
       "      <td>&lt;35 m²</td>\n",
       "    </tr>\n",
       "    <tr>\n",
       "      <th>1</th>\n",
       "      <td>0</td>\n",
       "      <td>Vente</td>\n",
       "      <td>451000.0</td>\n",
       "      <td>1</td>\n",
       "      <td>75117</td>\n",
       "      <td>0</td>\n",
       "      <td>2P</td>\n",
       "      <td>35.53</td>\n",
       "      <td>32.0</td>\n",
       "      <td>0.0</td>\n",
       "      <td>...</td>\n",
       "      <td>0</td>\n",
       "      <td>0</td>\n",
       "      <td>1</td>\n",
       "      <td>2021-03-18</td>\n",
       "      <td>2021</td>\n",
       "      <td>3</td>\n",
       "      <td>75117_5503_00103_24</td>\n",
       "      <td>Entre 436 &amp; 600k€</td>\n",
       "      <td>30</td>\n",
       "      <td>Entre 35 &amp; 47 m²</td>\n",
       "    </tr>\n",
       "    <tr>\n",
       "      <th>2</th>\n",
       "      <td>0</td>\n",
       "      <td>Vente</td>\n",
       "      <td>433000.0</td>\n",
       "      <td>3</td>\n",
       "      <td>75115</td>\n",
       "      <td>1</td>\n",
       "      <td>3P</td>\n",
       "      <td>35.40</td>\n",
       "      <td>50.0</td>\n",
       "      <td>0.0</td>\n",
       "      <td>...</td>\n",
       "      <td>0</td>\n",
       "      <td>0</td>\n",
       "      <td>1</td>\n",
       "      <td>2021-11-12</td>\n",
       "      <td>2021</td>\n",
       "      <td>11</td>\n",
       "      <td>75115_2521_00008_19</td>\n",
       "      <td>Entre 320 &amp; 436k€ €</td>\n",
       "      <td>34</td>\n",
       "      <td>Entre 35 &amp; 47 m²</td>\n",
       "    </tr>\n",
       "    <tr>\n",
       "      <th>3</th>\n",
       "      <td>1</td>\n",
       "      <td>Vente</td>\n",
       "      <td>561076.0</td>\n",
       "      <td>1</td>\n",
       "      <td>75118</td>\n",
       "      <td>0</td>\n",
       "      <td>2P</td>\n",
       "      <td>46.02</td>\n",
       "      <td>29.0</td>\n",
       "      <td>0.0</td>\n",
       "      <td>...</td>\n",
       "      <td>0</td>\n",
       "      <td>1</td>\n",
       "      <td>2</td>\n",
       "      <td>2021-01-08</td>\n",
       "      <td>2021</td>\n",
       "      <td>1</td>\n",
       "      <td>75118_2113_00110_19</td>\n",
       "      <td>Entre 436 &amp; 600k€</td>\n",
       "      <td>50</td>\n",
       "      <td>Entre 35 &amp; 47 m²</td>\n",
       "    </tr>\n",
       "    <tr>\n",
       "      <th>4</th>\n",
       "      <td>1</td>\n",
       "      <td>Vente</td>\n",
       "      <td>375980.0</td>\n",
       "      <td>1</td>\n",
       "      <td>75118</td>\n",
       "      <td>0</td>\n",
       "      <td>2P</td>\n",
       "      <td>45.76</td>\n",
       "      <td>29.0</td>\n",
       "      <td>0.0</td>\n",
       "      <td>...</td>\n",
       "      <td>0</td>\n",
       "      <td>1</td>\n",
       "      <td>2</td>\n",
       "      <td>2016-09-09</td>\n",
       "      <td>2016</td>\n",
       "      <td>9</td>\n",
       "      <td>75118_2113_00110_19</td>\n",
       "      <td>Entre 320 &amp; 436k€ €</td>\n",
       "      <td>50</td>\n",
       "      <td>Entre 35 &amp; 47 m²</td>\n",
       "    </tr>\n",
       "  </tbody>\n",
       "</table>\n",
       "<p>5 rows × 41 columns</p>\n",
       "</div>"
      ],
      "text/plain": [
       "   Revente >1 libnatmut  valeurfonc nblot  l_codinsee  nblocdep Type appart  \\\n",
       "0           0     Vente    370000.0     1       75101         1          2P   \n",
       "1           0     Vente    451000.0     1       75117         0          2P   \n",
       "2           0     Vente    433000.0     3       75115         1          3P   \n",
       "3           1     Vente    561076.0     1       75118         0          2P   \n",
       "4           1     Vente    375980.0     1       75118         0          2P   \n",
       "\n",
       "   scarrez  anarnc202012_nb_log  anarnc202012_nb_lot_garpark  ...  \\\n",
       "0    26.06                158.0                          0.0  ...   \n",
       "1    35.53                 32.0                          0.0  ...   \n",
       "2    35.40                 50.0                          0.0  ...   \n",
       "3    46.02                 29.0                          0.0  ...   \n",
       "4    45.76                 29.0                          0.0  ...   \n",
       "\n",
       "   baie_orientation_autre  Commerces_bruyants qty_of_mut     datemut anneemut  \\\n",
       "0                       0                   1          1  2021-06-04     2021   \n",
       "1                       0                   0          1  2021-03-18     2021   \n",
       "2                       0                   0          1  2021-11-12     2021   \n",
       "3                       0                   1          2  2021-01-08     2021   \n",
       "4                       0                   1          2  2016-09-09     2016   \n",
       "\n",
       "  moismut           etaban_lot           cat_valeur surface_appart  \\\n",
       "0       6  75101_4901_00019_93  Entre 320 & 436k€ €             32   \n",
       "1       3  75117_5503_00103_24    Entre 436 & 600k€             30   \n",
       "2      11  75115_2521_00008_19  Entre 320 & 436k€ €             34   \n",
       "3       1  75118_2113_00110_19    Entre 436 & 600k€             50   \n",
       "4       9  75118_2113_00110_19  Entre 320 & 436k€ €             50   \n",
       "\n",
       "        cat_scarrez  \n",
       "0            <35 m²  \n",
       "1  Entre 35 & 47 m²  \n",
       "2  Entre 35 & 47 m²  \n",
       "3  Entre 35 & 47 m²  \n",
       "4  Entre 35 & 47 m²  \n",
       "\n",
       "[5 rows x 41 columns]"
      ]
     },
     "execution_count": 4,
     "metadata": {},
     "output_type": "execute_result"
    }
   ],
   "source": [
    "df.head()"
   ]
  },
  {
   "cell_type": "code",
   "execution_count": 5,
   "id": "b90c7f52",
   "metadata": {},
   "outputs": [
    {
     "name": "stdout",
     "output_type": "stream",
     "text": [
      "<class 'pandas.core.frame.DataFrame'>\n",
      "RangeIndex: 102577 entries, 0 to 102576\n",
      "Data columns (total 41 columns):\n",
      " #   Column                                       Non-Null Count   Dtype  \n",
      "---  ------                                       --------------   -----  \n",
      " 0   Revente >1                                   102577 non-null  int64  \n",
      " 1   libnatmut                                    102577 non-null  object \n",
      " 2   valeurfonc                                   102577 non-null  float64\n",
      " 3   nblot                                        102577 non-null  object \n",
      " 4   l_codinsee                                   102577 non-null  int64  \n",
      " 5   nblocdep                                     102577 non-null  int64  \n",
      " 6   Type appart                                  102577 non-null  object \n",
      " 7   scarrez                                      102577 non-null  float64\n",
      " 8   anarnc202012_nb_log                          102577 non-null  float64\n",
      " 9   anarnc202012_nb_lot_garpark                  102577 non-null  float64\n",
      " 10  anarnc202012_nb_lot_tertiaire                102577 non-null  float64\n",
      " 11  anarnc202012_nb_lot_tot                      102577 non-null  float64\n",
      " 12  adedpe202006_logtype_baie_type_vitrage       102577 non-null  object \n",
      " 13  adedpe202006_logtype_ch_gen_lib_princ        102577 non-null  object \n",
      " 14  adedpe202006_logtype_classe_conso_ener       102577 non-null  object \n",
      " 15  adedpe202006_logtype_classe_estim_ges        102577 non-null  object \n",
      " 16  adedpe202006_logtype_traversant              102577 non-null  object \n",
      " 17  adedpe202006_logtype_ecs_type_ener           102577 non-null  object \n",
      " 18  adedpe202006_logtype_ph_pos_isol             102577 non-null  object \n",
      " 19  adedpe202006_logtype_presence_climatisation  102577 non-null  float64\n",
      " 20  adedpe202006_logtype_type_batiment           102577 non-null  object \n",
      " 21  ancqpv201410_is_qpv                          102577 non-null  float64\n",
      " 22  cerffo2020_annee_construction                102577 non-null  object \n",
      " 23  cerffo2020_usage_niveau_1_txt                102577 non-null  object \n",
      " 24  cerffo2020_nb_log                            102577 non-null  int64  \n",
      " 25  igntop202103_bat_hauteur                     102577 non-null  float64\n",
      " 26  mcumer202007_is_mer                          102577 non-null  float64\n",
      " 27  baie_orientation_sud                         102577 non-null  int64  \n",
      " 28  baie_orientation_nord                        102577 non-null  int64  \n",
      " 29  baie_orientation_ouest                       102577 non-null  int64  \n",
      " 30  baie_orientation_est                         102577 non-null  int64  \n",
      " 31  baie_orientation_autre                       102577 non-null  int64  \n",
      " 32  Commerces_bruyants                           102577 non-null  int64  \n",
      " 33  qty_of_mut                                   102577 non-null  int64  \n",
      " 34  datemut                                      102577 non-null  object \n",
      " 35  anneemut                                     102577 non-null  int64  \n",
      " 36  moismut                                      102577 non-null  int64  \n",
      " 37  etaban_lot                                   102577 non-null  object \n",
      " 38  cat_valeur                                   102577 non-null  object \n",
      " 39  surface_appart                               102577 non-null  int64  \n",
      " 40  cat_scarrez                                  102577 non-null  object \n",
      "dtypes: float64(10), int64(14), object(17)\n",
      "memory usage: 32.1+ MB\n"
     ]
    }
   ],
   "source": [
    "df.info()"
   ]
  },
  {
   "cell_type": "code",
   "execution_count": 6,
   "id": "26422a75",
   "metadata": {},
   "outputs": [],
   "source": [
    "#suppression des variables qui vont gêner la modélisation :\n",
    "\n",
    "to_drop=([\"datemut\",\n",
    "         \"moismut\",\n",
    "         \"etaban_lot\",\n",
    "         \"cat_valeur\",\n",
    "         \"cat_scarrez\"])\n",
    "df=df.drop(to_drop, axis=1)\n"
   ]
  },
  {
   "cell_type": "code",
   "execution_count": 7,
   "id": "7f8abefe",
   "metadata": {},
   "outputs": [
    {
     "name": "stdout",
     "output_type": "stream",
     "text": [
      "<class 'pandas.core.frame.DataFrame'>\n",
      "RangeIndex: 102577 entries, 0 to 102576\n",
      "Data columns (total 36 columns):\n",
      " #   Column                                       Non-Null Count   Dtype  \n",
      "---  ------                                       --------------   -----  \n",
      " 0   Revente >1                                   102577 non-null  int64  \n",
      " 1   libnatmut                                    102577 non-null  object \n",
      " 2   valeurfonc                                   102577 non-null  float64\n",
      " 3   nblot                                        102577 non-null  object \n",
      " 4   l_codinsee                                   102577 non-null  int64  \n",
      " 5   nblocdep                                     102577 non-null  int64  \n",
      " 6   Type appart                                  102577 non-null  object \n",
      " 7   scarrez                                      102577 non-null  float64\n",
      " 8   anarnc202012_nb_log                          102577 non-null  float64\n",
      " 9   anarnc202012_nb_lot_garpark                  102577 non-null  float64\n",
      " 10  anarnc202012_nb_lot_tertiaire                102577 non-null  float64\n",
      " 11  anarnc202012_nb_lot_tot                      102577 non-null  float64\n",
      " 12  adedpe202006_logtype_baie_type_vitrage       102577 non-null  object \n",
      " 13  adedpe202006_logtype_ch_gen_lib_princ        102577 non-null  object \n",
      " 14  adedpe202006_logtype_classe_conso_ener       102577 non-null  object \n",
      " 15  adedpe202006_logtype_classe_estim_ges        102577 non-null  object \n",
      " 16  adedpe202006_logtype_traversant              102577 non-null  object \n",
      " 17  adedpe202006_logtype_ecs_type_ener           102577 non-null  object \n",
      " 18  adedpe202006_logtype_ph_pos_isol             102577 non-null  object \n",
      " 19  adedpe202006_logtype_presence_climatisation  102577 non-null  float64\n",
      " 20  adedpe202006_logtype_type_batiment           102577 non-null  object \n",
      " 21  ancqpv201410_is_qpv                          102577 non-null  float64\n",
      " 22  cerffo2020_annee_construction                102577 non-null  object \n",
      " 23  cerffo2020_usage_niveau_1_txt                102577 non-null  object \n",
      " 24  cerffo2020_nb_log                            102577 non-null  int64  \n",
      " 25  igntop202103_bat_hauteur                     102577 non-null  float64\n",
      " 26  mcumer202007_is_mer                          102577 non-null  float64\n",
      " 27  baie_orientation_sud                         102577 non-null  int64  \n",
      " 28  baie_orientation_nord                        102577 non-null  int64  \n",
      " 29  baie_orientation_ouest                       102577 non-null  int64  \n",
      " 30  baie_orientation_est                         102577 non-null  int64  \n",
      " 31  baie_orientation_autre                       102577 non-null  int64  \n",
      " 32  Commerces_bruyants                           102577 non-null  int64  \n",
      " 33  qty_of_mut                                   102577 non-null  int64  \n",
      " 34  anneemut                                     102577 non-null  int64  \n",
      " 35  surface_appart                               102577 non-null  int64  \n",
      "dtypes: float64(10), int64(13), object(13)\n",
      "memory usage: 28.2+ MB\n"
     ]
    }
   ],
   "source": [
    "df.info()"
   ]
  },
  {
   "cell_type": "code",
   "execution_count": 8,
   "id": "1123e0fc",
   "metadata": {},
   "outputs": [
    {
     "data": {
      "text/plain": [
       "Revente >1                                     0\n",
       "libnatmut                                      0\n",
       "valeurfonc                                     0\n",
       "nblot                                          0\n",
       "l_codinsee                                     0\n",
       "nblocdep                                       0\n",
       "Type appart                                    0\n",
       "scarrez                                        0\n",
       "anarnc202012_nb_log                            0\n",
       "anarnc202012_nb_lot_garpark                    0\n",
       "anarnc202012_nb_lot_tertiaire                  0\n",
       "anarnc202012_nb_lot_tot                        0\n",
       "adedpe202006_logtype_baie_type_vitrage         0\n",
       "adedpe202006_logtype_ch_gen_lib_princ          0\n",
       "adedpe202006_logtype_classe_conso_ener         0\n",
       "adedpe202006_logtype_classe_estim_ges          0\n",
       "adedpe202006_logtype_traversant                0\n",
       "adedpe202006_logtype_ecs_type_ener             0\n",
       "adedpe202006_logtype_ph_pos_isol               0\n",
       "adedpe202006_logtype_presence_climatisation    0\n",
       "adedpe202006_logtype_type_batiment             0\n",
       "ancqpv201410_is_qpv                            0\n",
       "cerffo2020_annee_construction                  0\n",
       "cerffo2020_usage_niveau_1_txt                  0\n",
       "cerffo2020_nb_log                              0\n",
       "igntop202103_bat_hauteur                       0\n",
       "mcumer202007_is_mer                            0\n",
       "baie_orientation_sud                           0\n",
       "baie_orientation_nord                          0\n",
       "baie_orientation_ouest                         0\n",
       "baie_orientation_est                           0\n",
       "baie_orientation_autre                         0\n",
       "Commerces_bruyants                             0\n",
       "qty_of_mut                                     0\n",
       "anneemut                                       0\n",
       "surface_appart                                 0\n",
       "dtype: int64"
      ]
     },
     "execution_count": 8,
     "metadata": {},
     "output_type": "execute_result"
    }
   ],
   "source": [
    "df.isna().sum()"
   ]
  },
  {
   "cell_type": "code",
   "execution_count": 9,
   "id": "605e07f8",
   "metadata": {},
   "outputs": [],
   "source": [
    "from sklearn.model_selection import train_test_split"
   ]
  },
  {
   "cell_type": "code",
   "execution_count": 10,
   "id": "a6d6c8aa",
   "metadata": {},
   "outputs": [],
   "source": [
    "# On va garder \"Revente>1\" comme variable cible. Suppression de \"qty_of_mut\"\n",
    "df=df.drop(\"qty_of_mut\", axis=1)"
   ]
  },
  {
   "cell_type": "code",
   "execution_count": 11,
   "id": "2e368c7b",
   "metadata": {},
   "outputs": [
    {
     "data": {
      "text/plain": [
       "((102577, 34), (102577,))"
      ]
     },
     "execution_count": 11,
     "metadata": {},
     "output_type": "execute_result"
    }
   ],
   "source": [
    "#Features / Target\n",
    "\n",
    "X=df.drop(\"Revente >1\", axis=1)\n",
    "y=df[\"Revente >1\"]\n",
    "\n",
    "X.shape, y.shape"
   ]
  },
  {
   "cell_type": "code",
   "execution_count": 12,
   "id": "4b0136b1",
   "metadata": {},
   "outputs": [
    {
     "data": {
      "text/plain": [
       "['valeurfonc',\n",
       " 'l_codinsee',\n",
       " 'nblocdep',\n",
       " 'scarrez',\n",
       " 'anarnc202012_nb_log',\n",
       " 'anarnc202012_nb_lot_garpark',\n",
       " 'anarnc202012_nb_lot_tertiaire',\n",
       " 'anarnc202012_nb_lot_tot',\n",
       " 'adedpe202006_logtype_presence_climatisation',\n",
       " 'ancqpv201410_is_qpv',\n",
       " 'cerffo2020_nb_log',\n",
       " 'igntop202103_bat_hauteur',\n",
       " 'mcumer202007_is_mer',\n",
       " 'baie_orientation_sud',\n",
       " 'baie_orientation_nord',\n",
       " 'baie_orientation_ouest',\n",
       " 'baie_orientation_est',\n",
       " 'baie_orientation_autre',\n",
       " 'Commerces_bruyants',\n",
       " 'anneemut',\n",
       " 'surface_appart']"
      ]
     },
     "execution_count": 12,
     "metadata": {},
     "output_type": "execute_result"
    }
   ],
   "source": [
    "numeric_columns=X.select_dtypes(include=np.number).columns.tolist()\n",
    "numeric_columns"
   ]
  },
  {
   "cell_type": "code",
   "execution_count": 13,
   "id": "5f7b4da6",
   "metadata": {},
   "outputs": [
    {
     "data": {
      "text/plain": [
       "['libnatmut',\n",
       " 'nblot',\n",
       " 'Type appart',\n",
       " 'adedpe202006_logtype_baie_type_vitrage',\n",
       " 'adedpe202006_logtype_ch_gen_lib_princ',\n",
       " 'adedpe202006_logtype_classe_conso_ener',\n",
       " 'adedpe202006_logtype_classe_estim_ges',\n",
       " 'adedpe202006_logtype_traversant',\n",
       " 'adedpe202006_logtype_ecs_type_ener',\n",
       " 'adedpe202006_logtype_ph_pos_isol',\n",
       " 'adedpe202006_logtype_type_batiment',\n",
       " 'cerffo2020_annee_construction',\n",
       " 'cerffo2020_usage_niveau_1_txt']"
      ]
     },
     "execution_count": 13,
     "metadata": {},
     "output_type": "execute_result"
    }
   ],
   "source": [
    "object_columns=X.select_dtypes(include='object').columns.tolist()\n",
    "object_columns"
   ]
  },
  {
   "cell_type": "code",
   "execution_count": 14,
   "id": "045f0fe1",
   "metadata": {},
   "outputs": [
    {
     "data": {
      "text/plain": [
       "((76932, 34), (25645, 34))"
      ]
     },
     "execution_count": 14,
     "metadata": {},
     "output_type": "execute_result"
    }
   ],
   "source": [
    "X_train, X_test, y_train, y_test=train_test_split(X,y, test_size=0.25, random_state=10)\n",
    "X_train.shape, X_test.shape"
   ]
  },
  {
   "cell_type": "code",
   "execution_count": 15,
   "id": "20fc9967",
   "metadata": {},
   "outputs": [],
   "source": [
    "#DICHOTOMISATION"
   ]
  },
  {
   "cell_type": "code",
   "execution_count": 16,
   "id": "00bdf080",
   "metadata": {},
   "outputs": [],
   "source": [
    "X_train=pd.get_dummies(X_train)"
   ]
  },
  {
   "cell_type": "code",
   "execution_count": 17,
   "id": "7223a2d4",
   "metadata": {},
   "outputs": [],
   "source": [
    "X_test=pd.get_dummies(X_test)"
   ]
  },
  {
   "cell_type": "code",
   "execution_count": 18,
   "id": "45987674",
   "metadata": {},
   "outputs": [
    {
     "data": {
      "text/plain": [
       "(76932, 111)"
      ]
     },
     "execution_count": 18,
     "metadata": {},
     "output_type": "execute_result"
    }
   ],
   "source": [
    "X_train.shape"
   ]
  },
  {
   "cell_type": "code",
   "execution_count": 19,
   "id": "a7892ca1",
   "metadata": {},
   "outputs": [
    {
     "data": {
      "text/plain": [
       "(25645, 111)"
      ]
     },
     "execution_count": 19,
     "metadata": {},
     "output_type": "execute_result"
    }
   ],
   "source": [
    "X_test.shape"
   ]
  },
  {
   "cell_type": "code",
   "execution_count": 20,
   "id": "b83444d3",
   "metadata": {},
   "outputs": [],
   "source": [
    "# NORMALISATION\n",
    "\n",
    "from sklearn.preprocessing import StandardScaler\n",
    "scaler = StandardScaler()\n",
    "X_train[numeric_columns] = scaler.fit_transform(X_train[numeric_columns])\n",
    "X_test[numeric_columns] = scaler.transform(X_test[numeric_columns])"
   ]
  },
  {
   "cell_type": "code",
   "execution_count": 21,
   "id": "36a35d36",
   "metadata": {},
   "outputs": [],
   "source": [
    "# Sélection des variables par Méthode Wrapper : RFE : Recursive Feature Elimination\n",
    "# Le RFE consiste à tester toutes sortes de combinaisons de features et de considérer le sous-ensemble \n",
    "# qui donne les meilleurs résultats selon une métrique choisie. C'est le principe des Wrapper methods, en particulier de la RFE \n",
    "# (acronyme pour Recursive Feature Elimination).\n",
    "# Le principe est simple : on fournit un modèle à l'algorithme RFE, qui est ajusté sur le jeu de données complet. \n",
    "# L'importance de chaque feature est estimée et on supprime la ou les features les moins importantes, puis on recommence. \n",
    "# Une fois le nombre de features cible atteint, on retourne le jeu de features qui a fourni le meilleur résultat \n",
    "# sur le jeu d'entrainement."
   ]
  },
  {
   "cell_type": "code",
   "execution_count": 22,
   "id": "a12bbc37",
   "metadata": {},
   "outputs": [],
   "source": [
    "from sklearn.tree import DecisionTreeClassifier\n",
    "\n",
    "dtc=DecisionTreeClassifier()"
   ]
  },
  {
   "cell_type": "code",
   "execution_count": 23,
   "id": "a3f77a02",
   "metadata": {},
   "outputs": [],
   "source": [
    "from sklearn.feature_selection import RFE, RFECV\n",
    "\n",
    "selector= RFE(estimator=dtc, n_features_to_select=50)"
   ]
  },
  {
   "cell_type": "code",
   "execution_count": 24,
   "id": "5a198829",
   "metadata": {},
   "outputs": [
    {
     "data": {
      "text/plain": [
       "RFE(estimator=DecisionTreeClassifier(), n_features_to_select=50)"
      ]
     },
     "execution_count": 24,
     "metadata": {},
     "output_type": "execute_result"
    }
   ],
   "source": [
    "selector.fit(X_train, y_train)"
   ]
  },
  {
   "cell_type": "code",
   "execution_count": 25,
   "id": "c02a8637",
   "metadata": {},
   "outputs": [
    {
     "data": {
      "text/plain": [
       "array([ True,  True,  True,  True,  True,  True,  True,  True, False,\n",
       "        True,  True,  True,  True,  True,  True,  True,  True, False,\n",
       "        True,  True,  True, False, False,  True,  True,  True, False,\n",
       "       False, False, False, False, False, False,  True,  True, False,\n",
       "        True,  True, False, False, False, False, False, False, False,\n",
       "       False, False, False, False,  True,  True, False,  True, False,\n",
       "       False, False, False, False, False, False,  True,  True,  True,\n",
       "        True,  True, False,  True,  True,  True,  True,  True,  True,\n",
       "       False,  True,  True,  True, False, False, False, False, False,\n",
       "        True, False, False, False,  True, False,  True, False, False,\n",
       "       False,  True,  True, False,  True, False, False, False, False,\n",
       "       False, False, False, False, False, False,  True, False, False,\n",
       "       False, False, False])"
      ]
     },
     "execution_count": 25,
     "metadata": {},
     "output_type": "execute_result"
    }
   ],
   "source": [
    "#Features sélectionnées\n",
    "selector.get_support()"
   ]
  },
  {
   "cell_type": "code",
   "execution_count": 26,
   "id": "0619ff27",
   "metadata": {},
   "outputs": [],
   "source": [
    "H=np.array(X_train.columns)[selector.get_support()]"
   ]
  },
  {
   "cell_type": "code",
   "execution_count": 27,
   "id": "c1701927",
   "metadata": {},
   "outputs": [
    {
     "data": {
      "text/plain": [
       "array(['valeurfonc', 'l_codinsee', 'nblocdep', 'scarrez',\n",
       "       'anarnc202012_nb_log', 'anarnc202012_nb_lot_garpark',\n",
       "       'anarnc202012_nb_lot_tertiaire', 'anarnc202012_nb_lot_tot',\n",
       "       'ancqpv201410_is_qpv', 'cerffo2020_nb_log',\n",
       "       'igntop202103_bat_hauteur', 'mcumer202007_is_mer',\n",
       "       'baie_orientation_sud', 'baie_orientation_nord',\n",
       "       'baie_orientation_ouest', 'baie_orientation_est',\n",
       "       'Commerces_bruyants', 'anneemut', 'surface_appart', 'nblot_1',\n",
       "       'nblot_2', 'nblot_3', 'Type appart_2P', 'Type appart_3P',\n",
       "       'adedpe202006_logtype_baie_type_vitrage_double vitrage',\n",
       "       'adedpe202006_logtype_baie_type_vitrage_simple vitrage',\n",
       "       'adedpe202006_logtype_ch_gen_lib_princ_chaudiere gaz condensation',\n",
       "       'adedpe202006_logtype_ch_gen_lib_princ_chaudiere gaz standard',\n",
       "       'adedpe202006_logtype_ch_gen_lib_princ_generateurs a effet joule',\n",
       "       'adedpe202006_logtype_classe_conso_ener_C',\n",
       "       'adedpe202006_logtype_classe_conso_ener_D',\n",
       "       'adedpe202006_logtype_classe_conso_ener_E',\n",
       "       'adedpe202006_logtype_classe_conso_ener_F',\n",
       "       'adedpe202006_logtype_classe_conso_ener_G',\n",
       "       'adedpe202006_logtype_classe_estim_ges_A',\n",
       "       'adedpe202006_logtype_classe_estim_ges_B',\n",
       "       'adedpe202006_logtype_classe_estim_ges_C',\n",
       "       'adedpe202006_logtype_classe_estim_ges_D',\n",
       "       'adedpe202006_logtype_classe_estim_ges_E',\n",
       "       'adedpe202006_logtype_classe_estim_ges_F',\n",
       "       'adedpe202006_logtype_classe_estim_ges_N',\n",
       "       'adedpe202006_logtype_traversant_Unknown',\n",
       "       'adedpe202006_logtype_traversant_non traversant',\n",
       "       'adedpe202006_logtype_traversant_traversant nord sud (faible)',\n",
       "       'adedpe202006_logtype_ecs_type_ener_electricite',\n",
       "       'adedpe202006_logtype_ecs_type_ener_gaz',\n",
       "       'adedpe202006_logtype_ph_pos_isol_ITI',\n",
       "       'adedpe202006_logtype_ph_pos_isol_Unknown',\n",
       "       'adedpe202006_logtype_ph_pos_isol_non isole',\n",
       "       'cerffo2020_annee_construction_<1948'], dtype=object)"
      ]
     },
     "execution_count": 27,
     "metadata": {},
     "output_type": "execute_result"
    }
   ],
   "source": [
    "H"
   ]
  },
  {
   "cell_type": "code",
   "execution_count": 28,
   "id": "e039dded",
   "metadata": {},
   "outputs": [
    {
     "data": {
      "text/plain": [
       "0                                            valeurfonc\n",
       "1                                            l_codinsee\n",
       "2                                              nblocdep\n",
       "3                                               scarrez\n",
       "4                                   anarnc202012_nb_log\n",
       "5                           anarnc202012_nb_lot_garpark\n",
       "6                         anarnc202012_nb_lot_tertiaire\n",
       "7                               anarnc202012_nb_lot_tot\n",
       "8                                   ancqpv201410_is_qpv\n",
       "9                                     cerffo2020_nb_log\n",
       "10                             igntop202103_bat_hauteur\n",
       "11                                  mcumer202007_is_mer\n",
       "12                                 baie_orientation_sud\n",
       "13                                baie_orientation_nord\n",
       "14                               baie_orientation_ouest\n",
       "15                                 baie_orientation_est\n",
       "16                                   Commerces_bruyants\n",
       "17                                             anneemut\n",
       "18                                       surface_appart\n",
       "19                                              nblot_1\n",
       "20                                              nblot_2\n",
       "21                                              nblot_3\n",
       "22                                       Type appart_2P\n",
       "23                                       Type appart_3P\n",
       "24    adedpe202006_logtype_baie_type_vitrage_double ...\n",
       "25    adedpe202006_logtype_baie_type_vitrage_simple ...\n",
       "26    adedpe202006_logtype_ch_gen_lib_princ_chaudier...\n",
       "27    adedpe202006_logtype_ch_gen_lib_princ_chaudier...\n",
       "28    adedpe202006_logtype_ch_gen_lib_princ_generate...\n",
       "29             adedpe202006_logtype_classe_conso_ener_C\n",
       "30             adedpe202006_logtype_classe_conso_ener_D\n",
       "31             adedpe202006_logtype_classe_conso_ener_E\n",
       "32             adedpe202006_logtype_classe_conso_ener_F\n",
       "33             adedpe202006_logtype_classe_conso_ener_G\n",
       "34              adedpe202006_logtype_classe_estim_ges_A\n",
       "35              adedpe202006_logtype_classe_estim_ges_B\n",
       "36              adedpe202006_logtype_classe_estim_ges_C\n",
       "37              adedpe202006_logtype_classe_estim_ges_D\n",
       "38              adedpe202006_logtype_classe_estim_ges_E\n",
       "39              adedpe202006_logtype_classe_estim_ges_F\n",
       "Name: 0, dtype: object"
      ]
     },
     "execution_count": 28,
     "metadata": {},
     "output_type": "execute_result"
    }
   ],
   "source": [
    "#variables conservées\n",
    "pd.DataFrame(H)[0].head(40)"
   ]
  },
  {
   "cell_type": "code",
   "execution_count": null,
   "id": "b7499a91",
   "metadata": {},
   "outputs": [],
   "source": []
  },
  {
   "cell_type": "code",
   "execution_count": 29,
   "id": "eec269f0",
   "metadata": {},
   "outputs": [],
   "source": [
    "# Sélection des variables par SelectFromModel\n",
    "# L'idée est qu'un paramètre de régularisation, noté  λ  ou  α  permet de contracter les valeurs des coefficients \n",
    "# associés à chaque variable. \n",
    "# Nous allons utiliser les coefficients renvoyés par ces algorithmes, et conserver seulement les features \n",
    "# dont les coefficients sont supérieurs à une valeur seuil."
   ]
  },
  {
   "cell_type": "code",
   "execution_count": 30,
   "id": "2b22a52c",
   "metadata": {},
   "outputs": [],
   "source": [
    "from sklearn.feature_selection import SelectFromModel\n",
    "from sklearn.ensemble import RandomForestClassifier\n",
    "selector=SelectFromModel(RandomForestClassifier(), threshold=\"mean\")"
   ]
  },
  {
   "cell_type": "code",
   "execution_count": 31,
   "id": "b93d18e4",
   "metadata": {},
   "outputs": [
    {
     "data": {
      "text/plain": [
       "SelectFromModel(estimator=RandomForestClassifier(), threshold='mean')"
      ]
     },
     "execution_count": 31,
     "metadata": {},
     "output_type": "execute_result"
    }
   ],
   "source": [
    "selector.fit(X_train, y_train)"
   ]
  },
  {
   "cell_type": "code",
   "execution_count": 32,
   "id": "ccbcdce0",
   "metadata": {},
   "outputs": [
    {
     "data": {
      "text/plain": [
       "array([ True,  True,  True,  True,  True,  True,  True,  True, False,\n",
       "       False,  True,  True, False, False, False, False, False, False,\n",
       "        True,  True,  True, False, False,  True,  True, False, False,\n",
       "       False, False, False, False, False, False, False, False, False,\n",
       "       False, False, False, False, False, False, False, False, False,\n",
       "       False, False, False, False, False, False, False, False, False,\n",
       "       False, False, False, False, False, False, False, False, False,\n",
       "       False, False, False, False, False, False, False, False, False,\n",
       "       False, False, False, False, False, False, False, False, False,\n",
       "       False, False, False, False, False, False, False, False, False,\n",
       "       False, False, False, False,  True, False, False, False, False,\n",
       "       False, False, False, False, False, False, False, False, False,\n",
       "       False, False, False])"
      ]
     },
     "execution_count": 32,
     "metadata": {},
     "output_type": "execute_result"
    }
   ],
   "source": [
    "#identification des variables sélectionnées\n",
    "selector.get_support()"
   ]
  },
  {
   "cell_type": "code",
   "execution_count": 33,
   "id": "6b3bd935",
   "metadata": {},
   "outputs": [],
   "source": [
    "H=np.array(X_train.columns)[selector.get_support()]"
   ]
  },
  {
   "cell_type": "code",
   "execution_count": 34,
   "id": "32478a68",
   "metadata": {},
   "outputs": [
    {
     "data": {
      "text/plain": [
       "0                                     valeurfonc\n",
       "1                                     l_codinsee\n",
       "2                                       nblocdep\n",
       "3                                        scarrez\n",
       "4                            anarnc202012_nb_log\n",
       "5                    anarnc202012_nb_lot_garpark\n",
       "6                  anarnc202012_nb_lot_tertiaire\n",
       "7                        anarnc202012_nb_lot_tot\n",
       "8                              cerffo2020_nb_log\n",
       "9                       igntop202103_bat_hauteur\n",
       "10                            Commerces_bruyants\n",
       "11                                      anneemut\n",
       "12                                surface_appart\n",
       "13                                       nblot_1\n",
       "14                                       nblot_2\n",
       "15    adedpe202006_logtype_ph_pos_isol_non isole\n",
       "Name: 0, dtype: object"
      ]
     },
     "execution_count": 34,
     "metadata": {},
     "output_type": "execute_result"
    }
   ],
   "source": [
    "pd.DataFrame(H)[0].head(40)"
   ]
  },
  {
   "cell_type": "code",
   "execution_count": null,
   "id": "de20a2e6",
   "metadata": {},
   "outputs": [],
   "source": []
  },
  {
   "cell_type": "code",
   "execution_count": 35,
   "id": "5b4f1cd2",
   "metadata": {},
   "outputs": [],
   "source": [
    "# Sélection des variables par SELECTKBEST - score_func=f_classif\n",
    "# La méthode de sélection employée ici est la sélection univariée sur la base de information mutuelle pour la régression. \n",
    "# Cette méthode élimine les variables pour lesquelles les valeurs de l’information mutuelle avec la variable de sortie \n",
    "# sont les plus faibles (c’est à dire, qui « expliquent » le moins bien la variable de sortie). "
   ]
  },
  {
   "cell_type": "code",
   "execution_count": 36,
   "id": "2fe24060",
   "metadata": {},
   "outputs": [],
   "source": [
    "from sklearn.feature_selection import SelectKBest, f_classif\n",
    "selector=SelectKBest (f_classif, k=40)"
   ]
  },
  {
   "cell_type": "code",
   "execution_count": 37,
   "id": "a2e55c54",
   "metadata": {},
   "outputs": [
    {
     "data": {
      "text/plain": [
       "SelectKBest(k=40)"
      ]
     },
     "execution_count": 37,
     "metadata": {},
     "output_type": "execute_result"
    }
   ],
   "source": [
    "selector.fit(X_train, y_train)"
   ]
  },
  {
   "cell_type": "code",
   "execution_count": 38,
   "id": "12eadafc",
   "metadata": {},
   "outputs": [
    {
     "data": {
      "text/plain": [
       "array([ True,  True,  True, False,  True,  True,  True,  True, False,\n",
       "        True,  True,  True, False, False,  True, False, False, False,\n",
       "       False,  True, False,  True,  True,  True,  True,  True,  True,\n",
       "        True, False, False, False, False, False,  True,  True, False,\n",
       "       False, False, False, False, False, False, False, False, False,\n",
       "       False, False, False, False, False, False, False,  True, False,\n",
       "       False, False, False,  True, False, False, False, False, False,\n",
       "        True, False, False, False,  True, False, False,  True, False,\n",
       "       False, False,  True,  True, False, False,  True, False, False,\n",
       "       False,  True, False, False,  True,  True, False,  True,  True,\n",
       "       False, False, False,  True,  True, False, False, False, False,\n",
       "       False,  True,  True, False, False, False,  True,  True, False,\n",
       "       False, False, False])"
      ]
     },
     "execution_count": 38,
     "metadata": {},
     "output_type": "execute_result"
    }
   ],
   "source": [
    "# Identification des variables sélectionnées\n",
    "selector.get_support()"
   ]
  },
  {
   "cell_type": "code",
   "execution_count": 39,
   "id": "d3ac3cdf",
   "metadata": {},
   "outputs": [],
   "source": [
    "H=np.array(X_train.columns)[selector.get_support()]"
   ]
  },
  {
   "cell_type": "code",
   "execution_count": 40,
   "id": "6be8d223",
   "metadata": {},
   "outputs": [
    {
     "data": {
      "text/plain": [
       "array(['valeurfonc', 'l_codinsee', 'nblocdep', 'anarnc202012_nb_log',\n",
       "       'anarnc202012_nb_lot_garpark', 'anarnc202012_nb_lot_tertiaire',\n",
       "       'anarnc202012_nb_lot_tot', 'ancqpv201410_is_qpv',\n",
       "       'cerffo2020_nb_log', 'igntop202103_bat_hauteur',\n",
       "       'baie_orientation_nord', 'anneemut', 'libnatmut_Vente',\n",
       "       \"libnatmut_Vente en l'état futur d'achèvement\", 'nblot_1',\n",
       "       'nblot_2', 'nblot_3', 'nblot_4', 'nblot_5', 'Type appart_2P',\n",
       "       'Type appart_3P',\n",
       "       'adedpe202006_logtype_ch_gen_lib_princ_generateurs a effet joule',\n",
       "       'adedpe202006_logtype_ch_gen_lib_princ_reseau de chaleur',\n",
       "       'adedpe202006_logtype_classe_conso_ener_F',\n",
       "       'adedpe202006_logtype_classe_estim_ges_B',\n",
       "       'adedpe202006_logtype_classe_estim_ges_E',\n",
       "       'adedpe202006_logtype_traversant_Unknown',\n",
       "       'adedpe202006_logtype_traversant_non traversant',\n",
       "       'adedpe202006_logtype_traversant_traversant est ouest',\n",
       "       'adedpe202006_logtype_traversant_traversant tout venant',\n",
       "       'adedpe202006_logtype_ecs_type_ener_electricite',\n",
       "       'adedpe202006_logtype_ecs_type_ener_fioul',\n",
       "       'adedpe202006_logtype_ecs_type_ener_reseau de chaleur',\n",
       "       'adedpe202006_logtype_ph_pos_isol_ITE',\n",
       "       'adedpe202006_logtype_ph_pos_isol_isole',\n",
       "       'adedpe202006_logtype_ph_pos_isol_non isole',\n",
       "       'cerffo2020_annee_construction_1949-1970',\n",
       "       'cerffo2020_annee_construction_1970-1988',\n",
       "       'cerffo2020_annee_construction_<1948',\n",
       "       'cerffo2020_annee_construction_>2012'], dtype=object)"
      ]
     },
     "execution_count": 40,
     "metadata": {},
     "output_type": "execute_result"
    }
   ],
   "source": [
    "H"
   ]
  },
  {
   "cell_type": "code",
   "execution_count": 41,
   "id": "035c54cb",
   "metadata": {},
   "outputs": [],
   "source": [
    "# Voir doc Excel Sélection_var pour synthèse"
   ]
  },
  {
   "cell_type": "code",
   "execution_count": null,
   "id": "8af85333",
   "metadata": {},
   "outputs": [],
   "source": []
  }
 ],
 "metadata": {
  "kernelspec": {
   "display_name": "Python 3 (ipykernel)",
   "language": "python",
   "name": "python3"
  },
  "language_info": {
   "codemirror_mode": {
    "name": "ipython",
    "version": 3
   },
   "file_extension": ".py",
   "mimetype": "text/x-python",
   "name": "python",
   "nbconvert_exporter": "python",
   "pygments_lexer": "ipython3",
   "version": "3.9.7"
  }
 },
 "nbformat": 4,
 "nbformat_minor": 5
}
