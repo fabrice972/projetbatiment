{
 "cells": [
  {
   "cell_type": "code",
   "execution_count": 1,
   "id": "d7fa110a",
   "metadata": {},
   "outputs": [],
   "source": [
    "# MODELISATION PAR CLASSIFICATION AVEC VARIABLE CIBLE = REVENTE"
   ]
  },
  {
   "cell_type": "code",
   "execution_count": 2,
   "id": "3e9b7a10",
   "metadata": {},
   "outputs": [],
   "source": [
    "import pandas as pd\n",
    "import numpy as np\n",
    "import matplotlib.pyplot as plt\n",
    "%matplotlib inline "
   ]
  },
  {
   "cell_type": "code",
   "execution_count": 3,
   "id": "3c8ad0d0",
   "metadata": {},
   "outputs": [],
   "source": [
    "df=pd.read_csv(\"df.csv\")"
   ]
  },
  {
   "cell_type": "code",
   "execution_count": 4,
   "id": "34d24633",
   "metadata": {},
   "outputs": [
    {
     "data": {
      "text/html": [
       "<div>\n",
       "<style scoped>\n",
       "    .dataframe tbody tr th:only-of-type {\n",
       "        vertical-align: middle;\n",
       "    }\n",
       "\n",
       "    .dataframe tbody tr th {\n",
       "        vertical-align: top;\n",
       "    }\n",
       "\n",
       "    .dataframe thead th {\n",
       "        text-align: right;\n",
       "    }\n",
       "</style>\n",
       "<table border=\"1\" class=\"dataframe\">\n",
       "  <thead>\n",
       "    <tr style=\"text-align: right;\">\n",
       "      <th></th>\n",
       "      <th>Revente &gt;1</th>\n",
       "      <th>libnatmut</th>\n",
       "      <th>valeurfonc</th>\n",
       "      <th>nblot</th>\n",
       "      <th>l_codinsee</th>\n",
       "      <th>nblocdep</th>\n",
       "      <th>Type appart</th>\n",
       "      <th>scarrez</th>\n",
       "      <th>anarnc202012_nb_log</th>\n",
       "      <th>anarnc202012_nb_lot_garpark</th>\n",
       "      <th>...</th>\n",
       "      <th>baie_orientation_autre</th>\n",
       "      <th>Commerces_bruyants</th>\n",
       "      <th>qty_of_mut</th>\n",
       "      <th>datemut</th>\n",
       "      <th>anneemut</th>\n",
       "      <th>moismut</th>\n",
       "      <th>etaban_lot</th>\n",
       "      <th>cat_valeur</th>\n",
       "      <th>surface_appart</th>\n",
       "      <th>cat_scarrez</th>\n",
       "    </tr>\n",
       "  </thead>\n",
       "  <tbody>\n",
       "    <tr>\n",
       "      <th>0</th>\n",
       "      <td>0</td>\n",
       "      <td>Vente</td>\n",
       "      <td>370000.0</td>\n",
       "      <td>1</td>\n",
       "      <td>75101</td>\n",
       "      <td>1</td>\n",
       "      <td>2P</td>\n",
       "      <td>26.06</td>\n",
       "      <td>158.0</td>\n",
       "      <td>0.0</td>\n",
       "      <td>...</td>\n",
       "      <td>0</td>\n",
       "      <td>1</td>\n",
       "      <td>1</td>\n",
       "      <td>2021-06-04</td>\n",
       "      <td>2021</td>\n",
       "      <td>6</td>\n",
       "      <td>75101_4901_00019_93</td>\n",
       "      <td>Entre 320 &amp; 436k€ €</td>\n",
       "      <td>32</td>\n",
       "      <td>&lt;35 m²</td>\n",
       "    </tr>\n",
       "    <tr>\n",
       "      <th>1</th>\n",
       "      <td>0</td>\n",
       "      <td>Vente</td>\n",
       "      <td>451000.0</td>\n",
       "      <td>1</td>\n",
       "      <td>75117</td>\n",
       "      <td>0</td>\n",
       "      <td>2P</td>\n",
       "      <td>35.53</td>\n",
       "      <td>32.0</td>\n",
       "      <td>0.0</td>\n",
       "      <td>...</td>\n",
       "      <td>0</td>\n",
       "      <td>0</td>\n",
       "      <td>1</td>\n",
       "      <td>2021-03-18</td>\n",
       "      <td>2021</td>\n",
       "      <td>3</td>\n",
       "      <td>75117_5503_00103_24</td>\n",
       "      <td>Entre 436 &amp; 600k€</td>\n",
       "      <td>30</td>\n",
       "      <td>Entre 35 &amp; 47 m²</td>\n",
       "    </tr>\n",
       "    <tr>\n",
       "      <th>2</th>\n",
       "      <td>0</td>\n",
       "      <td>Vente</td>\n",
       "      <td>433000.0</td>\n",
       "      <td>3</td>\n",
       "      <td>75115</td>\n",
       "      <td>1</td>\n",
       "      <td>3P</td>\n",
       "      <td>35.40</td>\n",
       "      <td>50.0</td>\n",
       "      <td>0.0</td>\n",
       "      <td>...</td>\n",
       "      <td>0</td>\n",
       "      <td>0</td>\n",
       "      <td>1</td>\n",
       "      <td>2021-11-12</td>\n",
       "      <td>2021</td>\n",
       "      <td>11</td>\n",
       "      <td>75115_2521_00008_19</td>\n",
       "      <td>Entre 320 &amp; 436k€ €</td>\n",
       "      <td>34</td>\n",
       "      <td>Entre 35 &amp; 47 m²</td>\n",
       "    </tr>\n",
       "    <tr>\n",
       "      <th>3</th>\n",
       "      <td>1</td>\n",
       "      <td>Vente</td>\n",
       "      <td>561076.0</td>\n",
       "      <td>1</td>\n",
       "      <td>75118</td>\n",
       "      <td>0</td>\n",
       "      <td>2P</td>\n",
       "      <td>46.02</td>\n",
       "      <td>29.0</td>\n",
       "      <td>0.0</td>\n",
       "      <td>...</td>\n",
       "      <td>0</td>\n",
       "      <td>1</td>\n",
       "      <td>2</td>\n",
       "      <td>2021-01-08</td>\n",
       "      <td>2021</td>\n",
       "      <td>1</td>\n",
       "      <td>75118_2113_00110_19</td>\n",
       "      <td>Entre 436 &amp; 600k€</td>\n",
       "      <td>50</td>\n",
       "      <td>Entre 35 &amp; 47 m²</td>\n",
       "    </tr>\n",
       "    <tr>\n",
       "      <th>4</th>\n",
       "      <td>1</td>\n",
       "      <td>Vente</td>\n",
       "      <td>375980.0</td>\n",
       "      <td>1</td>\n",
       "      <td>75118</td>\n",
       "      <td>0</td>\n",
       "      <td>2P</td>\n",
       "      <td>45.76</td>\n",
       "      <td>29.0</td>\n",
       "      <td>0.0</td>\n",
       "      <td>...</td>\n",
       "      <td>0</td>\n",
       "      <td>1</td>\n",
       "      <td>2</td>\n",
       "      <td>2016-09-09</td>\n",
       "      <td>2016</td>\n",
       "      <td>9</td>\n",
       "      <td>75118_2113_00110_19</td>\n",
       "      <td>Entre 320 &amp; 436k€ €</td>\n",
       "      <td>50</td>\n",
       "      <td>Entre 35 &amp; 47 m²</td>\n",
       "    </tr>\n",
       "  </tbody>\n",
       "</table>\n",
       "<p>5 rows × 41 columns</p>\n",
       "</div>"
      ],
      "text/plain": [
       "   Revente >1 libnatmut  valeurfonc nblot  l_codinsee  nblocdep Type appart  \\\n",
       "0           0     Vente    370000.0     1       75101         1          2P   \n",
       "1           0     Vente    451000.0     1       75117         0          2P   \n",
       "2           0     Vente    433000.0     3       75115         1          3P   \n",
       "3           1     Vente    561076.0     1       75118         0          2P   \n",
       "4           1     Vente    375980.0     1       75118         0          2P   \n",
       "\n",
       "   scarrez  anarnc202012_nb_log  anarnc202012_nb_lot_garpark  ...  \\\n",
       "0    26.06                158.0                          0.0  ...   \n",
       "1    35.53                 32.0                          0.0  ...   \n",
       "2    35.40                 50.0                          0.0  ...   \n",
       "3    46.02                 29.0                          0.0  ...   \n",
       "4    45.76                 29.0                          0.0  ...   \n",
       "\n",
       "   baie_orientation_autre  Commerces_bruyants qty_of_mut     datemut anneemut  \\\n",
       "0                       0                   1          1  2021-06-04     2021   \n",
       "1                       0                   0          1  2021-03-18     2021   \n",
       "2                       0                   0          1  2021-11-12     2021   \n",
       "3                       0                   1          2  2021-01-08     2021   \n",
       "4                       0                   1          2  2016-09-09     2016   \n",
       "\n",
       "  moismut           etaban_lot           cat_valeur surface_appart  \\\n",
       "0       6  75101_4901_00019_93  Entre 320 & 436k€ €             32   \n",
       "1       3  75117_5503_00103_24    Entre 436 & 600k€             30   \n",
       "2      11  75115_2521_00008_19  Entre 320 & 436k€ €             34   \n",
       "3       1  75118_2113_00110_19    Entre 436 & 600k€             50   \n",
       "4       9  75118_2113_00110_19  Entre 320 & 436k€ €             50   \n",
       "\n",
       "        cat_scarrez  \n",
       "0            <35 m²  \n",
       "1  Entre 35 & 47 m²  \n",
       "2  Entre 35 & 47 m²  \n",
       "3  Entre 35 & 47 m²  \n",
       "4  Entre 35 & 47 m²  \n",
       "\n",
       "[5 rows x 41 columns]"
      ]
     },
     "execution_count": 4,
     "metadata": {},
     "output_type": "execute_result"
    }
   ],
   "source": [
    "df.head()"
   ]
  },
  {
   "cell_type": "code",
   "execution_count": 5,
   "id": "b90c7f52",
   "metadata": {},
   "outputs": [
    {
     "name": "stdout",
     "output_type": "stream",
     "text": [
      "<class 'pandas.core.frame.DataFrame'>\n",
      "RangeIndex: 102577 entries, 0 to 102576\n",
      "Data columns (total 41 columns):\n",
      " #   Column                                       Non-Null Count   Dtype  \n",
      "---  ------                                       --------------   -----  \n",
      " 0   Revente >1                                   102577 non-null  int64  \n",
      " 1   libnatmut                                    102577 non-null  object \n",
      " 2   valeurfonc                                   102577 non-null  float64\n",
      " 3   nblot                                        102577 non-null  object \n",
      " 4   l_codinsee                                   102577 non-null  int64  \n",
      " 5   nblocdep                                     102577 non-null  int64  \n",
      " 6   Type appart                                  102577 non-null  object \n",
      " 7   scarrez                                      102577 non-null  float64\n",
      " 8   anarnc202012_nb_log                          102577 non-null  float64\n",
      " 9   anarnc202012_nb_lot_garpark                  102577 non-null  float64\n",
      " 10  anarnc202012_nb_lot_tertiaire                102577 non-null  float64\n",
      " 11  anarnc202012_nb_lot_tot                      102577 non-null  float64\n",
      " 12  adedpe202006_logtype_baie_type_vitrage       102577 non-null  object \n",
      " 13  adedpe202006_logtype_ch_gen_lib_princ        102577 non-null  object \n",
      " 14  adedpe202006_logtype_classe_conso_ener       102577 non-null  object \n",
      " 15  adedpe202006_logtype_classe_estim_ges        102577 non-null  object \n",
      " 16  adedpe202006_logtype_traversant              102577 non-null  object \n",
      " 17  adedpe202006_logtype_ecs_type_ener           102577 non-null  object \n",
      " 18  adedpe202006_logtype_ph_pos_isol             102577 non-null  object \n",
      " 19  adedpe202006_logtype_presence_climatisation  102577 non-null  float64\n",
      " 20  adedpe202006_logtype_type_batiment           102577 non-null  object \n",
      " 21  ancqpv201410_is_qpv                          102577 non-null  float64\n",
      " 22  cerffo2020_annee_construction                102577 non-null  object \n",
      " 23  cerffo2020_usage_niveau_1_txt                102577 non-null  object \n",
      " 24  cerffo2020_nb_log                            102577 non-null  int64  \n",
      " 25  igntop202103_bat_hauteur                     102577 non-null  float64\n",
      " 26  mcumer202007_is_mer                          102577 non-null  float64\n",
      " 27  baie_orientation_sud                         102577 non-null  int64  \n",
      " 28  baie_orientation_nord                        102577 non-null  int64  \n",
      " 29  baie_orientation_ouest                       102577 non-null  int64  \n",
      " 30  baie_orientation_est                         102577 non-null  int64  \n",
      " 31  baie_orientation_autre                       102577 non-null  int64  \n",
      " 32  Commerces_bruyants                           102577 non-null  int64  \n",
      " 33  qty_of_mut                                   102577 non-null  int64  \n",
      " 34  datemut                                      102577 non-null  object \n",
      " 35  anneemut                                     102577 non-null  int64  \n",
      " 36  moismut                                      102577 non-null  int64  \n",
      " 37  etaban_lot                                   102577 non-null  object \n",
      " 38  cat_valeur                                   102577 non-null  object \n",
      " 39  surface_appart                               102577 non-null  int64  \n",
      " 40  cat_scarrez                                  102577 non-null  object \n",
      "dtypes: float64(10), int64(14), object(17)\n",
      "memory usage: 32.1+ MB\n"
     ]
    }
   ],
   "source": [
    "df.info()"
   ]
  },
  {
   "cell_type": "code",
   "execution_count": 6,
   "id": "26422a75",
   "metadata": {},
   "outputs": [],
   "source": [
    "# suppression des variables qui vont gêner la modélisation :\n",
    "\n",
    "to_drop=([\"datemut\",\n",
    "         \"moismut\",\n",
    "         \"etaban_lot\",\n",
    "         \"cat_valeur\",\n",
    "         \"cat_scarrez\"])\n",
    "df=df.drop(to_drop, axis=1)\n"
   ]
  },
  {
   "cell_type": "code",
   "execution_count": 7,
   "id": "7f8abefe",
   "metadata": {},
   "outputs": [
    {
     "name": "stdout",
     "output_type": "stream",
     "text": [
      "<class 'pandas.core.frame.DataFrame'>\n",
      "RangeIndex: 102577 entries, 0 to 102576\n",
      "Data columns (total 36 columns):\n",
      " #   Column                                       Non-Null Count   Dtype  \n",
      "---  ------                                       --------------   -----  \n",
      " 0   Revente >1                                   102577 non-null  int64  \n",
      " 1   libnatmut                                    102577 non-null  object \n",
      " 2   valeurfonc                                   102577 non-null  float64\n",
      " 3   nblot                                        102577 non-null  object \n",
      " 4   l_codinsee                                   102577 non-null  int64  \n",
      " 5   nblocdep                                     102577 non-null  int64  \n",
      " 6   Type appart                                  102577 non-null  object \n",
      " 7   scarrez                                      102577 non-null  float64\n",
      " 8   anarnc202012_nb_log                          102577 non-null  float64\n",
      " 9   anarnc202012_nb_lot_garpark                  102577 non-null  float64\n",
      " 10  anarnc202012_nb_lot_tertiaire                102577 non-null  float64\n",
      " 11  anarnc202012_nb_lot_tot                      102577 non-null  float64\n",
      " 12  adedpe202006_logtype_baie_type_vitrage       102577 non-null  object \n",
      " 13  adedpe202006_logtype_ch_gen_lib_princ        102577 non-null  object \n",
      " 14  adedpe202006_logtype_classe_conso_ener       102577 non-null  object \n",
      " 15  adedpe202006_logtype_classe_estim_ges        102577 non-null  object \n",
      " 16  adedpe202006_logtype_traversant              102577 non-null  object \n",
      " 17  adedpe202006_logtype_ecs_type_ener           102577 non-null  object \n",
      " 18  adedpe202006_logtype_ph_pos_isol             102577 non-null  object \n",
      " 19  adedpe202006_logtype_presence_climatisation  102577 non-null  float64\n",
      " 20  adedpe202006_logtype_type_batiment           102577 non-null  object \n",
      " 21  ancqpv201410_is_qpv                          102577 non-null  float64\n",
      " 22  cerffo2020_annee_construction                102577 non-null  object \n",
      " 23  cerffo2020_usage_niveau_1_txt                102577 non-null  object \n",
      " 24  cerffo2020_nb_log                            102577 non-null  int64  \n",
      " 25  igntop202103_bat_hauteur                     102577 non-null  float64\n",
      " 26  mcumer202007_is_mer                          102577 non-null  float64\n",
      " 27  baie_orientation_sud                         102577 non-null  int64  \n",
      " 28  baie_orientation_nord                        102577 non-null  int64  \n",
      " 29  baie_orientation_ouest                       102577 non-null  int64  \n",
      " 30  baie_orientation_est                         102577 non-null  int64  \n",
      " 31  baie_orientation_autre                       102577 non-null  int64  \n",
      " 32  Commerces_bruyants                           102577 non-null  int64  \n",
      " 33  qty_of_mut                                   102577 non-null  int64  \n",
      " 34  anneemut                                     102577 non-null  int64  \n",
      " 35  surface_appart                               102577 non-null  int64  \n",
      "dtypes: float64(10), int64(13), object(13)\n",
      "memory usage: 28.2+ MB\n"
     ]
    }
   ],
   "source": [
    "df.info()"
   ]
  },
  {
   "cell_type": "code",
   "execution_count": 8,
   "id": "1123e0fc",
   "metadata": {},
   "outputs": [
    {
     "data": {
      "text/plain": [
       "Revente >1                                     0\n",
       "libnatmut                                      0\n",
       "valeurfonc                                     0\n",
       "nblot                                          0\n",
       "l_codinsee                                     0\n",
       "nblocdep                                       0\n",
       "Type appart                                    0\n",
       "scarrez                                        0\n",
       "anarnc202012_nb_log                            0\n",
       "anarnc202012_nb_lot_garpark                    0\n",
       "anarnc202012_nb_lot_tertiaire                  0\n",
       "anarnc202012_nb_lot_tot                        0\n",
       "adedpe202006_logtype_baie_type_vitrage         0\n",
       "adedpe202006_logtype_ch_gen_lib_princ          0\n",
       "adedpe202006_logtype_classe_conso_ener         0\n",
       "adedpe202006_logtype_classe_estim_ges          0\n",
       "adedpe202006_logtype_traversant                0\n",
       "adedpe202006_logtype_ecs_type_ener             0\n",
       "adedpe202006_logtype_ph_pos_isol               0\n",
       "adedpe202006_logtype_presence_climatisation    0\n",
       "adedpe202006_logtype_type_batiment             0\n",
       "ancqpv201410_is_qpv                            0\n",
       "cerffo2020_annee_construction                  0\n",
       "cerffo2020_usage_niveau_1_txt                  0\n",
       "cerffo2020_nb_log                              0\n",
       "igntop202103_bat_hauteur                       0\n",
       "mcumer202007_is_mer                            0\n",
       "baie_orientation_sud                           0\n",
       "baie_orientation_nord                          0\n",
       "baie_orientation_ouest                         0\n",
       "baie_orientation_est                           0\n",
       "baie_orientation_autre                         0\n",
       "Commerces_bruyants                             0\n",
       "qty_of_mut                                     0\n",
       "anneemut                                       0\n",
       "surface_appart                                 0\n",
       "dtype: int64"
      ]
     },
     "execution_count": 8,
     "metadata": {},
     "output_type": "execute_result"
    }
   ],
   "source": [
    "df.isna().sum()"
   ]
  },
  {
   "cell_type": "code",
   "execution_count": 9,
   "id": "605e07f8",
   "metadata": {},
   "outputs": [],
   "source": [
    "from sklearn.model_selection import train_test_split"
   ]
  },
  {
   "cell_type": "code",
   "execution_count": 10,
   "id": "a6d6c8aa",
   "metadata": {},
   "outputs": [],
   "source": [
    "# On va garder \"Revente>1\" comme variable cible. Suppression de \"Qty of mut\"\n",
    "df=df.drop(\"qty_of_mut\", axis=1)"
   ]
  },
  {
   "cell_type": "code",
   "execution_count": 11,
   "id": "2e368c7b",
   "metadata": {},
   "outputs": [
    {
     "data": {
      "text/plain": [
       "((102577, 34), (102577,))"
      ]
     },
     "execution_count": 11,
     "metadata": {},
     "output_type": "execute_result"
    }
   ],
   "source": [
    "#Features / Target\n",
    "\n",
    "X=df.drop(\"Revente >1\", axis=1)\n",
    "y=df[\"Revente >1\"]\n",
    "\n",
    "X.shape, y.shape"
   ]
  },
  {
   "cell_type": "code",
   "execution_count": 12,
   "id": "4b0136b1",
   "metadata": {},
   "outputs": [
    {
     "data": {
      "text/plain": [
       "['valeurfonc',\n",
       " 'l_codinsee',\n",
       " 'nblocdep',\n",
       " 'scarrez',\n",
       " 'anarnc202012_nb_log',\n",
       " 'anarnc202012_nb_lot_garpark',\n",
       " 'anarnc202012_nb_lot_tertiaire',\n",
       " 'anarnc202012_nb_lot_tot',\n",
       " 'adedpe202006_logtype_presence_climatisation',\n",
       " 'ancqpv201410_is_qpv',\n",
       " 'cerffo2020_nb_log',\n",
       " 'igntop202103_bat_hauteur',\n",
       " 'mcumer202007_is_mer',\n",
       " 'baie_orientation_sud',\n",
       " 'baie_orientation_nord',\n",
       " 'baie_orientation_ouest',\n",
       " 'baie_orientation_est',\n",
       " 'baie_orientation_autre',\n",
       " 'Commerces_bruyants',\n",
       " 'anneemut',\n",
       " 'surface_appart']"
      ]
     },
     "execution_count": 12,
     "metadata": {},
     "output_type": "execute_result"
    }
   ],
   "source": [
    "numeric_columns=X.select_dtypes(include=np.number).columns.tolist()\n",
    "numeric_columns"
   ]
  },
  {
   "cell_type": "code",
   "execution_count": 13,
   "id": "5f7b4da6",
   "metadata": {},
   "outputs": [
    {
     "data": {
      "text/plain": [
       "['libnatmut',\n",
       " 'nblot',\n",
       " 'Type appart',\n",
       " 'adedpe202006_logtype_baie_type_vitrage',\n",
       " 'adedpe202006_logtype_ch_gen_lib_princ',\n",
       " 'adedpe202006_logtype_classe_conso_ener',\n",
       " 'adedpe202006_logtype_classe_estim_ges',\n",
       " 'adedpe202006_logtype_traversant',\n",
       " 'adedpe202006_logtype_ecs_type_ener',\n",
       " 'adedpe202006_logtype_ph_pos_isol',\n",
       " 'adedpe202006_logtype_type_batiment',\n",
       " 'cerffo2020_annee_construction',\n",
       " 'cerffo2020_usage_niveau_1_txt']"
      ]
     },
     "execution_count": 13,
     "metadata": {},
     "output_type": "execute_result"
    }
   ],
   "source": [
    "object_columns=X.select_dtypes(include='object').columns.tolist()\n",
    "object_columns"
   ]
  },
  {
   "cell_type": "code",
   "execution_count": 14,
   "id": "045f0fe1",
   "metadata": {},
   "outputs": [
    {
     "data": {
      "text/plain": [
       "((76932, 34), (25645, 34))"
      ]
     },
     "execution_count": 14,
     "metadata": {},
     "output_type": "execute_result"
    }
   ],
   "source": [
    "X_train, X_test, y_train, y_test=train_test_split(X,y, test_size=0.25, random_state=10)\n",
    "X_train.shape, X_test.shape"
   ]
  },
  {
   "cell_type": "code",
   "execution_count": 15,
   "id": "20fc9967",
   "metadata": {},
   "outputs": [],
   "source": [
    "#ENCODAGE DES DONNEES CATEGORIELLES"
   ]
  },
  {
   "cell_type": "code",
   "execution_count": 16,
   "id": "00bdf080",
   "metadata": {},
   "outputs": [],
   "source": [
    "X_train=pd.get_dummies(X_train)"
   ]
  },
  {
   "cell_type": "code",
   "execution_count": 17,
   "id": "7223a2d4",
   "metadata": {},
   "outputs": [],
   "source": [
    "X_test=pd.get_dummies(X_test)"
   ]
  },
  {
   "cell_type": "code",
   "execution_count": 18,
   "id": "45987674",
   "metadata": {},
   "outputs": [
    {
     "data": {
      "text/plain": [
       "(76932, 111)"
      ]
     },
     "execution_count": 18,
     "metadata": {},
     "output_type": "execute_result"
    }
   ],
   "source": [
    "X_train.shape"
   ]
  },
  {
   "cell_type": "code",
   "execution_count": 19,
   "id": "a7892ca1",
   "metadata": {},
   "outputs": [
    {
     "data": {
      "text/plain": [
       "(25645, 111)"
      ]
     },
     "execution_count": 19,
     "metadata": {},
     "output_type": "execute_result"
    }
   ],
   "source": [
    "X_test.shape"
   ]
  },
  {
   "cell_type": "code",
   "execution_count": 20,
   "id": "b83444d3",
   "metadata": {},
   "outputs": [],
   "source": [
    "# NORMALISATION\n",
    "\n",
    "from sklearn.preprocessing import StandardScaler\n",
    "scaler = StandardScaler()\n",
    "X_train[numeric_columns] = scaler.fit_transform(X_train[numeric_columns])\n",
    "X_test[numeric_columns] = scaler.transform(X_test[numeric_columns])"
   ]
  },
  {
   "cell_type": "code",
   "execution_count": 21,
   "id": "fb88f618",
   "metadata": {},
   "outputs": [],
   "source": [
    "# Restriction du DF aux variables retenues en NB 6 => voir doc Excel Selection_var (onglet n°1)"
   ]
  },
  {
   "cell_type": "code",
   "execution_count": 22,
   "id": "a251dd23",
   "metadata": {},
   "outputs": [],
   "source": [
    "selec_var=[ \"libnatmut_Vente en l'état futur d'achèvement\",\n",
    " 'adedpe202006_logtype_baie_type_vitrage_double vitrage',\n",
    " 'adedpe202006_logtype_baie_type_vitrage_simple vitrage',\n",
    " 'adedpe202006_logtype_ch_gen_lib_princ_chaudiere gaz condensation',\n",
    " 'adedpe202006_logtype_ch_gen_lib_princ_chaudiere gaz standard',\n",
    " 'adedpe202006_logtype_ch_gen_lib_princ_generateurs a effet joule',\n",
    " 'adedpe202006_logtype_ch_gen_lib_princ_reseau de chaleur',\n",
    " 'adedpe202006_logtype_classe_conso_ener_C',\n",
    " 'adedpe202006_logtype_classe_conso_ener_D',\n",
    " 'adedpe202006_logtype_classe_conso_ener_E',\n",
    " 'adedpe202006_logtype_classe_conso_ener_F',\n",
    " 'adedpe202006_logtype_classe_conso_ener_G',\n",
    " 'adedpe202006_logtype_classe_estim_ges_B',\n",
    " 'adedpe202006_logtype_classe_estim_ges_C',\n",
    " 'adedpe202006_logtype_classe_estim_ges_D',\n",
    " 'adedpe202006_logtype_classe_estim_ges_E',\n",
    " 'adedpe202006_logtype_classe_estim_ges_F',\n",
    " 'adedpe202006_logtype_ecs_type_ener_electricite',\n",
    " 'adedpe202006_logtype_ecs_type_ener_fioul',\n",
    " 'adedpe202006_logtype_ecs_type_ener_reseau de chaleur',\n",
    " 'adedpe202006_logtype_ph_pos_isol_non isole',\n",
    " 'adedpe202006_logtype_presence_climatisation',\n",
    " 'adedpe202006_logtype_traversant_non traversant',\n",
    " 'adedpe202006_logtype_traversant_traversant est ouest',\n",
    " 'adedpe202006_logtype_traversant_traversant tout venant',\n",
    " 'adedpe202006_logtype_traversant_Unknown',\n",
    " 'anarnc202012_nb_log',\n",
    " 'anarnc202012_nb_lot_garpark',\n",
    " 'anarnc202012_nb_lot_tertiaire',\n",
    " 'anarnc202012_nb_lot_tot',\n",
    " 'ancqpv201410_is_qpv',\n",
    " 'anneemut',\n",
    " 'cerffo2020_annee_construction_<1948',\n",
    " 'cerffo2020_annee_construction_1949-1970',\n",
    " 'cerffo2020_annee_construction_1970-1988',\n",
    " 'cerffo2020_nb_log',\n",
    " 'igntop202103_bat_hauteur',\n",
    " 'l_codinsee',\n",
    " 'libnatmut_Vente',\n",
    " 'mcumer202007_is_mer',\n",
    " 'nblocdep',\n",
    " 'nblot_1',\n",
    " 'nblot_2',\n",
    " 'nblot_3',\n",
    " 'nblot_4',\n",
    " 'nblot_5',\n",
    " 'scarrez',\n",
    " 'surface_appart',\n",
    " 'Type appart_2P',\n",
    " 'Type appart_3P',\n",
    "'valeurfonc',\n",
    "\"baie_orientation_est\",\n",
    "\"baie_orientation_nord\",\n",
    "\"baie_orientation_ouest\",\n",
    "\"baie_orientation_sud\",\n",
    "\"Commerces_bruyants\"]\n"
   ]
  },
  {
   "cell_type": "code",
   "execution_count": 23,
   "id": "5b7a3a44",
   "metadata": {},
   "outputs": [],
   "source": [
    "X_train=X_train[selec_var]\n",
    "X_test=X_test[selec_var]"
   ]
  },
  {
   "cell_type": "code",
   "execution_count": 24,
   "id": "baf1855f",
   "metadata": {},
   "outputs": [
    {
     "data": {
      "text/plain": [
       "(76932, 56)"
      ]
     },
     "execution_count": 24,
     "metadata": {},
     "output_type": "execute_result"
    }
   ],
   "source": [
    "X_train.shape"
   ]
  },
  {
   "cell_type": "code",
   "execution_count": 25,
   "id": "19356942",
   "metadata": {},
   "outputs": [
    {
     "data": {
      "text/plain": [
       "(25645, 56)"
      ]
     },
     "execution_count": 25,
     "metadata": {},
     "output_type": "execute_result"
    }
   ],
   "source": [
    "X_test.shape"
   ]
  },
  {
   "cell_type": "code",
   "execution_count": 26,
   "id": "1be4ad5c",
   "metadata": {},
   "outputs": [
    {
     "data": {
      "text/plain": [
       "(76932,)"
      ]
     },
     "execution_count": 26,
     "metadata": {},
     "output_type": "execute_result"
    }
   ],
   "source": [
    "y_train.shape"
   ]
  },
  {
   "cell_type": "code",
   "execution_count": 27,
   "id": "0fc0465c",
   "metadata": {},
   "outputs": [
    {
     "data": {
      "text/plain": [
       "(25645,)"
      ]
     },
     "execution_count": 27,
     "metadata": {},
     "output_type": "execute_result"
    }
   ],
   "source": [
    "y_test.shape"
   ]
  },
  {
   "cell_type": "code",
   "execution_count": 28,
   "id": "523710bb",
   "metadata": {},
   "outputs": [
    {
     "data": {
      "text/plain": [
       "0    62503\n",
       "1    14429\n",
       "Name: Revente >1, dtype: int64"
      ]
     },
     "execution_count": 28,
     "metadata": {},
     "output_type": "execute_result"
    }
   ],
   "source": [
    "y_train.value_counts()"
   ]
  },
  {
   "cell_type": "code",
   "execution_count": 29,
   "id": "8644f2c7",
   "metadata": {},
   "outputs": [],
   "source": [
    "# Utilisation de la carte Scikit Learn pour choix modèle de classification\n",
    "# https://scikit-learn.org/stable/tutorial/machine_learning_map/index.html\n",
    "# Mettre screen shot de la carte dans le rapport "
   ]
  },
  {
   "cell_type": "code",
   "execution_count": 30,
   "id": "c0404598",
   "metadata": {},
   "outputs": [],
   "source": [
    "from sklearn.metrics import confusion_matrix\n",
    "from sklearn.metrics import classification_report"
   ]
  },
  {
   "cell_type": "code",
   "execution_count": 31,
   "id": "319af63f",
   "metadata": {},
   "outputs": [
    {
     "name": "stderr",
     "output_type": "stream",
     "text": [
      "C:\\Users\\Anne\\anaconda3\\lib\\site-packages\\sklearn\\svm\\_base.py:985: ConvergenceWarning: Liblinear failed to converge, increase the number of iterations.\n",
      "  warnings.warn(\"Liblinear failed to converge, increase \"\n"
     ]
    },
    {
     "data": {
      "text/plain": [
       "0.8119711444726068"
      ]
     },
     "execution_count": 31,
     "metadata": {},
     "output_type": "execute_result"
    }
   ],
   "source": [
    "# Premier modèle : https://scikit-learn.org/stable/modules/generated/sklearn.svm.LinearSVC.html\n",
    "\n",
    "from sklearn.svm import LinearSVC\n",
    "\n",
    "model1=LinearSVC()\n",
    "model1.fit(X_train, y_train)\n",
    "model1.score(X_test, y_test)\n"
   ]
  },
  {
   "cell_type": "code",
   "execution_count": 32,
   "id": "02ce1edb",
   "metadata": {},
   "outputs": [
    {
     "data": {
      "text/html": [
       "<div>\n",
       "<style scoped>\n",
       "    .dataframe tbody tr th:only-of-type {\n",
       "        vertical-align: middle;\n",
       "    }\n",
       "\n",
       "    .dataframe tbody tr th {\n",
       "        vertical-align: top;\n",
       "    }\n",
       "\n",
       "    .dataframe thead th {\n",
       "        text-align: right;\n",
       "    }\n",
       "</style>\n",
       "<table border=\"1\" class=\"dataframe\">\n",
       "  <thead>\n",
       "    <tr style=\"text-align: right;\">\n",
       "      <th>col_0</th>\n",
       "      <th>0</th>\n",
       "    </tr>\n",
       "    <tr>\n",
       "      <th>Revente &gt;1</th>\n",
       "      <th></th>\n",
       "    </tr>\n",
       "  </thead>\n",
       "  <tbody>\n",
       "    <tr>\n",
       "      <th>0</th>\n",
       "      <td>20823</td>\n",
       "    </tr>\n",
       "    <tr>\n",
       "      <th>1</th>\n",
       "      <td>4822</td>\n",
       "    </tr>\n",
       "  </tbody>\n",
       "</table>\n",
       "</div>"
      ],
      "text/plain": [
       "col_0           0\n",
       "Revente >1       \n",
       "0           20823\n",
       "1            4822"
      ]
     },
     "execution_count": 32,
     "metadata": {},
     "output_type": "execute_result"
    }
   ],
   "source": [
    "y_pred_1=model1.predict(X_test)\n",
    "pd.crosstab(y_test, y_pred_1)\n"
   ]
  },
  {
   "cell_type": "code",
   "execution_count": 33,
   "id": "5d234f8a",
   "metadata": {},
   "outputs": [
    {
     "name": "stdout",
     "output_type": "stream",
     "text": [
      "              precision    recall  f1-score   support\n",
      "\n",
      "           0       0.81      1.00      0.90     20823\n",
      "           1       0.00      0.00      0.00      4822\n",
      "\n",
      "    accuracy                           0.81     25645\n",
      "   macro avg       0.41      0.50      0.45     25645\n",
      "weighted avg       0.66      0.81      0.73     25645\n",
      "\n"
     ]
    },
    {
     "name": "stderr",
     "output_type": "stream",
     "text": [
      "C:\\Users\\Anne\\anaconda3\\lib\\site-packages\\sklearn\\metrics\\_classification.py:1248: UndefinedMetricWarning: Precision and F-score are ill-defined and being set to 0.0 in labels with no predicted samples. Use `zero_division` parameter to control this behavior.\n",
      "  _warn_prf(average, modifier, msg_start, len(result))\n",
      "C:\\Users\\Anne\\anaconda3\\lib\\site-packages\\sklearn\\metrics\\_classification.py:1248: UndefinedMetricWarning: Precision and F-score are ill-defined and being set to 0.0 in labels with no predicted samples. Use `zero_division` parameter to control this behavior.\n",
      "  _warn_prf(average, modifier, msg_start, len(result))\n",
      "C:\\Users\\Anne\\anaconda3\\lib\\site-packages\\sklearn\\metrics\\_classification.py:1248: UndefinedMetricWarning: Precision and F-score are ill-defined and being set to 0.0 in labels with no predicted samples. Use `zero_division` parameter to control this behavior.\n",
      "  _warn_prf(average, modifier, msg_start, len(result))\n"
     ]
    }
   ],
   "source": [
    "print(classification_report(y_test, y_pred_1))"
   ]
  },
  {
   "cell_type": "code",
   "execution_count": 34,
   "id": "9e9f91a9",
   "metadata": {},
   "outputs": [
    {
     "data": {
      "text/plain": [
       "0.7839734841099629"
      ]
     },
     "execution_count": 34,
     "metadata": {},
     "output_type": "execute_result"
    }
   ],
   "source": [
    "# Deuxième modèle : https://scikit-learn.org/stable/modules/generated/sklearn.neighbors.KNeighborsClassifier.html\n",
    "\n",
    "from sklearn.neighbors import KNeighborsClassifier\n",
    "\n",
    "model2=KNeighborsClassifier()\n",
    "model2.fit(X_train, y_train)\n",
    "model2.score(X_test, y_test)\n"
   ]
  },
  {
   "cell_type": "code",
   "execution_count": 35,
   "id": "f46644b9",
   "metadata": {},
   "outputs": [
    {
     "data": {
      "text/html": [
       "<div>\n",
       "<style scoped>\n",
       "    .dataframe tbody tr th:only-of-type {\n",
       "        vertical-align: middle;\n",
       "    }\n",
       "\n",
       "    .dataframe tbody tr th {\n",
       "        vertical-align: top;\n",
       "    }\n",
       "\n",
       "    .dataframe thead th {\n",
       "        text-align: right;\n",
       "    }\n",
       "</style>\n",
       "<table border=\"1\" class=\"dataframe\">\n",
       "  <thead>\n",
       "    <tr style=\"text-align: right;\">\n",
       "      <th>col_0</th>\n",
       "      <th>0</th>\n",
       "      <th>1</th>\n",
       "    </tr>\n",
       "    <tr>\n",
       "      <th>Revente &gt;1</th>\n",
       "      <th></th>\n",
       "      <th></th>\n",
       "    </tr>\n",
       "  </thead>\n",
       "  <tbody>\n",
       "    <tr>\n",
       "      <th>0</th>\n",
       "      <td>19528</td>\n",
       "      <td>1295</td>\n",
       "    </tr>\n",
       "    <tr>\n",
       "      <th>1</th>\n",
       "      <td>4245</td>\n",
       "      <td>577</td>\n",
       "    </tr>\n",
       "  </tbody>\n",
       "</table>\n",
       "</div>"
      ],
      "text/plain": [
       "col_0           0     1\n",
       "Revente >1             \n",
       "0           19528  1295\n",
       "1            4245   577"
      ]
     },
     "execution_count": 35,
     "metadata": {},
     "output_type": "execute_result"
    }
   ],
   "source": [
    "y_pred_2=model2.predict(X_test)\n",
    "pd.crosstab(y_test, y_pred_2)\n"
   ]
  },
  {
   "cell_type": "code",
   "execution_count": 36,
   "id": "cdee1bdc",
   "metadata": {},
   "outputs": [
    {
     "name": "stdout",
     "output_type": "stream",
     "text": [
      "              precision    recall  f1-score   support\n",
      "\n",
      "           0       0.82      0.94      0.88     20823\n",
      "           1       0.31      0.12      0.17      4822\n",
      "\n",
      "    accuracy                           0.78     25645\n",
      "   macro avg       0.56      0.53      0.52     25645\n",
      "weighted avg       0.72      0.78      0.74     25645\n",
      "\n"
     ]
    }
   ],
   "source": [
    "print(classification_report(y_test, y_pred_2))"
   ]
  },
  {
   "cell_type": "code",
   "execution_count": 37,
   "id": "057dca9e",
   "metadata": {},
   "outputs": [
    {
     "data": {
      "text/plain": [
       "0.8134529147982063"
      ]
     },
     "execution_count": 37,
     "metadata": {},
     "output_type": "execute_result"
    }
   ],
   "source": [
    "# Troisème modèle : https://scikit-learn.org/stable/modules/generated/sklearn.ensemble.RandomForestClassifier.html\n",
    "\n",
    "from sklearn.ensemble import RandomForestClassifier\n",
    "\n",
    "model3=RandomForestClassifier()\n",
    "model3.fit(X_train, y_train)\n",
    "model3.score(X_test, y_test)\n"
   ]
  },
  {
   "cell_type": "code",
   "execution_count": 38,
   "id": "4c5df935",
   "metadata": {},
   "outputs": [
    {
     "data": {
      "text/html": [
       "<div>\n",
       "<style scoped>\n",
       "    .dataframe tbody tr th:only-of-type {\n",
       "        vertical-align: middle;\n",
       "    }\n",
       "\n",
       "    .dataframe tbody tr th {\n",
       "        vertical-align: top;\n",
       "    }\n",
       "\n",
       "    .dataframe thead th {\n",
       "        text-align: right;\n",
       "    }\n",
       "</style>\n",
       "<table border=\"1\" class=\"dataframe\">\n",
       "  <thead>\n",
       "    <tr style=\"text-align: right;\">\n",
       "      <th>col_0</th>\n",
       "      <th>0</th>\n",
       "      <th>1</th>\n",
       "    </tr>\n",
       "    <tr>\n",
       "      <th>Revente &gt;1</th>\n",
       "      <th></th>\n",
       "      <th></th>\n",
       "    </tr>\n",
       "  </thead>\n",
       "  <tbody>\n",
       "    <tr>\n",
       "      <th>0</th>\n",
       "      <td>20382</td>\n",
       "      <td>441</td>\n",
       "    </tr>\n",
       "    <tr>\n",
       "      <th>1</th>\n",
       "      <td>4343</td>\n",
       "      <td>479</td>\n",
       "    </tr>\n",
       "  </tbody>\n",
       "</table>\n",
       "</div>"
      ],
      "text/plain": [
       "col_0           0    1\n",
       "Revente >1            \n",
       "0           20382  441\n",
       "1            4343  479"
      ]
     },
     "execution_count": 38,
     "metadata": {},
     "output_type": "execute_result"
    }
   ],
   "source": [
    "y_pred_3=model3.predict(X_test)\n",
    "pd.crosstab(y_test, y_pred_3)\n"
   ]
  },
  {
   "cell_type": "code",
   "execution_count": 39,
   "id": "cf16f383",
   "metadata": {},
   "outputs": [
    {
     "name": "stdout",
     "output_type": "stream",
     "text": [
      "              precision    recall  f1-score   support\n",
      "\n",
      "           0       0.82      0.98      0.89     20823\n",
      "           1       0.52      0.10      0.17      4822\n",
      "\n",
      "    accuracy                           0.81     25645\n",
      "   macro avg       0.67      0.54      0.53     25645\n",
      "weighted avg       0.77      0.81      0.76     25645\n",
      "\n"
     ]
    }
   ],
   "source": [
    "print(classification_report(y_test, y_pred_3))"
   ]
  },
  {
   "cell_type": "code",
   "execution_count": 40,
   "id": "90fbfb61",
   "metadata": {},
   "outputs": [
    {
     "data": {
      "text/plain": [
       "0.8115422109573016"
      ]
     },
     "execution_count": 40,
     "metadata": {},
     "output_type": "execute_result"
    }
   ],
   "source": [
    "# Quatrième modèle : https://scikit-learn.org/stable/modules/generated/sklearn.linear_model.SGDClassifier.html\n",
    "\n",
    "from sklearn.linear_model import SGDClassifier\n",
    "\n",
    "model4=SGDClassifier()\n",
    "model4.fit(X_train, y_train)\n",
    "model4.score(X_test, y_test)\n"
   ]
  },
  {
   "cell_type": "code",
   "execution_count": 41,
   "id": "81e851ef",
   "metadata": {},
   "outputs": [
    {
     "data": {
      "text/html": [
       "<div>\n",
       "<style scoped>\n",
       "    .dataframe tbody tr th:only-of-type {\n",
       "        vertical-align: middle;\n",
       "    }\n",
       "\n",
       "    .dataframe tbody tr th {\n",
       "        vertical-align: top;\n",
       "    }\n",
       "\n",
       "    .dataframe thead th {\n",
       "        text-align: right;\n",
       "    }\n",
       "</style>\n",
       "<table border=\"1\" class=\"dataframe\">\n",
       "  <thead>\n",
       "    <tr style=\"text-align: right;\">\n",
       "      <th>col_0</th>\n",
       "      <th>0</th>\n",
       "      <th>1</th>\n",
       "    </tr>\n",
       "    <tr>\n",
       "      <th>Revente &gt;1</th>\n",
       "      <th></th>\n",
       "      <th></th>\n",
       "    </tr>\n",
       "  </thead>\n",
       "  <tbody>\n",
       "    <tr>\n",
       "      <th>0</th>\n",
       "      <td>20812</td>\n",
       "      <td>11</td>\n",
       "    </tr>\n",
       "    <tr>\n",
       "      <th>1</th>\n",
       "      <td>4822</td>\n",
       "      <td>0</td>\n",
       "    </tr>\n",
       "  </tbody>\n",
       "</table>\n",
       "</div>"
      ],
      "text/plain": [
       "col_0           0   1\n",
       "Revente >1           \n",
       "0           20812  11\n",
       "1            4822   0"
      ]
     },
     "execution_count": 41,
     "metadata": {},
     "output_type": "execute_result"
    }
   ],
   "source": [
    "y_pred_4=model4.predict(X_test)\n",
    "pd.crosstab(y_test, y_pred_4)\n"
   ]
  },
  {
   "cell_type": "code",
   "execution_count": 42,
   "id": "e1298139",
   "metadata": {},
   "outputs": [
    {
     "name": "stdout",
     "output_type": "stream",
     "text": [
      "              precision    recall  f1-score   support\n",
      "\n",
      "           0       0.81      1.00      0.90     20823\n",
      "           1       0.00      0.00      0.00      4822\n",
      "\n",
      "    accuracy                           0.81     25645\n",
      "   macro avg       0.41      0.50      0.45     25645\n",
      "weighted avg       0.66      0.81      0.73     25645\n",
      "\n"
     ]
    }
   ],
   "source": [
    "print(classification_report(y_test, y_pred_4))"
   ]
  },
  {
   "cell_type": "code",
   "execution_count": 43,
   "id": "c5654e46",
   "metadata": {},
   "outputs": [
    {
     "name": "stderr",
     "output_type": "stream",
     "text": [
      "C:\\Users\\Anne\\anaconda3\\lib\\site-packages\\sklearn\\linear_model\\_logistic.py:763: ConvergenceWarning: lbfgs failed to converge (status=1):\n",
      "STOP: TOTAL NO. of ITERATIONS REACHED LIMIT.\n",
      "\n",
      "Increase the number of iterations (max_iter) or scale the data as shown in:\n",
      "    https://scikit-learn.org/stable/modules/preprocessing.html\n",
      "Please also refer to the documentation for alternative solver options:\n",
      "    https://scikit-learn.org/stable/modules/linear_model.html#logistic-regression\n",
      "  n_iter_i = _check_optimize_result(\n"
     ]
    },
    {
     "data": {
      "text/plain": [
       "0.8120881263404173"
      ]
     },
     "execution_count": 43,
     "metadata": {},
     "output_type": "execute_result"
    }
   ],
   "source": [
    "# Cinquième modèle : https://scikit-learn.org/stable/modules/generated/sklearn.linear_model.LogisticRegression.html\n",
    "\n",
    "from sklearn.linear_model import LogisticRegression\n",
    "\n",
    "model5=LogisticRegression()\n",
    "model5.fit(X_train, y_train)\n",
    "model5.score(X_test, y_test)\n"
   ]
  },
  {
   "cell_type": "code",
   "execution_count": 44,
   "id": "3cc1c99c",
   "metadata": {},
   "outputs": [
    {
     "data": {
      "text/html": [
       "<div>\n",
       "<style scoped>\n",
       "    .dataframe tbody tr th:only-of-type {\n",
       "        vertical-align: middle;\n",
       "    }\n",
       "\n",
       "    .dataframe tbody tr th {\n",
       "        vertical-align: top;\n",
       "    }\n",
       "\n",
       "    .dataframe thead th {\n",
       "        text-align: right;\n",
       "    }\n",
       "</style>\n",
       "<table border=\"1\" class=\"dataframe\">\n",
       "  <thead>\n",
       "    <tr style=\"text-align: right;\">\n",
       "      <th>col_0</th>\n",
       "      <th>0</th>\n",
       "      <th>1</th>\n",
       "    </tr>\n",
       "    <tr>\n",
       "      <th>Revente &gt;1</th>\n",
       "      <th></th>\n",
       "      <th></th>\n",
       "    </tr>\n",
       "  </thead>\n",
       "  <tbody>\n",
       "    <tr>\n",
       "      <th>0</th>\n",
       "      <td>20823</td>\n",
       "      <td>0</td>\n",
       "    </tr>\n",
       "    <tr>\n",
       "      <th>1</th>\n",
       "      <td>4819</td>\n",
       "      <td>3</td>\n",
       "    </tr>\n",
       "  </tbody>\n",
       "</table>\n",
       "</div>"
      ],
      "text/plain": [
       "col_0           0  1\n",
       "Revente >1          \n",
       "0           20823  0\n",
       "1            4819  3"
      ]
     },
     "execution_count": 44,
     "metadata": {},
     "output_type": "execute_result"
    }
   ],
   "source": [
    "y_pred_5=model5.predict(X_test)\n",
    "pd.crosstab(y_test, y_pred_5)\n"
   ]
  },
  {
   "cell_type": "code",
   "execution_count": 45,
   "id": "0ed80119",
   "metadata": {},
   "outputs": [
    {
     "name": "stdout",
     "output_type": "stream",
     "text": [
      "              precision    recall  f1-score   support\n",
      "\n",
      "           0       0.81      1.00      0.90     20823\n",
      "           1       1.00      0.00      0.00      4822\n",
      "\n",
      "    accuracy                           0.81     25645\n",
      "   macro avg       0.91      0.50      0.45     25645\n",
      "weighted avg       0.85      0.81      0.73     25645\n",
      "\n"
     ]
    }
   ],
   "source": [
    "print(classification_report(y_test, y_pred_5))"
   ]
  },
  {
   "cell_type": "code",
   "execution_count": 46,
   "id": "5a198829",
   "metadata": {},
   "outputs": [],
   "source": [
    "# Sixième modèle : https://scikit-learn.org/stable/modules/generated/sklearn.svm.SVC.html\n",
    "\n",
    "# Trop long... Je suspends\n",
    "\n",
    "#from sklearn.svm import SVC\n",
    "\n",
    "#model6=SVC(kernel=\"linear\")\n",
    "#model6.fit(X_train, y_train)\n",
    "#model6.score(X_test, y_test)\n"
   ]
  },
  {
   "cell_type": "code",
   "execution_count": 47,
   "id": "33fcba21",
   "metadata": {},
   "outputs": [],
   "source": [
    "#y_pred_6=model6.predict(X_test)\n",
    "#pd.crosstab(y_test, y_pred_6)\n"
   ]
  },
  {
   "cell_type": "code",
   "execution_count": 48,
   "id": "f432d392",
   "metadata": {},
   "outputs": [],
   "source": [
    "#print(classification_report(y_test, y_pred_6))"
   ]
  },
  {
   "cell_type": "code",
   "execution_count": 49,
   "id": "c02a8637",
   "metadata": {},
   "outputs": [
    {
     "data": {
      "text/plain": [
       "0.708130239812829"
      ]
     },
     "execution_count": 49,
     "metadata": {},
     "output_type": "execute_result"
    }
   ],
   "source": [
    "# Septième modèle : https://scikit-learn.org/stable/modules/generated/sklearn.tree.DecisionTreeClassifier.html\n",
    "\n",
    "from sklearn.tree import DecisionTreeClassifier\n",
    "\n",
    "model7=DecisionTreeClassifier()\n",
    "model7.fit(X_train, y_train)\n",
    "model7.score(X_test, y_test)\n"
   ]
  },
  {
   "cell_type": "code",
   "execution_count": 50,
   "id": "f4d51f74",
   "metadata": {},
   "outputs": [
    {
     "data": {
      "text/html": [
       "<div>\n",
       "<style scoped>\n",
       "    .dataframe tbody tr th:only-of-type {\n",
       "        vertical-align: middle;\n",
       "    }\n",
       "\n",
       "    .dataframe tbody tr th {\n",
       "        vertical-align: top;\n",
       "    }\n",
       "\n",
       "    .dataframe thead th {\n",
       "        text-align: right;\n",
       "    }\n",
       "</style>\n",
       "<table border=\"1\" class=\"dataframe\">\n",
       "  <thead>\n",
       "    <tr style=\"text-align: right;\">\n",
       "      <th>col_0</th>\n",
       "      <th>0</th>\n",
       "      <th>1</th>\n",
       "    </tr>\n",
       "    <tr>\n",
       "      <th>Revente &gt;1</th>\n",
       "      <th></th>\n",
       "      <th></th>\n",
       "    </tr>\n",
       "  </thead>\n",
       "  <tbody>\n",
       "    <tr>\n",
       "      <th>0</th>\n",
       "      <td>16837</td>\n",
       "      <td>3986</td>\n",
       "    </tr>\n",
       "    <tr>\n",
       "      <th>1</th>\n",
       "      <td>3499</td>\n",
       "      <td>1323</td>\n",
       "    </tr>\n",
       "  </tbody>\n",
       "</table>\n",
       "</div>"
      ],
      "text/plain": [
       "col_0           0     1\n",
       "Revente >1             \n",
       "0           16837  3986\n",
       "1            3499  1323"
      ]
     },
     "execution_count": 50,
     "metadata": {},
     "output_type": "execute_result"
    }
   ],
   "source": [
    "y_pred_7=model7.predict(X_test)\n",
    "pd.crosstab(y_test, y_pred_7)\n"
   ]
  },
  {
   "cell_type": "code",
   "execution_count": 51,
   "id": "e039dded",
   "metadata": {},
   "outputs": [
    {
     "name": "stdout",
     "output_type": "stream",
     "text": [
      "              precision    recall  f1-score   support\n",
      "\n",
      "           0       0.83      0.81      0.82     20823\n",
      "           1       0.25      0.27      0.26      4822\n",
      "\n",
      "    accuracy                           0.71     25645\n",
      "   macro avg       0.54      0.54      0.54     25645\n",
      "weighted avg       0.72      0.71      0.71     25645\n",
      "\n"
     ]
    }
   ],
   "source": [
    "print(classification_report(y_test, y_pred_7))"
   ]
  },
  {
   "cell_type": "code",
   "execution_count": 52,
   "id": "eda128d0",
   "metadata": {},
   "outputs": [],
   "source": [
    "# Récapitulatif et commentaires des scores dans le doc excel  : \"Compar_scores\"\n",
    "# Le meilleur score est obtenu pour le modèle de DecisionTreeClassifier. \n",
    "# Nous allons donc essayer d'optimiser ce modèle :"
   ]
  },
  {
   "cell_type": "code",
   "execution_count": 53,
   "id": "6de3a65e",
   "metadata": {},
   "outputs": [],
   "source": [
    "# Gridsearch\n",
    "\n",
    "from sklearn.model_selection import GridSearchCV"
   ]
  },
  {
   "cell_type": "code",
   "execution_count": 54,
   "id": "e6ebed60",
   "metadata": {},
   "outputs": [],
   "source": [
    "model7=DecisionTreeClassifier(random_state=123)"
   ]
  },
  {
   "cell_type": "code",
   "execution_count": 55,
   "id": "1f3e8b43",
   "metadata": {},
   "outputs": [],
   "source": [
    "params_model7={'criterion': ['gini', 'entropy', \"log_loss\"], \"splitter\" : [\"best\", \"random\"]}"
   ]
  },
  {
   "cell_type": "code",
   "execution_count": 56,
   "id": "c116695e",
   "metadata": {},
   "outputs": [],
   "source": [
    "gridcv = GridSearchCV(estimator=model7, param_grid=params_model7)  "
   ]
  },
  {
   "cell_type": "code",
   "execution_count": 57,
   "id": "a6f31830",
   "metadata": {},
   "outputs": [
    {
     "name": "stderr",
     "output_type": "stream",
     "text": [
      "C:\\Users\\Anne\\anaconda3\\lib\\site-packages\\sklearn\\model_selection\\_validation.py:615: FitFailedWarning: Estimator fit failed. The score on this train-test partition for these parameters will be set to nan. Details: \n",
      "Traceback (most recent call last):\n",
      "  File \"C:\\Users\\Anne\\anaconda3\\lib\\site-packages\\sklearn\\model_selection\\_validation.py\", line 598, in _fit_and_score\n",
      "    estimator.fit(X_train, y_train, **fit_params)\n",
      "  File \"C:\\Users\\Anne\\anaconda3\\lib\\site-packages\\sklearn\\tree\\_classes.py\", line 903, in fit\n",
      "    super().fit(\n",
      "  File \"C:\\Users\\Anne\\anaconda3\\lib\\site-packages\\sklearn\\tree\\_classes.py\", line 348, in fit\n",
      "    criterion = CRITERIA_CLF[self.criterion](self.n_outputs_,\n",
      "KeyError: 'log_loss'\n",
      "\n",
      "  warnings.warn(\"Estimator fit failed. The score on this train-test\"\n",
      "C:\\Users\\Anne\\anaconda3\\lib\\site-packages\\sklearn\\model_selection\\_validation.py:615: FitFailedWarning: Estimator fit failed. The score on this train-test partition for these parameters will be set to nan. Details: \n",
      "Traceback (most recent call last):\n",
      "  File \"C:\\Users\\Anne\\anaconda3\\lib\\site-packages\\sklearn\\model_selection\\_validation.py\", line 598, in _fit_and_score\n",
      "    estimator.fit(X_train, y_train, **fit_params)\n",
      "  File \"C:\\Users\\Anne\\anaconda3\\lib\\site-packages\\sklearn\\tree\\_classes.py\", line 903, in fit\n",
      "    super().fit(\n",
      "  File \"C:\\Users\\Anne\\anaconda3\\lib\\site-packages\\sklearn\\tree\\_classes.py\", line 348, in fit\n",
      "    criterion = CRITERIA_CLF[self.criterion](self.n_outputs_,\n",
      "KeyError: 'log_loss'\n",
      "\n",
      "  warnings.warn(\"Estimator fit failed. The score on this train-test\"\n",
      "C:\\Users\\Anne\\anaconda3\\lib\\site-packages\\sklearn\\model_selection\\_validation.py:615: FitFailedWarning: Estimator fit failed. The score on this train-test partition for these parameters will be set to nan. Details: \n",
      "Traceback (most recent call last):\n",
      "  File \"C:\\Users\\Anne\\anaconda3\\lib\\site-packages\\sklearn\\model_selection\\_validation.py\", line 598, in _fit_and_score\n",
      "    estimator.fit(X_train, y_train, **fit_params)\n",
      "  File \"C:\\Users\\Anne\\anaconda3\\lib\\site-packages\\sklearn\\tree\\_classes.py\", line 903, in fit\n",
      "    super().fit(\n",
      "  File \"C:\\Users\\Anne\\anaconda3\\lib\\site-packages\\sklearn\\tree\\_classes.py\", line 348, in fit\n",
      "    criterion = CRITERIA_CLF[self.criterion](self.n_outputs_,\n",
      "KeyError: 'log_loss'\n",
      "\n",
      "  warnings.warn(\"Estimator fit failed. The score on this train-test\"\n",
      "C:\\Users\\Anne\\anaconda3\\lib\\site-packages\\sklearn\\model_selection\\_validation.py:615: FitFailedWarning: Estimator fit failed. The score on this train-test partition for these parameters will be set to nan. Details: \n",
      "Traceback (most recent call last):\n",
      "  File \"C:\\Users\\Anne\\anaconda3\\lib\\site-packages\\sklearn\\model_selection\\_validation.py\", line 598, in _fit_and_score\n",
      "    estimator.fit(X_train, y_train, **fit_params)\n",
      "  File \"C:\\Users\\Anne\\anaconda3\\lib\\site-packages\\sklearn\\tree\\_classes.py\", line 903, in fit\n",
      "    super().fit(\n",
      "  File \"C:\\Users\\Anne\\anaconda3\\lib\\site-packages\\sklearn\\tree\\_classes.py\", line 348, in fit\n",
      "    criterion = CRITERIA_CLF[self.criterion](self.n_outputs_,\n",
      "KeyError: 'log_loss'\n",
      "\n",
      "  warnings.warn(\"Estimator fit failed. The score on this train-test\"\n",
      "C:\\Users\\Anne\\anaconda3\\lib\\site-packages\\sklearn\\model_selection\\_validation.py:615: FitFailedWarning: Estimator fit failed. The score on this train-test partition for these parameters will be set to nan. Details: \n",
      "Traceback (most recent call last):\n",
      "  File \"C:\\Users\\Anne\\anaconda3\\lib\\site-packages\\sklearn\\model_selection\\_validation.py\", line 598, in _fit_and_score\n",
      "    estimator.fit(X_train, y_train, **fit_params)\n",
      "  File \"C:\\Users\\Anne\\anaconda3\\lib\\site-packages\\sklearn\\tree\\_classes.py\", line 903, in fit\n",
      "    super().fit(\n",
      "  File \"C:\\Users\\Anne\\anaconda3\\lib\\site-packages\\sklearn\\tree\\_classes.py\", line 348, in fit\n",
      "    criterion = CRITERIA_CLF[self.criterion](self.n_outputs_,\n",
      "KeyError: 'log_loss'\n",
      "\n",
      "  warnings.warn(\"Estimator fit failed. The score on this train-test\"\n",
      "C:\\Users\\Anne\\anaconda3\\lib\\site-packages\\sklearn\\model_selection\\_validation.py:615: FitFailedWarning: Estimator fit failed. The score on this train-test partition for these parameters will be set to nan. Details: \n",
      "Traceback (most recent call last):\n",
      "  File \"C:\\Users\\Anne\\anaconda3\\lib\\site-packages\\sklearn\\model_selection\\_validation.py\", line 598, in _fit_and_score\n",
      "    estimator.fit(X_train, y_train, **fit_params)\n",
      "  File \"C:\\Users\\Anne\\anaconda3\\lib\\site-packages\\sklearn\\tree\\_classes.py\", line 903, in fit\n",
      "    super().fit(\n",
      "  File \"C:\\Users\\Anne\\anaconda3\\lib\\site-packages\\sklearn\\tree\\_classes.py\", line 348, in fit\n",
      "    criterion = CRITERIA_CLF[self.criterion](self.n_outputs_,\n",
      "KeyError: 'log_loss'\n",
      "\n",
      "  warnings.warn(\"Estimator fit failed. The score on this train-test\"\n",
      "C:\\Users\\Anne\\anaconda3\\lib\\site-packages\\sklearn\\model_selection\\_validation.py:615: FitFailedWarning: Estimator fit failed. The score on this train-test partition for these parameters will be set to nan. Details: \n",
      "Traceback (most recent call last):\n",
      "  File \"C:\\Users\\Anne\\anaconda3\\lib\\site-packages\\sklearn\\model_selection\\_validation.py\", line 598, in _fit_and_score\n",
      "    estimator.fit(X_train, y_train, **fit_params)\n",
      "  File \"C:\\Users\\Anne\\anaconda3\\lib\\site-packages\\sklearn\\tree\\_classes.py\", line 903, in fit\n",
      "    super().fit(\n",
      "  File \"C:\\Users\\Anne\\anaconda3\\lib\\site-packages\\sklearn\\tree\\_classes.py\", line 348, in fit\n",
      "    criterion = CRITERIA_CLF[self.criterion](self.n_outputs_,\n",
      "KeyError: 'log_loss'\n",
      "\n",
      "  warnings.warn(\"Estimator fit failed. The score on this train-test\"\n",
      "C:\\Users\\Anne\\anaconda3\\lib\\site-packages\\sklearn\\model_selection\\_validation.py:615: FitFailedWarning: Estimator fit failed. The score on this train-test partition for these parameters will be set to nan. Details: \n",
      "Traceback (most recent call last):\n",
      "  File \"C:\\Users\\Anne\\anaconda3\\lib\\site-packages\\sklearn\\model_selection\\_validation.py\", line 598, in _fit_and_score\n",
      "    estimator.fit(X_train, y_train, **fit_params)\n",
      "  File \"C:\\Users\\Anne\\anaconda3\\lib\\site-packages\\sklearn\\tree\\_classes.py\", line 903, in fit\n",
      "    super().fit(\n",
      "  File \"C:\\Users\\Anne\\anaconda3\\lib\\site-packages\\sklearn\\tree\\_classes.py\", line 348, in fit\n",
      "    criterion = CRITERIA_CLF[self.criterion](self.n_outputs_,\n",
      "KeyError: 'log_loss'\n",
      "\n",
      "  warnings.warn(\"Estimator fit failed. The score on this train-test\"\n",
      "C:\\Users\\Anne\\anaconda3\\lib\\site-packages\\sklearn\\model_selection\\_validation.py:615: FitFailedWarning: Estimator fit failed. The score on this train-test partition for these parameters will be set to nan. Details: \n",
      "Traceback (most recent call last):\n",
      "  File \"C:\\Users\\Anne\\anaconda3\\lib\\site-packages\\sklearn\\model_selection\\_validation.py\", line 598, in _fit_and_score\n",
      "    estimator.fit(X_train, y_train, **fit_params)\n",
      "  File \"C:\\Users\\Anne\\anaconda3\\lib\\site-packages\\sklearn\\tree\\_classes.py\", line 903, in fit\n",
      "    super().fit(\n",
      "  File \"C:\\Users\\Anne\\anaconda3\\lib\\site-packages\\sklearn\\tree\\_classes.py\", line 348, in fit\n",
      "    criterion = CRITERIA_CLF[self.criterion](self.n_outputs_,\n",
      "KeyError: 'log_loss'\n",
      "\n",
      "  warnings.warn(\"Estimator fit failed. The score on this train-test\"\n",
      "C:\\Users\\Anne\\anaconda3\\lib\\site-packages\\sklearn\\model_selection\\_validation.py:615: FitFailedWarning: Estimator fit failed. The score on this train-test partition for these parameters will be set to nan. Details: \n",
      "Traceback (most recent call last):\n",
      "  File \"C:\\Users\\Anne\\anaconda3\\lib\\site-packages\\sklearn\\model_selection\\_validation.py\", line 598, in _fit_and_score\n",
      "    estimator.fit(X_train, y_train, **fit_params)\n",
      "  File \"C:\\Users\\Anne\\anaconda3\\lib\\site-packages\\sklearn\\tree\\_classes.py\", line 903, in fit\n",
      "    super().fit(\n",
      "  File \"C:\\Users\\Anne\\anaconda3\\lib\\site-packages\\sklearn\\tree\\_classes.py\", line 348, in fit\n",
      "    criterion = CRITERIA_CLF[self.criterion](self.n_outputs_,\n",
      "KeyError: 'log_loss'\n",
      "\n",
      "  warnings.warn(\"Estimator fit failed. The score on this train-test\"\n",
      "C:\\Users\\Anne\\anaconda3\\lib\\site-packages\\sklearn\\model_selection\\_search.py:922: UserWarning: One or more of the test scores are non-finite: [0.70758582 0.69670611 0.71108259 0.70657203        nan        nan]\n",
      "  warnings.warn(\n"
     ]
    },
    {
     "name": "stdout",
     "output_type": "stream",
     "text": [
      "{'criterion': 'entropy', 'splitter': 'best'}\n"
     ]
    }
   ],
   "source": [
    "gridcv.fit(X_train, y_train)\n",
    "print(gridcv.best_params_)"
   ]
  },
  {
   "cell_type": "code",
   "execution_count": 58,
   "id": "59bf65e2",
   "metadata": {},
   "outputs": [
    {
     "name": "stdout",
     "output_type": "stream",
     "text": [
      "score du dt : 0.7111327744199649\n"
     ]
    }
   ],
   "source": [
    "print(\"score du dt : {}\".format(gridcv.score(X_test, y_test)))"
   ]
  },
  {
   "cell_type": "code",
   "execution_count": 59,
   "id": "8857f435",
   "metadata": {},
   "outputs": [
    {
     "name": "stdout",
     "output_type": "stream",
     "text": [
      "              precision    recall  f1-score   support\n",
      "\n",
      "           0       0.83      0.81      0.82     20823\n",
      "           1       0.25      0.28      0.26      4822\n",
      "\n",
      "    accuracy                           0.71     25645\n",
      "   macro avg       0.54      0.54      0.54     25645\n",
      "weighted avg       0.72      0.71      0.72     25645\n",
      "\n"
     ]
    }
   ],
   "source": [
    "# Prédiction du modèle\n",
    "y_pred_dt = gridcv.predict(X_test) \n",
    "# Rapport de classification\n",
    "print(classification_report(y_test, y_pred_dt))\n"
   ]
  },
  {
   "cell_type": "code",
   "execution_count": 60,
   "id": "297794f7",
   "metadata": {},
   "outputs": [
    {
     "data": {
      "text/html": [
       "<div>\n",
       "<style scoped>\n",
       "    .dataframe tbody tr th:only-of-type {\n",
       "        vertical-align: middle;\n",
       "    }\n",
       "\n",
       "    .dataframe tbody tr th {\n",
       "        vertical-align: top;\n",
       "    }\n",
       "\n",
       "    .dataframe thead th {\n",
       "        text-align: right;\n",
       "    }\n",
       "</style>\n",
       "<table border=\"1\" class=\"dataframe\">\n",
       "  <thead>\n",
       "    <tr style=\"text-align: right;\">\n",
       "      <th>Classe prédite par dt</th>\n",
       "      <th>0</th>\n",
       "      <th>1</th>\n",
       "    </tr>\n",
       "    <tr>\n",
       "      <th>Classe</th>\n",
       "      <th></th>\n",
       "      <th></th>\n",
       "    </tr>\n",
       "  </thead>\n",
       "  <tbody>\n",
       "    <tr>\n",
       "      <th>0</th>\n",
       "      <td>16909</td>\n",
       "      <td>3914</td>\n",
       "    </tr>\n",
       "    <tr>\n",
       "      <th>1</th>\n",
       "      <td>3494</td>\n",
       "      <td>1328</td>\n",
       "    </tr>\n",
       "  </tbody>\n",
       "</table>\n",
       "</div>"
      ],
      "text/plain": [
       "Classe prédite par dt      0     1\n",
       "Classe                            \n",
       "0                      16909  3914\n",
       "1                       3494  1328"
      ]
     },
     "execution_count": 60,
     "metadata": {},
     "output_type": "execute_result"
    }
   ],
   "source": [
    "# Matrice de correlation\n",
    "pd.crosstab(y_test, y_pred_dt, rownames=['Classe'], colnames=['Classe prédite par dt'])"
   ]
  },
  {
   "cell_type": "code",
   "execution_count": 61,
   "id": "6ba9794b",
   "metadata": {},
   "outputs": [],
   "source": [
    "# On obtient les même scores avec un grid Search qu'avec le modèle par défaut. \n"
   ]
  },
  {
   "cell_type": "code",
   "execution_count": 62,
   "id": "847be015",
   "metadata": {},
   "outputs": [],
   "source": [
    "# PARAMETRE CLASS_WEIGHT : nous allons donner plus de poids à la classe 1 (70% au lieu de 50%)"
   ]
  },
  {
   "cell_type": "code",
   "execution_count": 63,
   "id": "3ff6fec7",
   "metadata": {},
   "outputs": [],
   "source": [
    "dt_weights = DecisionTreeClassifier(random_state=123, class_weight={0: 0.30, 1: 0.70}) \n",
    "params_model7={'criterion': ['gini', 'entropy', \"log_loss\"], \"splitter\" : [\"best\", \"random\"]}\n",
    "grid_dt_weights = GridSearchCV(estimator=dt_weights, param_grid=params_model7)\n"
   ]
  },
  {
   "cell_type": "code",
   "execution_count": 64,
   "id": "4f54e872",
   "metadata": {},
   "outputs": [
    {
     "name": "stderr",
     "output_type": "stream",
     "text": [
      "C:\\Users\\Anne\\anaconda3\\lib\\site-packages\\sklearn\\model_selection\\_validation.py:615: FitFailedWarning: Estimator fit failed. The score on this train-test partition for these parameters will be set to nan. Details: \n",
      "Traceback (most recent call last):\n",
      "  File \"C:\\Users\\Anne\\anaconda3\\lib\\site-packages\\sklearn\\model_selection\\_validation.py\", line 598, in _fit_and_score\n",
      "    estimator.fit(X_train, y_train, **fit_params)\n",
      "  File \"C:\\Users\\Anne\\anaconda3\\lib\\site-packages\\sklearn\\tree\\_classes.py\", line 903, in fit\n",
      "    super().fit(\n",
      "  File \"C:\\Users\\Anne\\anaconda3\\lib\\site-packages\\sklearn\\tree\\_classes.py\", line 348, in fit\n",
      "    criterion = CRITERIA_CLF[self.criterion](self.n_outputs_,\n",
      "KeyError: 'log_loss'\n",
      "\n",
      "  warnings.warn(\"Estimator fit failed. The score on this train-test\"\n",
      "C:\\Users\\Anne\\anaconda3\\lib\\site-packages\\sklearn\\model_selection\\_validation.py:615: FitFailedWarning: Estimator fit failed. The score on this train-test partition for these parameters will be set to nan. Details: \n",
      "Traceback (most recent call last):\n",
      "  File \"C:\\Users\\Anne\\anaconda3\\lib\\site-packages\\sklearn\\model_selection\\_validation.py\", line 598, in _fit_and_score\n",
      "    estimator.fit(X_train, y_train, **fit_params)\n",
      "  File \"C:\\Users\\Anne\\anaconda3\\lib\\site-packages\\sklearn\\tree\\_classes.py\", line 903, in fit\n",
      "    super().fit(\n",
      "  File \"C:\\Users\\Anne\\anaconda3\\lib\\site-packages\\sklearn\\tree\\_classes.py\", line 348, in fit\n",
      "    criterion = CRITERIA_CLF[self.criterion](self.n_outputs_,\n",
      "KeyError: 'log_loss'\n",
      "\n",
      "  warnings.warn(\"Estimator fit failed. The score on this train-test\"\n",
      "C:\\Users\\Anne\\anaconda3\\lib\\site-packages\\sklearn\\model_selection\\_validation.py:615: FitFailedWarning: Estimator fit failed. The score on this train-test partition for these parameters will be set to nan. Details: \n",
      "Traceback (most recent call last):\n",
      "  File \"C:\\Users\\Anne\\anaconda3\\lib\\site-packages\\sklearn\\model_selection\\_validation.py\", line 598, in _fit_and_score\n",
      "    estimator.fit(X_train, y_train, **fit_params)\n",
      "  File \"C:\\Users\\Anne\\anaconda3\\lib\\site-packages\\sklearn\\tree\\_classes.py\", line 903, in fit\n",
      "    super().fit(\n",
      "  File \"C:\\Users\\Anne\\anaconda3\\lib\\site-packages\\sklearn\\tree\\_classes.py\", line 348, in fit\n",
      "    criterion = CRITERIA_CLF[self.criterion](self.n_outputs_,\n",
      "KeyError: 'log_loss'\n",
      "\n",
      "  warnings.warn(\"Estimator fit failed. The score on this train-test\"\n",
      "C:\\Users\\Anne\\anaconda3\\lib\\site-packages\\sklearn\\model_selection\\_validation.py:615: FitFailedWarning: Estimator fit failed. The score on this train-test partition for these parameters will be set to nan. Details: \n",
      "Traceback (most recent call last):\n",
      "  File \"C:\\Users\\Anne\\anaconda3\\lib\\site-packages\\sklearn\\model_selection\\_validation.py\", line 598, in _fit_and_score\n",
      "    estimator.fit(X_train, y_train, **fit_params)\n",
      "  File \"C:\\Users\\Anne\\anaconda3\\lib\\site-packages\\sklearn\\tree\\_classes.py\", line 903, in fit\n",
      "    super().fit(\n",
      "  File \"C:\\Users\\Anne\\anaconda3\\lib\\site-packages\\sklearn\\tree\\_classes.py\", line 348, in fit\n",
      "    criterion = CRITERIA_CLF[self.criterion](self.n_outputs_,\n",
      "KeyError: 'log_loss'\n",
      "\n",
      "  warnings.warn(\"Estimator fit failed. The score on this train-test\"\n",
      "C:\\Users\\Anne\\anaconda3\\lib\\site-packages\\sklearn\\model_selection\\_validation.py:615: FitFailedWarning: Estimator fit failed. The score on this train-test partition for these parameters will be set to nan. Details: \n",
      "Traceback (most recent call last):\n",
      "  File \"C:\\Users\\Anne\\anaconda3\\lib\\site-packages\\sklearn\\model_selection\\_validation.py\", line 598, in _fit_and_score\n",
      "    estimator.fit(X_train, y_train, **fit_params)\n",
      "  File \"C:\\Users\\Anne\\anaconda3\\lib\\site-packages\\sklearn\\tree\\_classes.py\", line 903, in fit\n",
      "    super().fit(\n",
      "  File \"C:\\Users\\Anne\\anaconda3\\lib\\site-packages\\sklearn\\tree\\_classes.py\", line 348, in fit\n",
      "    criterion = CRITERIA_CLF[self.criterion](self.n_outputs_,\n",
      "KeyError: 'log_loss'\n",
      "\n",
      "  warnings.warn(\"Estimator fit failed. The score on this train-test\"\n",
      "C:\\Users\\Anne\\anaconda3\\lib\\site-packages\\sklearn\\model_selection\\_validation.py:615: FitFailedWarning: Estimator fit failed. The score on this train-test partition for these parameters will be set to nan. Details: \n",
      "Traceback (most recent call last):\n",
      "  File \"C:\\Users\\Anne\\anaconda3\\lib\\site-packages\\sklearn\\model_selection\\_validation.py\", line 598, in _fit_and_score\n",
      "    estimator.fit(X_train, y_train, **fit_params)\n",
      "  File \"C:\\Users\\Anne\\anaconda3\\lib\\site-packages\\sklearn\\tree\\_classes.py\", line 903, in fit\n",
      "    super().fit(\n",
      "  File \"C:\\Users\\Anne\\anaconda3\\lib\\site-packages\\sklearn\\tree\\_classes.py\", line 348, in fit\n",
      "    criterion = CRITERIA_CLF[self.criterion](self.n_outputs_,\n",
      "KeyError: 'log_loss'\n",
      "\n",
      "  warnings.warn(\"Estimator fit failed. The score on this train-test\"\n",
      "C:\\Users\\Anne\\anaconda3\\lib\\site-packages\\sklearn\\model_selection\\_validation.py:615: FitFailedWarning: Estimator fit failed. The score on this train-test partition for these parameters will be set to nan. Details: \n",
      "Traceback (most recent call last):\n",
      "  File \"C:\\Users\\Anne\\anaconda3\\lib\\site-packages\\sklearn\\model_selection\\_validation.py\", line 598, in _fit_and_score\n",
      "    estimator.fit(X_train, y_train, **fit_params)\n",
      "  File \"C:\\Users\\Anne\\anaconda3\\lib\\site-packages\\sklearn\\tree\\_classes.py\", line 903, in fit\n",
      "    super().fit(\n",
      "  File \"C:\\Users\\Anne\\anaconda3\\lib\\site-packages\\sklearn\\tree\\_classes.py\", line 348, in fit\n",
      "    criterion = CRITERIA_CLF[self.criterion](self.n_outputs_,\n",
      "KeyError: 'log_loss'\n",
      "\n",
      "  warnings.warn(\"Estimator fit failed. The score on this train-test\"\n",
      "C:\\Users\\Anne\\anaconda3\\lib\\site-packages\\sklearn\\model_selection\\_validation.py:615: FitFailedWarning: Estimator fit failed. The score on this train-test partition for these parameters will be set to nan. Details: \n",
      "Traceback (most recent call last):\n",
      "  File \"C:\\Users\\Anne\\anaconda3\\lib\\site-packages\\sklearn\\model_selection\\_validation.py\", line 598, in _fit_and_score\n",
      "    estimator.fit(X_train, y_train, **fit_params)\n",
      "  File \"C:\\Users\\Anne\\anaconda3\\lib\\site-packages\\sklearn\\tree\\_classes.py\", line 903, in fit\n",
      "    super().fit(\n",
      "  File \"C:\\Users\\Anne\\anaconda3\\lib\\site-packages\\sklearn\\tree\\_classes.py\", line 348, in fit\n",
      "    criterion = CRITERIA_CLF[self.criterion](self.n_outputs_,\n",
      "KeyError: 'log_loss'\n",
      "\n",
      "  warnings.warn(\"Estimator fit failed. The score on this train-test\"\n",
      "C:\\Users\\Anne\\anaconda3\\lib\\site-packages\\sklearn\\model_selection\\_validation.py:615: FitFailedWarning: Estimator fit failed. The score on this train-test partition for these parameters will be set to nan. Details: \n",
      "Traceback (most recent call last):\n",
      "  File \"C:\\Users\\Anne\\anaconda3\\lib\\site-packages\\sklearn\\model_selection\\_validation.py\", line 598, in _fit_and_score\n",
      "    estimator.fit(X_train, y_train, **fit_params)\n",
      "  File \"C:\\Users\\Anne\\anaconda3\\lib\\site-packages\\sklearn\\tree\\_classes.py\", line 903, in fit\n",
      "    super().fit(\n",
      "  File \"C:\\Users\\Anne\\anaconda3\\lib\\site-packages\\sklearn\\tree\\_classes.py\", line 348, in fit\n",
      "    criterion = CRITERIA_CLF[self.criterion](self.n_outputs_,\n",
      "KeyError: 'log_loss'\n",
      "\n",
      "  warnings.warn(\"Estimator fit failed. The score on this train-test\"\n",
      "C:\\Users\\Anne\\anaconda3\\lib\\site-packages\\sklearn\\model_selection\\_validation.py:615: FitFailedWarning: Estimator fit failed. The score on this train-test partition for these parameters will be set to nan. Details: \n",
      "Traceback (most recent call last):\n",
      "  File \"C:\\Users\\Anne\\anaconda3\\lib\\site-packages\\sklearn\\model_selection\\_validation.py\", line 598, in _fit_and_score\n",
      "    estimator.fit(X_train, y_train, **fit_params)\n",
      "  File \"C:\\Users\\Anne\\anaconda3\\lib\\site-packages\\sklearn\\tree\\_classes.py\", line 903, in fit\n",
      "    super().fit(\n",
      "  File \"C:\\Users\\Anne\\anaconda3\\lib\\site-packages\\sklearn\\tree\\_classes.py\", line 348, in fit\n",
      "    criterion = CRITERIA_CLF[self.criterion](self.n_outputs_,\n",
      "KeyError: 'log_loss'\n",
      "\n",
      "  warnings.warn(\"Estimator fit failed. The score on this train-test\"\n",
      "C:\\Users\\Anne\\anaconda3\\lib\\site-packages\\sklearn\\model_selection\\_search.py:922: UserWarning: One or more of the test scores are non-finite: [0.71307139 0.70986078 0.71504705 0.70858685        nan        nan]\n",
      "  warnings.warn(\n"
     ]
    },
    {
     "name": "stdout",
     "output_type": "stream",
     "text": [
      "Meilleurs paramètres : {'criterion': 'entropy', 'splitter': 'best'}\n",
      "score du dt_weights : 0.7097289920062391\n"
     ]
    }
   ],
   "source": [
    "grid_dt_weights.fit(X_train, y_train)\n",
    "print(\"Meilleurs paramètres : {}\".format(grid_dt_weights.best_params_))\n",
    "print(\"score du dt_weights : {}\".format(grid_dt_weights.score(X_test, y_test)))\n"
   ]
  },
  {
   "cell_type": "code",
   "execution_count": 65,
   "id": "63b833d9",
   "metadata": {},
   "outputs": [],
   "source": [
    "y_pred_dt_weights = grid_dt_weights.predict(X_test) "
   ]
  },
  {
   "cell_type": "code",
   "execution_count": 66,
   "id": "85f4636c",
   "metadata": {},
   "outputs": [
    {
     "name": "stdout",
     "output_type": "stream",
     "text": [
      "              precision    recall  f1-score   support\n",
      "\n",
      "           0       0.83      0.81      0.82     20823\n",
      "           1       0.24      0.26      0.25      4822\n",
      "\n",
      "    accuracy                           0.71     25645\n",
      "   macro avg       0.53      0.54      0.54     25645\n",
      "weighted avg       0.72      0.71      0.71     25645\n",
      "\n"
     ]
    }
   ],
   "source": [
    "print(classification_report(y_test, y_pred_dt_weights))"
   ]
  },
  {
   "cell_type": "code",
   "execution_count": 67,
   "id": "58af3a4c",
   "metadata": {},
   "outputs": [
    {
     "data": {
      "text/html": [
       "<div>\n",
       "<style scoped>\n",
       "    .dataframe tbody tr th:only-of-type {\n",
       "        vertical-align: middle;\n",
       "    }\n",
       "\n",
       "    .dataframe tbody tr th {\n",
       "        vertical-align: top;\n",
       "    }\n",
       "\n",
       "    .dataframe thead th {\n",
       "        text-align: right;\n",
       "    }\n",
       "</style>\n",
       "<table border=\"1\" class=\"dataframe\">\n",
       "  <thead>\n",
       "    <tr style=\"text-align: right;\">\n",
       "      <th>Classe prédite par lr</th>\n",
       "      <th>0</th>\n",
       "      <th>1</th>\n",
       "    </tr>\n",
       "    <tr>\n",
       "      <th>Classe réelle</th>\n",
       "      <th></th>\n",
       "      <th></th>\n",
       "    </tr>\n",
       "  </thead>\n",
       "  <tbody>\n",
       "    <tr>\n",
       "      <th>0</th>\n",
       "      <td>16956</td>\n",
       "      <td>3867</td>\n",
       "    </tr>\n",
       "    <tr>\n",
       "      <th>1</th>\n",
       "      <td>3577</td>\n",
       "      <td>1245</td>\n",
       "    </tr>\n",
       "  </tbody>\n",
       "</table>\n",
       "</div>"
      ],
      "text/plain": [
       "Classe prédite par lr      0     1\n",
       "Classe réelle                     \n",
       "0                      16956  3867\n",
       "1                       3577  1245"
      ]
     },
     "execution_count": 67,
     "metadata": {},
     "output_type": "execute_result"
    }
   ],
   "source": [
    "pd.crosstab(y_test, y_pred_dt_weights, rownames=['Classe réelle'], colnames=['Classe prédite par lr'])"
   ]
  },
  {
   "cell_type": "code",
   "execution_count": 68,
   "id": "dc214eb2",
   "metadata": {},
   "outputs": [],
   "source": [
    "# On obtient toujours sensiblement les mêmes résultats"
   ]
  },
  {
   "cell_type": "code",
   "execution_count": 69,
   "id": "38670a9b",
   "metadata": {},
   "outputs": [],
   "source": [
    "# MODIFICATION DU SEUIL DE PROBA à 0.3"
   ]
  },
  {
   "cell_type": "code",
   "execution_count": 70,
   "id": "74d78093",
   "metadata": {},
   "outputs": [
    {
     "data": {
      "text/html": [
       "<div>\n",
       "<style scoped>\n",
       "    .dataframe tbody tr th:only-of-type {\n",
       "        vertical-align: middle;\n",
       "    }\n",
       "\n",
       "    .dataframe tbody tr th {\n",
       "        vertical-align: top;\n",
       "    }\n",
       "\n",
       "    .dataframe thead th {\n",
       "        text-align: right;\n",
       "    }\n",
       "</style>\n",
       "<table border=\"1\" class=\"dataframe\">\n",
       "  <thead>\n",
       "    <tr style=\"text-align: right;\">\n",
       "      <th>col_0</th>\n",
       "      <th>0</th>\n",
       "      <th>1</th>\n",
       "    </tr>\n",
       "    <tr>\n",
       "      <th>Revente &gt;1</th>\n",
       "      <th></th>\n",
       "      <th></th>\n",
       "    </tr>\n",
       "  </thead>\n",
       "  <tbody>\n",
       "    <tr>\n",
       "      <th>0</th>\n",
       "      <td>16812</td>\n",
       "      <td>4011</td>\n",
       "    </tr>\n",
       "    <tr>\n",
       "      <th>1</th>\n",
       "      <td>3506</td>\n",
       "      <td>1316</td>\n",
       "    </tr>\n",
       "  </tbody>\n",
       "</table>\n",
       "</div>"
      ],
      "text/plain": [
       "col_0           0     1\n",
       "Revente >1             \n",
       "0           16812  4011\n",
       "1            3506  1316"
      ]
     },
     "execution_count": 70,
     "metadata": {},
     "output_type": "execute_result"
    }
   ],
   "source": [
    "model7=DecisionTreeClassifier()\n",
    "model7.fit(X_train, y_train)                      \n",
    "\n",
    "threshold = 0.3\n",
    "\n",
    "probs = model7.predict_proba(X_test)\n",
    "pred_class = (probs[:,1]>=threshold).astype('int')\n",
    "\n",
    "pd.crosstab(y_test, pred_class)\n"
   ]
  },
  {
   "cell_type": "code",
   "execution_count": 71,
   "id": "dcd485c3",
   "metadata": {},
   "outputs": [
    {
     "name": "stdout",
     "output_type": "stream",
     "text": [
      "              precision    recall  f1-score   support\n",
      "\n",
      "           0       0.83      0.81      0.82     20823\n",
      "           1       0.25      0.27      0.26      4822\n",
      "\n",
      "    accuracy                           0.71     25645\n",
      "   macro avg       0.54      0.54      0.54     25645\n",
      "weighted avg       0.72      0.71      0.71     25645\n",
      "\n"
     ]
    }
   ],
   "source": [
    "print(classification_report(y_test, pred_class))"
   ]
  },
  {
   "cell_type": "code",
   "execution_count": 72,
   "id": "1bda35cd",
   "metadata": {},
   "outputs": [],
   "source": [
    "# Toujours pas évident"
   ]
  },
  {
   "cell_type": "code",
   "execution_count": 73,
   "id": "b3f425fd",
   "metadata": {},
   "outputs": [],
   "source": [
    "# BOOSTING ET BAGGING : Les méthodes de bagging et de boosting sont des \"méta-algorithmes\" \n",
    "# dont l'approche est de combiner plusieurs algorithmes d'apprentissage automatique en un modèle prédictif, \n",
    "# afin de réduire leur variance ou leur biais, et d'améliorer la performance finale."
   ]
  },
  {
   "cell_type": "code",
   "execution_count": 74,
   "id": "445b9da9",
   "metadata": {},
   "outputs": [
    {
     "data": {
      "text/plain": [
       "AdaBoostClassifier(base_estimator=DecisionTreeClassifier(), n_estimators=400)"
      ]
     },
     "execution_count": 74,
     "metadata": {},
     "output_type": "execute_result"
    }
   ],
   "source": [
    "# ADABOOST : On choisit une règle de classification \"faible\". L’idée consiste à appliquer cette règle plusieurs fois \n",
    "# en affectant judicieusement un poids différent aux observations à chaque itération.\n",
    "# Les poids de chaque observation sont initialisés à  1/n  pour l’estimation du premier modèle.\n",
    "# Ils sont ensuite mis à jour pour chaque itération. L’importance d’une observation est inchangée \n",
    "# si l’observation est bien classée ; dans le cas contraire elle augmente avec la qualité d’ajustement mesurée du modèle.\n",
    "# L’agrégation finale est une combinaison des estimateurs obtenus pondérée par les qualités d’ajustement de chaque modèle.\n",
    "\n",
    "\n",
    "from sklearn.ensemble import AdaBoostClassifier \n",
    "ac=AdaBoostClassifier(base_estimator=model7, n_estimators=400)\n",
    "ac.fit(X_train, y_train)\n"
   ]
  },
  {
   "cell_type": "code",
   "execution_count": 75,
   "id": "c7b43c8a",
   "metadata": {},
   "outputs": [
    {
     "data": {
      "text/plain": [
       "0.8111522713979333"
      ]
     },
     "execution_count": 75,
     "metadata": {},
     "output_type": "execute_result"
    }
   ],
   "source": [
    "ac.score(X_test, y_test)"
   ]
  },
  {
   "cell_type": "code",
   "execution_count": 76,
   "id": "fee3213a",
   "metadata": {},
   "outputs": [
    {
     "name": "stdout",
     "output_type": "stream",
     "text": [
      "              precision    recall  f1-score   support\n",
      "\n",
      "           0       0.84      0.95      0.89     20823\n",
      "           1       0.49      0.21      0.30      4822\n",
      "\n",
      "    accuracy                           0.81     25645\n",
      "   macro avg       0.67      0.58      0.59     25645\n",
      "weighted avg       0.77      0.81      0.78     25645\n",
      "\n"
     ]
    }
   ],
   "source": [
    "y_pred=ac.predict(X_test)\n",
    "print(classification_report(y_test, y_pred))"
   ]
  },
  {
   "cell_type": "code",
   "execution_count": 77,
   "id": "01a134f2",
   "metadata": {},
   "outputs": [],
   "source": [
    "# Toujours pas mieux"
   ]
  },
  {
   "cell_type": "code",
   "execution_count": 78,
   "id": "f1cad1a7",
   "metadata": {},
   "outputs": [],
   "source": [
    "# BAGGING CLASSIFIER => \n",
    "# La méthode générale du Bagging consiste principalement en l'entraînement d'un modèle \n",
    "# sur différents sous-ensembles de même taille que l'échantillon initial, par la technique de Bootstrap, \n",
    "# c'est à dire de tirage aléatoire avec remise.\n",
    "# La méthode construit donc un ensemble d'estimateurs indépendants, contrairement au Boosting, \n",
    "# qui sont par la suite agrégés (ou baggés) en un méta-modèle, avec un vote majoritaire pour la classification, \n",
    "# et une moyenne pour la régression.\n",
    "\n",
    "# trop long...\n",
    "\n",
    "#from sklearn.ensemble import BaggingClassifier\n",
    "#bc=BaggingClassifier(n_estimators=1000, oob_score=True)\n",
    "#bc.fit(X_train, y_train)\n",
    "#bc.score(X_test, y_test)"
   ]
  },
  {
   "cell_type": "code",
   "execution_count": 79,
   "id": "d06a4f3c",
   "metadata": {},
   "outputs": [],
   "source": [
    "#y_pred=bc.predict(X_test)\n",
    "#pd.crosstab(y_test, y_pred)"
   ]
  },
  {
   "cell_type": "code",
   "execution_count": 80,
   "id": "4394e828",
   "metadata": {},
   "outputs": [],
   "source": [
    "#print(classification_report(y_test, y_pred))"
   ]
  },
  {
   "cell_type": "code",
   "execution_count": 81,
   "id": "c7d6879f",
   "metadata": {},
   "outputs": [],
   "source": [
    "# OVERSAMPLING & UNDERSAMPLING \n",
    "\n",
    "# La classification sur données déséquilibrées est un problème de classification où l'échantillon d'apprentissage \n",
    "# contient une forte disparité entre les classes à prédire.\n",
    "# Ce problème revient fréquemment dans les problèmes de classifications binaires. "
   ]
  },
  {
   "cell_type": "code",
   "execution_count": 82,
   "id": "01aa50ea",
   "metadata": {},
   "outputs": [],
   "source": [
    "# OVERSAMPLING = Les méthodes d'Oversampling fonctionnent en augmentant le nombre d'observations \n",
    "# de la / des classes minoritaires afin d'arriver à un ratio classe minoritaire / classe majoritaire satisfaisant."
   ]
  },
  {
   "cell_type": "code",
   "execution_count": 83,
   "id": "f7200dcf",
   "metadata": {},
   "outputs": [],
   "source": [
    "# 1ère méthode d'Oversampling = OVERSAMPLING ALEATOIRE\n",
    "\n",
    "from imblearn.over_sampling import RandomOverSampler\n",
    "from imblearn.metrics import classification_report_imbalanced"
   ]
  },
  {
   "cell_type": "code",
   "execution_count": 84,
   "id": "53a8fd81",
   "metadata": {},
   "outputs": [
    {
     "name": "stdout",
     "output_type": "stream",
     "text": [
      "0    62503\n",
      "1    62503\n",
      "Name: Revente >1, dtype: int64\n"
     ]
    }
   ],
   "source": [
    "ros = RandomOverSampler()\n",
    "X_ro, y_ro = ros.fit_resample(X_train, y_train)\n",
    "print(y_ro.value_counts())"
   ]
  },
  {
   "cell_type": "code",
   "execution_count": 85,
   "id": "9a51f1a8",
   "metadata": {},
   "outputs": [
    {
     "name": "stdout",
     "output_type": "stream",
     "text": [
      "0    62503\n",
      "1    62503\n",
      "Name: Revente >1, dtype: int64\n"
     ]
    }
   ],
   "source": [
    "ros = RandomOverSampler()\n",
    "X_ro, y_ro = ros.fit_resample(X_train, y_train)\n",
    "print(y_ro.value_counts())"
   ]
  },
  {
   "cell_type": "code",
   "execution_count": 86,
   "id": "10b816c6",
   "metadata": {},
   "outputs": [
    {
     "name": "stdout",
     "output_type": "stream",
     "text": [
      "              precision    recall  f1-score   support\n",
      "\n",
      "           0       0.84      0.95      0.89     20823\n",
      "           1       0.49      0.21      0.30      4822\n",
      "\n",
      "    accuracy                           0.81     25645\n",
      "   macro avg       0.67      0.58      0.59     25645\n",
      "weighted avg       0.77      0.81      0.78     25645\n",
      "\n"
     ]
    }
   ],
   "source": [
    "print(classification_report(y_test, y_pred))"
   ]
  },
  {
   "cell_type": "code",
   "execution_count": 87,
   "id": "51ba7ccd",
   "metadata": {},
   "outputs": [],
   "source": [
    "# 2ème méthode d'Oversampling = SMOTE\n",
    "\n",
    "from imblearn.over_sampling import SMOTE"
   ]
  },
  {
   "cell_type": "code",
   "execution_count": 88,
   "id": "1e3c9e18",
   "metadata": {},
   "outputs": [
    {
     "name": "stdout",
     "output_type": "stream",
     "text": [
      "0    62503\n",
      "1    62503\n",
      "Name: Revente >1, dtype: int64\n"
     ]
    }
   ],
   "source": [
    "sm = SMOTE()\n",
    "X_sm, y_sm = sm.fit_resample(X_train, y_train)\n",
    "print(y_sm.value_counts())"
   ]
  },
  {
   "cell_type": "code",
   "execution_count": 89,
   "id": "3b137fda",
   "metadata": {},
   "outputs": [
    {
     "data": {
      "text/html": [
       "<div>\n",
       "<style scoped>\n",
       "    .dataframe tbody tr th:only-of-type {\n",
       "        vertical-align: middle;\n",
       "    }\n",
       "\n",
       "    .dataframe tbody tr th {\n",
       "        vertical-align: top;\n",
       "    }\n",
       "\n",
       "    .dataframe thead th {\n",
       "        text-align: right;\n",
       "    }\n",
       "</style>\n",
       "<table border=\"1\" class=\"dataframe\">\n",
       "  <thead>\n",
       "    <tr style=\"text-align: right;\">\n",
       "      <th>Classe prédite</th>\n",
       "      <th>0</th>\n",
       "      <th>1</th>\n",
       "    </tr>\n",
       "    <tr>\n",
       "      <th>Classe réelle</th>\n",
       "      <th></th>\n",
       "      <th></th>\n",
       "    </tr>\n",
       "  </thead>\n",
       "  <tbody>\n",
       "    <tr>\n",
       "      <th>0</th>\n",
       "      <td>16790</td>\n",
       "      <td>4033</td>\n",
       "    </tr>\n",
       "    <tr>\n",
       "      <th>1</th>\n",
       "      <td>2903</td>\n",
       "      <td>1919</td>\n",
       "    </tr>\n",
       "  </tbody>\n",
       "</table>\n",
       "</div>"
      ],
      "text/plain": [
       "Classe prédite      0     1\n",
       "Classe réelle              \n",
       "0               16790  4033\n",
       "1                2903  1919"
      ]
     },
     "execution_count": 89,
     "metadata": {},
     "output_type": "execute_result"
    }
   ],
   "source": [
    "model7.fit(X_sm, y_sm)\n",
    "y_pred = model7.predict(X_test)\n",
    "cm = pd.crosstab(y_test, y_pred, rownames=['Classe réelle'], colnames=['Classe prédite'])\n",
    "cm"
   ]
  },
  {
   "cell_type": "code",
   "execution_count": 90,
   "id": "4df05ffd",
   "metadata": {},
   "outputs": [
    {
     "name": "stdout",
     "output_type": "stream",
     "text": [
      "              precision    recall  f1-score   support\n",
      "\n",
      "           0       0.85      0.81      0.83     20823\n",
      "           1       0.32      0.40      0.36      4822\n",
      "\n",
      "    accuracy                           0.73     25645\n",
      "   macro avg       0.59      0.60      0.59     25645\n",
      "weighted avg       0.75      0.73      0.74     25645\n",
      "\n"
     ]
    }
   ],
   "source": [
    "print(classification_report(y_test, y_pred))"
   ]
  },
  {
   "cell_type": "code",
   "execution_count": 91,
   "id": "dcf5adf1",
   "metadata": {},
   "outputs": [],
   "source": [
    "# 3ème méthode d'Oversampling : ADASYN\n",
    "# https://imbalanced-learn.org/stable/references/generated/imblearn.over_sampling.ADASYN.html\n",
    "\n",
    "from imblearn.over_sampling import ADASYN"
   ]
  },
  {
   "cell_type": "code",
   "execution_count": 92,
   "id": "a561e2f3",
   "metadata": {},
   "outputs": [
    {
     "name": "stdout",
     "output_type": "stream",
     "text": [
      "1    67792\n",
      "0    62503\n",
      "Name: Revente >1, dtype: int64\n"
     ]
    }
   ],
   "source": [
    "adsyn = ADASYN()\n",
    "X_adsyn, y_adsyn = adsyn.fit_resample(X_train, y_train)\n",
    "print(y_adsyn.value_counts())"
   ]
  },
  {
   "cell_type": "code",
   "execution_count": 93,
   "id": "5f3c63d4",
   "metadata": {},
   "outputs": [
    {
     "data": {
      "text/html": [
       "<div>\n",
       "<style scoped>\n",
       "    .dataframe tbody tr th:only-of-type {\n",
       "        vertical-align: middle;\n",
       "    }\n",
       "\n",
       "    .dataframe tbody tr th {\n",
       "        vertical-align: top;\n",
       "    }\n",
       "\n",
       "    .dataframe thead th {\n",
       "        text-align: right;\n",
       "    }\n",
       "</style>\n",
       "<table border=\"1\" class=\"dataframe\">\n",
       "  <thead>\n",
       "    <tr style=\"text-align: right;\">\n",
       "      <th>Classe prédite</th>\n",
       "      <th>0</th>\n",
       "      <th>1</th>\n",
       "    </tr>\n",
       "    <tr>\n",
       "      <th>Classe réelle</th>\n",
       "      <th></th>\n",
       "      <th></th>\n",
       "    </tr>\n",
       "  </thead>\n",
       "  <tbody>\n",
       "    <tr>\n",
       "      <th>0</th>\n",
       "      <td>16664</td>\n",
       "      <td>4159</td>\n",
       "    </tr>\n",
       "    <tr>\n",
       "      <th>1</th>\n",
       "      <td>2998</td>\n",
       "      <td>1824</td>\n",
       "    </tr>\n",
       "  </tbody>\n",
       "</table>\n",
       "</div>"
      ],
      "text/plain": [
       "Classe prédite      0     1\n",
       "Classe réelle              \n",
       "0               16664  4159\n",
       "1                2998  1824"
      ]
     },
     "execution_count": 93,
     "metadata": {},
     "output_type": "execute_result"
    }
   ],
   "source": [
    "model7.fit(X_adsyn, y_adsyn)\n",
    "y_pred = model7.predict(X_test)\n",
    "cm = pd.crosstab(y_test, y_pred, rownames=['Classe réelle'], colnames=['Classe prédite'])\n",
    "cm"
   ]
  },
  {
   "cell_type": "code",
   "execution_count": 94,
   "id": "c881a40a",
   "metadata": {},
   "outputs": [
    {
     "name": "stdout",
     "output_type": "stream",
     "text": [
      "              precision    recall  f1-score   support\n",
      "\n",
      "           0       0.85      0.80      0.82     20823\n",
      "           1       0.30      0.38      0.34      4822\n",
      "\n",
      "    accuracy                           0.72     25645\n",
      "   macro avg       0.58      0.59      0.58     25645\n",
      "weighted avg       0.75      0.72      0.73     25645\n",
      "\n"
     ]
    }
   ],
   "source": [
    "print(classification_report(y_test, y_pred))"
   ]
  },
  {
   "cell_type": "code",
   "execution_count": 95,
   "id": "fa7eab47",
   "metadata": {},
   "outputs": [],
   "source": [
    "# 4 ème méthode d'Oversampling : BORDERLINE smote\n",
    "# https://imbalanced-learn.org/stable/references/generated/imblearn.over_sampling.BorderlineSMOTE.html\n",
    "\n",
    "from imblearn.over_sampling import BorderlineSMOTE"
   ]
  },
  {
   "cell_type": "code",
   "execution_count": 96,
   "id": "4e4417b2",
   "metadata": {},
   "outputs": [
    {
     "name": "stdout",
     "output_type": "stream",
     "text": [
      "0    62503\n",
      "1    62503\n",
      "Name: Revente >1, dtype: int64\n"
     ]
    }
   ],
   "source": [
    "bdls = BorderlineSMOTE()\n",
    "X_bdls, y_bdls = bdls.fit_resample(X_train, y_train)\n",
    "print(y_bdls.value_counts())"
   ]
  },
  {
   "cell_type": "code",
   "execution_count": 97,
   "id": "700d0b91",
   "metadata": {},
   "outputs": [
    {
     "data": {
      "text/html": [
       "<div>\n",
       "<style scoped>\n",
       "    .dataframe tbody tr th:only-of-type {\n",
       "        vertical-align: middle;\n",
       "    }\n",
       "\n",
       "    .dataframe tbody tr th {\n",
       "        vertical-align: top;\n",
       "    }\n",
       "\n",
       "    .dataframe thead th {\n",
       "        text-align: right;\n",
       "    }\n",
       "</style>\n",
       "<table border=\"1\" class=\"dataframe\">\n",
       "  <thead>\n",
       "    <tr style=\"text-align: right;\">\n",
       "      <th>Classe prédite</th>\n",
       "      <th>0</th>\n",
       "      <th>1</th>\n",
       "    </tr>\n",
       "    <tr>\n",
       "      <th>Classe réelle</th>\n",
       "      <th></th>\n",
       "      <th></th>\n",
       "    </tr>\n",
       "  </thead>\n",
       "  <tbody>\n",
       "    <tr>\n",
       "      <th>0</th>\n",
       "      <td>16543</td>\n",
       "      <td>4280</td>\n",
       "    </tr>\n",
       "    <tr>\n",
       "      <th>1</th>\n",
       "      <td>3091</td>\n",
       "      <td>1731</td>\n",
       "    </tr>\n",
       "  </tbody>\n",
       "</table>\n",
       "</div>"
      ],
      "text/plain": [
       "Classe prédite      0     1\n",
       "Classe réelle              \n",
       "0               16543  4280\n",
       "1                3091  1731"
      ]
     },
     "execution_count": 97,
     "metadata": {},
     "output_type": "execute_result"
    }
   ],
   "source": [
    "model7.fit(X_bdls, y_bdls)\n",
    "y_pred = model7.predict(X_test)\n",
    "cm = pd.crosstab(y_test, y_pred, rownames=['Classe réelle'], colnames=['Classe prédite'])\n",
    "cm"
   ]
  },
  {
   "cell_type": "code",
   "execution_count": 98,
   "id": "a14ef0bb",
   "metadata": {},
   "outputs": [
    {
     "name": "stdout",
     "output_type": "stream",
     "text": [
      "              precision    recall  f1-score   support\n",
      "\n",
      "           0       0.84      0.79      0.82     20823\n",
      "           1       0.29      0.36      0.32      4822\n",
      "\n",
      "    accuracy                           0.71     25645\n",
      "   macro avg       0.57      0.58      0.57     25645\n",
      "weighted avg       0.74      0.71      0.72     25645\n",
      "\n"
     ]
    }
   ],
   "source": [
    "print(classification_report(y_test, y_pred))"
   ]
  },
  {
   "cell_type": "code",
   "execution_count": 99,
   "id": "8322d4ab",
   "metadata": {},
   "outputs": [],
   "source": [
    "# UNDERSAMPLING = Les méthodes d'Undersampling fonctionnent en diminuant le nombre d'observations \n",
    "# de la / des classes majoritaires afin d'arriver à un ratio classe minoritaire / classe majoritaire satisfaisant."
   ]
  },
  {
   "cell_type": "code",
   "execution_count": 100,
   "id": "e7004e46",
   "metadata": {},
   "outputs": [],
   "source": [
    "# UNDERSAMPLING ALEATOIRE\n",
    "from imblearn.under_sampling import RandomUnderSampler"
   ]
  },
  {
   "cell_type": "code",
   "execution_count": 101,
   "id": "8e999627",
   "metadata": {},
   "outputs": [
    {
     "name": "stdout",
     "output_type": "stream",
     "text": [
      "0    14429\n",
      "1    14429\n",
      "Name: Revente >1, dtype: int64\n"
     ]
    }
   ],
   "source": [
    "RUS=RandomUnderSampler()\n",
    "X_ru, y_ru=RUS.fit_resample(X_train, y_train)\n",
    "print(y_ru.value_counts())"
   ]
  },
  {
   "cell_type": "code",
   "execution_count": 102,
   "id": "974d89a1",
   "metadata": {},
   "outputs": [
    {
     "data": {
      "text/html": [
       "<div>\n",
       "<style scoped>\n",
       "    .dataframe tbody tr th:only-of-type {\n",
       "        vertical-align: middle;\n",
       "    }\n",
       "\n",
       "    .dataframe tbody tr th {\n",
       "        vertical-align: top;\n",
       "    }\n",
       "\n",
       "    .dataframe thead th {\n",
       "        text-align: right;\n",
       "    }\n",
       "</style>\n",
       "<table border=\"1\" class=\"dataframe\">\n",
       "  <thead>\n",
       "    <tr style=\"text-align: right;\">\n",
       "      <th>Classe prédite</th>\n",
       "      <th>0</th>\n",
       "      <th>1</th>\n",
       "    </tr>\n",
       "    <tr>\n",
       "      <th>Classe réelle</th>\n",
       "      <th></th>\n",
       "      <th></th>\n",
       "    </tr>\n",
       "  </thead>\n",
       "  <tbody>\n",
       "    <tr>\n",
       "      <th>0</th>\n",
       "      <td>11189</td>\n",
       "      <td>9634</td>\n",
       "    </tr>\n",
       "    <tr>\n",
       "      <th>1</th>\n",
       "      <td>2109</td>\n",
       "      <td>2713</td>\n",
       "    </tr>\n",
       "  </tbody>\n",
       "</table>\n",
       "</div>"
      ],
      "text/plain": [
       "Classe prédite      0     1\n",
       "Classe réelle              \n",
       "0               11189  9634\n",
       "1                2109  2713"
      ]
     },
     "execution_count": 102,
     "metadata": {},
     "output_type": "execute_result"
    }
   ],
   "source": [
    "model7.fit(X_ru, y_ru)\n",
    "y_pred = model7.predict(X_test)\n",
    "cm = pd.crosstab(y_test, y_pred, rownames=['Classe réelle'], colnames=['Classe prédite'])\n",
    "cm"
   ]
  },
  {
   "cell_type": "code",
   "execution_count": 103,
   "id": "146cf4ba",
   "metadata": {},
   "outputs": [
    {
     "name": "stdout",
     "output_type": "stream",
     "text": [
      "              precision    recall  f1-score   support\n",
      "\n",
      "           0       0.84      0.54      0.66     20823\n",
      "           1       0.22      0.56      0.32      4822\n",
      "\n",
      "    accuracy                           0.54     25645\n",
      "   macro avg       0.53      0.55      0.49     25645\n",
      "weighted avg       0.72      0.54      0.59     25645\n",
      "\n"
     ]
    }
   ],
   "source": [
    "print(classification_report(y_test, y_pred))"
   ]
  },
  {
   "cell_type": "code",
   "execution_count": 104,
   "id": "6e8c649b",
   "metadata": {},
   "outputs": [],
   "source": [
    "# CLUSTERCENTROIDS = https://imbalanced-learn.org/stable/references/generated/imblearn.under_sampling.ClusterCentroids.html\n",
    "\n",
    "# => Trop long\n",
    "\n",
    "#from imblearn.under_sampling import ClusterCentroids"
   ]
  },
  {
   "cell_type": "code",
   "execution_count": 105,
   "id": "7ad8e0db",
   "metadata": {},
   "outputs": [],
   "source": [
    "#CC = ClusterCentroids()\n",
    "#X_cc, y_cc = CC.fit_resample(X_train, y_train)\n",
    "#print(y_cc.value_counts())"
   ]
  },
  {
   "cell_type": "code",
   "execution_count": 106,
   "id": "a3cf6f2a",
   "metadata": {},
   "outputs": [],
   "source": [
    "#model7.fit(X_cc, y_cc)\n",
    "\n",
    "#y_pred = model7.predict(X_test)\n",
    "#cm = pd.crosstab(y_test, y_pred, rownames=['Classe réelle'], colnames=['Classe prédite'])\n",
    "#cm"
   ]
  },
  {
   "cell_type": "code",
   "execution_count": 107,
   "id": "f4525992",
   "metadata": {},
   "outputs": [],
   "source": [
    "#print(classification_report(y_test, y_pred))"
   ]
  },
  {
   "cell_type": "code",
   "execution_count": 108,
   "id": "fd735ce5",
   "metadata": {},
   "outputs": [],
   "source": [
    "# Synthèse des scores dasn le doc Excel Compar_scores"
   ]
  }
 ],
 "metadata": {
  "kernelspec": {
   "display_name": "Python 3 (ipykernel)",
   "language": "python",
   "name": "python3"
  },
  "language_info": {
   "codemirror_mode": {
    "name": "ipython",
    "version": 3
   },
   "file_extension": ".py",
   "mimetype": "text/x-python",
   "name": "python",
   "nbconvert_exporter": "python",
   "pygments_lexer": "ipython3",
   "version": "3.9.7"
  }
 },
 "nbformat": 4,
 "nbformat_minor": 5
}
